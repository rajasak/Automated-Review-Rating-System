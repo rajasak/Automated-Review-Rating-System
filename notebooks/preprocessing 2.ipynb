{
 "cells": [
  {
   "cell_type": "code",
   "execution_count": 1,
   "id": "5c02162b",
   "metadata": {},
   "outputs": [],
   "source": [
    "import pandas as pd\n",
    "import numpy as np\n"
   ]
  },
  {
   "cell_type": "code",
   "execution_count": 2,
   "metadata": {},
   "outputs": [
    {
     "data": {
      "text/html": [
       "<div>\n",
       "<style scoped>\n",
       "    .dataframe tbody tr th:only-of-type {\n",
       "        vertical-align: middle;\n",
       "    }\n",
       "\n",
       "    .dataframe tbody tr th {\n",
       "        vertical-align: top;\n",
       "    }\n",
       "\n",
       "    .dataframe thead th {\n",
       "        text-align: right;\n",
       "    }\n",
       "</style>\n",
       "<table border=\"1\" class=\"dataframe\">\n",
       "  <thead>\n",
       "    <tr style=\"text-align: right;\">\n",
       "      <th></th>\n",
       "      <th>Review</th>\n",
       "      <th>Rating</th>\n",
       "    </tr>\n",
       "  </thead>\n",
       "  <tbody>\n",
       "    <tr>\n",
       "      <th>0</th>\n",
       "      <td>Some major design flaws</td>\n",
       "      <td>3</td>\n",
       "    </tr>\n",
       "    <tr>\n",
       "      <th>1</th>\n",
       "      <td>My favorite buy!</td>\n",
       "      <td>5</td>\n",
       "    </tr>\n",
       "    <tr>\n",
       "      <th>2</th>\n",
       "      <td>Flattering shirt</td>\n",
       "      <td>5</td>\n",
       "    </tr>\n",
       "    <tr>\n",
       "      <th>3</th>\n",
       "      <td>Not for the very petite</td>\n",
       "      <td>2</td>\n",
       "    </tr>\n",
       "    <tr>\n",
       "      <th>4</th>\n",
       "      <td>Cagrcoal shimmer fun</td>\n",
       "      <td>5</td>\n",
       "    </tr>\n",
       "    <tr>\n",
       "      <th>...</th>\n",
       "      <td>...</td>\n",
       "      <td>...</td>\n",
       "    </tr>\n",
       "    <tr>\n",
       "      <th>45365</th>\n",
       "      <td>Dress felt and fit great.  I got lots of compl...</td>\n",
       "      <td>5</td>\n",
       "    </tr>\n",
       "    <tr>\n",
       "      <th>45366</th>\n",
       "      <td>Loved the dress but poor quality</td>\n",
       "      <td>2</td>\n",
       "    </tr>\n",
       "    <tr>\n",
       "      <th>45367</th>\n",
       "      <td>Cute dress, didn't fit</td>\n",
       "      <td>1</td>\n",
       "    </tr>\n",
       "    <tr>\n",
       "      <th>45368</th>\n",
       "      <td>Very cute!</td>\n",
       "      <td>4</td>\n",
       "    </tr>\n",
       "    <tr>\n",
       "      <th>45369</th>\n",
       "      <td>Good fit</td>\n",
       "      <td>5</td>\n",
       "    </tr>\n",
       "  </tbody>\n",
       "</table>\n",
       "<p>45370 rows × 2 columns</p>\n",
       "</div>"
      ],
      "text/plain": [
       "                                                  Review  Rating\n",
       "0                                Some major design flaws       3\n",
       "1                                       My favorite buy!       5\n",
       "2                                       Flattering shirt       5\n",
       "3                                Not for the very petite       2\n",
       "4                                   Cagrcoal shimmer fun       5\n",
       "...                                                  ...     ...\n",
       "45365  Dress felt and fit great.  I got lots of compl...       5\n",
       "45366                   Loved the dress but poor quality       2\n",
       "45367                             Cute dress, didn't fit       1\n",
       "45368                                         Very cute!       4\n",
       "45369                                           Good fit       5\n",
       "\n",
       "[45370 rows x 2 columns]"
      ]
     },
     "execution_count": 2,
     "metadata": {},
     "output_type": "execute_result"
    }
   ],
   "source": [
    "df=pd.read_csv('dataset1.csv')\n",
    "df"
   ]
  },
  {
   "cell_type": "code",
   "execution_count": 3,
   "id": "ebe44a65",
   "metadata": {},
   "outputs": [
    {
     "data": {
      "text/plain": [
       "Review    False\n",
       "Rating    False\n",
       "dtype: bool"
      ]
     },
     "execution_count": 3,
     "metadata": {},
     "output_type": "execute_result"
    }
   ],
   "source": [
    "df.isnull().any()"
   ]
  },
  {
   "cell_type": "code",
   "execution_count": 4,
   "id": "5782e30f",
   "metadata": {},
   "outputs": [
    {
     "name": "stdout",
     "output_type": "stream",
     "text": [
      "True\n"
     ]
    }
   ],
   "source": [
    "has_duplicates = df.duplicated().any()\n",
    "print(has_duplicates)"
   ]
  },
  {
   "cell_type": "code",
   "execution_count": 5,
   "id": "75f5428f",
   "metadata": {},
   "outputs": [
    {
     "name": "stdout",
     "output_type": "stream",
     "text": [
      "Number of duplicate rows: 12404\n"
     ]
    }
   ],
   "source": [
    "num_duplicates = df.duplicated().sum()\n",
    "print(f\"Number of duplicate rows: {num_duplicates}\")"
   ]
  },
  {
   "cell_type": "code",
   "execution_count": 6,
   "id": "fe401f2c",
   "metadata": {},
   "outputs": [],
   "source": [
    "df.drop_duplicates(inplace=True)"
   ]
  },
  {
   "cell_type": "code",
   "execution_count": 7,
   "id": "bb32e382",
   "metadata": {},
   "outputs": [
    {
     "name": "stdout",
     "output_type": "stream",
     "text": [
      "Number of duplicate rows: 0\n"
     ]
    }
   ],
   "source": [
    "num_duplicates = df.duplicated().sum()\n",
    "print(f\"Number of duplicate rows: {num_duplicates}\")"
   ]
  },
  {
   "cell_type": "code",
   "execution_count": 8,
   "id": "2f0384bc",
   "metadata": {},
   "outputs": [
    {
     "name": "stdout",
     "output_type": "stream",
     "text": [
      "Review\n",
      "!!!                                                                                1\n",
      "!.She loves the pj. Thank you Elizabeth.                                           1\n",
      "\"Dress\" T-shirt for slim guy                                                       1\n",
      "\"I'm Thinking\" Hanes Men's Short Sleeve Graphic T-shirt Size M                     1\n",
      "\"No Liner-Liner\" means no liner...                                                 1\n",
      "                                                                                  ..\n",
      "🤔  Perfect performance 🏋🏾‍♂️                                                       1\n",
      "🤨                                                                                  1\n",
      "🤬                                                                                  1\n",
      "🥱                                                                                  1\n",
      "🥶. IT LOOKS HEAVY, BUT, IT’S NOT, ITS FIRE 🔥 , AS THE YOUNG KIDS SAY ITS FIRE 🔥    1\n",
      "Name: Rating, Length: 31094, dtype: int64\n"
     ]
    }
   ],
   "source": [
    "#Remove conflicting reviews (same text but different ratings)\n",
    "conflicting_counts = df.groupby('Review')['Rating'].nunique()\n",
    "print(conflicting_counts)"
   ]
  },
  {
   "cell_type": "code",
   "execution_count": 9,
   "id": "c101e449",
   "metadata": {},
   "outputs": [
    {
     "name": "stdout",
     "output_type": "stream",
     "text": [
      "Number of conflicting review texts: 1484\n"
     ]
    }
   ],
   "source": [
    "# Filter to only reviews that have more than one unique rating\n",
    "conflicting_reviews = conflicting_counts[conflicting_counts > 1]\n",
    "print(\"Number of conflicting review texts:\", conflicting_reviews.shape[0])"
   ]
  },
  {
   "cell_type": "code",
   "execution_count": 10,
   "id": "2fd3c176",
   "metadata": {},
   "outputs": [],
   "source": [
    "conflicting_reviews = df.groupby('Review')['Rating'].nunique()\n",
    "conflicting_reviews = conflicting_reviews[conflicting_reviews > 1].index\n",
    "df = df[df['Review'].isin(conflicting_reviews) == False]\n"
   ]
  },
  {
   "cell_type": "code",
   "execution_count": 11,
   "id": "4cfb108b",
   "metadata": {},
   "outputs": [
    {
     "name": "stdout",
     "output_type": "stream",
     "text": [
      "Number of conflicting review texts: 0\n"
     ]
    }
   ],
   "source": [
    "conflicting_counts = df.groupby('Review')['Rating'].nunique()\n",
    "conflicting_reviews = conflicting_counts[conflicting_counts > 1]\n",
    "print(\"Number of conflicting review texts:\", conflicting_reviews.shape[0])"
   ]
  },
  {
   "cell_type": "code",
   "execution_count": 13,
   "id": "7271dbb2",
   "metadata": {},
   "outputs": [],
   "source": [
    "df.reset_index(drop=True, inplace=True)"
   ]
  },
  {
   "cell_type": "code",
   "execution_count": 14,
   "metadata": {},
   "outputs": [
    {
     "data": {
      "text/html": [
       "<div>\n",
       "<style scoped>\n",
       "    .dataframe tbody tr th:only-of-type {\n",
       "        vertical-align: middle;\n",
       "    }\n",
       "\n",
       "    .dataframe tbody tr th {\n",
       "        vertical-align: top;\n",
       "    }\n",
       "\n",
       "    .dataframe thead th {\n",
       "        text-align: right;\n",
       "    }\n",
       "</style>\n",
       "<table border=\"1\" class=\"dataframe\">\n",
       "  <thead>\n",
       "    <tr style=\"text-align: right;\">\n",
       "      <th></th>\n",
       "      <th>Review</th>\n",
       "      <th>Rating</th>\n",
       "    </tr>\n",
       "  </thead>\n",
       "  <tbody>\n",
       "    <tr>\n",
       "      <th>0</th>\n",
       "      <td>Some major design flaws</td>\n",
       "      <td>3</td>\n",
       "    </tr>\n",
       "    <tr>\n",
       "      <th>1</th>\n",
       "      <td>My favorite buy!</td>\n",
       "      <td>5</td>\n",
       "    </tr>\n",
       "    <tr>\n",
       "      <th>2</th>\n",
       "      <td>Flattering shirt</td>\n",
       "      <td>5</td>\n",
       "    </tr>\n",
       "    <tr>\n",
       "      <th>3</th>\n",
       "      <td>Not for the very petite</td>\n",
       "      <td>2</td>\n",
       "    </tr>\n",
       "    <tr>\n",
       "      <th>4</th>\n",
       "      <td>Cagrcoal shimmer fun</td>\n",
       "      <td>5</td>\n",
       "    </tr>\n",
       "    <tr>\n",
       "      <th>...</th>\n",
       "      <td>...</td>\n",
       "      <td>...</td>\n",
       "    </tr>\n",
       "    <tr>\n",
       "      <th>29605</th>\n",
       "      <td>Perfect wedding dress! Just get it!</td>\n",
       "      <td>5</td>\n",
       "    </tr>\n",
       "    <tr>\n",
       "      <th>29606</th>\n",
       "      <td>Elegant 💞💞💞</td>\n",
       "      <td>5</td>\n",
       "    </tr>\n",
       "    <tr>\n",
       "      <th>29607</th>\n",
       "      <td>Dress felt and fit great.  I got lots of compl...</td>\n",
       "      <td>5</td>\n",
       "    </tr>\n",
       "    <tr>\n",
       "      <th>29608</th>\n",
       "      <td>Loved the dress but poor quality</td>\n",
       "      <td>2</td>\n",
       "    </tr>\n",
       "    <tr>\n",
       "      <th>29609</th>\n",
       "      <td>Cute dress, didn't fit</td>\n",
       "      <td>1</td>\n",
       "    </tr>\n",
       "  </tbody>\n",
       "</table>\n",
       "<p>29610 rows × 2 columns</p>\n",
       "</div>"
      ],
      "text/plain": [
       "                                                  Review  Rating\n",
       "0                                Some major design flaws       3\n",
       "1                                       My favorite buy!       5\n",
       "2                                       Flattering shirt       5\n",
       "3                                Not for the very petite       2\n",
       "4                                   Cagrcoal shimmer fun       5\n",
       "...                                                  ...     ...\n",
       "29605                Perfect wedding dress! Just get it!       5\n",
       "29606                                        Elegant 💞💞💞       5\n",
       "29607  Dress felt and fit great.  I got lots of compl...       5\n",
       "29608                   Loved the dress but poor quality       2\n",
       "29609                             Cute dress, didn't fit       1\n",
       "\n",
       "[29610 rows x 2 columns]"
      ]
     },
     "execution_count": 14,
     "metadata": {},
     "output_type": "execute_result"
    }
   ],
   "source": [
    "df"
   ]
  },
  {
   "cell_type": "code",
   "execution_count": 15,
   "id": "ae46848e",
   "metadata": {},
   "outputs": [
    {
     "data": {
      "text/plain": [
       "Rating\n",
       "5    15998\n",
       "4     5097\n",
       "3     3593\n",
       "1     2673\n",
       "2     2249\n",
       "Name: count, dtype: int64"
      ]
     },
     "execution_count": 15,
     "metadata": {},
     "output_type": "execute_result"
    }
   ],
   "source": [
    "df['Rating'].value_counts()"
   ]
  },
  {
   "cell_type": "markdown",
   "id": "b0700d51",
   "metadata": {},
   "source": [
    "Visualization"
   ]
  },
  {
   "cell_type": "code",
   "execution_count": 18,
   "id": "b3213bdb",
   "metadata": {},
   "outputs": [],
   "source": [
    "import matplotlib.pyplot as plt\n",
    "import seaborn as sns"
   ]
  },
  {
   "cell_type": "code",
   "execution_count": 19,
   "id": "2578a0c4",
   "metadata": {},
   "outputs": [
    {
     "name": "stderr",
     "output_type": "stream",
     "text": [
      "C:\\Users\\LENOVO\\AppData\\Local\\Temp\\ipykernel_23512\\1617310085.py:2: FutureWarning: \n",
      "\n",
      "Passing `palette` without assigning `hue` is deprecated and will be removed in v0.14.0. Assign the `x` variable to `hue` and set `legend=False` for the same effect.\n",
      "\n",
      "  sns.countplot(x='Rating', data=df, palette='viridis')\n"
     ]
    },
    {
     "data": {
      "image/png": "[encoded data removed]",
      "text/plain": [
       "<Figure size 800x500 with 1 Axes>"
      ]
     },
     "metadata": {},
     "output_type": "display_data"
    }
   ],
   "source": [
    "plt.figure(figsize=(8, 5))\n",
    "sns.countplot(x='Rating', data=df, palette='viridis')\n",
    "plt.title(\"Number of Reviews per Rating\")\n",
    "plt.xlabel(\"Rating\")\n",
    "plt.ylabel(\"Count\")\n",
    "plt.show()\n"
   ]
  },
  {
   "cell_type": "code",
   "execution_count": 20,
   "id": "ca5942ee",
   "metadata": {},
   "outputs": [
    {
     "data": {
      "image/png": "[encoded data removed]",
      "text/plain": [
       "<Figure size 600x600 with 1 Axes>"
      ]
     },
     "metadata": {},
     "output_type": "display_data"
    }
   ],
   "source": [
    "rating_counts = df['Rating'].value_counts().sort_index()\n",
    "plt.figure(figsize=(6, 6))\n",
    "plt.pie(rating_counts, labels=rating_counts.index, autopct='%1.1f%%', startangle=140)\n",
    "plt.title(\"Rating Distribution\")\n",
    "plt.show()\n"
   ]
  },
  {
   "cell_type": "code",
   "execution_count": 30,
   "id": "d399416b",
   "metadata": {},
   "outputs": [],
   "source": [
    "\n",
    "df['Review_clean'] = df['Review'].str.lower()\n",
    "\n"
   ]
  },
  {
   "cell_type": "code",
   "execution_count": 31,
   "metadata": {},
   "outputs": [],
   "source": [
    "#remove punctuations\n",
    "df['Review_clean']=df['Review_clean'].str.replace(r'[^\\w\\s]', '', regex=True)\n",
    "df['Review_clean']=df['Review_clean'].str.replace(r'\\[.*?\\]', '', regex=True)"
   ]
  },
  {
   "cell_type": "code",
   "execution_count": 32,
   "id": "ea5b0eab",
   "metadata": {},
   "outputs": [
    {
     "data": {
      "text/html": [
       "<div>\n",
       "<style scoped>\n",
       "    .dataframe tbody tr th:only-of-type {\n",
       "        vertical-align: middle;\n",
       "    }\n",
       "\n",
       "    .dataframe tbody tr th {\n",
       "        vertical-align: top;\n",
       "    }\n",
       "\n",
       "    .dataframe thead th {\n",
       "        text-align: right;\n",
       "    }\n",
       "</style>\n",
       "<table border=\"1\" class=\"dataframe\">\n",
       "  <thead>\n",
       "    <tr style=\"text-align: right;\">\n",
       "      <th></th>\n",
       "      <th>Review</th>\n",
       "      <th>Rating</th>\n",
       "      <th>Review_clean</th>\n",
       "    </tr>\n",
       "  </thead>\n",
       "  <tbody>\n",
       "    <tr>\n",
       "      <th>0</th>\n",
       "      <td>Some major design flaws</td>\n",
       "      <td>3</td>\n",
       "      <td>some major design flaws</td>\n",
       "    </tr>\n",
       "    <tr>\n",
       "      <th>1</th>\n",
       "      <td>My favorite buy!</td>\n",
       "      <td>5</td>\n",
       "      <td>my favorite buy</td>\n",
       "    </tr>\n",
       "    <tr>\n",
       "      <th>2</th>\n",
       "      <td>Flattering shirt</td>\n",
       "      <td>5</td>\n",
       "      <td>flattering shirt</td>\n",
       "    </tr>\n",
       "    <tr>\n",
       "      <th>3</th>\n",
       "      <td>Not for the very petite</td>\n",
       "      <td>2</td>\n",
       "      <td>not for the very petite</td>\n",
       "    </tr>\n",
       "    <tr>\n",
       "      <th>4</th>\n",
       "      <td>Cagrcoal shimmer fun</td>\n",
       "      <td>5</td>\n",
       "      <td>cagrcoal shimmer fun</td>\n",
       "    </tr>\n",
       "    <tr>\n",
       "      <th>...</th>\n",
       "      <td>...</td>\n",
       "      <td>...</td>\n",
       "      <td>...</td>\n",
       "    </tr>\n",
       "    <tr>\n",
       "      <th>29605</th>\n",
       "      <td>Perfect wedding dress! Just get it!</td>\n",
       "      <td>5</td>\n",
       "      <td>perfect wedding dress just get it</td>\n",
       "    </tr>\n",
       "    <tr>\n",
       "      <th>29606</th>\n",
       "      <td>Elegant 💞💞💞</td>\n",
       "      <td>5</td>\n",
       "      <td>elegant</td>\n",
       "    </tr>\n",
       "    <tr>\n",
       "      <th>29607</th>\n",
       "      <td>Dress felt and fit great.  I got lots of compl...</td>\n",
       "      <td>5</td>\n",
       "      <td>dress felt and fit great  i got lots of compli...</td>\n",
       "    </tr>\n",
       "    <tr>\n",
       "      <th>29608</th>\n",
       "      <td>Loved the dress but poor quality</td>\n",
       "      <td>2</td>\n",
       "      <td>loved the dress but poor quality</td>\n",
       "    </tr>\n",
       "    <tr>\n",
       "      <th>29609</th>\n",
       "      <td>Cute dress, didn't fit</td>\n",
       "      <td>1</td>\n",
       "      <td>cute dress didnt fit</td>\n",
       "    </tr>\n",
       "  </tbody>\n",
       "</table>\n",
       "<p>29610 rows × 3 columns</p>\n",
       "</div>"
      ],
      "text/plain": [
       "                                                  Review  Rating  \\\n",
       "0                                Some major design flaws       3   \n",
       "1                                       My favorite buy!       5   \n",
       "2                                       Flattering shirt       5   \n",
       "3                                Not for the very petite       2   \n",
       "4                                   Cagrcoal shimmer fun       5   \n",
       "...                                                  ...     ...   \n",
       "29605                Perfect wedding dress! Just get it!       5   \n",
       "29606                                        Elegant 💞💞💞       5   \n",
       "29607  Dress felt and fit great.  I got lots of compl...       5   \n",
       "29608                   Loved the dress but poor quality       2   \n",
       "29609                             Cute dress, didn't fit       1   \n",
       "\n",
       "                                            Review_clean  \n",
       "0                                some major design flaws  \n",
       "1                                        my favorite buy  \n",
       "2                                       flattering shirt  \n",
       "3                                not for the very petite  \n",
       "4                                   cagrcoal shimmer fun  \n",
       "...                                                  ...  \n",
       "29605                  perfect wedding dress just get it  \n",
       "29606                                           elegant   \n",
       "29607  dress felt and fit great  i got lots of compli...  \n",
       "29608                   loved the dress but poor quality  \n",
       "29609                               cute dress didnt fit  \n",
       "\n",
       "[29610 rows x 3 columns]"
      ]
     },
     "execution_count": 32,
     "metadata": {},
     "output_type": "execute_result"
    }
   ],
   "source": [
    "df"
   ]
  },
  {
   "cell_type": "markdown",
   "id": "3aa433fa",
   "metadata": {},
   "source": [
    "LEMMATIZATION , REMOVE STOP WORD"
   ]
  },
  {
   "cell_type": "code",
   "execution_count": 33,
   "id": "35f66f63",
   "metadata": {},
   "outputs": [],
   "source": [
    "import spacy\n",
    "nlp = spacy.load(\"en_core_web_sm\")"
   ]
  },
  {
   "cell_type": "code",
   "execution_count": 35,
   "id": "35c65525",
   "metadata": {},
   "outputs": [],
   "source": [
    "def cleaning(text):\n",
    "    doc = nlp(text)\n",
    "    return ' '.join([token.lemma_ for token in doc if not token.is_stop])"
   ]
  },
  {
   "cell_type": "code",
   "execution_count": 36,
   "id": "7c73ace5",
   "metadata": {},
   "outputs": [],
   "source": [
    "df['Review_clean'] = df['Review_clean'].apply(cleaning)"
   ]
  },
  {
   "cell_type": "code",
   "execution_count": 38,
   "id": "9d83e13d",
   "metadata": {},
   "outputs": [
    {
     "data": {
      "text/html": [
       "<div>\n",
       "<style scoped>\n",
       "    .dataframe tbody tr th:only-of-type {\n",
       "        vertical-align: middle;\n",
       "    }\n",
       "\n",
       "    .dataframe tbody tr th {\n",
       "        vertical-align: top;\n",
       "    }\n",
       "\n",
       "    .dataframe thead th {\n",
       "        text-align: right;\n",
       "    }\n",
       "</style>\n",
       "<table border=\"1\" class=\"dataframe\">\n",
       "  <thead>\n",
       "    <tr style=\"text-align: right;\">\n",
       "      <th></th>\n",
       "      <th>Review</th>\n",
       "      <th>Rating</th>\n",
       "      <th>Review_clean</th>\n",
       "    </tr>\n",
       "  </thead>\n",
       "  <tbody>\n",
       "    <tr>\n",
       "      <th>0</th>\n",
       "      <td>Some major design flaws</td>\n",
       "      <td>3</td>\n",
       "      <td>major design flaw</td>\n",
       "    </tr>\n",
       "    <tr>\n",
       "      <th>1</th>\n",
       "      <td>My favorite buy!</td>\n",
       "      <td>5</td>\n",
       "      <td>favorite buy</td>\n",
       "    </tr>\n",
       "    <tr>\n",
       "      <th>2</th>\n",
       "      <td>Flattering shirt</td>\n",
       "      <td>5</td>\n",
       "      <td>flattering shirt</td>\n",
       "    </tr>\n",
       "    <tr>\n",
       "      <th>3</th>\n",
       "      <td>Not for the very petite</td>\n",
       "      <td>2</td>\n",
       "      <td>petite</td>\n",
       "    </tr>\n",
       "    <tr>\n",
       "      <th>4</th>\n",
       "      <td>Cagrcoal shimmer fun</td>\n",
       "      <td>5</td>\n",
       "      <td>cagrcoal shimmer fun</td>\n",
       "    </tr>\n",
       "    <tr>\n",
       "      <th>...</th>\n",
       "      <td>...</td>\n",
       "      <td>...</td>\n",
       "      <td>...</td>\n",
       "    </tr>\n",
       "    <tr>\n",
       "      <th>29605</th>\n",
       "      <td>Perfect wedding dress! Just get it!</td>\n",
       "      <td>5</td>\n",
       "      <td>perfect wedding dress</td>\n",
       "    </tr>\n",
       "    <tr>\n",
       "      <th>29606</th>\n",
       "      <td>Elegant 💞💞💞</td>\n",
       "      <td>5</td>\n",
       "      <td>elegant</td>\n",
       "    </tr>\n",
       "    <tr>\n",
       "      <th>29607</th>\n",
       "      <td>Dress felt and fit great.  I got lots of compl...</td>\n",
       "      <td>5</td>\n",
       "      <td>dress feel fit great   get lot compliment</td>\n",
       "    </tr>\n",
       "    <tr>\n",
       "      <th>29608</th>\n",
       "      <td>Loved the dress but poor quality</td>\n",
       "      <td>2</td>\n",
       "      <td>love dress poor quality</td>\n",
       "    </tr>\n",
       "    <tr>\n",
       "      <th>29609</th>\n",
       "      <td>Cute dress, didn't fit</td>\n",
       "      <td>1</td>\n",
       "      <td>cute dress not fit</td>\n",
       "    </tr>\n",
       "  </tbody>\n",
       "</table>\n",
       "<p>29610 rows × 3 columns</p>\n",
       "</div>"
      ],
      "text/plain": [
       "                                                  Review  Rating  \\\n",
       "0                                Some major design flaws       3   \n",
       "1                                       My favorite buy!       5   \n",
       "2                                       Flattering shirt       5   \n",
       "3                                Not for the very petite       2   \n",
       "4                                   Cagrcoal shimmer fun       5   \n",
       "...                                                  ...     ...   \n",
       "29605                Perfect wedding dress! Just get it!       5   \n",
       "29606                                        Elegant 💞💞💞       5   \n",
       "29607  Dress felt and fit great.  I got lots of compl...       5   \n",
       "29608                   Loved the dress but poor quality       2   \n",
       "29609                             Cute dress, didn't fit       1   \n",
       "\n",
       "                                    Review_clean  \n",
       "0                              major design flaw  \n",
       "1                                   favorite buy  \n",
       "2                               flattering shirt  \n",
       "3                                         petite  \n",
       "4                           cagrcoal shimmer fun  \n",
       "...                                          ...  \n",
       "29605                      perfect wedding dress  \n",
       "29606                                    elegant  \n",
       "29607  dress feel fit great   get lot compliment  \n",
       "29608                    love dress poor quality  \n",
       "29609                         cute dress not fit  \n",
       "\n",
       "[29610 rows x 3 columns]"
      ]
     },
     "execution_count": 38,
     "metadata": {},
     "output_type": "execute_result"
    }
   ],
   "source": [
    "df"
   ]
  },
  {
   "cell_type": "code",
   "execution_count": 49,
   "id": "b811597c",
   "metadata": {},
   "outputs": [
    {
     "name": "stdout",
     "output_type": "stream",
     "text": [
      "Number of empty (non-null) reviews: 186\n"
     ]
    }
   ],
   "source": [
    "# Find rows where Review is an empty string\n",
    "empty_reviews = df[df['Review_clean'].str.strip() == '']\n",
    "print(\"Number of empty (non-null) reviews:\", empty_reviews.shape[0])\n"
   ]
  },
  {
   "cell_type": "code",
   "execution_count": 52,
   "id": "48659236",
   "metadata": {},
   "outputs": [],
   "source": [
    "# Remove rows where Review is empty after cleaning\n",
    "df = df[df['Review_clean'].str.strip() != '']\n"
   ]
  },
  {
   "cell_type": "code",
   "execution_count": 53,
   "id": "1fa1d74f",
   "metadata": {},
   "outputs": [
    {
     "name": "stdout",
     "output_type": "stream",
     "text": [
      "Number of empty (non-null) reviews: 0\n"
     ]
    }
   ],
   "source": [
    "# Find rows where Review is an empty string\n",
    "empty_reviews = df[df['Review_clean'].str.strip() == '']\n",
    "print(\"Number of empty (non-null) reviews:\", empty_reviews.shape[0])\n"
   ]
  },
  {
   "cell_type": "code",
   "execution_count": 54,
   "id": "07fdc1d0",
   "metadata": {},
   "outputs": [
    {
     "data": {
      "text/html": [
       "<div>\n",
       "<style scoped>\n",
       "    .dataframe tbody tr th:only-of-type {\n",
       "        vertical-align: middle;\n",
       "    }\n",
       "\n",
       "    .dataframe tbody tr th {\n",
       "        vertical-align: top;\n",
       "    }\n",
       "\n",
       "    .dataframe thead th {\n",
       "        text-align: right;\n",
       "    }\n",
       "</style>\n",
       "<table border=\"1\" class=\"dataframe\">\n",
       "  <thead>\n",
       "    <tr style=\"text-align: right;\">\n",
       "      <th></th>\n",
       "      <th>Review</th>\n",
       "      <th>Rating</th>\n",
       "      <th>Review_clean</th>\n",
       "    </tr>\n",
       "  </thead>\n",
       "  <tbody>\n",
       "    <tr>\n",
       "      <th>0</th>\n",
       "      <td>Some major design flaws</td>\n",
       "      <td>3</td>\n",
       "      <td>major design flaw</td>\n",
       "    </tr>\n",
       "    <tr>\n",
       "      <th>1</th>\n",
       "      <td>My favorite buy!</td>\n",
       "      <td>5</td>\n",
       "      <td>favorite buy</td>\n",
       "    </tr>\n",
       "    <tr>\n",
       "      <th>2</th>\n",
       "      <td>Flattering shirt</td>\n",
       "      <td>5</td>\n",
       "      <td>flattering shirt</td>\n",
       "    </tr>\n",
       "    <tr>\n",
       "      <th>3</th>\n",
       "      <td>Not for the very petite</td>\n",
       "      <td>2</td>\n",
       "      <td>petite</td>\n",
       "    </tr>\n",
       "    <tr>\n",
       "      <th>4</th>\n",
       "      <td>Cagrcoal shimmer fun</td>\n",
       "      <td>5</td>\n",
       "      <td>cagrcoal shimmer fun</td>\n",
       "    </tr>\n",
       "    <tr>\n",
       "      <th>...</th>\n",
       "      <td>...</td>\n",
       "      <td>...</td>\n",
       "      <td>...</td>\n",
       "    </tr>\n",
       "    <tr>\n",
       "      <th>29605</th>\n",
       "      <td>Perfect wedding dress! Just get it!</td>\n",
       "      <td>5</td>\n",
       "      <td>perfect wedding dress</td>\n",
       "    </tr>\n",
       "    <tr>\n",
       "      <th>29606</th>\n",
       "      <td>Elegant 💞💞💞</td>\n",
       "      <td>5</td>\n",
       "      <td>elegant</td>\n",
       "    </tr>\n",
       "    <tr>\n",
       "      <th>29607</th>\n",
       "      <td>Dress felt and fit great.  I got lots of compl...</td>\n",
       "      <td>5</td>\n",
       "      <td>dress feel fit great   get lot compliment</td>\n",
       "    </tr>\n",
       "    <tr>\n",
       "      <th>29608</th>\n",
       "      <td>Loved the dress but poor quality</td>\n",
       "      <td>2</td>\n",
       "      <td>love dress poor quality</td>\n",
       "    </tr>\n",
       "    <tr>\n",
       "      <th>29609</th>\n",
       "      <td>Cute dress, didn't fit</td>\n",
       "      <td>1</td>\n",
       "      <td>cute dress not fit</td>\n",
       "    </tr>\n",
       "  </tbody>\n",
       "</table>\n",
       "<p>29424 rows × 3 columns</p>\n",
       "</div>"
      ],
      "text/plain": [
       "                                                  Review  Rating  \\\n",
       "0                                Some major design flaws       3   \n",
       "1                                       My favorite buy!       5   \n",
       "2                                       Flattering shirt       5   \n",
       "3                                Not for the very petite       2   \n",
       "4                                   Cagrcoal shimmer fun       5   \n",
       "...                                                  ...     ...   \n",
       "29605                Perfect wedding dress! Just get it!       5   \n",
       "29606                                        Elegant 💞💞💞       5   \n",
       "29607  Dress felt and fit great.  I got lots of compl...       5   \n",
       "29608                   Loved the dress but poor quality       2   \n",
       "29609                             Cute dress, didn't fit       1   \n",
       "\n",
       "                                    Review_clean  \n",
       "0                              major design flaw  \n",
       "1                                   favorite buy  \n",
       "2                               flattering shirt  \n",
       "3                                         petite  \n",
       "4                           cagrcoal shimmer fun  \n",
       "...                                          ...  \n",
       "29605                      perfect wedding dress  \n",
       "29606                                    elegant  \n",
       "29607  dress feel fit great   get lot compliment  \n",
       "29608                    love dress poor quality  \n",
       "29609                         cute dress not fit  \n",
       "\n",
       "[29424 rows x 3 columns]"
      ]
     },
     "execution_count": 54,
     "metadata": {},
     "output_type": "execute_result"
    }
   ],
   "source": [
    "df"
   ]
  },
  {
   "cell_type": "markdown",
   "id": "7765a432",
   "metadata": {},
   "source": [
    "SENTIMENT"
   ]
  },
  {
   "cell_type": "code",
   "execution_count": 59,
   "id": "2d5d0305",
   "metadata": {},
   "outputs": [],
   "source": [
    "from vaderSentiment.vaderSentiment import SentimentIntensityAnalyzer"
   ]
  },
  {
   "cell_type": "code",
   "execution_count": 60,
   "id": "0248a7fd",
   "metadata": {},
   "outputs": [
    {
     "data": {
      "text/html": [
       "<div>\n",
       "<style scoped>\n",
       "    .dataframe tbody tr th:only-of-type {\n",
       "        vertical-align: middle;\n",
       "    }\n",
       "\n",
       "    .dataframe tbody tr th {\n",
       "        vertical-align: top;\n",
       "    }\n",
       "\n",
       "    .dataframe thead th {\n",
       "        text-align: right;\n",
       "    }\n",
       "</style>\n",
       "<table border=\"1\" class=\"dataframe\">\n",
       "  <thead>\n",
       "    <tr style=\"text-align: right;\">\n",
       "      <th></th>\n",
       "      <th>Review</th>\n",
       "      <th>Rating</th>\n",
       "      <th>Review_clean</th>\n",
       "      <th>sentiment</th>\n",
       "    </tr>\n",
       "  </thead>\n",
       "  <tbody>\n",
       "    <tr>\n",
       "      <th>0</th>\n",
       "      <td>Some major design flaws</td>\n",
       "      <td>3</td>\n",
       "      <td>major design flaw</td>\n",
       "      <td>0.0000</td>\n",
       "    </tr>\n",
       "    <tr>\n",
       "      <th>1</th>\n",
       "      <td>My favorite buy!</td>\n",
       "      <td>5</td>\n",
       "      <td>favorite buy</td>\n",
       "      <td>0.4588</td>\n",
       "    </tr>\n",
       "    <tr>\n",
       "      <th>2</th>\n",
       "      <td>Flattering shirt</td>\n",
       "      <td>5</td>\n",
       "      <td>flattering shirt</td>\n",
       "      <td>0.3182</td>\n",
       "    </tr>\n",
       "    <tr>\n",
       "      <th>3</th>\n",
       "      <td>Not for the very petite</td>\n",
       "      <td>2</td>\n",
       "      <td>petite</td>\n",
       "      <td>0.0000</td>\n",
       "    </tr>\n",
       "    <tr>\n",
       "      <th>4</th>\n",
       "      <td>Cagrcoal shimmer fun</td>\n",
       "      <td>5</td>\n",
       "      <td>cagrcoal shimmer fun</td>\n",
       "      <td>0.5106</td>\n",
       "    </tr>\n",
       "    <tr>\n",
       "      <th>...</th>\n",
       "      <td>...</td>\n",
       "      <td>...</td>\n",
       "      <td>...</td>\n",
       "      <td>...</td>\n",
       "    </tr>\n",
       "    <tr>\n",
       "      <th>29605</th>\n",
       "      <td>Perfect wedding dress! Just get it!</td>\n",
       "      <td>5</td>\n",
       "      <td>perfect wedding dress</td>\n",
       "      <td>0.5719</td>\n",
       "    </tr>\n",
       "    <tr>\n",
       "      <th>29606</th>\n",
       "      <td>Elegant 💞💞💞</td>\n",
       "      <td>5</td>\n",
       "      <td>elegant</td>\n",
       "      <td>0.4767</td>\n",
       "    </tr>\n",
       "    <tr>\n",
       "      <th>29607</th>\n",
       "      <td>Dress felt and fit great.  I got lots of compl...</td>\n",
       "      <td>5</td>\n",
       "      <td>dress feel fit great   get lot compliment</td>\n",
       "      <td>0.8658</td>\n",
       "    </tr>\n",
       "    <tr>\n",
       "      <th>29608</th>\n",
       "      <td>Loved the dress but poor quality</td>\n",
       "      <td>2</td>\n",
       "      <td>love dress poor quality</td>\n",
       "      <td>0.2732</td>\n",
       "    </tr>\n",
       "    <tr>\n",
       "      <th>29609</th>\n",
       "      <td>Cute dress, didn't fit</td>\n",
       "      <td>1</td>\n",
       "      <td>cute dress not fit</td>\n",
       "      <td>0.2240</td>\n",
       "    </tr>\n",
       "  </tbody>\n",
       "</table>\n",
       "<p>29424 rows × 4 columns</p>\n",
       "</div>"
      ],
      "text/plain": [
       "                                                  Review  Rating  \\\n",
       "0                                Some major design flaws       3   \n",
       "1                                       My favorite buy!       5   \n",
       "2                                       Flattering shirt       5   \n",
       "3                                Not for the very petite       2   \n",
       "4                                   Cagrcoal shimmer fun       5   \n",
       "...                                                  ...     ...   \n",
       "29605                Perfect wedding dress! Just get it!       5   \n",
       "29606                                        Elegant 💞💞💞       5   \n",
       "29607  Dress felt and fit great.  I got lots of compl...       5   \n",
       "29608                   Loved the dress but poor quality       2   \n",
       "29609                             Cute dress, didn't fit       1   \n",
       "\n",
       "                                    Review_clean  sentiment  \n",
       "0                              major design flaw     0.0000  \n",
       "1                                   favorite buy     0.4588  \n",
       "2                               flattering shirt     0.3182  \n",
       "3                                         petite     0.0000  \n",
       "4                           cagrcoal shimmer fun     0.5106  \n",
       "...                                          ...        ...  \n",
       "29605                      perfect wedding dress     0.5719  \n",
       "29606                                    elegant     0.4767  \n",
       "29607  dress feel fit great   get lot compliment     0.8658  \n",
       "29608                    love dress poor quality     0.2732  \n",
       "29609                         cute dress not fit     0.2240  \n",
       "\n",
       "[29424 rows x 4 columns]"
      ]
     },
     "execution_count": 60,
     "metadata": {},
     "output_type": "execute_result"
    }
   ],
   "source": [
    "\n",
    "\n",
    "\n",
    "analyzer = SentimentIntensityAnalyzer()\n",
    "\n",
    "# define a function to get the score\n",
    "def get_sentiment(text):\n",
    "    return analyzer.polarity_scores(text)['compound']\n",
    "\n",
    "# apply the function\n",
    "df['sentiment'] = df['Review_clean'].apply(get_sentiment)\n",
    "df"
   ]
  },
  {
   "cell_type": "code",
   "execution_count": 61,
   "id": "39b8d711",
   "metadata": {},
   "outputs": [],
   "source": [
    "pd.to_pickle(df, 'cleaned_imbalanced.pkl')"
   ]
  },
  {
   "cell_type": "code",
   "execution_count": 62,
   "id": "33b6a540",
   "metadata": {},
   "outputs": [],
   "source": [
    "df.to_csv(\"cleaned_imbalanced.csv\", encoding=\"utf-8-sig\")"
   ]
  },
  {
   "cell_type": "markdown",
   "id": "a5b3b23a",
   "metadata": {},
   "source": [
    "BALANCING DATASET"
   ]
  },
  {
   "cell_type": "code",
   "execution_count": 63,
   "id": "912073bb",
   "metadata": {},
   "outputs": [
    {
     "data": {
      "text/html": [
       "<div>\n",
       "<style scoped>\n",
       "    .dataframe tbody tr th:only-of-type {\n",
       "        vertical-align: middle;\n",
       "    }\n",
       "\n",
       "    .dataframe tbody tr th {\n",
       "        vertical-align: top;\n",
       "    }\n",
       "\n",
       "    .dataframe thead th {\n",
       "        text-align: right;\n",
       "    }\n",
       "</style>\n",
       "<table border=\"1\" class=\"dataframe\">\n",
       "  <thead>\n",
       "    <tr style=\"text-align: right;\">\n",
       "      <th></th>\n",
       "      <th>Review</th>\n",
       "      <th>Rating</th>\n",
       "      <th>Review_clean</th>\n",
       "      <th>sentiment</th>\n",
       "    </tr>\n",
       "  </thead>\n",
       "  <tbody>\n",
       "    <tr>\n",
       "      <th>0</th>\n",
       "      <td>Some major design flaws</td>\n",
       "      <td>3</td>\n",
       "      <td>major design flaw</td>\n",
       "      <td>0.0000</td>\n",
       "    </tr>\n",
       "    <tr>\n",
       "      <th>1</th>\n",
       "      <td>My favorite buy!</td>\n",
       "      <td>5</td>\n",
       "      <td>favorite buy</td>\n",
       "      <td>0.4588</td>\n",
       "    </tr>\n",
       "    <tr>\n",
       "      <th>2</th>\n",
       "      <td>Flattering shirt</td>\n",
       "      <td>5</td>\n",
       "      <td>flattering shirt</td>\n",
       "      <td>0.3182</td>\n",
       "    </tr>\n",
       "    <tr>\n",
       "      <th>3</th>\n",
       "      <td>Not for the very petite</td>\n",
       "      <td>2</td>\n",
       "      <td>petite</td>\n",
       "      <td>0.0000</td>\n",
       "    </tr>\n",
       "    <tr>\n",
       "      <th>4</th>\n",
       "      <td>Cagrcoal shimmer fun</td>\n",
       "      <td>5</td>\n",
       "      <td>cagrcoal shimmer fun</td>\n",
       "      <td>0.5106</td>\n",
       "    </tr>\n",
       "    <tr>\n",
       "      <th>...</th>\n",
       "      <td>...</td>\n",
       "      <td>...</td>\n",
       "      <td>...</td>\n",
       "      <td>...</td>\n",
       "    </tr>\n",
       "    <tr>\n",
       "      <th>29605</th>\n",
       "      <td>Perfect wedding dress! Just get it!</td>\n",
       "      <td>5</td>\n",
       "      <td>perfect wedding dress</td>\n",
       "      <td>0.5719</td>\n",
       "    </tr>\n",
       "    <tr>\n",
       "      <th>29606</th>\n",
       "      <td>Elegant 💞💞💞</td>\n",
       "      <td>5</td>\n",
       "      <td>elegant</td>\n",
       "      <td>0.4767</td>\n",
       "    </tr>\n",
       "    <tr>\n",
       "      <th>29607</th>\n",
       "      <td>Dress felt and fit great.  I got lots of compl...</td>\n",
       "      <td>5</td>\n",
       "      <td>dress feel fit great   get lot compliment</td>\n",
       "      <td>0.8658</td>\n",
       "    </tr>\n",
       "    <tr>\n",
       "      <th>29608</th>\n",
       "      <td>Loved the dress but poor quality</td>\n",
       "      <td>2</td>\n",
       "      <td>love dress poor quality</td>\n",
       "      <td>0.2732</td>\n",
       "    </tr>\n",
       "    <tr>\n",
       "      <th>29609</th>\n",
       "      <td>Cute dress, didn't fit</td>\n",
       "      <td>1</td>\n",
       "      <td>cute dress not fit</td>\n",
       "      <td>0.2240</td>\n",
       "    </tr>\n",
       "  </tbody>\n",
       "</table>\n",
       "<p>29424 rows × 4 columns</p>\n",
       "</div>"
      ],
      "text/plain": [
       "                                                  Review  Rating  \\\n",
       "0                                Some major design flaws       3   \n",
       "1                                       My favorite buy!       5   \n",
       "2                                       Flattering shirt       5   \n",
       "3                                Not for the very petite       2   \n",
       "4                                   Cagrcoal shimmer fun       5   \n",
       "...                                                  ...     ...   \n",
       "29605                Perfect wedding dress! Just get it!       5   \n",
       "29606                                        Elegant 💞💞💞       5   \n",
       "29607  Dress felt and fit great.  I got lots of compl...       5   \n",
       "29608                   Loved the dress but poor quality       2   \n",
       "29609                             Cute dress, didn't fit       1   \n",
       "\n",
       "                                    Review_clean  sentiment  \n",
       "0                              major design flaw     0.0000  \n",
       "1                                   favorite buy     0.4588  \n",
       "2                               flattering shirt     0.3182  \n",
       "3                                         petite     0.0000  \n",
       "4                           cagrcoal shimmer fun     0.5106  \n",
       "...                                          ...        ...  \n",
       "29605                      perfect wedding dress     0.5719  \n",
       "29606                                    elegant     0.4767  \n",
       "29607  dress feel fit great   get lot compliment     0.8658  \n",
       "29608                    love dress poor quality     0.2732  \n",
       "29609                         cute dress not fit     0.2240  \n",
       "\n",
       "[29424 rows x 4 columns]"
      ]
     },
     "execution_count": 63,
     "metadata": {},
     "output_type": "execute_result"
    }
   ],
   "source": [
    "balanced_data = df.copy()\n",
    "balanced_data"
   ]
  },
  {
   "cell_type": "code",
   "execution_count": 65,
   "id": "4e58e4e3",
   "metadata": {},
   "outputs": [
    {
     "data": {
      "text/plain": [
       "Rating\n",
       "5    15908\n",
       "4     5084\n",
       "3     3565\n",
       "1     2639\n",
       "2     2228\n",
       "Name: count, dtype: int64"
      ]
     },
     "execution_count": 65,
     "metadata": {},
     "output_type": "execute_result"
    }
   ],
   "source": [
    "balanced_data['Rating'].value_counts()"
   ]
  },
  {
   "cell_type": "code",
   "execution_count": 66,
   "id": "f77e1324",
   "metadata": {},
   "outputs": [
    {
     "name": "stdout",
     "output_type": "stream",
     "text": [
      "Rating\n",
      "4    2000\n",
      "2    2000\n",
      "3    2000\n",
      "5    2000\n",
      "1    2000\n",
      "Name: count, dtype: int64\n"
     ]
    }
   ],
   "source": [
    "\n",
    "\n",
    "# Assuming df is your DataFrame and 'Cons_rating' is the column to balance\n",
    "target_count = 2000\n",
    "balanced_df = pd.DataFrame()\n",
    "\n",
    "# Loop over each unique rating\n",
    "for rating in df['Rating'].unique():\n",
    "    subset = df[df['Rating'] == rating]\n",
    "    \n",
    "    if len(subset) > target_count:\n",
    "        # Downsample\n",
    "        subset = subset.sample(n=target_count, random_state=42)\n",
    "    elif len(subset) < target_count:\n",
    "        # Upsample with replacement\n",
    "        subset = subset.sample(n=target_count, replace=True, random_state=42)\n",
    "    \n",
    "    # Append to final DataFrame\n",
    "    balanced_df = pd.concat([balanced_df, subset])\n",
    "\n",
    "# Shuffle the balanced DataFrame\n",
    "balanced_df = balanced_df.sample(frac=1, random_state=42).reset_index(drop=True)\n",
    "\n",
    "# Check result\n",
    "print(balanced_df['Rating'].value_counts())\n"
   ]
  },
  {
   "cell_type": "code",
   "execution_count": 75,
   "id": "c5bc0202",
   "metadata": {},
   "outputs": [
    {
     "name": "stderr",
     "output_type": "stream",
     "text": [
      "C:\\Users\\LENOVO\\AppData\\Local\\Temp\\ipykernel_23512\\3393103518.py:2: FutureWarning: \n",
      "\n",
      "Passing `palette` without assigning `hue` is deprecated and will be removed in v0.14.0. Assign the `x` variable to `hue` and set `legend=False` for the same effect.\n",
      "\n",
      "  sns.countplot(x='Rating', data=balanced_df, palette='viridis')\n"
     ]
    },
    {
     "data": {
      "image/png": "[encoded data removed]",
      "text/plain": [
       "<Figure size 800x500 with 1 Axes>"
      ]
     },
     "metadata": {},
     "output_type": "display_data"
    }
   ],
   "source": [
    "plt.figure(figsize=(8, 5))\n",
    "sns.countplot(x='Rating', data=balanced_df, palette='viridis')\n",
    "plt.title(\"Number of Reviews per Rating\")\n",
    "plt.xlabel(\"Rating\")\n",
    "plt.ylabel(\"Count\")\n",
    "plt.show()\n"
   ]
  },
  {
   "cell_type": "code",
   "execution_count": 76,
   "id": "b347f521",
   "metadata": {},
   "outputs": [
    {
     "data": {
      "image/png": "[encoded data removed]",
      "text/plain": [
       "<Figure size 600x600 with 1 Axes>"
      ]
     },
     "metadata": {},
     "output_type": "display_data"
    }
   ],
   "source": [
    "rating_counts = balanced_df['Rating'].value_counts().sort_index()\n",
    "plt.figure(figsize=(6, 6))\n",
    "plt.pie(rating_counts, labels=rating_counts.index, autopct='%1.1f%%', startangle=140)\n",
    "plt.title(\"Rating Distribution\")\n",
    "plt.show()\n"
   ]
  },
  {
   "cell_type": "code",
   "execution_count": 67,
   "id": "4943728f",
   "metadata": {},
   "outputs": [],
   "source": [
    "pd.to_pickle(balanced_df, 'cleaned_balanced.pkl')"
   ]
  },
  {
   "cell_type": "code",
   "execution_count": 68,
   "id": "0ed510b1",
   "metadata": {},
   "outputs": [],
   "source": [
    "balanced_df.to_csv(\"cleaned_balanced.csv\", encoding=\"utf-8-sig\")"
   ]
  },
  {
   "cell_type": "markdown",
   "id": "544afa40",
   "metadata": {},
   "source": [
    "TF-IDF"
   ]
  },
  {
   "cell_type": "code",
   "execution_count": 70,
   "id": "30fb4509",
   "metadata": {},
   "outputs": [],
   "source": [
    "from sklearn.feature_extraction.text import  TfidfVectorizer"
   ]
  },
  {
   "cell_type": "code",
   "execution_count": 72,
   "id": "b344f6e6",
   "metadata": {},
   "outputs": [],
   "source": [
    "# create a tfidf vectorizer matrix\n",
    "tv = TfidfVectorizer()\n",
    "Xt = tv.fit_transform(balanced_df['Review_clean'])"
   ]
  },
  {
   "cell_type": "code",
   "execution_count": 73,
   "id": "001e9c41",
   "metadata": {},
   "outputs": [
    {
     "data": {
      "text/html": [
       "<div>\n",
       "<style scoped>\n",
       "    .dataframe tbody tr th:only-of-type {\n",
       "        vertical-align: middle;\n",
       "    }\n",
       "\n",
       "    .dataframe tbody tr th {\n",
       "        vertical-align: top;\n",
       "    }\n",
       "\n",
       "    .dataframe thead th {\n",
       "        text-align: right;\n",
       "    }\n",
       "</style>\n",
       "<table border=\"1\" class=\"dataframe\">\n",
       "  <thead>\n",
       "    <tr style=\"text-align: right;\">\n",
       "      <th></th>\n",
       "      <th>00</th>\n",
       "      <th>045blue</th>\n",
       "      <th>0star</th>\n",
       "      <th>10</th>\n",
       "      <th>100</th>\n",
       "      <th>105lb5</th>\n",
       "      <th>10oct</th>\n",
       "      <th>10year</th>\n",
       "      <th>10yo</th>\n",
       "      <th>11</th>\n",
       "      <th>...</th>\n",
       "      <th>yuck</th>\n",
       "      <th>yucky</th>\n",
       "      <th>yum</th>\n",
       "      <th>yummysweater</th>\n",
       "      <th>zander</th>\n",
       "      <th>zero</th>\n",
       "      <th>zip</th>\n",
       "      <th>zipno</th>\n",
       "      <th>zipper</th>\n",
       "      <th>zipup</th>\n",
       "    </tr>\n",
       "  </thead>\n",
       "  <tbody>\n",
       "    <tr>\n",
       "      <th>0</th>\n",
       "      <td>0.0</td>\n",
       "      <td>0.0</td>\n",
       "      <td>0.0</td>\n",
       "      <td>0.0</td>\n",
       "      <td>0.0</td>\n",
       "      <td>0.0</td>\n",
       "      <td>0.0</td>\n",
       "      <td>0.0</td>\n",
       "      <td>0.0</td>\n",
       "      <td>0.0</td>\n",
       "      <td>...</td>\n",
       "      <td>0.0</td>\n",
       "      <td>0.0</td>\n",
       "      <td>0.0</td>\n",
       "      <td>0.0</td>\n",
       "      <td>0.0</td>\n",
       "      <td>0.0</td>\n",
       "      <td>0.0</td>\n",
       "      <td>0.0</td>\n",
       "      <td>0.0</td>\n",
       "      <td>0.0</td>\n",
       "    </tr>\n",
       "    <tr>\n",
       "      <th>1</th>\n",
       "      <td>0.0</td>\n",
       "      <td>0.0</td>\n",
       "      <td>0.0</td>\n",
       "      <td>0.0</td>\n",
       "      <td>0.0</td>\n",
       "      <td>0.0</td>\n",
       "      <td>0.0</td>\n",
       "      <td>0.0</td>\n",
       "      <td>0.0</td>\n",
       "      <td>0.0</td>\n",
       "      <td>...</td>\n",
       "      <td>0.0</td>\n",
       "      <td>0.0</td>\n",
       "      <td>0.0</td>\n",
       "      <td>0.0</td>\n",
       "      <td>0.0</td>\n",
       "      <td>0.0</td>\n",
       "      <td>0.0</td>\n",
       "      <td>0.0</td>\n",
       "      <td>0.0</td>\n",
       "      <td>0.0</td>\n",
       "    </tr>\n",
       "    <tr>\n",
       "      <th>2</th>\n",
       "      <td>0.0</td>\n",
       "      <td>0.0</td>\n",
       "      <td>0.0</td>\n",
       "      <td>0.0</td>\n",
       "      <td>0.0</td>\n",
       "      <td>0.0</td>\n",
       "      <td>0.0</td>\n",
       "      <td>0.0</td>\n",
       "      <td>0.0</td>\n",
       "      <td>0.0</td>\n",
       "      <td>...</td>\n",
       "      <td>0.0</td>\n",
       "      <td>0.0</td>\n",
       "      <td>0.0</td>\n",
       "      <td>0.0</td>\n",
       "      <td>0.0</td>\n",
       "      <td>0.0</td>\n",
       "      <td>0.0</td>\n",
       "      <td>0.0</td>\n",
       "      <td>0.0</td>\n",
       "      <td>0.0</td>\n",
       "    </tr>\n",
       "    <tr>\n",
       "      <th>3</th>\n",
       "      <td>0.0</td>\n",
       "      <td>0.0</td>\n",
       "      <td>0.0</td>\n",
       "      <td>0.0</td>\n",
       "      <td>0.0</td>\n",
       "      <td>0.0</td>\n",
       "      <td>0.0</td>\n",
       "      <td>0.0</td>\n",
       "      <td>0.0</td>\n",
       "      <td>0.0</td>\n",
       "      <td>...</td>\n",
       "      <td>0.0</td>\n",
       "      <td>0.0</td>\n",
       "      <td>0.0</td>\n",
       "      <td>0.0</td>\n",
       "      <td>0.0</td>\n",
       "      <td>0.0</td>\n",
       "      <td>0.0</td>\n",
       "      <td>0.0</td>\n",
       "      <td>0.0</td>\n",
       "      <td>0.0</td>\n",
       "    </tr>\n",
       "    <tr>\n",
       "      <th>4</th>\n",
       "      <td>0.0</td>\n",
       "      <td>0.0</td>\n",
       "      <td>0.0</td>\n",
       "      <td>0.0</td>\n",
       "      <td>0.0</td>\n",
       "      <td>0.0</td>\n",
       "      <td>0.0</td>\n",
       "      <td>0.0</td>\n",
       "      <td>0.0</td>\n",
       "      <td>0.0</td>\n",
       "      <td>...</td>\n",
       "      <td>0.0</td>\n",
       "      <td>0.0</td>\n",
       "      <td>0.0</td>\n",
       "      <td>0.0</td>\n",
       "      <td>0.0</td>\n",
       "      <td>0.0</td>\n",
       "      <td>0.0</td>\n",
       "      <td>0.0</td>\n",
       "      <td>0.0</td>\n",
       "      <td>0.0</td>\n",
       "    </tr>\n",
       "    <tr>\n",
       "      <th>...</th>\n",
       "      <td>...</td>\n",
       "      <td>...</td>\n",
       "      <td>...</td>\n",
       "      <td>...</td>\n",
       "      <td>...</td>\n",
       "      <td>...</td>\n",
       "      <td>...</td>\n",
       "      <td>...</td>\n",
       "      <td>...</td>\n",
       "      <td>...</td>\n",
       "      <td>...</td>\n",
       "      <td>...</td>\n",
       "      <td>...</td>\n",
       "      <td>...</td>\n",
       "      <td>...</td>\n",
       "      <td>...</td>\n",
       "      <td>...</td>\n",
       "      <td>...</td>\n",
       "      <td>...</td>\n",
       "      <td>...</td>\n",
       "      <td>...</td>\n",
       "    </tr>\n",
       "    <tr>\n",
       "      <th>9995</th>\n",
       "      <td>0.0</td>\n",
       "      <td>0.0</td>\n",
       "      <td>0.0</td>\n",
       "      <td>0.0</td>\n",
       "      <td>0.0</td>\n",
       "      <td>0.0</td>\n",
       "      <td>0.0</td>\n",
       "      <td>0.0</td>\n",
       "      <td>0.0</td>\n",
       "      <td>0.0</td>\n",
       "      <td>...</td>\n",
       "      <td>0.0</td>\n",
       "      <td>0.0</td>\n",
       "      <td>0.0</td>\n",
       "      <td>0.0</td>\n",
       "      <td>0.0</td>\n",
       "      <td>0.0</td>\n",
       "      <td>0.0</td>\n",
       "      <td>0.0</td>\n",
       "      <td>0.0</td>\n",
       "      <td>0.0</td>\n",
       "    </tr>\n",
       "    <tr>\n",
       "      <th>9996</th>\n",
       "      <td>0.0</td>\n",
       "      <td>0.0</td>\n",
       "      <td>0.0</td>\n",
       "      <td>0.0</td>\n",
       "      <td>0.0</td>\n",
       "      <td>0.0</td>\n",
       "      <td>0.0</td>\n",
       "      <td>0.0</td>\n",
       "      <td>0.0</td>\n",
       "      <td>0.0</td>\n",
       "      <td>...</td>\n",
       "      <td>0.0</td>\n",
       "      <td>0.0</td>\n",
       "      <td>0.0</td>\n",
       "      <td>0.0</td>\n",
       "      <td>0.0</td>\n",
       "      <td>0.0</td>\n",
       "      <td>0.0</td>\n",
       "      <td>0.0</td>\n",
       "      <td>0.0</td>\n",
       "      <td>0.0</td>\n",
       "    </tr>\n",
       "    <tr>\n",
       "      <th>9997</th>\n",
       "      <td>0.0</td>\n",
       "      <td>0.0</td>\n",
       "      <td>0.0</td>\n",
       "      <td>0.0</td>\n",
       "      <td>0.0</td>\n",
       "      <td>0.0</td>\n",
       "      <td>0.0</td>\n",
       "      <td>0.0</td>\n",
       "      <td>0.0</td>\n",
       "      <td>0.0</td>\n",
       "      <td>...</td>\n",
       "      <td>0.0</td>\n",
       "      <td>0.0</td>\n",
       "      <td>0.0</td>\n",
       "      <td>0.0</td>\n",
       "      <td>0.0</td>\n",
       "      <td>0.0</td>\n",
       "      <td>0.0</td>\n",
       "      <td>0.0</td>\n",
       "      <td>0.0</td>\n",
       "      <td>0.0</td>\n",
       "    </tr>\n",
       "    <tr>\n",
       "      <th>9998</th>\n",
       "      <td>0.0</td>\n",
       "      <td>0.0</td>\n",
       "      <td>0.0</td>\n",
       "      <td>0.0</td>\n",
       "      <td>0.0</td>\n",
       "      <td>0.0</td>\n",
       "      <td>0.0</td>\n",
       "      <td>0.0</td>\n",
       "      <td>0.0</td>\n",
       "      <td>0.0</td>\n",
       "      <td>...</td>\n",
       "      <td>0.0</td>\n",
       "      <td>0.0</td>\n",
       "      <td>0.0</td>\n",
       "      <td>0.0</td>\n",
       "      <td>0.0</td>\n",
       "      <td>0.0</td>\n",
       "      <td>0.0</td>\n",
       "      <td>0.0</td>\n",
       "      <td>0.0</td>\n",
       "      <td>0.0</td>\n",
       "    </tr>\n",
       "    <tr>\n",
       "      <th>9999</th>\n",
       "      <td>0.0</td>\n",
       "      <td>0.0</td>\n",
       "      <td>0.0</td>\n",
       "      <td>0.0</td>\n",
       "      <td>0.0</td>\n",
       "      <td>0.0</td>\n",
       "      <td>0.0</td>\n",
       "      <td>0.0</td>\n",
       "      <td>0.0</td>\n",
       "      <td>0.0</td>\n",
       "      <td>...</td>\n",
       "      <td>0.0</td>\n",
       "      <td>0.0</td>\n",
       "      <td>0.0</td>\n",
       "      <td>0.0</td>\n",
       "      <td>0.0</td>\n",
       "      <td>0.0</td>\n",
       "      <td>0.0</td>\n",
       "      <td>0.0</td>\n",
       "      <td>0.0</td>\n",
       "      <td>0.0</td>\n",
       "    </tr>\n",
       "  </tbody>\n",
       "</table>\n",
       "<p>10000 rows × 3490 columns</p>\n",
       "</div>"
      ],
      "text/plain": [
       "       00  045blue  0star   10  100  105lb5  10oct  10year  10yo   11  ...  \\\n",
       "0     0.0      0.0    0.0  0.0  0.0     0.0    0.0     0.0   0.0  0.0  ...   \n",
       "1     0.0      0.0    0.0  0.0  0.0     0.0    0.0     0.0   0.0  0.0  ...   \n",
       "2     0.0      0.0    0.0  0.0  0.0     0.0    0.0     0.0   0.0  0.0  ...   \n",
       "3     0.0      0.0    0.0  0.0  0.0     0.0    0.0     0.0   0.0  0.0  ...   \n",
       "4     0.0      0.0    0.0  0.0  0.0     0.0    0.0     0.0   0.0  0.0  ...   \n",
       "...   ...      ...    ...  ...  ...     ...    ...     ...   ...  ...  ...   \n",
       "9995  0.0      0.0    0.0  0.0  0.0     0.0    0.0     0.0   0.0  0.0  ...   \n",
       "9996  0.0      0.0    0.0  0.0  0.0     0.0    0.0     0.0   0.0  0.0  ...   \n",
       "9997  0.0      0.0    0.0  0.0  0.0     0.0    0.0     0.0   0.0  0.0  ...   \n",
       "9998  0.0      0.0    0.0  0.0  0.0     0.0    0.0     0.0   0.0  0.0  ...   \n",
       "9999  0.0      0.0    0.0  0.0  0.0     0.0    0.0     0.0   0.0  0.0  ...   \n",
       "\n",
       "      yuck  yucky  yum  yummysweater  zander  zero  zip  zipno  zipper  zipup  \n",
       "0      0.0    0.0  0.0           0.0     0.0   0.0  0.0    0.0     0.0    0.0  \n",
       "1      0.0    0.0  0.0           0.0     0.0   0.0  0.0    0.0     0.0    0.0  \n",
       "2      0.0    0.0  0.0           0.0     0.0   0.0  0.0    0.0     0.0    0.0  \n",
       "3      0.0    0.0  0.0           0.0     0.0   0.0  0.0    0.0     0.0    0.0  \n",
       "4      0.0    0.0  0.0           0.0     0.0   0.0  0.0    0.0     0.0    0.0  \n",
       "...    ...    ...  ...           ...     ...   ...  ...    ...     ...    ...  \n",
       "9995   0.0    0.0  0.0           0.0     0.0   0.0  0.0    0.0     0.0    0.0  \n",
       "9996   0.0    0.0  0.0           0.0     0.0   0.0  0.0    0.0     0.0    0.0  \n",
       "9997   0.0    0.0  0.0           0.0     0.0   0.0  0.0    0.0     0.0    0.0  \n",
       "9998   0.0    0.0  0.0           0.0     0.0   0.0  0.0    0.0     0.0    0.0  \n",
       "9999   0.0    0.0  0.0           0.0     0.0   0.0  0.0    0.0     0.0    0.0  \n",
       "\n",
       "[10000 rows x 3490 columns]"
      ]
     },
     "execution_count": 73,
     "metadata": {},
     "output_type": "execute_result"
    }
   ],
   "source": [
    "X = pd.DataFrame(Xt.toarray(), columns=tv.get_feature_names_out())\n",
    "X"
   ]
  },
  {
   "cell_type": "code",
   "execution_count": 74,
   "id": "48856a04",
   "metadata": {},
   "outputs": [
    {
     "data": {
      "text/plain": [
       "0       4\n",
       "1       2\n",
       "2       3\n",
       "3       2\n",
       "4       2\n",
       "       ..\n",
       "9995    2\n",
       "9996    2\n",
       "9997    2\n",
       "9998    3\n",
       "9999    4\n",
       "Name: Rating, Length: 10000, dtype: int64"
      ]
     },
     "execution_count": 74,
     "metadata": {},
     "output_type": "execute_result"
    }
   ],
   "source": [
    "y=balanced_df['Rating']\n",
    "y"
   ]
  }
 ],
 "metadata": {
  "kernelspec": {
   "display_name": "Python 3",
   "language": "python",
   "name": "python3"
  },
  "language_info": {
   "codemirror_mode": {
    "name": "ipython",
    "version": 3
   },
   "file_extension": ".py",
   "mimetype": "text/x-python",
   "name": "python",
   "nbconvert_exporter": "python",
   "pygments_lexer": "ipython3",
   "version": "3.13.5"
  }
 },
 "nbformat": 4,
 "nbformat_minor": 5
}
