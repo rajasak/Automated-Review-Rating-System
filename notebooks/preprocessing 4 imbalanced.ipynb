{
 "cells": [
  {
   "cell_type": "code",
   "execution_count": 73,
   "id": "edea627f",
   "metadata": {},
   "outputs": [],
   "source": [
    "import pandas as pd\n",
    "import matplotlib.pyplot as plt\n",
    "import seaborn as sns"
   ]
  },
  {
   "cell_type": "code",
   "execution_count": 97,
   "id": "3c678bee",
   "metadata": {},
   "outputs": [
    {
     "data": {
      "text/html": [
       "<div>\n",
       "<style scoped>\n",
       "    .dataframe tbody tr th:only-of-type {\n",
       "        vertical-align: middle;\n",
       "    }\n",
       "\n",
       "    .dataframe tbody tr th {\n",
       "        vertical-align: top;\n",
       "    }\n",
       "\n",
       "    .dataframe thead th {\n",
       "        text-align: right;\n",
       "    }\n",
       "</style>\n",
       "<table border=\"1\" class=\"dataframe\">\n",
       "  <thead>\n",
       "    <tr style=\"text-align: right;\">\n",
       "      <th></th>\n",
       "      <th>Review</th>\n",
       "      <th>Rating</th>\n",
       "    </tr>\n",
       "  </thead>\n",
       "  <tbody>\n",
       "    <tr>\n",
       "      <th>0</th>\n",
       "      <td>I do love this shirt. It's very flattering and...</td>\n",
       "      <td>4.0</td>\n",
       "    </tr>\n",
       "    <tr>\n",
       "      <th>1</th>\n",
       "      <td>I just received this today. I found the fit to...</td>\n",
       "      <td>5.0</td>\n",
       "    </tr>\n",
       "    <tr>\n",
       "      <th>2</th>\n",
       "      <td>These are NOT Wrangler Willow jeans. These are...</td>\n",
       "      <td>2.0</td>\n",
       "    </tr>\n",
       "    <tr>\n",
       "      <th>3</th>\n",
       "      <td>Great fabric, soft, and 100% giftable!</td>\n",
       "      <td>4.0</td>\n",
       "    </tr>\n",
       "    <tr>\n",
       "      <th>4</th>\n",
       "      <td>I have been looking for a long jacket with per...</td>\n",
       "      <td>5.0</td>\n",
       "    </tr>\n",
       "    <tr>\n",
       "      <th>...</th>\n",
       "      <td>...</td>\n",
       "      <td>...</td>\n",
       "    </tr>\n",
       "    <tr>\n",
       "      <th>17115</th>\n",
       "      <td>I really like these. they're not too distresse...</td>\n",
       "      <td>4.0</td>\n",
       "    </tr>\n",
       "    <tr>\n",
       "      <th>17116</th>\n",
       "      <td>This rich color is so flattering!  i also love...</td>\n",
       "      <td>4.0</td>\n",
       "    </tr>\n",
       "    <tr>\n",
       "      <th>17117</th>\n",
       "      <td>Definitely pj quality. i have a fairly thin fr...</td>\n",
       "      <td>3.0</td>\n",
       "    </tr>\n",
       "    <tr>\n",
       "      <th>17118</th>\n",
       "      <td>After only 5 months, these jeans have started ...</td>\n",
       "      <td>1.0</td>\n",
       "    </tr>\n",
       "    <tr>\n",
       "      <th>17119</th>\n",
       "      <td>I think they are one of the best shorts ever t...</td>\n",
       "      <td>5.0</td>\n",
       "    </tr>\n",
       "  </tbody>\n",
       "</table>\n",
       "<p>17120 rows × 2 columns</p>\n",
       "</div>"
      ],
      "text/plain": [
       "                                                  Review  Rating\n",
       "0      I do love this shirt. It's very flattering and...     4.0\n",
       "1      I just received this today. I found the fit to...     5.0\n",
       "2      These are NOT Wrangler Willow jeans. These are...     2.0\n",
       "3                 Great fabric, soft, and 100% giftable!     4.0\n",
       "4      I have been looking for a long jacket with per...     5.0\n",
       "...                                                  ...     ...\n",
       "17115  I really like these. they're not too distresse...     4.0\n",
       "17116  This rich color is so flattering!  i also love...     4.0\n",
       "17117  Definitely pj quality. i have a fairly thin fr...     3.0\n",
       "17118  After only 5 months, these jeans have started ...     1.0\n",
       "17119  I think they are one of the best shorts ever t...     5.0\n",
       "\n",
       "[17120 rows x 2 columns]"
      ]
     },
     "execution_count": 97,
     "metadata": {},
     "output_type": "execute_result"
    }
   ],
   "source": [
    "df=pd.read_csv('imbalanced_ratio_dataset3.csv')\n",
    "df"
   ]
  },
  {
   "cell_type": "code",
   "execution_count": 98,
   "id": "c7d461c4",
   "metadata": {},
   "outputs": [
    {
     "data": {
      "text/plain": [
       "Rating\n",
       "4.0    5136\n",
       "3.0    4280\n",
       "5.0    3424\n",
       "2.0    2568\n",
       "1.0    1712\n",
       "Name: count, dtype: int64"
      ]
     },
     "execution_count": 98,
     "metadata": {},
     "output_type": "execute_result"
    }
   ],
   "source": [
    "df['Rating'].value_counts()"
   ]
  },
  {
   "cell_type": "code",
   "execution_count": 168,
   "id": "8061c9a3",
   "metadata": {},
   "outputs": [
    {
     "name": "stdout",
     "output_type": "stream",
     "text": [
      "📉 Minimum word count per Rating:\n",
      "Rating\n",
      "1.0    1\n",
      "2.0    1\n",
      "3.0    1\n",
      "4.0    1\n",
      "5.0    1\n",
      "Name: word_count, dtype: int64\n"
     ]
    }
   ],
   "source": [
    "# Create a new column for word count\n",
    "df['word_count'] = df['Review'].apply(lambda x: len(str(x).split()))\n",
    "\n",
    "# Group by Rating and find the minimum word count\n",
    "min_word_count_per_rating = df.groupby('Rating')['word_count'].min()\n",
    "\n",
    "# Display the result\n",
    "print(\"📉 Minimum word count per Rating:\")\n",
    "print(min_word_count_per_rating)"
   ]
  },
  {
   "cell_type": "code",
   "execution_count": 169,
   "id": "dbc2c096",
   "metadata": {},
   "outputs": [
    {
     "name": "stdout",
     "output_type": "stream",
     "text": [
      " Max word count per Rating:\n",
      "Rating\n",
      "1.0    241\n",
      "2.0    515\n",
      "3.0    478\n",
      "4.0    401\n",
      "5.0    435\n",
      "Name: word_count, dtype: int64\n"
     ]
    }
   ],
   "source": [
    "# Create a new column for word count\n",
    "df['word_count'] = df['Review'].apply(lambda x: len(str(x).split()))\n",
    "\n",
    "\n",
    "max_word_count_per_rating = df.groupby('Rating')['word_count'].max()\n",
    "\n",
    "# Display the result\n",
    "print(\" Max word count per Rating:\")\n",
    "print(max_word_count_per_rating)"
   ]
  },
  {
   "cell_type": "code",
   "execution_count": 104,
   "id": "3ed5a1e3",
   "metadata": {},
   "outputs": [
    {
     "name": "stdout",
     "output_type": "stream",
     "text": [
      " Minimum word count for Rating 1: 1\n",
      " Reviews with minimum word count:\n",
      "            Review  word_count\n",
      "369          Small           1\n",
      "4814     Worthless           1\n",
      "6016          Yuck           1\n",
      "7228          Ugly           1\n",
      "7709       Massive           1\n",
      "10518     Returned           1\n",
      "10788  See-through           1\n"
     ]
    }
   ],
   "source": [
    "# Specify the rating you're interested in\n",
    "target_rating = 1\n",
    "\n",
    "# Ensure Rating column is numeric\n",
    "df['Rating'] = pd.to_numeric(df['Rating'], errors='coerce')\n",
    "\n",
    "# Drop rows with missing Review or Rating\n",
    "df = df.dropna(subset=['Review', 'Rating'])\n",
    "\n",
    "# Create a word count column\n",
    "df['word_count'] = df['Review'].apply(lambda x: len(str(x).split()))\n",
    "\n",
    "# Filter for the target rating\n",
    "rating_df = df[df['Rating'] == target_rating]\n",
    "\n",
    "# Get the minimum word count for that rating\n",
    "min_word_count = rating_df['word_count'].min()\n",
    "\n",
    "# Get the reviews with that minimum word count\n",
    "min_reviews = rating_df[rating_df['word_count'] == min_word_count]\n",
    "\n",
    "# Display\n",
    "print(f\" Minimum word count for Rating {target_rating}: {min_word_count}\")\n",
    "print(\" Reviews with minimum word count:\")\n",
    "print(min_reviews[['Review', 'word_count']])\n"
   ]
  },
  {
   "cell_type": "code",
   "execution_count": 161,
   "id": "824b1c92",
   "metadata": {},
   "outputs": [
    {
     "name": "stdout",
     "output_type": "stream",
     "text": [
      " Max word count for Rating 1: 241\n",
      " Reviews with max word count:\n",
      "                                                                                                                                                                                                                                                                                                                                                                                                                                                                                                                                                                                                                                                                                                                                                                                                                                                                                                                                                                                                                                                                                                                                                                                                                                                                                                                                               Review  \\\n",
      "1385  Received 19 November. Worn on 27 November 2020SHOCKED! I expect a global brand like Nautica to give value for money for a  $50 Pyjama set. Extremely poor finish. I have attached photos.1. The stitching was not aligned, I have a bump in my pyjama shirt front bottom on the outside as the stitching jammed and puckered the cloth outside for more than 4 inches.2. The whole shirt has loose threads hanging out where the cloth ends.3. The inside part has been cut by some grade 2 kid - I have enclosed photo of the hem line where the cloth is showing zig zg lines of uneven cut.4. last photo shows long threads inside the sleev - i felt like some slimy worms had crept inside my shoulder...And i must say the buttons used are small shirt buttons instead of the usual bigger buttons on Pyjama shirts. The drawstring in the pyjama bottom is synthetic which slips and opens the knot - my pajamas almost dropped in front of my 20 year old sister in law.Since I had the order shipped to me overseas it cost me additional $58.52 for shipping and import duties ie almost $99 for a Nautica sleepwear. I bought it for the Nautica brand and there is no chance I can return it as it will cost me a lot tfor return shipping and loss of import duties.Buy your PJs at a $10 discount store. Very very disappointed!   \n",
      "\n",
      "      word_count  \n",
      "1385         241  \n"
     ]
    }
   ],
   "source": [
    "# Specify the rating you're interested in\n",
    "target_rating = 1\n",
    "\n",
    "# Ensure Rating column is numeric\n",
    "df['Rating'] = pd.to_numeric(df['Rating'], errors='coerce')\n",
    "\n",
    "# Drop rows with missing Review or Rating\n",
    "df = df.dropna(subset=['Review', 'Rating'])\n",
    "\n",
    "# Create a word count column\n",
    "df['word_count'] = df['Review'].apply(lambda x: len(str(x).split()))\n",
    "\n",
    "# Filter for the target rating\n",
    "rating_df = df[df['Rating'] == target_rating]\n",
    "\n",
    "# Get the max word count for that rating\n",
    "max_word_count = rating_df['word_count'].max()\n",
    "\n",
    "# Get the reviews with that max word count\n",
    "max_reviews = rating_df[rating_df['word_count'] == max_word_count]\n",
    "\n",
    "# Display\n",
    "print(f\" Max word count for Rating {target_rating}: {max_word_count}\")\n",
    "print(\" Reviews with max word count:\")\n",
    "print(max_reviews[['Review', 'word_count']])\n"
   ]
  },
  {
   "cell_type": "code",
   "execution_count": 160,
   "id": "8bb891d4",
   "metadata": {},
   "outputs": [],
   "source": [
    "pd.set_option('display.max_colwidth',None)"
   ]
  },
  {
   "cell_type": "markdown",
   "id": "7a9e1793",
   "metadata": {},
   "source": [
    "## visualization of imbalanced data set"
   ]
  },
  {
   "cell_type": "code",
   "execution_count": 105,
   "id": "8fc8f040",
   "metadata": {},
   "outputs": [
    {
     "data": {
      "image/png": "[encoded data removed]",
      "text/plain": [
       "<Figure size 600x600 with 1 Axes>"
      ]
     },
     "metadata": {},
     "output_type": "display_data"
    }
   ],
   "source": [
    "rating_counts = df['Rating'].value_counts().sort_index()\n",
    "plt.figure(figsize=(6, 6))\n",
    "plt.pie(rating_counts, labels=rating_counts.index, autopct='%1.1f%%', startangle=140)\n",
    "plt.title(\"Rating Distribution\")\n",
    "plt.show()"
   ]
  },
  {
   "cell_type": "code",
   "execution_count": 106,
   "id": "b781c0ef",
   "metadata": {},
   "outputs": [
    {
     "name": "stderr",
     "output_type": "stream",
     "text": [
      "C:\\Users\\LENOVO\\AppData\\Local\\Temp\\ipykernel_12484\\3926856831.py:2: FutureWarning: \n",
      "\n",
      "Passing `palette` without assigning `hue` is deprecated and will be removed in v0.14.0. Assign the `x` variable to `hue` and set `legend=False` for the same effect.\n",
      "\n",
      "  sns.countplot(x='Rating', data=df, palette='viridis')\n"
     ]
    },
    {
     "data": {
      "image/png": "[encoded data removed]",
      "text/plain": [
       "<Figure size 800x500 with 1 Axes>"
      ]
     },
     "metadata": {},
     "output_type": "display_data"
    }
   ],
   "source": [
    "plt.figure(figsize=(8, 5))\n",
    "sns.countplot(x='Rating', data=df, palette='viridis')\n",
    "plt.title(\"Number of Reviews per Rating\")\n",
    "plt.xlabel(\"Rating\")\n",
    "plt.ylabel(\"Count\")\n",
    "plt.show()"
   ]
  },
  {
   "cell_type": "code",
   "execution_count": 107,
   "id": "a59968c9",
   "metadata": {},
   "outputs": [
    {
     "name": "stderr",
     "output_type": "stream",
     "text": [
      "C:\\Users\\LENOVO\\AppData\\Local\\Temp\\ipykernel_12484\\2378602375.py:6: FutureWarning: \n",
      "\n",
      "Passing `palette` without assigning `hue` is deprecated and will be removed in v0.14.0. Assign the `x` variable to `hue` and set `legend=False` for the same effect.\n",
      "\n",
      "  sns.boxplot(x='Rating', y='Word_Count', data=df, palette='Set2')\n"
     ]
    },
    {
     "data": {
      "image/png": "[encoded data removed]",
      "text/plain": [
       "<Figure size 1000x600 with 1 Axes>"
      ]
     },
     "metadata": {},
     "output_type": "display_data"
    },
    {
     "name": "stderr",
     "output_type": "stream",
     "text": [
      "C:\\Users\\LENOVO\\AppData\\Local\\Temp\\ipykernel_12484\\2378602375.py:18: UserWarning: No artists with labels found to put in legend.  Note that artists whose label start with an underscore are ignored when legend() is called with no argument.\n",
      "  plt.legend(title='Rating')\n"
     ]
    },
    {
     "data": {
      "image/png": "[encoded data removed]",
      "text/plain": [
       "<Figure size 1200x600 with 1 Axes>"
      ]
     },
     "metadata": {},
     "output_type": "display_data"
    }
   ],
   "source": [
    "# STEP 1: Add a word count column\n",
    "df['Word_Count'] = df['Review'].astype(str).apply(lambda x: len(x.split()))\n",
    "\n",
    "# STEP 2: Box Plot — Word Count Distribution by Rating\n",
    "plt.figure(figsize=(10, 6))\n",
    "sns.boxplot(x='Rating', y='Word_Count', data=df, palette='Set2')\n",
    "plt.title(\" Box Plot: Word Count Distribution by Rating\")\n",
    "plt.xlabel(\"Rating\")\n",
    "plt.ylabel(\"Word Count\")\n",
    "plt.show()\n",
    "\n",
    "# STEP 3: Histogram — Word Count by Rating\n",
    "plt.figure(figsize=(12, 6))\n",
    "sns.histplot(data=df, x='Word_Count', hue='Rating', multiple='stack', palette='Set2', bins=30)\n",
    "plt.title(\" Histogram: Word Count Distribution by Rating\")\n",
    "plt.xlabel(\"Word Count\")\n",
    "plt.ylabel(\"Number of Reviews\")\n",
    "plt.legend(title='Rating')\n",
    "plt.show()"
   ]
  },
  {
   "cell_type": "code",
   "execution_count": 108,
   "id": "37d2a16e",
   "metadata": {},
   "outputs": [
    {
     "name": "stdout",
     "output_type": "stream",
     "text": [
      " Total Word Count per Rating:\n",
      "\n",
      "Rating\n",
      "1.0     58703\n",
      "2.0    118107\n",
      "3.0    214565\n",
      "4.0    266250\n",
      "5.0    135999\n",
      "Name: Word_Count, dtype: int64\n"
     ]
    }
   ],
   "source": [
    "word_count_by_rating = df.groupby('Rating')['Word_Count'].sum()\n",
    "\n",
    "# Step 3: Display the result\n",
    "print(\" Total Word Count per Rating:\\n\")\n",
    "print(word_count_by_rating)"
   ]
  },
  {
   "cell_type": "code",
   "execution_count": 109,
   "id": "6be16200",
   "metadata": {},
   "outputs": [
    {
     "name": "stderr",
     "output_type": "stream",
     "text": [
      "C:\\Users\\LENOVO\\AppData\\Local\\Temp\\ipykernel_12484\\1579722604.py:3: FutureWarning: \n",
      "\n",
      "Passing `palette` without assigning `hue` is deprecated and will be removed in v0.14.0. Assign the `x` variable to `hue` and set `legend=False` for the same effect.\n",
      "\n",
      "  sns.barplot(data=word_count_by_rating, x='Rating', y='Word_Count', palette='viridis')\n"
     ]
    },
    {
     "data": {
      "image/png": "[encoded data removed]",
      "text/plain": [
       "<Figure size 800x500 with 1 Axes>"
      ]
     },
     "metadata": {},
     "output_type": "display_data"
    }
   ],
   "source": [
    "word_count_by_rating = df.groupby('Rating')['Word_Count'].sum().reset_index()\n",
    "plt.figure(figsize=(8, 5))\n",
    "sns.barplot(data=word_count_by_rating, x='Rating', y='Word_Count', palette='viridis')\n",
    "plt.title(\" Total Word Count per Rating\")\n",
    "plt.xlabel(\"Rating\")\n",
    "plt.ylabel(\"Total Word Count\")\n",
    "plt.grid(True)\n",
    "plt.show()"
   ]
  },
  {
   "cell_type": "markdown",
   "id": "c35d5602",
   "metadata": {},
   "source": [
    "## samples of each rating in imbalanced dataset"
   ]
  },
  {
   "cell_type": "code",
   "execution_count": 110,
   "id": "d3c8ff32",
   "metadata": {},
   "outputs": [
    {
     "name": "stdout",
     "output_type": "stream",
     "text": [
      "\n",
      " Showing 5 sample reviews for Rating 1:\n",
      "\n",
      "1. I wore these pants to work and looked great! however the first time i put them through the wash they became all discolored and are completely stained and now are unwearable. very disappointing. did not spend that much money to wear a pair of pants once.\n",
      "\n",
      "2. This sweater is enormous. I expected it to be oversized, but I ordered a size small (5’6, 125lbs) and it fit like an XL. The sweater also had a very bad smell to it. Returning.\n",
      "\n",
      "3. This thing runs extremely hot, is massively oversized, and doesn’t feel soft and silky on the inside at all. Returning it.\n",
      "\n",
      "4. Absolutely no stretch, very stiff and thick material, way too short, and shrinks quickly. Selling this item on Poshmark if anyone is interested at a discounted price @homeandcloset.\n",
      "\n",
      "5. Retailer consistently provides unique, sophisticated and quality made clothing. with the exception of an occasional purchase at their sister companies, i shop with them exclusively. i suppose that i can't expect 100% perfection from retailer-but 99% of the time-that's what i get. this is that 1%...this sweater is truly awful! i cannot (or find it very difficult at least) begin to describe what this sweater is like but it is so unlike retailer that, had it not been for the distinct pattern on the front\n",
      "\n"
     ]
    }
   ],
   "source": [
    "# Choose how many reviews to display\n",
    "n = 5\n",
    "\n",
    "# Choose the rating you want to see (1 to 5)\n",
    "rating = 1\n",
    "\n",
    "# Filter reviews of the selected rating\n",
    "filtered_reviews = df[df['Rating'] == rating]['Review'].dropna()\n",
    "\n",
    "# Sample 'n' reviews \n",
    "sample_reviews = filtered_reviews.sample(n=min(n, len(filtered_reviews)), random_state=42)\n",
    "\n",
    "# Print the reviews\n",
    "print(f\"\\n Showing {min(n, len(filtered_reviews))} sample reviews for Rating {rating}:\\n\")\n",
    "for i, review in enumerate(sample_reviews, 1):\n",
    "    print(f\"{i}. {review}\\n\")"
   ]
  },
  {
   "cell_type": "code",
   "execution_count": 111,
   "id": "2d9523c0",
   "metadata": {},
   "outputs": [
    {
     "name": "stdout",
     "output_type": "stream",
     "text": [
      "\n",
      " Showing 5 sample reviews for Rating 2:\n",
      "\n",
      "1. The  color  was  not  white  it was off white  and  the  fabric was very  flimsy\n",
      "\n",
      "2. This is such a beautiful dress.  but have to return for the reasons others have noted.  the chest does not fit well.\n",
      "\n",
      "3. not perma press!has to be ironed!\n",
      "\n",
      "4. I like the design of the dress, but the fabric makes it look cheap. for an expensive dress, i had expected better quality.\n",
      "\n",
      "5. Must return. It looked just right on the model and an embarrassment on me. Even after wash/dry on delicate and immediate dryer removal it was too wrinkled to wear without ironing. Reread the fabric description on Amazon...says \"polyester and spandex\", but the tag on the blouse includes RAYON. This would have to be ironed before wearing. Sooo disappointing.\n",
      "\n"
     ]
    }
   ],
   "source": [
    "# Choose how many reviews to display\n",
    "n = 5\n",
    "\n",
    "# Choose the rating you want to see (1 to 5)\n",
    "rating = 2\n",
    "\n",
    "# Filter reviews of the selected rating\n",
    "filtered_reviews = df[df['Rating'] == rating]['Review'].dropna()\n",
    "\n",
    "# Sample 'n' reviews \n",
    "sample_reviews = filtered_reviews.sample(n=min(n, len(filtered_reviews)), random_state=42)\n",
    "\n",
    "# Print the reviews\n",
    "print(f\"\\n Showing {min(n, len(filtered_reviews))} sample reviews for Rating {rating}:\\n\")\n",
    "for i, review in enumerate(sample_reviews, 1):\n",
    "    print(f\"{i}. {review}\\n\")"
   ]
  },
  {
   "cell_type": "code",
   "execution_count": 112,
   "id": "35115e6b",
   "metadata": {},
   "outputs": [
    {
     "name": "stdout",
     "output_type": "stream",
     "text": [
      "\n",
      " Showing 5 sample reviews for Rating 3:\n",
      "\n",
      "1. Couldn't wait for this sweater to arrive. i love oversized sweaters for the fall! unfortunately this sweater is extremely itchy that it has to be returned :(\n",
      "\n",
      "2. As much as i had wanted this to work for me, it didn't. fabric is not as soft as i had expected and quality is just bad. i purchased this online (on sale at $29.95) and i had envisioned this to be comfy stretchy and swingy with a flow. i sent this back to the store as it didn't seem fit even at the low price.\n",
      "\n",
      "3. I wore it.  Probably will find its way into a give-away bag.  Just too swingy; too much fabric.  Not for the short gals; not for the busty gals; not for the self-conscious \"hope no one is staring at my middle\" gals.\n",
      "\n",
      "4. Ordered medium as usual, way small\n",
      "\n",
      "5. I first have to agree with other reviewers about the quality of this sweater: the stitch is pretty, but the fabric isn't nearly as soft as i expected. it has the look and feel of a cheaper sweater. that said, the fit is pretty flattering. i didn't have any problem getting the cowl over my shoulders as pictured by the model. i've been looking for this style of sweater, so i'll probably keep it. however, it really didn't meet my expectations for quality.\n",
      "\n"
     ]
    }
   ],
   "source": [
    "# Choose how many reviews to display\n",
    "n = 5\n",
    "\n",
    "# Choose the rating you want to see (1 to 5)\n",
    "rating = 3\n",
    "\n",
    "# Filter reviews of the selected rating\n",
    "filtered_reviews = df[df['Rating'] == rating]['Review'].dropna()\n",
    "\n",
    "# Sample 'n' reviews \n",
    "sample_reviews = filtered_reviews.sample(n=min(n, len(filtered_reviews)), random_state=42)\n",
    "\n",
    "# Print the reviews\n",
    "print(f\"\\n Showing {min(n, len(filtered_reviews))} sample reviews for Rating {rating}:\\n\")\n",
    "for i, review in enumerate(sample_reviews, 1):\n",
    "    print(f\"{i}. {review}\\n\")"
   ]
  },
  {
   "cell_type": "code",
   "execution_count": 113,
   "id": "a9d45791",
   "metadata": {},
   "outputs": [
    {
     "name": "stdout",
     "output_type": "stream",
     "text": [
      "\n",
      " Showing 5 sample reviews for Rating 4:\n",
      "\n",
      "1. I was looking for some comfortable but still stylish shorts for the weekend. these hit the mark!\n",
      "\n",
      "2. Las medidas se ajustan perfectamente con la realidad\n",
      "\n",
      "3. Ordered both the black and white and ordered both in 0 and p2. preferred the black over white and the p2 fit the best. however, they reminded me too much of a maternity top so they both went back. \n",
      "if you order you will need to wear a cami underneath?at least i would. not a terrible top, just not for me.\n",
      "\n",
      "4. Just note the pink is different than in the photos. much hotter/more saturated. apart from that surprise, overall i'd recommend. nice design.\n",
      "\n",
      "5. Like another reviewer said this was too baggy up top. the bottom length was good but arm holes were big and top was just too large. i'm 5'5\" 110 lbs and got xs. returned.\n",
      "\n"
     ]
    }
   ],
   "source": [
    "# Choose how many reviews to display\n",
    "n = 5\n",
    "\n",
    "# Choose the rating you want to see (1 to 5)\n",
    "rating = 4\n",
    "\n",
    "# Filter reviews of the selected rating\n",
    "filtered_reviews = df[df['Rating'] == rating]['Review'].dropna()\n",
    "\n",
    "# Sample 'n' reviews \n",
    "sample_reviews = filtered_reviews.sample(n=min(n, len(filtered_reviews)), random_state=42)\n",
    "\n",
    "# Print the reviews\n",
    "print(f\"\\n Showing {min(n, len(filtered_reviews))} sample reviews for Rating {rating}:\\n\")\n",
    "for i, review in enumerate(sample_reviews, 1):\n",
    "    print(f\"{i}. {review}\\n\")"
   ]
  },
  {
   "cell_type": "code",
   "execution_count": 114,
   "id": "9a2758ce",
   "metadata": {},
   "outputs": [
    {
     "name": "stdout",
     "output_type": "stream",
     "text": [
      "\n",
      " Showing 5 sample reviews for Rating 5:\n",
      "\n",
      "1. Fit like regular wranglers but with some added stretch in the waits for those thanksgiving dinners!\n",
      "\n",
      "2. I saw this duster and immediately ordered it in cream. i have worn it every chance i get. it goes well with dresses as well as shorts or jeans. the length is perfect, the design is flattering, and the material is soft and comfortable. the sleeves are snug- but i like this feature, especially for light weight summer use over a tank top or sleeveless blouse. this will be a go to item. thanks retailer- another gem!\n",
      "\n",
      "3. good fabric greatfit and the price is right\n",
      "\n",
      "4. Very nice.  Material is comfortable.\n",
      "\n",
      "5. So I knew that the pajama bottoms had squirrels on them, but no idea that those squirrels were wearing scarves, ear muffs, Santa hats and booties!  I adore the pattern!  I ordered the size L because I like my jammies loose.  I’d say that the sizing runs a little small because I thought the top might be a little too big (I’m bigger on the bottom than the top), but it’s not - it fits perfectly.\n",
      "\n"
     ]
    }
   ],
   "source": [
    "# Choose how many reviews to display\n",
    "n = 5\n",
    "\n",
    "# Choose the rating you want to see (1 to 5)\n",
    "rating = 5\n",
    "\n",
    "# Filter reviews of the selected rating\n",
    "filtered_reviews = df[df['Rating'] == rating]['Review'].dropna()\n",
    "\n",
    "# Sample 'n' reviews \n",
    "sample_reviews = filtered_reviews.sample(n=min(n, len(filtered_reviews)), random_state=42)\n",
    "\n",
    "# Print the reviews\n",
    "print(f\"\\n Showing {min(n, len(filtered_reviews))} sample reviews for Rating {rating}:\\n\")\n",
    "for i, review in enumerate(sample_reviews, 1):\n",
    "    print(f\"{i}. {review}\\n\")"
   ]
  },
  {
   "cell_type": "markdown",
   "id": "04c5adae",
   "metadata": {},
   "source": [
    "## train and test split"
   ]
  },
  {
   "cell_type": "code",
   "execution_count": 115,
   "id": "ab6fe578",
   "metadata": {},
   "outputs": [],
   "source": [
    "# Shuffle the balanced DataFrame\n",
    "df = df.sample(frac=1, random_state=42).reset_index(drop=True)"
   ]
  },
  {
   "cell_type": "code",
   "execution_count": 116,
   "id": "d942945a",
   "metadata": {},
   "outputs": [],
   "source": [
    "from sklearn.model_selection import train_test_split"
   ]
  },
  {
   "cell_type": "code",
   "execution_count": 117,
   "id": "d46070b1",
   "metadata": {},
   "outputs": [],
   "source": [
    "x=df['Review']\n",
    "y=df['Rating']"
   ]
  },
  {
   "cell_type": "code",
   "execution_count": 118,
   "id": "ecf68f73",
   "metadata": {},
   "outputs": [],
   "source": [
    "X_train, X_test, y_train, y_test = train_test_split(\n",
    "    x, y, test_size=0.2, random_state=42, stratify=y\n",
    ")"
   ]
  },
  {
   "cell_type": "markdown",
   "id": "fbe2c72a",
   "metadata": {},
   "source": [
    "## visualization of y_train and y_test"
   ]
  },
  {
   "cell_type": "code",
   "execution_count": 119,
   "id": "3825f929",
   "metadata": {},
   "outputs": [
    {
     "data": {
      "text/plain": [
       "Rating\n",
       "4.0    4109\n",
       "3.0    3424\n",
       "5.0    2739\n",
       "2.0    2054\n",
       "1.0    1370\n",
       "Name: count, dtype: int64"
      ]
     },
     "execution_count": 119,
     "metadata": {},
     "output_type": "execute_result"
    }
   ],
   "source": [
    "y_train.value_counts()"
   ]
  },
  {
   "cell_type": "code",
   "execution_count": 120,
   "id": "cf018245",
   "metadata": {},
   "outputs": [],
   "source": [
    "train_df = pd.DataFrame({'Review': X_train, 'Rating': y_train})"
   ]
  },
  {
   "cell_type": "code",
   "execution_count": 121,
   "id": "f1aa907d",
   "metadata": {},
   "outputs": [
    {
     "name": "stderr",
     "output_type": "stream",
     "text": [
      "C:\\Users\\LENOVO\\AppData\\Local\\Temp\\ipykernel_12484\\2621185537.py:2: FutureWarning: \n",
      "\n",
      "Passing `palette` without assigning `hue` is deprecated and will be removed in v0.14.0. Assign the `x` variable to `hue` and set `legend=False` for the same effect.\n",
      "\n",
      "  sns.countplot(x='Rating', data=train_df, palette='viridis')\n"
     ]
    },
    {
     "data": {
      "image/png": "[encoded data removed]",
      "text/plain": [
       "<Figure size 800x500 with 1 Axes>"
      ]
     },
     "metadata": {},
     "output_type": "display_data"
    }
   ],
   "source": [
    "plt.figure(figsize=(8, 5))\n",
    "sns.countplot(x='Rating', data=train_df, palette='viridis')\n",
    "plt.title(\"Number of Reviews per Rating\")\n",
    "plt.xlabel(\"Rating\")\n",
    "plt.ylabel(\"Count\")\n",
    "plt.show()"
   ]
  },
  {
   "cell_type": "code",
   "execution_count": 122,
   "id": "f26fcd36",
   "metadata": {},
   "outputs": [],
   "source": [
    "train_df['Word_Count'] = train_df['Review'].astype(str).apply(lambda x: len(x.split()))"
   ]
  },
  {
   "cell_type": "code",
   "execution_count": 123,
   "id": "9646c697",
   "metadata": {},
   "outputs": [
    {
     "name": "stderr",
     "output_type": "stream",
     "text": [
      "C:\\Users\\LENOVO\\AppData\\Local\\Temp\\ipykernel_12484\\3536735248.py:3: FutureWarning: \n",
      "\n",
      "Passing `palette` without assigning `hue` is deprecated and will be removed in v0.14.0. Assign the `x` variable to `hue` and set `legend=False` for the same effect.\n",
      "\n",
      "  sns.barplot(data=word_count_by_rating, x='Rating', y='Word_Count', palette='viridis')\n"
     ]
    },
    {
     "data": {
      "image/png": "[encoded data removed]",
      "text/plain": [
       "<Figure size 800x500 with 1 Axes>"
      ]
     },
     "metadata": {},
     "output_type": "display_data"
    }
   ],
   "source": [
    "word_count_by_rating = train_df.groupby('Rating')['Word_Count'].sum().reset_index()\n",
    "plt.figure(figsize=(8, 5))\n",
    "sns.barplot(data=word_count_by_rating, x='Rating', y='Word_Count', palette='viridis')\n",
    "plt.title(\" Total Word Count per Rating\")\n",
    "plt.xlabel(\"Rating\")\n",
    "plt.ylabel(\"Total Word Count\")\n",
    "plt.grid(True)\n",
    "plt.show()"
   ]
  },
  {
   "cell_type": "code",
   "execution_count": 124,
   "id": "6b0e436d",
   "metadata": {},
   "outputs": [
    {
     "data": {
      "text/plain": [
       "Rating\n",
       "4.0    1027\n",
       "3.0     856\n",
       "5.0     685\n",
       "2.0     514\n",
       "1.0     342\n",
       "Name: count, dtype: int64"
      ]
     },
     "execution_count": 124,
     "metadata": {},
     "output_type": "execute_result"
    }
   ],
   "source": [
    "y_test.value_counts()"
   ]
  },
  {
   "cell_type": "code",
   "execution_count": 125,
   "id": "b15fc9e5",
   "metadata": {},
   "outputs": [],
   "source": [
    "test_df = pd.DataFrame({'Review': X_test, 'Rating': y_test})"
   ]
  },
  {
   "cell_type": "code",
   "execution_count": 126,
   "id": "d7e158fa",
   "metadata": {},
   "outputs": [
    {
     "name": "stderr",
     "output_type": "stream",
     "text": [
      "C:\\Users\\LENOVO\\AppData\\Local\\Temp\\ipykernel_12484\\574291667.py:2: FutureWarning: \n",
      "\n",
      "Passing `palette` without assigning `hue` is deprecated and will be removed in v0.14.0. Assign the `x` variable to `hue` and set `legend=False` for the same effect.\n",
      "\n",
      "  sns.countplot(x='Rating', data=test_df, palette='viridis')\n"
     ]
    },
    {
     "data": {
      "image/png": "[encoded data removed]",
      "text/plain": [
       "<Figure size 800x500 with 1 Axes>"
      ]
     },
     "metadata": {},
     "output_type": "display_data"
    }
   ],
   "source": [
    "plt.figure(figsize=(8, 5))\n",
    "sns.countplot(x='Rating', data=test_df, palette='viridis')\n",
    "plt.title(\"Number of Reviews per Rating\")\n",
    "plt.xlabel(\"Rating\")\n",
    "plt.ylabel(\"Count\")\n",
    "plt.show()"
   ]
  },
  {
   "cell_type": "code",
   "execution_count": 127,
   "id": "70b45f24",
   "metadata": {},
   "outputs": [],
   "source": [
    "test_df['Word_Count'] = test_df['Review'].astype(str).apply(lambda x: len(x.split()))"
   ]
  },
  {
   "cell_type": "code",
   "execution_count": 128,
   "id": "e13186d9",
   "metadata": {},
   "outputs": [
    {
     "name": "stderr",
     "output_type": "stream",
     "text": [
      "C:\\Users\\LENOVO\\AppData\\Local\\Temp\\ipykernel_12484\\4258918706.py:3: FutureWarning: \n",
      "\n",
      "Passing `palette` without assigning `hue` is deprecated and will be removed in v0.14.0. Assign the `x` variable to `hue` and set `legend=False` for the same effect.\n",
      "\n",
      "  sns.barplot(data=word_count_by_rating, x='Rating', y='Word_Count', palette='viridis')\n"
     ]
    },
    {
     "data": {
      "image/png": "[encoded data removed]",
      "text/plain": [
       "<Figure size 800x500 with 1 Axes>"
      ]
     },
     "metadata": {},
     "output_type": "display_data"
    }
   ],
   "source": [
    "word_count_by_rating = test_df.groupby('Rating')['Word_Count'].sum().reset_index()\n",
    "plt.figure(figsize=(8, 5))\n",
    "sns.barplot(data=word_count_by_rating, x='Rating', y='Word_Count', palette='viridis')\n",
    "plt.title(\" Total Word Count per Rating\")\n",
    "plt.xlabel(\"Rating\")\n",
    "plt.ylabel(\"Total Word Count\")\n",
    "plt.grid(True)\n",
    "plt.show()"
   ]
  },
  {
   "cell_type": "markdown",
   "id": "cb841f8e",
   "metadata": {},
   "source": [
    "## samples of each rating in test dataset"
   ]
  },
  {
   "cell_type": "code",
   "execution_count": 129,
   "id": "88a4ff9b",
   "metadata": {},
   "outputs": [
    {
     "name": "stdout",
     "output_type": "stream",
     "text": [
      "\n",
      " Showing 5 sample reviews for Rating 1:\n",
      "\n",
      "1. This shirt didn’t fit correctly so I returned it. I dropped it off at UPS 8/2 and they never refunded me.\n",
      "\n",
      "2. I really liked this shirt the one time i got to wear it...but when i washed it, according to the directions on the tag, it shrunk! a lot! the sleeves are now too tight, and it is much shorter. thinking about returning it to the store, but in any case, i cannot wear it again.\n",
      "\n",
      "3. I have the purple jacket is short on sleeves and pants were short to very disappointed I have the black,red and grey and they fitted perfectly I don’t understand why this purple suit was made like this and they are all the same size smh\n",
      "\n",
      "4. Oh I am so, so, sad. I thought I had found the perfect jeans. I bought a pair about a year ago and loved them. So, I ordered these. Imagine my surprise when I realized there were no front pockets. I mean. Really? I do not want to carry a purse or wear more layers of clothes. I want to feel skinny in a pair of jeans, and have pockets. Disappointing.\n",
      "\n",
      "5. It was too big for my daughter, I returned it from UPS and so far I haven't received the credit to get another one.\n",
      "\n"
     ]
    }
   ],
   "source": [
    "# Choose how many reviews to display\n",
    "n = 5\n",
    "\n",
    "# Choose the rating you want to see (1 to 5)\n",
    "rating = 1\n",
    "\n",
    "# Filter reviews of the selected rating\n",
    "filtered_reviews = test_df[test_df['Rating'] == rating]['Review'].dropna()\n",
    "\n",
    "# Sample 'n' reviews \n",
    "sample_reviews = filtered_reviews.sample(n=min(n, len(filtered_reviews)), random_state=42)\n",
    "\n",
    "# Print the reviews\n",
    "print(f\"\\n Showing {min(n, len(filtered_reviews))} sample reviews for Rating {rating}:\\n\")\n",
    "for i, review in enumerate(sample_reviews, 1):\n",
    "    print(f\"{i}. {review}\\n\")\n"
   ]
  },
  {
   "cell_type": "code",
   "execution_count": 130,
   "id": "5020fa83",
   "metadata": {},
   "outputs": [
    {
     "name": "stdout",
     "output_type": "stream",
     "text": [
      "\n",
      " Showing 5 sample reviews for Rating 2:\n",
      "\n",
      "1. 👎🏻\n",
      "\n",
      "2. Material to heavy for summer.\n",
      "\n",
      "3. Based on the other reviews, i sized down from my usual 6p to a 2p, but this dress was still ridiculously huge and extremely unflattering. i could tell the minute i took it out of the package it wouldn't work. i can't imagine this would flatter very many people. the front photo of the model is incredibly deceptive. very disappointed--this will be going back for sure.\n",
      "\n",
      "4. Advertised as loose fit, but definitely snug and way too short.\n",
      "\n",
      "5. Not too fond of the material and the way it looks like a rain coat\n",
      "\n"
     ]
    }
   ],
   "source": [
    "# Choose how many reviews to display\n",
    "n = 5\n",
    "\n",
    "# Choose the rating you want to see (1 to 5)\n",
    "rating = 2\n",
    "\n",
    "# Filter reviews of the selected rating\n",
    "filtered_reviews = test_df[test_df['Rating'] == rating]['Review'].dropna()\n",
    "\n",
    "# Sample 'n' reviews \n",
    "sample_reviews = filtered_reviews.sample(n=min(n, len(filtered_reviews)), random_state=42)\n",
    "\n",
    "# Print the reviews\n",
    "print(f\"\\n Showing {min(n, len(filtered_reviews))} sample reviews for Rating {rating}:\\n\")\n",
    "for i, review in enumerate(sample_reviews, 1):\n",
    "    print(f\"{i}. {review}\\n\")\n"
   ]
  },
  {
   "cell_type": "code",
   "execution_count": 131,
   "id": "cca2ff20",
   "metadata": {},
   "outputs": [
    {
     "name": "stdout",
     "output_type": "stream",
     "text": [
      "\n",
      " Showing 5 sample reviews for Rating 3:\n",
      "\n",
      "1. Pants were fine but pockets ripped immediately. Only buy if you know how to sew.\n",
      "\n",
      "2. I love the fabric however the overall fit did not work for me. \n",
      "i think the arms are much smaller than the overall shirt.\n",
      "\n",
      "3. The look and feel of the swim trunks are great but the quality should be higher for the price. After one wash and wear the waist band stitching started to come loose. I would expect some wear and tear after several uses but not after one.\n",
      "\n",
      "4. Did not like fabric, does not drape well.\n",
      "\n",
      "5. The wrong color was sent to me. I kept them anyways, but I’m not crazy about the fit of these. The tag on the outside waistband somehow digs up into my skin when i sit, making it mildly uncomfortable. They are a nice Jean quality though.\n",
      "\n"
     ]
    }
   ],
   "source": [
    "# Choose how many reviews to display\n",
    "n = 5\n",
    "\n",
    "# Choose the rating you want to see (1 to 5)\n",
    "rating = 3\n",
    "\n",
    "# Filter reviews of the selected rating\n",
    "filtered_reviews = test_df[test_df['Rating'] == rating]['Review'].dropna()\n",
    "\n",
    "# Sample 'n' reviews \n",
    "sample_reviews = filtered_reviews.sample(n=min(n, len(filtered_reviews)), random_state=42)\n",
    "\n",
    "# Print the reviews\n",
    "print(f\"\\n Showing {min(n, len(filtered_reviews))} sample reviews for Rating {rating}:\\n\")\n",
    "for i, review in enumerate(sample_reviews, 1):\n",
    "    print(f\"{i}. {review}\\n\")\n"
   ]
  },
  {
   "cell_type": "code",
   "execution_count": 132,
   "id": "b1999613",
   "metadata": {},
   "outputs": [
    {
     "name": "stdout",
     "output_type": "stream",
     "text": [
      "\n",
      " Showing 5 sample reviews for Rating 4:\n",
      "\n",
      "1. The fabric is nice and the color is a rich jewel-tone. i have a couple of very similar shirts from a similar store that are several years old. those fit a bit more loss sly around the stomach (not baggy, just body-skimming) which made them more flattering for more body types. this shirt works if you have a little padding because of the gathered folds, but it probably wouldn't be great for someone carrying a lot of extra weight around their middle. the knot also has a tendency to twist exposing t\n",
      "\n",
      "2. Style is perfect, year around wear.\n",
      "\n",
      "3. Bought these in 28 had to return for a 27p . love them!! i order the 2 other colors\n",
      "\n",
      "4. I really love the look of this sweater and it seems to be of great quality. i will say the fit is a bit odd. the sweater is on the short side but is very roomy through the neck and shoulders. i ordered a small (5'6\"; 120lbs) and would change for an xs but i'm afraid it would be cropped. i'm keeping it but wish it had a more uniform fit.\n",
      "really beautify workmanship though.\n",
      "\n",
      "5. These jeans for great and were flattering.  Perfect length for me which is always a problem I have with high waisted pants. They were long enough but didn’t drag under foot.  I love the double buttons!!  Good quality jeans all around… good purchase!!\n",
      "\n"
     ]
    }
   ],
   "source": [
    "# Choose how many reviews to display\n",
    "n = 5\n",
    "\n",
    "# Choose the rating you want to see (1 to 5)\n",
    "rating = 4\n",
    "\n",
    "# Filter reviews of the selected rating\n",
    "filtered_reviews = test_df[test_df['Rating'] == rating]['Review'].dropna()\n",
    "\n",
    "# Sample 'n' reviews \n",
    "sample_reviews = filtered_reviews.sample(n=min(n, len(filtered_reviews)), random_state=42)\n",
    "\n",
    "# Print the reviews\n",
    "print(f\"\\n Showing {min(n, len(filtered_reviews))} sample reviews for Rating {rating}:\\n\")\n",
    "for i, review in enumerate(sample_reviews, 1):\n",
    "    print(f\"{i}. {review}\\n\")\n"
   ]
  },
  {
   "cell_type": "code",
   "execution_count": 133,
   "id": "c8d69c14",
   "metadata": {},
   "outputs": [
    {
     "name": "stdout",
     "output_type": "stream",
     "text": [
      "\n",
      " Showing 5 sample reviews for Rating 5:\n",
      "\n",
      "1. Very comfortable and fits well.\n",
      "\n",
      "2. This top is really pretty and nice quality. runs big - i went down a size, and its perfect. coloring is more subtle in person than in the photo.\n",
      "\n",
      "3. Happy with fit and quality\n",
      "\n",
      "4. As a full time photographer, I am always looking for breathable, cute and professional shirts to wear to sessions and weddings. I love this shirt, and it’s honestly perfect for every occasion. Time to go buy it in every color lol\n",
      "\n",
      "5. I love how versatile this dress is! Listen to the reviews as if you do have a little bit of a belly or pooch, def size up. I’m normally a 4, 5’9 and weight 150 pounds. I ordered the 8-10 and I’m so glad I did. Fits very well- may have to wear spanx only bc I do not have a flat stomach. If you do, order your normal size. Fits very well in the chest and the rest of my body.\n",
      "\n"
     ]
    }
   ],
   "source": [
    "# Choose how many reviews to display\n",
    "n = 5\n",
    "\n",
    "# Choose the rating you want to see (1 to 5)\n",
    "rating = 5\n",
    "\n",
    "# Filter reviews of the selected rating\n",
    "filtered_reviews = test_df[test_df['Rating'] == rating]['Review'].dropna()\n",
    "\n",
    "# Sample 'n' reviews \n",
    "sample_reviews = filtered_reviews.sample(n=min(n, len(filtered_reviews)), random_state=42)\n",
    "\n",
    "# Print the reviews\n",
    "print(f\"\\n Showing {min(n, len(filtered_reviews))} sample reviews for Rating {rating}:\\n\")\n",
    "for i, review in enumerate(sample_reviews, 1):\n",
    "    print(f\"{i}. {review}\\n\")\n"
   ]
  },
  {
   "cell_type": "markdown",
   "id": "d2650004",
   "metadata": {},
   "source": [
    "## preprocessing"
   ]
  },
  {
   "cell_type": "code",
   "execution_count": 134,
   "id": "021b68ae",
   "metadata": {},
   "outputs": [],
   "source": [
    "#removing punctuations and making lower case\n",
    "X_train = X_train.str.lower()\n",
    "X_train = X_train.str.replace(r'\\[.*?\\]', '', regex=True)\n"
   ]
  },
  {
   "cell_type": "code",
   "execution_count": 135,
   "id": "cc4e357a",
   "metadata": {},
   "outputs": [],
   "source": [
    "import re\n",
    "\n",
    "def clean_text(text):\n",
    "    text = str(text)\n",
    "    text = re.sub(r\"http\\S+|www\\S+|https\\S+\", '', text, flags=re.MULTILINE)  # remove URLs\n",
    "    text = re.sub(r'<.*?>', '', text)  # remove HTML tags\n",
    "    text = re.sub(r'[\\U00010000-\\U0010ffff]', '', text)  # remove emojis\n",
    "    text = re.sub(r'[^\\w\\s]', '', text)  # remove punctuation\n",
    "    text = re.sub(r'[^a-zA-Z0-9\\s]', '', text)  # remove special characters\n",
    "    text = re.sub(r'\\s+', ' ', text).strip()  # remove extra whitespace\n",
    "    return text\n"
   ]
  },
  {
   "cell_type": "code",
   "execution_count": 136,
   "id": "95ab625e",
   "metadata": {},
   "outputs": [],
   "source": [
    "X_train=X_train.apply(clean_text)"
   ]
  },
  {
   "cell_type": "markdown",
   "id": "c00067f4",
   "metadata": {},
   "source": [
    "## stopword removal and lemmatization"
   ]
  },
  {
   "cell_type": "code",
   "execution_count": 137,
   "id": "d7a04b56",
   "metadata": {},
   "outputs": [],
   "source": [
    "import spacy\n",
    "nlp = spacy.load(\"en_core_web_sm\")"
   ]
  },
  {
   "cell_type": "code",
   "execution_count": 138,
   "id": "606f6dd3",
   "metadata": {},
   "outputs": [
    {
     "name": "stdout",
     "output_type": "stream",
     "text": [
      " Total stop words: 326\n",
      " Stop words list:\n",
      "[\"'d\", \"'ll\", \"'m\", \"'re\", \"'s\", \"'ve\", 'a', 'about', 'above', 'across', 'after', 'afterwards', 'again', 'against', 'all', 'almost', 'alone', 'along', 'already', 'also', 'although', 'always', 'am', 'among', 'amongst', 'amount', 'an', 'and', 'another', 'any', 'anyhow', 'anyone', 'anything', 'anyway', 'anywhere', 'are', 'around', 'as', 'at', 'back', 'be', 'became', 'because', 'become', 'becomes', 'becoming', 'been', 'before', 'beforehand', 'behind', 'being', 'below', 'beside', 'besides', 'between', 'beyond', 'both', 'bottom', 'but', 'by', 'ca', 'call', 'can', 'cannot', 'could', 'did', 'do', 'does', 'doing', 'done', 'down', 'due', 'during', 'each', 'eight', 'either', 'eleven', 'else', 'elsewhere', 'empty', 'enough', 'even', 'ever', 'every', 'everyone', 'everything', 'everywhere', 'except', 'few', 'fifteen', 'fifty', 'first', 'five', 'for', 'former', 'formerly', 'forty', 'four', 'from', 'front', 'full', 'further', 'get', 'give', 'go', 'had', 'has', 'have', 'he', 'hence', 'her', 'here', 'hereafter', 'hereby', 'herein', 'hereupon', 'hers', 'herself', 'him', 'himself', 'his', 'how', 'however', 'hundred', 'i', 'if', 'in', 'indeed', 'into', 'is', 'it', 'its', 'itself', 'just', 'keep', 'last', 'latter', 'latterly', 'least', 'less', 'made', 'make', 'many', 'may', 'me', 'meanwhile', 'might', 'mine', 'more', 'moreover', 'most', 'mostly', 'move', 'much', 'must', 'my', 'myself', \"n't\", 'name', 'namely', 'neither', 'never', 'nevertheless', 'next', 'nine', 'no', 'nobody', 'none', 'noone', 'nor', 'not', 'nothing', 'now', 'nowhere', 'n‘t', 'n’t', 'of', 'off', 'often', 'on', 'once', 'one', 'only', 'onto', 'or', 'other', 'others', 'otherwise', 'our', 'ours', 'ourselves', 'out', 'over', 'own', 'part', 'per', 'perhaps', 'please', 'put', 'quite', 'rather', 're', 'really', 'regarding', 'same', 'say', 'see', 'seem', 'seemed', 'seeming', 'seems', 'serious', 'several', 'she', 'should', 'show', 'side', 'since', 'six', 'sixty', 'so', 'some', 'somehow', 'someone', 'something', 'sometime', 'sometimes', 'somewhere', 'still', 'such', 'take', 'ten', 'than', 'that', 'the', 'their', 'them', 'themselves', 'then', 'thence', 'there', 'thereafter', 'thereby', 'therefore', 'therein', 'thereupon', 'these', 'they', 'third', 'this', 'those', 'though', 'three', 'through', 'throughout', 'thru', 'thus', 'to', 'together', 'too', 'top', 'toward', 'towards', 'twelve', 'twenty', 'two', 'under', 'unless', 'until', 'up', 'upon', 'us', 'used', 'using', 'various', 'very', 'via', 'was', 'we', 'well', 'were', 'what', 'whatever', 'when', 'whence', 'whenever', 'where', 'whereafter', 'whereas', 'whereby', 'wherein', 'whereupon', 'wherever', 'whether', 'which', 'while', 'whither', 'who', 'whoever', 'whole', 'whom', 'whose', 'why', 'will', 'with', 'within', 'without', 'would', 'yet', 'you', 'your', 'yours', 'yourself', 'yourselves', '‘d', '‘ll', '‘m', '‘re', '‘s', '‘ve', '’d', '’ll', '’m', '’re', '’s', '’ve']\n"
     ]
    }
   ],
   "source": [
    "# Print all stop words\n",
    "print(\" Total stop words:\", len(nlp.Defaults.stop_words))\n",
    "print(\" Stop words list:\")\n",
    "print(sorted(nlp.Defaults.stop_words))"
   ]
  },
  {
   "cell_type": "code",
   "execution_count": 139,
   "id": "439b0f38",
   "metadata": {},
   "outputs": [],
   "source": [
    "#lemmatization and stop word removal\n",
    "def cleaning(text):\n",
    "    doc = nlp(text)\n",
    "    return ' '.join([token.lemma_ for token in doc if not token.is_stop])"
   ]
  },
  {
   "cell_type": "code",
   "execution_count": 140,
   "id": "3a7e3573",
   "metadata": {},
   "outputs": [],
   "source": [
    "X_train=X_train.apply(cleaning)"
   ]
  },
  {
   "cell_type": "code",
   "execution_count": 141,
   "id": "49c5402b",
   "metadata": {},
   "outputs": [],
   "source": [
    "#removing punctuations and making lower case\n",
    "X_test = X_train.str.lower()\n",
    "X_test = X_train.str.replace(r'\\[.*?\\]', '', regex=True)\n"
   ]
  },
  {
   "cell_type": "code",
   "execution_count": 142,
   "id": "8b9864e2",
   "metadata": {},
   "outputs": [],
   "source": [
    "X_test=X_test.apply(clean_text)"
   ]
  },
  {
   "cell_type": "code",
   "execution_count": 143,
   "id": "9924cf7e",
   "metadata": {},
   "outputs": [],
   "source": [
    "X_test=X_test.apply(cleaning)"
   ]
  },
  {
   "cell_type": "code",
   "execution_count": 144,
   "id": "e29b1cc1",
   "metadata": {},
   "outputs": [],
   "source": [
    "test_df = pd.DataFrame({'Review': X_test, 'Rating': y_test})"
   ]
  },
  {
   "cell_type": "code",
   "execution_count": 145,
   "id": "06b3a405",
   "metadata": {},
   "outputs": [],
   "source": [
    "train_df = pd.DataFrame({'Review': X_train, 'Rating': y_train})"
   ]
  },
  {
   "cell_type": "code",
   "execution_count": 147,
   "id": "b2e57f77",
   "metadata": {},
   "outputs": [],
   "source": [
    "test_df['Word_Count'] = test_df['Review'].astype(str).apply(lambda x: len(x.split()))"
   ]
  },
  {
   "cell_type": "code",
   "execution_count": 148,
   "id": "b8bb8df9",
   "metadata": {},
   "outputs": [],
   "source": [
    "train_df['Word_Count'] = train_df['Review'].astype(str).apply(lambda x: len(x.split()))"
   ]
  },
  {
   "cell_type": "code",
   "execution_count": 149,
   "id": "00c0820b",
   "metadata": {},
   "outputs": [],
   "source": [
    "#Filter out reviews with: Fewer than 3 words and Excessively long text\n",
    "\n",
    "train_df = train_df[(train_df['Word_Count'] >= 3) & (train_df['Word_Count'] <= 100)]\n",
    " \n",
    "\n",
    "X_train = train_df['Review']\n",
    "y_train = train_df['Rating']"
   ]
  },
  {
   "cell_type": "code",
   "execution_count": 150,
   "id": "eef19754",
   "metadata": {},
   "outputs": [],
   "source": [
    "#Filter out reviews with: Fewer than 3 words and Excessively long text\n",
    "\n",
    "test_df = test_df[(test_df['Word_Count'] >= 3) & (test_df['Word_Count'] <= 100)]\n",
    "\n",
    "\n",
    "X_test = test_df['Review']\n",
    "y_test = test_df['Rating']"
   ]
  },
  {
   "cell_type": "code",
   "execution_count": 172,
   "id": "62be15c8",
   "metadata": {},
   "outputs": [
    {
     "name": "stdout",
     "output_type": "stream",
     "text": [
      " Minimum word count per Rating:\n",
      "Rating\n",
      "1.0    3\n",
      "2.0    3\n",
      "3.0    3\n",
      "4.0    3\n",
      "5.0    3\n",
      "Name: Word_Count, dtype: int64\n"
     ]
    }
   ],
   "source": [
    "\n",
    "\n",
    "# Group by Rating and find the minimum word count\n",
    "min_word_count_per_rating = train_df.groupby('Rating')['Word_Count'].min()\n",
    "\n",
    "# Display the result\n",
    "print(\" Minimum word count per Rating:\")\n",
    "print(min_word_count_per_rating)"
   ]
  },
  {
   "cell_type": "code",
   "execution_count": 157,
   "id": "301ef74d",
   "metadata": {},
   "outputs": [
    {
     "name": "stdout",
     "output_type": "stream",
     "text": [
      " Minimum word count for Rating 1: 3\n",
      " Reviews with minimum word count:\n",
      "                             Review  Word_Count\n",
      "982               want knit sweater           3\n",
      "5360                  run way small           3\n",
      "9679              zipper snaggs bad           3\n",
      "12069           poor quality fabric           3\n",
      "12145              spend money away           3\n",
      "3215              receive vest pant           3\n",
      "2865               order small size           3\n",
      "3347           cheap fabric cheaply           3\n",
      "1150              shirt huge return           3\n",
      "12498                not like style           3\n",
      "9860             zipper break month           3\n",
      "3240                small true size           3\n",
      "4488                 not buy poorly           3\n",
      "13892              dress tight thin           3\n",
      "8286              wrinkle easy iron           3\n",
      "7982         material soft flexible           3\n",
      "2084             super itchy return           3\n",
      "11919            shirt picture show           3\n",
      "16792                  3xl like 2xl           3\n",
      "1746      terrible quality describe           3\n",
      "9205                 small not wash           3\n",
      "12085           fall apart horrible           3\n",
      "9156             large cheap fabric           3\n",
      "1394            rough skin material           3\n",
      "8266    poor quality understatement           3\n",
      "3328                 size run small           3\n",
      "1718   cheap uncomfortable material           3\n",
      "273                 cut button jean           3\n",
      "13274      malisima calidad comprar           3\n",
      "7542                 way big normal           3\n",
      "7695        wash completely unravel           3\n",
      "2818               boo trash design           3\n",
      "5897                  wrap gap send           3\n",
      "4227         thin material slightly           3\n",
      "3003          cut small description           3\n",
      "5857                  look like pic           3\n",
      "9807              saggy thread come           3\n",
      "10632              type return pant           3\n",
      "1172          blazer cheap material           3\n",
      "7067          thin material stretch           3\n",
      "4560          comfortable look good           3\n",
      "6617                wifee say small           3\n",
      "8960                    sit low hip           3\n",
      "6529            careful wash shrink           3\n",
      "7539             fall apart washing           3\n",
      "17057                  color nice s           3\n",
      "5453             long material flat           3\n",
      "9483                not buy product           3\n",
      "5591                  nice 14 tight           3\n",
      "10620              docker think buy           3\n",
      "3877                pass hate thing           3\n",
      "16148                 style way big           3\n",
      "13237             comfy pink return           3\n",
      "3008        high qualityvery yellow           3\n",
      "11375  tight uncomfortable material           3\n"
     ]
    },
    {
     "name": "stderr",
     "output_type": "stream",
     "text": [
      "C:\\Users\\LENOVO\\AppData\\Local\\Temp\\ipykernel_12484\\939760590.py:5: SettingWithCopyWarning: \n",
      "A value is trying to be set on a copy of a slice from a DataFrame.\n",
      "Try using .loc[row_indexer,col_indexer] = value instead\n",
      "\n",
      "See the caveats in the documentation: https://pandas.pydata.org/pandas-docs/stable/user_guide/indexing.html#returning-a-view-versus-a-copy\n",
      "  train_df['Rating'] = pd.to_numeric(train_df['Rating'], errors='coerce')\n"
     ]
    }
   ],
   "source": [
    "\n",
    "# Specify the rating you're interested in\n",
    "target_rating = 1\n",
    "\n",
    "# Ensure Rating column is numeric\n",
    "train_df['Rating'] = pd.to_numeric(train_df['Rating'], errors='coerce')\n",
    "\n",
    "\n",
    "\n",
    "# Filter for the target rating\n",
    "rating_df = train_df[train_df['Rating'] == target_rating]\n",
    "\n",
    "# Get the minimum word count for that rating\n",
    "min_word_count = rating_df['Word_Count'].min()\n",
    "\n",
    "# Get the reviews with that minimum word count\n",
    "min_reviews = rating_df[rating_df['Word_Count'] == min_word_count]\n",
    "\n",
    "# Display\n",
    "print(f\" Minimum word count for Rating {target_rating}: {min_word_count}\")\n",
    "print(\" Reviews with minimum word count:\")\n",
    "print(min_reviews[['Review', 'Word_Count']])\n"
   ]
  },
  {
   "cell_type": "code",
   "execution_count": 173,
   "id": "b90c28b5",
   "metadata": {},
   "outputs": [
    {
     "name": "stdout",
     "output_type": "stream",
     "text": [
      " Max word count per Rating:\n",
      "Rating\n",
      "1.0     99\n",
      "2.0     79\n",
      "3.0    100\n",
      "4.0     97\n",
      "5.0     98\n",
      "Name: Word_Count, dtype: int64\n"
     ]
    }
   ],
   "source": [
    "\n",
    "\n",
    "\n",
    "max_word_count_per_rating = train_df.groupby('Rating')['Word_Count'].max()\n",
    "\n",
    "# Display the result\n",
    "print(\" Max word count per Rating:\")\n",
    "print(max_word_count_per_rating)"
   ]
  },
  {
   "cell_type": "code",
   "execution_count": 162,
   "id": "31acd5c0",
   "metadata": {},
   "outputs": [
    {
     "name": "stdout",
     "output_type": "stream",
     "text": [
      " Max word count for Rating 1: 99\n",
      " Reviews with max word count:\n",
      "                                                                                                                                                                                                                                                                                                                                                                                                                                                                                                                                                                                                             Review  \\\n",
      "3210  straight talk you make boob look super droopy maybe defect receive look photo wear wellfitte bra shot way lacy material attach loosely sloppily make look like girl see lot decade actually not believe take photo right perspective wear exact bra booby old lady shot like dress shot sincerely hope m old tell improve change size dress inherently wrong stitch boob close s weird droop happen huge gap liner lace etc unfortunately million thing happen life time arrive not try 2 month receive not return guess positive thing color truly lovely wish wear feel like lose battle gravity decade ago   \n",
      "\n",
      "      Word_Count  \n",
      "3210          99  \n"
     ]
    },
    {
     "name": "stderr",
     "output_type": "stream",
     "text": [
      "C:\\Users\\LENOVO\\AppData\\Local\\Temp\\ipykernel_12484\\3203327385.py:5: SettingWithCopyWarning: \n",
      "A value is trying to be set on a copy of a slice from a DataFrame.\n",
      "Try using .loc[row_indexer,col_indexer] = value instead\n",
      "\n",
      "See the caveats in the documentation: https://pandas.pydata.org/pandas-docs/stable/user_guide/indexing.html#returning-a-view-versus-a-copy\n",
      "  train_df['Rating'] = pd.to_numeric(train_df['Rating'], errors='coerce')\n"
     ]
    }
   ],
   "source": [
    "\n",
    "# Specify the rating you're interested in\n",
    "target_rating = 1\n",
    "\n",
    "# Ensure Rating column is numeric\n",
    "train_df['Rating'] = pd.to_numeric(train_df['Rating'], errors='coerce')\n",
    "\n",
    "\n",
    "\n",
    "# Filter for the target rating\n",
    "rating_df = train_df[train_df['Rating'] == target_rating]\n",
    "\n",
    "\n",
    "max_word_count = rating_df['Word_Count'].max()\n",
    "\n",
    "\n",
    "max_reviews = rating_df[rating_df['Word_Count'] == max_word_count]\n",
    "\n",
    "# Display\n",
    "print(f\" Max word count for Rating {target_rating}: {max_word_count}\")\n",
    "print(\" Reviews with max word count:\")\n",
    "print(max_reviews[['Review', 'Word_Count']])\n"
   ]
  },
  {
   "cell_type": "markdown",
   "id": "fcd4bc72",
   "metadata": {},
   "source": [
    "## TF-IDF"
   ]
  },
  {
   "cell_type": "code",
   "execution_count": 163,
   "id": "19689830",
   "metadata": {},
   "outputs": [],
   "source": [
    "from sklearn.feature_extraction.text import  TfidfVectorizer"
   ]
  },
  {
   "cell_type": "code",
   "execution_count": 164,
   "id": "4a4d66ad",
   "metadata": {},
   "outputs": [],
   "source": [
    "# create a tfidf vectorizer matrix\n",
    "tv = TfidfVectorizer()\n",
    "Xtrain = tv.fit_transform(X_train)"
   ]
  },
  {
   "cell_type": "code",
   "execution_count": 165,
   "id": "f4a83eb9",
   "metadata": {},
   "outputs": [
    {
     "data": {
      "text/html": [
       "<div>\n",
       "<style scoped>\n",
       "    .dataframe tbody tr th:only-of-type {\n",
       "        vertical-align: middle;\n",
       "    }\n",
       "\n",
       "    .dataframe tbody tr th {\n",
       "        vertical-align: top;\n",
       "    }\n",
       "\n",
       "    .dataframe thead th {\n",
       "        text-align: right;\n",
       "    }\n",
       "</style>\n",
       "<table border=\"1\" class=\"dataframe\">\n",
       "  <thead>\n",
       "    <tr style=\"text-align: right;\">\n",
       "      <th></th>\n",
       "      <th>00</th>\n",
       "      <th>000</th>\n",
       "      <th>002first</th>\n",
       "      <th>00p</th>\n",
       "      <th>02</th>\n",
       "      <th>025</th>\n",
       "      <th>04</th>\n",
       "      <th>045blue</th>\n",
       "      <th>045purple</th>\n",
       "      <th>0dd</th>\n",
       "      <th>...</th>\n",
       "      <th>zipper</th>\n",
       "      <th>zippered</th>\n",
       "      <th>zipperi</th>\n",
       "      <th>zipperit</th>\n",
       "      <th>zipperone</th>\n",
       "      <th>zips</th>\n",
       "      <th>zipup</th>\n",
       "      <th>zombie</th>\n",
       "      <th>zone</th>\n",
       "      <th>zoom</th>\n",
       "    </tr>\n",
       "  </thead>\n",
       "  <tbody>\n",
       "    <tr>\n",
       "      <th>0</th>\n",
       "      <td>0.0</td>\n",
       "      <td>0.0</td>\n",
       "      <td>0.0</td>\n",
       "      <td>0.0</td>\n",
       "      <td>0.0</td>\n",
       "      <td>0.0</td>\n",
       "      <td>0.0</td>\n",
       "      <td>0.0</td>\n",
       "      <td>0.0</td>\n",
       "      <td>0.0</td>\n",
       "      <td>...</td>\n",
       "      <td>0.000000</td>\n",
       "      <td>0.0</td>\n",
       "      <td>0.0</td>\n",
       "      <td>0.0</td>\n",
       "      <td>0.0</td>\n",
       "      <td>0.0</td>\n",
       "      <td>0.0</td>\n",
       "      <td>0.0</td>\n",
       "      <td>0.0</td>\n",
       "      <td>0.0</td>\n",
       "    </tr>\n",
       "    <tr>\n",
       "      <th>1</th>\n",
       "      <td>0.0</td>\n",
       "      <td>0.0</td>\n",
       "      <td>0.0</td>\n",
       "      <td>0.0</td>\n",
       "      <td>0.0</td>\n",
       "      <td>0.0</td>\n",
       "      <td>0.0</td>\n",
       "      <td>0.0</td>\n",
       "      <td>0.0</td>\n",
       "      <td>0.0</td>\n",
       "      <td>...</td>\n",
       "      <td>0.000000</td>\n",
       "      <td>0.0</td>\n",
       "      <td>0.0</td>\n",
       "      <td>0.0</td>\n",
       "      <td>0.0</td>\n",
       "      <td>0.0</td>\n",
       "      <td>0.0</td>\n",
       "      <td>0.0</td>\n",
       "      <td>0.0</td>\n",
       "      <td>0.0</td>\n",
       "    </tr>\n",
       "    <tr>\n",
       "      <th>2</th>\n",
       "      <td>0.0</td>\n",
       "      <td>0.0</td>\n",
       "      <td>0.0</td>\n",
       "      <td>0.0</td>\n",
       "      <td>0.0</td>\n",
       "      <td>0.0</td>\n",
       "      <td>0.0</td>\n",
       "      <td>0.0</td>\n",
       "      <td>0.0</td>\n",
       "      <td>0.0</td>\n",
       "      <td>...</td>\n",
       "      <td>0.000000</td>\n",
       "      <td>0.0</td>\n",
       "      <td>0.0</td>\n",
       "      <td>0.0</td>\n",
       "      <td>0.0</td>\n",
       "      <td>0.0</td>\n",
       "      <td>0.0</td>\n",
       "      <td>0.0</td>\n",
       "      <td>0.0</td>\n",
       "      <td>0.0</td>\n",
       "    </tr>\n",
       "    <tr>\n",
       "      <th>3</th>\n",
       "      <td>0.0</td>\n",
       "      <td>0.0</td>\n",
       "      <td>0.0</td>\n",
       "      <td>0.0</td>\n",
       "      <td>0.0</td>\n",
       "      <td>0.0</td>\n",
       "      <td>0.0</td>\n",
       "      <td>0.0</td>\n",
       "      <td>0.0</td>\n",
       "      <td>0.0</td>\n",
       "      <td>...</td>\n",
       "      <td>0.000000</td>\n",
       "      <td>0.0</td>\n",
       "      <td>0.0</td>\n",
       "      <td>0.0</td>\n",
       "      <td>0.0</td>\n",
       "      <td>0.0</td>\n",
       "      <td>0.0</td>\n",
       "      <td>0.0</td>\n",
       "      <td>0.0</td>\n",
       "      <td>0.0</td>\n",
       "    </tr>\n",
       "    <tr>\n",
       "      <th>4</th>\n",
       "      <td>0.0</td>\n",
       "      <td>0.0</td>\n",
       "      <td>0.0</td>\n",
       "      <td>0.0</td>\n",
       "      <td>0.0</td>\n",
       "      <td>0.0</td>\n",
       "      <td>0.0</td>\n",
       "      <td>0.0</td>\n",
       "      <td>0.0</td>\n",
       "      <td>0.0</td>\n",
       "      <td>...</td>\n",
       "      <td>0.000000</td>\n",
       "      <td>0.0</td>\n",
       "      <td>0.0</td>\n",
       "      <td>0.0</td>\n",
       "      <td>0.0</td>\n",
       "      <td>0.0</td>\n",
       "      <td>0.0</td>\n",
       "      <td>0.0</td>\n",
       "      <td>0.0</td>\n",
       "      <td>0.0</td>\n",
       "    </tr>\n",
       "    <tr>\n",
       "      <th>...</th>\n",
       "      <td>...</td>\n",
       "      <td>...</td>\n",
       "      <td>...</td>\n",
       "      <td>...</td>\n",
       "      <td>...</td>\n",
       "      <td>...</td>\n",
       "      <td>...</td>\n",
       "      <td>...</td>\n",
       "      <td>...</td>\n",
       "      <td>...</td>\n",
       "      <td>...</td>\n",
       "      <td>...</td>\n",
       "      <td>...</td>\n",
       "      <td>...</td>\n",
       "      <td>...</td>\n",
       "      <td>...</td>\n",
       "      <td>...</td>\n",
       "      <td>...</td>\n",
       "      <td>...</td>\n",
       "      <td>...</td>\n",
       "      <td>...</td>\n",
       "    </tr>\n",
       "    <tr>\n",
       "      <th>13090</th>\n",
       "      <td>0.0</td>\n",
       "      <td>0.0</td>\n",
       "      <td>0.0</td>\n",
       "      <td>0.0</td>\n",
       "      <td>0.0</td>\n",
       "      <td>0.0</td>\n",
       "      <td>0.0</td>\n",
       "      <td>0.0</td>\n",
       "      <td>0.0</td>\n",
       "      <td>0.0</td>\n",
       "      <td>...</td>\n",
       "      <td>0.000000</td>\n",
       "      <td>0.0</td>\n",
       "      <td>0.0</td>\n",
       "      <td>0.0</td>\n",
       "      <td>0.0</td>\n",
       "      <td>0.0</td>\n",
       "      <td>0.0</td>\n",
       "      <td>0.0</td>\n",
       "      <td>0.0</td>\n",
       "      <td>0.0</td>\n",
       "    </tr>\n",
       "    <tr>\n",
       "      <th>13091</th>\n",
       "      <td>0.0</td>\n",
       "      <td>0.0</td>\n",
       "      <td>0.0</td>\n",
       "      <td>0.0</td>\n",
       "      <td>0.0</td>\n",
       "      <td>0.0</td>\n",
       "      <td>0.0</td>\n",
       "      <td>0.0</td>\n",
       "      <td>0.0</td>\n",
       "      <td>0.0</td>\n",
       "      <td>...</td>\n",
       "      <td>0.444043</td>\n",
       "      <td>0.0</td>\n",
       "      <td>0.0</td>\n",
       "      <td>0.0</td>\n",
       "      <td>0.0</td>\n",
       "      <td>0.0</td>\n",
       "      <td>0.0</td>\n",
       "      <td>0.0</td>\n",
       "      <td>0.0</td>\n",
       "      <td>0.0</td>\n",
       "    </tr>\n",
       "    <tr>\n",
       "      <th>13092</th>\n",
       "      <td>0.0</td>\n",
       "      <td>0.0</td>\n",
       "      <td>0.0</td>\n",
       "      <td>0.0</td>\n",
       "      <td>0.0</td>\n",
       "      <td>0.0</td>\n",
       "      <td>0.0</td>\n",
       "      <td>0.0</td>\n",
       "      <td>0.0</td>\n",
       "      <td>0.0</td>\n",
       "      <td>...</td>\n",
       "      <td>0.000000</td>\n",
       "      <td>0.0</td>\n",
       "      <td>0.0</td>\n",
       "      <td>0.0</td>\n",
       "      <td>0.0</td>\n",
       "      <td>0.0</td>\n",
       "      <td>0.0</td>\n",
       "      <td>0.0</td>\n",
       "      <td>0.0</td>\n",
       "      <td>0.0</td>\n",
       "    </tr>\n",
       "    <tr>\n",
       "      <th>13093</th>\n",
       "      <td>0.0</td>\n",
       "      <td>0.0</td>\n",
       "      <td>0.0</td>\n",
       "      <td>0.0</td>\n",
       "      <td>0.0</td>\n",
       "      <td>0.0</td>\n",
       "      <td>0.0</td>\n",
       "      <td>0.0</td>\n",
       "      <td>0.0</td>\n",
       "      <td>0.0</td>\n",
       "      <td>...</td>\n",
       "      <td>0.000000</td>\n",
       "      <td>0.0</td>\n",
       "      <td>0.0</td>\n",
       "      <td>0.0</td>\n",
       "      <td>0.0</td>\n",
       "      <td>0.0</td>\n",
       "      <td>0.0</td>\n",
       "      <td>0.0</td>\n",
       "      <td>0.0</td>\n",
       "      <td>0.0</td>\n",
       "    </tr>\n",
       "    <tr>\n",
       "      <th>13094</th>\n",
       "      <td>0.0</td>\n",
       "      <td>0.0</td>\n",
       "      <td>0.0</td>\n",
       "      <td>0.0</td>\n",
       "      <td>0.0</td>\n",
       "      <td>0.0</td>\n",
       "      <td>0.0</td>\n",
       "      <td>0.0</td>\n",
       "      <td>0.0</td>\n",
       "      <td>0.0</td>\n",
       "      <td>...</td>\n",
       "      <td>0.000000</td>\n",
       "      <td>0.0</td>\n",
       "      <td>0.0</td>\n",
       "      <td>0.0</td>\n",
       "      <td>0.0</td>\n",
       "      <td>0.0</td>\n",
       "      <td>0.0</td>\n",
       "      <td>0.0</td>\n",
       "      <td>0.0</td>\n",
       "      <td>0.0</td>\n",
       "    </tr>\n",
       "  </tbody>\n",
       "</table>\n",
       "<p>13095 rows × 10870 columns</p>\n",
       "</div>"
      ],
      "text/plain": [
       "        00  000  002first  00p   02  025   04  045blue  045purple  0dd  ...  \\\n",
       "0      0.0  0.0       0.0  0.0  0.0  0.0  0.0      0.0        0.0  0.0  ...   \n",
       "1      0.0  0.0       0.0  0.0  0.0  0.0  0.0      0.0        0.0  0.0  ...   \n",
       "2      0.0  0.0       0.0  0.0  0.0  0.0  0.0      0.0        0.0  0.0  ...   \n",
       "3      0.0  0.0       0.0  0.0  0.0  0.0  0.0      0.0        0.0  0.0  ...   \n",
       "4      0.0  0.0       0.0  0.0  0.0  0.0  0.0      0.0        0.0  0.0  ...   \n",
       "...    ...  ...       ...  ...  ...  ...  ...      ...        ...  ...  ...   \n",
       "13090  0.0  0.0       0.0  0.0  0.0  0.0  0.0      0.0        0.0  0.0  ...   \n",
       "13091  0.0  0.0       0.0  0.0  0.0  0.0  0.0      0.0        0.0  0.0  ...   \n",
       "13092  0.0  0.0       0.0  0.0  0.0  0.0  0.0      0.0        0.0  0.0  ...   \n",
       "13093  0.0  0.0       0.0  0.0  0.0  0.0  0.0      0.0        0.0  0.0  ...   \n",
       "13094  0.0  0.0       0.0  0.0  0.0  0.0  0.0      0.0        0.0  0.0  ...   \n",
       "\n",
       "         zipper  zippered  zipperi  zipperit  zipperone  zips  zipup  zombie  \\\n",
       "0      0.000000       0.0      0.0       0.0        0.0   0.0    0.0     0.0   \n",
       "1      0.000000       0.0      0.0       0.0        0.0   0.0    0.0     0.0   \n",
       "2      0.000000       0.0      0.0       0.0        0.0   0.0    0.0     0.0   \n",
       "3      0.000000       0.0      0.0       0.0        0.0   0.0    0.0     0.0   \n",
       "4      0.000000       0.0      0.0       0.0        0.0   0.0    0.0     0.0   \n",
       "...         ...       ...      ...       ...        ...   ...    ...     ...   \n",
       "13090  0.000000       0.0      0.0       0.0        0.0   0.0    0.0     0.0   \n",
       "13091  0.444043       0.0      0.0       0.0        0.0   0.0    0.0     0.0   \n",
       "13092  0.000000       0.0      0.0       0.0        0.0   0.0    0.0     0.0   \n",
       "13093  0.000000       0.0      0.0       0.0        0.0   0.0    0.0     0.0   \n",
       "13094  0.000000       0.0      0.0       0.0        0.0   0.0    0.0     0.0   \n",
       "\n",
       "       zone  zoom  \n",
       "0       0.0   0.0  \n",
       "1       0.0   0.0  \n",
       "2       0.0   0.0  \n",
       "3       0.0   0.0  \n",
       "4       0.0   0.0  \n",
       "...     ...   ...  \n",
       "13090   0.0   0.0  \n",
       "13091   0.0   0.0  \n",
       "13092   0.0   0.0  \n",
       "13093   0.0   0.0  \n",
       "13094   0.0   0.0  \n",
       "\n",
       "[13095 rows x 10870 columns]"
      ]
     },
     "execution_count": 165,
     "metadata": {},
     "output_type": "execute_result"
    }
   ],
   "source": [
    "X = pd.DataFrame(Xtrain.toarray(), columns=tv.get_feature_names_out())\n",
    "X"
   ]
  },
  {
   "cell_type": "code",
   "execution_count": 166,
   "id": "d6d409bb",
   "metadata": {},
   "outputs": [],
   "source": [
    "\n",
    "Xtest = tv.fit_transform(X_test)"
   ]
  },
  {
   "cell_type": "code",
   "execution_count": 167,
   "id": "c722cbe2",
   "metadata": {},
   "outputs": [
    {
     "data": {
      "text/html": [
       "<div>\n",
       "<style scoped>\n",
       "    .dataframe tbody tr th:only-of-type {\n",
       "        vertical-align: middle;\n",
       "    }\n",
       "\n",
       "    .dataframe tbody tr th {\n",
       "        vertical-align: top;\n",
       "    }\n",
       "\n",
       "    .dataframe thead th {\n",
       "        text-align: right;\n",
       "    }\n",
       "</style>\n",
       "<table border=\"1\" class=\"dataframe\">\n",
       "  <thead>\n",
       "    <tr style=\"text-align: right;\">\n",
       "      <th></th>\n",
       "      <th>00</th>\n",
       "      <th>000</th>\n",
       "      <th>002first</th>\n",
       "      <th>00p</th>\n",
       "      <th>02</th>\n",
       "      <th>025</th>\n",
       "      <th>04</th>\n",
       "      <th>045blue</th>\n",
       "      <th>045purple</th>\n",
       "      <th>0dd</th>\n",
       "      <th>...</th>\n",
       "      <th>zipper</th>\n",
       "      <th>zippered</th>\n",
       "      <th>zipperi</th>\n",
       "      <th>zipperit</th>\n",
       "      <th>zipperone</th>\n",
       "      <th>zips</th>\n",
       "      <th>zipup</th>\n",
       "      <th>zombie</th>\n",
       "      <th>zone</th>\n",
       "      <th>zoom</th>\n",
       "    </tr>\n",
       "  </thead>\n",
       "  <tbody>\n",
       "    <tr>\n",
       "      <th>0</th>\n",
       "      <td>0.0</td>\n",
       "      <td>0.0</td>\n",
       "      <td>0.0</td>\n",
       "      <td>0.0</td>\n",
       "      <td>0.0</td>\n",
       "      <td>0.0</td>\n",
       "      <td>0.0</td>\n",
       "      <td>0.0</td>\n",
       "      <td>0.0</td>\n",
       "      <td>0.0</td>\n",
       "      <td>...</td>\n",
       "      <td>0.0</td>\n",
       "      <td>0.0</td>\n",
       "      <td>0.0</td>\n",
       "      <td>0.0</td>\n",
       "      <td>0.0</td>\n",
       "      <td>0.0</td>\n",
       "      <td>0.0</td>\n",
       "      <td>0.0</td>\n",
       "      <td>0.0</td>\n",
       "      <td>0.0</td>\n",
       "    </tr>\n",
       "    <tr>\n",
       "      <th>1</th>\n",
       "      <td>0.0</td>\n",
       "      <td>0.0</td>\n",
       "      <td>0.0</td>\n",
       "      <td>0.0</td>\n",
       "      <td>0.0</td>\n",
       "      <td>0.0</td>\n",
       "      <td>0.0</td>\n",
       "      <td>0.0</td>\n",
       "      <td>0.0</td>\n",
       "      <td>0.0</td>\n",
       "      <td>...</td>\n",
       "      <td>0.0</td>\n",
       "      <td>0.0</td>\n",
       "      <td>0.0</td>\n",
       "      <td>0.0</td>\n",
       "      <td>0.0</td>\n",
       "      <td>0.0</td>\n",
       "      <td>0.0</td>\n",
       "      <td>0.0</td>\n",
       "      <td>0.0</td>\n",
       "      <td>0.0</td>\n",
       "    </tr>\n",
       "    <tr>\n",
       "      <th>2</th>\n",
       "      <td>0.0</td>\n",
       "      <td>0.0</td>\n",
       "      <td>0.0</td>\n",
       "      <td>0.0</td>\n",
       "      <td>0.0</td>\n",
       "      <td>0.0</td>\n",
       "      <td>0.0</td>\n",
       "      <td>0.0</td>\n",
       "      <td>0.0</td>\n",
       "      <td>0.0</td>\n",
       "      <td>...</td>\n",
       "      <td>0.0</td>\n",
       "      <td>0.0</td>\n",
       "      <td>0.0</td>\n",
       "      <td>0.0</td>\n",
       "      <td>0.0</td>\n",
       "      <td>0.0</td>\n",
       "      <td>0.0</td>\n",
       "      <td>0.0</td>\n",
       "      <td>0.0</td>\n",
       "      <td>0.0</td>\n",
       "    </tr>\n",
       "    <tr>\n",
       "      <th>3</th>\n",
       "      <td>0.0</td>\n",
       "      <td>0.0</td>\n",
       "      <td>0.0</td>\n",
       "      <td>0.0</td>\n",
       "      <td>0.0</td>\n",
       "      <td>0.0</td>\n",
       "      <td>0.0</td>\n",
       "      <td>0.0</td>\n",
       "      <td>0.0</td>\n",
       "      <td>0.0</td>\n",
       "      <td>...</td>\n",
       "      <td>0.0</td>\n",
       "      <td>0.0</td>\n",
       "      <td>0.0</td>\n",
       "      <td>0.0</td>\n",
       "      <td>0.0</td>\n",
       "      <td>0.0</td>\n",
       "      <td>0.0</td>\n",
       "      <td>0.0</td>\n",
       "      <td>0.0</td>\n",
       "      <td>0.0</td>\n",
       "    </tr>\n",
       "    <tr>\n",
       "      <th>4</th>\n",
       "      <td>0.0</td>\n",
       "      <td>0.0</td>\n",
       "      <td>0.0</td>\n",
       "      <td>0.0</td>\n",
       "      <td>0.0</td>\n",
       "      <td>0.0</td>\n",
       "      <td>0.0</td>\n",
       "      <td>0.0</td>\n",
       "      <td>0.0</td>\n",
       "      <td>0.0</td>\n",
       "      <td>...</td>\n",
       "      <td>0.0</td>\n",
       "      <td>0.0</td>\n",
       "      <td>0.0</td>\n",
       "      <td>0.0</td>\n",
       "      <td>0.0</td>\n",
       "      <td>0.0</td>\n",
       "      <td>0.0</td>\n",
       "      <td>0.0</td>\n",
       "      <td>0.0</td>\n",
       "      <td>0.0</td>\n",
       "    </tr>\n",
       "    <tr>\n",
       "      <th>...</th>\n",
       "      <td>...</td>\n",
       "      <td>...</td>\n",
       "      <td>...</td>\n",
       "      <td>...</td>\n",
       "      <td>...</td>\n",
       "      <td>...</td>\n",
       "      <td>...</td>\n",
       "      <td>...</td>\n",
       "      <td>...</td>\n",
       "      <td>...</td>\n",
       "      <td>...</td>\n",
       "      <td>...</td>\n",
       "      <td>...</td>\n",
       "      <td>...</td>\n",
       "      <td>...</td>\n",
       "      <td>...</td>\n",
       "      <td>...</td>\n",
       "      <td>...</td>\n",
       "      <td>...</td>\n",
       "      <td>...</td>\n",
       "      <td>...</td>\n",
       "    </tr>\n",
       "    <tr>\n",
       "      <th>13065</th>\n",
       "      <td>0.0</td>\n",
       "      <td>0.0</td>\n",
       "      <td>0.0</td>\n",
       "      <td>0.0</td>\n",
       "      <td>0.0</td>\n",
       "      <td>0.0</td>\n",
       "      <td>0.0</td>\n",
       "      <td>0.0</td>\n",
       "      <td>0.0</td>\n",
       "      <td>0.0</td>\n",
       "      <td>...</td>\n",
       "      <td>0.0</td>\n",
       "      <td>0.0</td>\n",
       "      <td>0.0</td>\n",
       "      <td>0.0</td>\n",
       "      <td>0.0</td>\n",
       "      <td>0.0</td>\n",
       "      <td>0.0</td>\n",
       "      <td>0.0</td>\n",
       "      <td>0.0</td>\n",
       "      <td>0.0</td>\n",
       "    </tr>\n",
       "    <tr>\n",
       "      <th>13066</th>\n",
       "      <td>0.0</td>\n",
       "      <td>0.0</td>\n",
       "      <td>0.0</td>\n",
       "      <td>0.0</td>\n",
       "      <td>0.0</td>\n",
       "      <td>0.0</td>\n",
       "      <td>0.0</td>\n",
       "      <td>0.0</td>\n",
       "      <td>0.0</td>\n",
       "      <td>0.0</td>\n",
       "      <td>...</td>\n",
       "      <td>0.0</td>\n",
       "      <td>0.0</td>\n",
       "      <td>0.0</td>\n",
       "      <td>0.0</td>\n",
       "      <td>0.0</td>\n",
       "      <td>0.0</td>\n",
       "      <td>0.0</td>\n",
       "      <td>0.0</td>\n",
       "      <td>0.0</td>\n",
       "      <td>0.0</td>\n",
       "    </tr>\n",
       "    <tr>\n",
       "      <th>13067</th>\n",
       "      <td>0.0</td>\n",
       "      <td>0.0</td>\n",
       "      <td>0.0</td>\n",
       "      <td>0.0</td>\n",
       "      <td>0.0</td>\n",
       "      <td>0.0</td>\n",
       "      <td>0.0</td>\n",
       "      <td>0.0</td>\n",
       "      <td>0.0</td>\n",
       "      <td>0.0</td>\n",
       "      <td>...</td>\n",
       "      <td>0.0</td>\n",
       "      <td>0.0</td>\n",
       "      <td>0.0</td>\n",
       "      <td>0.0</td>\n",
       "      <td>0.0</td>\n",
       "      <td>0.0</td>\n",
       "      <td>0.0</td>\n",
       "      <td>0.0</td>\n",
       "      <td>0.0</td>\n",
       "      <td>0.0</td>\n",
       "    </tr>\n",
       "    <tr>\n",
       "      <th>13068</th>\n",
       "      <td>0.0</td>\n",
       "      <td>0.0</td>\n",
       "      <td>0.0</td>\n",
       "      <td>0.0</td>\n",
       "      <td>0.0</td>\n",
       "      <td>0.0</td>\n",
       "      <td>0.0</td>\n",
       "      <td>0.0</td>\n",
       "      <td>0.0</td>\n",
       "      <td>0.0</td>\n",
       "      <td>...</td>\n",
       "      <td>0.0</td>\n",
       "      <td>0.0</td>\n",
       "      <td>0.0</td>\n",
       "      <td>0.0</td>\n",
       "      <td>0.0</td>\n",
       "      <td>0.0</td>\n",
       "      <td>0.0</td>\n",
       "      <td>0.0</td>\n",
       "      <td>0.0</td>\n",
       "      <td>0.0</td>\n",
       "    </tr>\n",
       "    <tr>\n",
       "      <th>13069</th>\n",
       "      <td>0.0</td>\n",
       "      <td>0.0</td>\n",
       "      <td>0.0</td>\n",
       "      <td>0.0</td>\n",
       "      <td>0.0</td>\n",
       "      <td>0.0</td>\n",
       "      <td>0.0</td>\n",
       "      <td>0.0</td>\n",
       "      <td>0.0</td>\n",
       "      <td>0.0</td>\n",
       "      <td>...</td>\n",
       "      <td>0.0</td>\n",
       "      <td>0.0</td>\n",
       "      <td>0.0</td>\n",
       "      <td>0.0</td>\n",
       "      <td>0.0</td>\n",
       "      <td>0.0</td>\n",
       "      <td>0.0</td>\n",
       "      <td>0.0</td>\n",
       "      <td>0.0</td>\n",
       "      <td>0.0</td>\n",
       "    </tr>\n",
       "  </tbody>\n",
       "</table>\n",
       "<p>13070 rows × 10609 columns</p>\n",
       "</div>"
      ],
      "text/plain": [
       "        00  000  002first  00p   02  025   04  045blue  045purple  0dd  ...  \\\n",
       "0      0.0  0.0       0.0  0.0  0.0  0.0  0.0      0.0        0.0  0.0  ...   \n",
       "1      0.0  0.0       0.0  0.0  0.0  0.0  0.0      0.0        0.0  0.0  ...   \n",
       "2      0.0  0.0       0.0  0.0  0.0  0.0  0.0      0.0        0.0  0.0  ...   \n",
       "3      0.0  0.0       0.0  0.0  0.0  0.0  0.0      0.0        0.0  0.0  ...   \n",
       "4      0.0  0.0       0.0  0.0  0.0  0.0  0.0      0.0        0.0  0.0  ...   \n",
       "...    ...  ...       ...  ...  ...  ...  ...      ...        ...  ...  ...   \n",
       "13065  0.0  0.0       0.0  0.0  0.0  0.0  0.0      0.0        0.0  0.0  ...   \n",
       "13066  0.0  0.0       0.0  0.0  0.0  0.0  0.0      0.0        0.0  0.0  ...   \n",
       "13067  0.0  0.0       0.0  0.0  0.0  0.0  0.0      0.0        0.0  0.0  ...   \n",
       "13068  0.0  0.0       0.0  0.0  0.0  0.0  0.0      0.0        0.0  0.0  ...   \n",
       "13069  0.0  0.0       0.0  0.0  0.0  0.0  0.0      0.0        0.0  0.0  ...   \n",
       "\n",
       "       zipper  zippered  zipperi  zipperit  zipperone  zips  zipup  zombie  \\\n",
       "0         0.0       0.0      0.0       0.0        0.0   0.0    0.0     0.0   \n",
       "1         0.0       0.0      0.0       0.0        0.0   0.0    0.0     0.0   \n",
       "2         0.0       0.0      0.0       0.0        0.0   0.0    0.0     0.0   \n",
       "3         0.0       0.0      0.0       0.0        0.0   0.0    0.0     0.0   \n",
       "4         0.0       0.0      0.0       0.0        0.0   0.0    0.0     0.0   \n",
       "...       ...       ...      ...       ...        ...   ...    ...     ...   \n",
       "13065     0.0       0.0      0.0       0.0        0.0   0.0    0.0     0.0   \n",
       "13066     0.0       0.0      0.0       0.0        0.0   0.0    0.0     0.0   \n",
       "13067     0.0       0.0      0.0       0.0        0.0   0.0    0.0     0.0   \n",
       "13068     0.0       0.0      0.0       0.0        0.0   0.0    0.0     0.0   \n",
       "13069     0.0       0.0      0.0       0.0        0.0   0.0    0.0     0.0   \n",
       "\n",
       "       zone  zoom  \n",
       "0       0.0   0.0  \n",
       "1       0.0   0.0  \n",
       "2       0.0   0.0  \n",
       "3       0.0   0.0  \n",
       "4       0.0   0.0  \n",
       "...     ...   ...  \n",
       "13065   0.0   0.0  \n",
       "13066   0.0   0.0  \n",
       "13067   0.0   0.0  \n",
       "13068   0.0   0.0  \n",
       "13069   0.0   0.0  \n",
       "\n",
       "[13070 rows x 10609 columns]"
      ]
     },
     "execution_count": 167,
     "metadata": {},
     "output_type": "execute_result"
    }
   ],
   "source": [
    "Y = pd.DataFrame(Xtest.toarray(), columns=tv.get_feature_names_out())\n",
    "Y"
   ]
  },
  {
   "cell_type": "code",
   "execution_count": null,
   "id": "6d86c1d9",
   "metadata": {},
   "outputs": [],
   "source": []
  },
  {
   "cell_type": "code",
   "execution_count": null,
   "id": "ad948471",
   "metadata": {},
   "outputs": [],
   "source": []
  },
  {
   "cell_type": "code",
   "execution_count": null,
   "id": "28ea7258",
   "metadata": {},
   "outputs": [],
   "source": []
  }
 ],
 "metadata": {
  "language_info": {
   "name": "python"
  }
 },
 "nbformat": 4,
 "nbformat_minor": 5
}
