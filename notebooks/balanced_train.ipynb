{
 "cells": [
  {
   "cell_type": "code",
   "execution_count": 26,
   "id": "3fd4d314",
   "metadata": {},
   "outputs": [],
   "source": [
    "import pandas as pd\n",
    "import matplotlib.pyplot as plt\n",
    "import seaborn as sns"
   ]
  },
  {
   "cell_type": "code",
   "execution_count": 27,
   "id": "e9b6fd67",
   "metadata": {},
   "outputs": [
    {
     "data": {
      "text/html": [
       "<div>\n",
       "<style scoped>\n",
       "    .dataframe tbody tr th:only-of-type {\n",
       "        vertical-align: middle;\n",
       "    }\n",
       "\n",
       "    .dataframe tbody tr th {\n",
       "        vertical-align: top;\n",
       "    }\n",
       "\n",
       "    .dataframe thead th {\n",
       "        text-align: right;\n",
       "    }\n",
       "</style>\n",
       "<table border=\"1\" class=\"dataframe\">\n",
       "  <thead>\n",
       "    <tr style=\"text-align: right;\">\n",
       "      <th></th>\n",
       "      <th>Review</th>\n",
       "      <th>Rating</th>\n",
       "    </tr>\n",
       "  </thead>\n",
       "  <tbody>\n",
       "    <tr>\n",
       "      <th>0</th>\n",
       "      <td>These shorts are very sheer and lightweight, b...</td>\n",
       "      <td>1.0</td>\n",
       "    </tr>\n",
       "    <tr>\n",
       "      <th>1</th>\n",
       "      <td>Sent back. Poor quality.</td>\n",
       "      <td>1.0</td>\n",
       "    </tr>\n",
       "    <tr>\n",
       "      <th>2</th>\n",
       "      <td>I bought this dress because i saw it in stores...</td>\n",
       "      <td>1.0</td>\n",
       "    </tr>\n",
       "    <tr>\n",
       "      <th>3</th>\n",
       "      <td>After playing one tournament the pants already...</td>\n",
       "      <td>1.0</td>\n",
       "    </tr>\n",
       "    <tr>\n",
       "      <th>4</th>\n",
       "      <td>Too tight and the material felt cheap</td>\n",
       "      <td>1.0</td>\n",
       "    </tr>\n",
       "    <tr>\n",
       "      <th>...</th>\n",
       "      <td>...</td>\n",
       "      <td>...</td>\n",
       "    </tr>\n",
       "    <tr>\n",
       "      <th>9995</th>\n",
       "      <td>This fit my fiancé perfect. Got him a Large. H...</td>\n",
       "      <td>5.0</td>\n",
       "    </tr>\n",
       "    <tr>\n",
       "      <th>9996</th>\n",
       "      <td>Washes well without shrinking. Good fit.</td>\n",
       "      <td>5.0</td>\n",
       "    </tr>\n",
       "    <tr>\n",
       "      <th>9997</th>\n",
       "      <td>It's suit looked great on him!!!!  Jacket and ...</td>\n",
       "      <td>5.0</td>\n",
       "    </tr>\n",
       "    <tr>\n",
       "      <th>9998</th>\n",
       "      <td>I wore this to a conference and I received so ...</td>\n",
       "      <td>5.0</td>\n",
       "    </tr>\n",
       "    <tr>\n",
       "      <th>9999</th>\n",
       "      <td>This blouse is adorable! very flattering wrap ...</td>\n",
       "      <td>5.0</td>\n",
       "    </tr>\n",
       "  </tbody>\n",
       "</table>\n",
       "<p>10000 rows × 2 columns</p>\n",
       "</div>"
      ],
      "text/plain": [
       "                                                 Review  Rating\n",
       "0     These shorts are very sheer and lightweight, b...     1.0\n",
       "1                              Sent back. Poor quality.     1.0\n",
       "2     I bought this dress because i saw it in stores...     1.0\n",
       "3     After playing one tournament the pants already...     1.0\n",
       "4                 Too tight and the material felt cheap     1.0\n",
       "...                                                 ...     ...\n",
       "9995  This fit my fiancé perfect. Got him a Large. H...     5.0\n",
       "9996           Washes well without shrinking. Good fit.     5.0\n",
       "9997  It's suit looked great on him!!!!  Jacket and ...     5.0\n",
       "9998  I wore this to a conference and I received so ...     5.0\n",
       "9999  This blouse is adorable! very flattering wrap ...     5.0\n",
       "\n",
       "[10000 rows x 2 columns]"
      ]
     },
     "execution_count": 27,
     "metadata": {},
     "output_type": "execute_result"
    }
   ],
   "source": [
    "df=pd.read_csv('balanced_data.csv')\n",
    "df"
   ]
  },
  {
   "cell_type": "code",
   "execution_count": 28,
   "id": "79c58b88",
   "metadata": {},
   "outputs": [
    {
     "data": {
      "text/plain": [
       "Review    False\n",
       "Rating    False\n",
       "dtype: bool"
      ]
     },
     "execution_count": 28,
     "metadata": {},
     "output_type": "execute_result"
    }
   ],
   "source": [
    "df.isnull().any()"
   ]
  },
  {
   "cell_type": "code",
   "execution_count": 29,
   "id": "e4b62e0e",
   "metadata": {},
   "outputs": [
    {
     "name": "stdout",
     "output_type": "stream",
     "text": [
      "Number of duplicate rows: 0\n"
     ]
    }
   ],
   "source": [
    "num_duplicates = df.duplicated().sum()\n",
    "print(f\"Number of duplicate rows: {num_duplicates}\")"
   ]
  },
  {
   "cell_type": "code",
   "execution_count": 30,
   "id": "3f3cc220",
   "metadata": {},
   "outputs": [],
   "source": [
    "# Shuffle the balanced DataFrame\n",
    "df = df.sample(frac=1, random_state=42).reset_index(drop=True)"
   ]
  },
  {
   "cell_type": "code",
   "execution_count": 31,
   "id": "e128cec6",
   "metadata": {},
   "outputs": [
    {
     "data": {
      "text/html": [
       "<div>\n",
       "<style scoped>\n",
       "    .dataframe tbody tr th:only-of-type {\n",
       "        vertical-align: middle;\n",
       "    }\n",
       "\n",
       "    .dataframe tbody tr th {\n",
       "        vertical-align: top;\n",
       "    }\n",
       "\n",
       "    .dataframe thead th {\n",
       "        text-align: right;\n",
       "    }\n",
       "</style>\n",
       "<table border=\"1\" class=\"dataframe\">\n",
       "  <thead>\n",
       "    <tr style=\"text-align: right;\">\n",
       "      <th></th>\n",
       "      <th>Review</th>\n",
       "      <th>Rating</th>\n",
       "    </tr>\n",
       "  </thead>\n",
       "  <tbody>\n",
       "    <tr>\n",
       "      <th>0</th>\n",
       "      <td>only sleeves were a little long but easily hem...</td>\n",
       "      <td>4.0</td>\n",
       "    </tr>\n",
       "    <tr>\n",
       "      <th>1</th>\n",
       "      <td>One wash wonder...i'm a s to m and went with a...</td>\n",
       "      <td>3.0</td>\n",
       "    </tr>\n",
       "    <tr>\n",
       "      <th>2</th>\n",
       "      <td>Ordered a medium and these run extremely tight...</td>\n",
       "      <td>1.0</td>\n",
       "    </tr>\n",
       "    <tr>\n",
       "      <th>3</th>\n",
       "      <td>I'm 5 11, 183 lbs on the muscular side. I boug...</td>\n",
       "      <td>3.0</td>\n",
       "    </tr>\n",
       "    <tr>\n",
       "      <th>4</th>\n",
       "      <td>I think these are meant for people who are ove...</td>\n",
       "      <td>3.0</td>\n",
       "    </tr>\n",
       "    <tr>\n",
       "      <th>...</th>\n",
       "      <td>...</td>\n",
       "      <td>...</td>\n",
       "    </tr>\n",
       "    <tr>\n",
       "      <th>9995</th>\n",
       "      <td>I normally wear a 10 or 12. Bought these in a ...</td>\n",
       "      <td>3.0</td>\n",
       "    </tr>\n",
       "    <tr>\n",
       "      <th>9996</th>\n",
       "      <td>Decent quality lounge shorts at a reasonable p...</td>\n",
       "      <td>3.0</td>\n",
       "    </tr>\n",
       "    <tr>\n",
       "      <th>9997</th>\n",
       "      <td>I am normally a m-l (170 lbs, 5'4\", 34dd). i o...</td>\n",
       "      <td>3.0</td>\n",
       "    </tr>\n",
       "    <tr>\n",
       "      <th>9998</th>\n",
       "      <td>I ordered this to wear for a holiday party hop...</td>\n",
       "      <td>1.0</td>\n",
       "    </tr>\n",
       "    <tr>\n",
       "      <th>9999</th>\n",
       "      <td>I just got this in the mail today. it's really...</td>\n",
       "      <td>4.0</td>\n",
       "    </tr>\n",
       "  </tbody>\n",
       "</table>\n",
       "<p>10000 rows × 2 columns</p>\n",
       "</div>"
      ],
      "text/plain": [
       "                                                 Review  Rating\n",
       "0     only sleeves were a little long but easily hem...     4.0\n",
       "1     One wash wonder...i'm a s to m and went with a...     3.0\n",
       "2     Ordered a medium and these run extremely tight...     1.0\n",
       "3     I'm 5 11, 183 lbs on the muscular side. I boug...     3.0\n",
       "4     I think these are meant for people who are ove...     3.0\n",
       "...                                                 ...     ...\n",
       "9995  I normally wear a 10 or 12. Bought these in a ...     3.0\n",
       "9996  Decent quality lounge shorts at a reasonable p...     3.0\n",
       "9997  I am normally a m-l (170 lbs, 5'4\", 34dd). i o...     3.0\n",
       "9998  I ordered this to wear for a holiday party hop...     1.0\n",
       "9999  I just got this in the mail today. it's really...     4.0\n",
       "\n",
       "[10000 rows x 2 columns]"
      ]
     },
     "execution_count": 31,
     "metadata": {},
     "output_type": "execute_result"
    }
   ],
   "source": [
    "df"
   ]
  },
  {
   "cell_type": "code",
   "execution_count": 9,
   "id": "376979c9",
   "metadata": {},
   "outputs": [],
   "source": [
    "from sklearn.model_selection import train_test_split"
   ]
  },
  {
   "cell_type": "code",
   "execution_count": 32,
   "id": "267e0008",
   "metadata": {},
   "outputs": [],
   "source": [
    "x=df['Review']\n",
    "y=df['Rating']"
   ]
  },
  {
   "cell_type": "code",
   "execution_count": 33,
   "id": "6fa330d4",
   "metadata": {},
   "outputs": [],
   "source": [
    "X_train, X_test, y_train, y_test = train_test_split(\n",
    "    x, y, test_size=0.2, random_state=42, stratify=y\n",
    ")"
   ]
  },
  {
   "cell_type": "code",
   "execution_count": null,
   "id": "10b10384",
   "metadata": {},
   "outputs": [],
   "source": []
  },
  {
   "cell_type": "code",
   "execution_count": 34,
   "id": "b167264b",
   "metadata": {},
   "outputs": [],
   "source": [
    "#removing punctuations and making lower case\n",
    "X_train = X_train.str.lower()\n",
    "X_train = X_train.str.replace(r'\\[.*?\\]', '', regex=True)\n"
   ]
  },
  {
   "cell_type": "code",
   "execution_count": 35,
   "id": "7f761513",
   "metadata": {},
   "outputs": [],
   "source": [
    "import re\n",
    "\n",
    "def clean_text(text):\n",
    "    text = str(text)\n",
    "    text = re.sub(r\"http\\S+|www\\S+|https\\S+\", '', text, flags=re.MULTILINE)  # remove URLs\n",
    "    text = re.sub(r'<.*?>', '', text)  # remove HTML tags\n",
    "    text = re.sub(r'[\\U00010000-\\U0010ffff]', '', text)  # remove emojis\n",
    "    text = re.sub(r'[^\\w\\s]', '', text)  # remove punctuation\n",
    "    text = re.sub(r'[^a-zA-Z0-9\\s]', '', text)  # remove special characters\n",
    "    text = re.sub(r'\\s+', ' ', text).strip()  # remove extra whitespace\n",
    "    return text\n"
   ]
  },
  {
   "cell_type": "code",
   "execution_count": 36,
   "id": "e3b0885b",
   "metadata": {},
   "outputs": [],
   "source": [
    "X_train=X_train.apply(clean_text)"
   ]
  },
  {
   "cell_type": "code",
   "execution_count": 37,
   "id": "757e3f9c",
   "metadata": {},
   "outputs": [
    {
     "data": {
      "text/plain": [
       "2203    the shirt easily wrinkles is extremely sheer a...\n",
       "9737    love the style and cut of this top but fabric ...\n",
       "8977    these rain pants will mostly keep you dry the ...\n",
       "8396                               these were see through\n",
       "4713    i ordered this top online during the mothers d...\n",
       "                              ...                        \n",
       "820                     i only got pants without a jacket\n",
       "7134                                      3x is morike xl\n",
       "1276    wife says she is keeping it because she loves ...\n",
       "97                        it was just to small for my son\n",
       "9958                                    fits true to size\n",
       "Name: Review, Length: 8000, dtype: object"
      ]
     },
     "execution_count": 37,
     "metadata": {},
     "output_type": "execute_result"
    }
   ],
   "source": [
    "X_train"
   ]
  },
  {
   "cell_type": "code",
   "execution_count": 16,
   "id": "4b6abccd",
   "metadata": {},
   "outputs": [],
   "source": [
    "import spacy\n",
    "nlp = spacy.load(\"en_core_web_sm\")"
   ]
  },
  {
   "cell_type": "code",
   "execution_count": 17,
   "id": "085574be",
   "metadata": {},
   "outputs": [],
   "source": [
    "#lemmatization and stop word removal\n",
    "def cleaning(text):\n",
    "    doc = nlp(text)\n",
    "    return ' '.join([token.lemma_ for token in doc if not token.is_stop])"
   ]
  },
  {
   "cell_type": "code",
   "execution_count": 38,
   "id": "59cbac02",
   "metadata": {},
   "outputs": [],
   "source": [
    "X_train=X_train.apply(cleaning)"
   ]
  },
  {
   "cell_type": "code",
   "execution_count": 39,
   "id": "c49e7722",
   "metadata": {},
   "outputs": [],
   "source": [
    "#removing punctuations and making lower case\n",
    "X_test = X_test.str.lower()\n",
    "X_test = X_test.str.replace(r'\\[.*?\\]', '', regex=True)\n"
   ]
  },
  {
   "cell_type": "code",
   "execution_count": 40,
   "id": "47616f99",
   "metadata": {},
   "outputs": [],
   "source": [
    "X_test=X_test.apply(clean_text)"
   ]
  },
  {
   "cell_type": "code",
   "execution_count": 41,
   "id": "93b10f6a",
   "metadata": {},
   "outputs": [],
   "source": [
    "X_test=X_test.apply(cleaning)"
   ]
  },
  {
   "cell_type": "code",
   "execution_count": 42,
   "id": "e3d13b78",
   "metadata": {},
   "outputs": [],
   "source": [
    "train_df = pd.DataFrame({'Review': X_train, 'Rating': y_train})\n",
    "test_df = pd.DataFrame({'Review': X_test, 'Rating': y_test})"
   ]
  },
  {
   "cell_type": "code",
   "execution_count": 43,
   "id": "20bb3777",
   "metadata": {},
   "outputs": [
    {
     "name": "stdout",
     "output_type": "stream",
     "text": [
      "<class 'pandas.core.frame.DataFrame'>\n",
      "Index: 2000 entries, 4220 to 4630\n",
      "Data columns (total 2 columns):\n",
      " #   Column  Non-Null Count  Dtype  \n",
      "---  ------  --------------  -----  \n",
      " 0   Review  2000 non-null   object \n",
      " 1   Rating  2000 non-null   float64\n",
      "dtypes: float64(1), object(1)\n",
      "memory usage: 46.9+ KB\n"
     ]
    }
   ],
   "source": [
    "test_df.info()"
   ]
  },
  {
   "cell_type": "code",
   "execution_count": 50,
   "id": "7c407151",
   "metadata": {},
   "outputs": [],
   "source": [
    "#Filter out reviews with: Fewer than 3 words and Excessively long text\n",
    "\n",
    "train_df['Word_Count'] = train_df['Review'].astype(str).apply(lambda x: len(x.split()))\n",
    "train_df = train_df[(train_df['Word_Count'] >= 3) & (train_df['Word_Count'] <= 100)]\n",
    "\n",
    "\n",
    "X_train = train_df['Review']\n",
    "y_train = train_df['Rating']"
   ]
  },
  {
   "cell_type": "code",
   "execution_count": 51,
   "id": "3fc0e5e9",
   "metadata": {},
   "outputs": [],
   "source": [
    "#Filter out reviews with: Fewer than 3 words and Excessively long text\n",
    "test_df['Word_Count'] = test_df['Review'].astype(str).apply(lambda x: len(x.split()))\n",
    "test_df = test_df[(test_df['Word_Count'] >= 3) & (test_df['Word_Count'] <= 100)]\n",
    "\n",
    "\n",
    "X_test = test_df['Review']\n",
    "y_test = test_df['Rating']"
   ]
  },
  {
   "cell_type": "code",
   "execution_count": 44,
   "id": "f16e647e",
   "metadata": {},
   "outputs": [],
   "source": [
    "from sklearn.feature_extraction.text import  TfidfVectorizer"
   ]
  },
  {
   "cell_type": "code",
   "execution_count": 52,
   "id": "ac3234f3",
   "metadata": {},
   "outputs": [],
   "source": [
    "# TF-IDF Vectorization\n",
    "tv = TfidfVectorizer()\n",
    "Xtrain_vec = tv.fit_transform(X_train)\n",
    "Xtest_vec = tv.transform(X_test)"
   ]
  },
  {
   "cell_type": "code",
   "execution_count": 46,
   "id": "24ff65fa",
   "metadata": {},
   "outputs": [],
   "source": [
    "from sklearn.linear_model import LogisticRegression\n",
    "from sklearn.metrics import accuracy_score, classification_report, confusion_matrix"
   ]
  },
  {
   "cell_type": "code",
   "execution_count": 66,
   "id": "1486f837",
   "metadata": {},
   "outputs": [
    {
     "name": "stdout",
     "output_type": "stream",
     "text": [
      " Logistic Regression:\n",
      "Accuracy: 0.44718864950078824\n",
      "Classification Report:\n",
      "               precision    recall  f1-score   support\n",
      "\n",
      "         1.0       0.49      0.56      0.52       371\n",
      "         2.0       0.38      0.33      0.35       382\n",
      "         3.0       0.36      0.32      0.34       383\n",
      "         4.0       0.40      0.43      0.42       387\n",
      "         5.0       0.58      0.60      0.59       380\n",
      "\n",
      "    accuracy                           0.45      1903\n",
      "   macro avg       0.44      0.45      0.44      1903\n",
      "weighted avg       0.44      0.45      0.44      1903\n",
      "\n"
     ]
    },
    {
     "data": {
      "image/png": "[encoded data removed]",
      "text/plain": [
       "<Figure size 640x480 with 2 Axes>"
      ]
     },
     "metadata": {},
     "output_type": "display_data"
    }
   ],
   "source": [
    "# Train Logistic Regression\n",
    "lr = LogisticRegression(max_iter=1000)\n",
    "lr.fit(Xtrain_vec, y_train)\n",
    "\n",
    "# Predict\n",
    "y_pred_lr = lr.predict(Xtest_vec)\n",
    "\n",
    "# Evaluation\n",
    "print(\" Logistic Regression:\")\n",
    "print(\"Accuracy:\", accuracy_score(y_test, y_pred_lr))\n",
    "print(\"Classification Report:\\n\", classification_report(y_test, y_pred_lr))\n",
    "\n",
    "# Confusion Matrix\n",
    "sns.heatmap(confusion_matrix(y_test, y_pred_lr), annot=True, fmt=\"d\", cmap=\"Blues\")\n",
    "plt.title(\"Logistic Regression - Confusion Matrix\")\n",
    "plt.xlabel(\"Predicted\")\n",
    "plt.ylabel(\"Actual\")\n",
    "plt.show()"
   ]
  },
  {
   "cell_type": "code",
   "execution_count": 65,
   "id": "a59836e5",
   "metadata": {},
   "outputs": [
    {
     "name": "stdout",
     "output_type": "stream",
     "text": [
      "Predicted Rating: 5.0\n"
     ]
    }
   ],
   "source": [
    "new_review = [\"great dress\"]\n",
    "\n",
    "# Preprocess and vectorize the new review\n",
    "new_vec = tv.transform(new_review)\n",
    "\n",
    "# Predict\n",
    "predicted_rating = lr.predict(new_vec)\n",
    "print(\"Predicted Rating:\", predicted_rating[0])"
   ]
  },
  {
   "cell_type": "code",
   "execution_count": 54,
   "id": "2647c117",
   "metadata": {},
   "outputs": [
    {
     "name": "stdout",
     "output_type": "stream",
     "text": [
      "📌 Naive Bayes:\n",
      "Accuracy: 0.4366789280084078\n",
      "Classification Report:\n",
      "               precision    recall  f1-score   support\n",
      "\n",
      "         1.0       0.56      0.44      0.50       371\n",
      "         2.0       0.34      0.29      0.32       382\n",
      "         3.0       0.34      0.37      0.35       383\n",
      "         4.0       0.37      0.53      0.44       387\n",
      "         5.0       0.65      0.55      0.59       380\n",
      "\n",
      "    accuracy                           0.44      1903\n",
      "   macro avg       0.45      0.44      0.44      1903\n",
      "weighted avg       0.45      0.44      0.44      1903\n",
      "\n"
     ]
    },
    {
     "data": {
      "image/png": "[encoded data removed]",
      "text/plain": [
       "<Figure size 640x480 with 2 Axes>"
      ]
     },
     "metadata": {},
     "output_type": "display_data"
    }
   ],
   "source": [
    "from sklearn.naive_bayes import MultinomialNB\n",
    "\n",
    "# Train Naive Bayes\n",
    "nb = MultinomialNB()\n",
    "nb.fit(Xtrain_vec, y_train)\n",
    "\n",
    "# Predict\n",
    "y_pred_nb = nb.predict(Xtest_vec)\n",
    "\n",
    "# Evaluation\n",
    "print(\"📌 Naive Bayes:\")\n",
    "print(\"Accuracy:\", accuracy_score(y_test, y_pred_nb))\n",
    "print(\"Classification Report:\\n\", classification_report(y_test, y_pred_nb))\n",
    "\n",
    "# Confusion Matrix\n",
    "sns.heatmap(confusion_matrix(y_test, y_pred_nb), annot=True, fmt=\"d\", cmap=\"Greens\")\n",
    "plt.title(\"Naive Bayes - Confusion Matrix\")\n",
    "plt.xlabel(\"Predicted\")\n",
    "plt.ylabel(\"Actual\")\n",
    "plt.show()\n"
   ]
  },
  {
   "cell_type": "code",
   "execution_count": 55,
   "id": "d6a3bee6",
   "metadata": {},
   "outputs": [
    {
     "name": "stdout",
     "output_type": "stream",
     "text": [
      "📌 Support Vector Machine (SVM):\n",
      "Accuracy: 0.41986337362059906\n",
      "Classification Report:\n",
      "               precision    recall  f1-score   support\n",
      "\n",
      "         1.0       0.51      0.56      0.53       371\n",
      "         2.0       0.34      0.31      0.32       382\n",
      "         3.0       0.30      0.25      0.28       383\n",
      "         4.0       0.36      0.39      0.37       387\n",
      "         5.0       0.56      0.60      0.58       380\n",
      "\n",
      "    accuracy                           0.42      1903\n",
      "   macro avg       0.41      0.42      0.42      1903\n",
      "weighted avg       0.41      0.42      0.41      1903\n",
      "\n"
     ]
    },
    {
     "data": {
      "image/png": "[encoded data removed]",
      "text/plain": [
       "<Figure size 640x480 with 2 Axes>"
      ]
     },
     "metadata": {},
     "output_type": "display_data"
    }
   ],
   "source": [
    "from sklearn.svm import LinearSVC\n",
    "\n",
    "# Train SVM\n",
    "svm = LinearSVC()\n",
    "svm.fit(Xtrain_vec, y_train)\n",
    "\n",
    "# Predict\n",
    "y_pred_svm = svm.predict(Xtest_vec)\n",
    "\n",
    "# Evaluation\n",
    "print(\"📌 Support Vector Machine (SVM):\")\n",
    "print(\"Accuracy:\", accuracy_score(y_test, y_pred_svm))\n",
    "print(\"Classification Report:\\n\", classification_report(y_test, y_pred_svm))\n",
    "\n",
    "# Confusion Matrix\n",
    "sns.heatmap(confusion_matrix(y_test, y_pred_svm), annot=True, fmt=\"d\", cmap=\"Oranges\")\n",
    "plt.title(\"SVM - Confusion Matrix\")\n",
    "plt.xlabel(\"Predicted\")\n",
    "plt.ylabel(\"Actual\")\n",
    "plt.show()\n"
   ]
  },
  {
   "cell_type": "code",
   "execution_count": 67,
   "id": "eb3a76e1",
   "metadata": {},
   "outputs": [
    {
     "name": "stdout",
     "output_type": "stream",
     "text": [
      "Best Parameters: {'C': 1, 'penalty': 'l2', 'solver': 'liblinear'}\n",
      "✅ Accuracy after tuning: 0.44981607987388333\n",
      "\n",
      "📋 Classification Report:\n",
      "               precision    recall  f1-score   support\n",
      "\n",
      "         1.0       0.50      0.60      0.54       371\n",
      "         2.0       0.39      0.30      0.34       382\n",
      "         3.0       0.35      0.31      0.33       383\n",
      "         4.0       0.40      0.43      0.41       387\n",
      "         5.0       0.57      0.63      0.60       380\n",
      "\n",
      "    accuracy                           0.45      1903\n",
      "   macro avg       0.44      0.45      0.44      1903\n",
      "weighted avg       0.44      0.45      0.44      1903\n",
      "\n"
     ]
    },
    {
     "name": "stderr",
     "output_type": "stream",
     "text": [
      "C:\\Users\\LENOVO\\AppData\\Roaming\\Python\\Python313\\site-packages\\sklearn\\linear_model\\_logistic.py:1288: FutureWarning: Using the 'liblinear' solver for multiclass classification is deprecated. An error will be raised in 1.8. Either use another solver which supports the multinomial loss or wrap the estimator in a OneVsRestClassifier to keep applying a one-versus-rest scheme.\n",
      "  warnings.warn(\n"
     ]
    }
   ],
   "source": [
    "from sklearn.model_selection import GridSearchCV\n",
    "from sklearn.linear_model import LogisticRegression\n",
    "\n",
    "# Define parameter grid\n",
    "param_grid = {\n",
    "    'C': [0.01, 0.1, 1, 10],               # Regularization strength\n",
    "    'penalty': ['l1', 'l2'],               # L1 = Lasso, L2 = Ridge\n",
    "    'solver': ['liblinear', 'saga']        # Compatible solvers\n",
    "}\n",
    "\n",
    "# Create base model\n",
    "lr = LogisticRegression(max_iter=1000)\n",
    "\n",
    "# Grid search\n",
    "grid_search = GridSearchCV(lr, param_grid, cv=5, scoring='accuracy', n_jobs=-1)\n",
    "grid_search.fit(Xtrain_vec, y_train)\n",
    "\n",
    "# Best parameters\n",
    "print(\"Best Parameters:\", grid_search.best_params_)\n",
    "\n",
    "# Best model\n",
    "best_lr = grid_search.best_estimator_\n",
    "\n",
    "# Predict using best model\n",
    "y_pred = best_lr.predict(Xtest_vec)\n",
    "\n",
    "# Evaluate\n",
    "from sklearn.metrics import accuracy_score, classification_report\n",
    "print(\"✅ Accuracy after tuning:\", accuracy_score(y_test, y_pred))\n",
    "print(\"\\n📋 Classification Report:\\n\", classification_report(y_test, y_pred))\n"
   ]
  },
  {
   "cell_type": "code",
   "execution_count": null,
   "id": "75885b1e",
   "metadata": {},
   "outputs": [],
   "source": []
  }
 ],
 "metadata": {
  "kernelspec": {
   "display_name": "Python 3",
   "language": "python",
   "name": "python3"
  },
  "language_info": {
   "codemirror_mode": {
    "name": "ipython",
    "version": 3
   },
   "file_extension": ".py",
   "mimetype": "text/x-python",
   "name": "python",
   "nbconvert_exporter": "python",
   "pygments_lexer": "ipython3",
   "version": "3.13.5"
  }
 },
 "nbformat": 4,
 "nbformat_minor": 5
}
