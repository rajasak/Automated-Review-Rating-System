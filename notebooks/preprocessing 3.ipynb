{
 "cells": [
  {
   "cell_type": "code",
   "execution_count": 18,
   "id": "c2c8279f",
   "metadata": {},
   "outputs": [],
   "source": [
    "import pandas as pd\n",
    "import matplotlib.pyplot as plt\n",
    "import seaborn as sns"
   ]
  },
  {
   "cell_type": "code",
   "execution_count": null,
   "id": "7ee13538",
   "metadata": {},
   "outputs": [],
   "source": []
  },
  {
   "cell_type": "code",
   "execution_count": 10,
   "id": "bf15f3d3",
   "metadata": {},
   "outputs": [
    {
     "data": {
      "text/html": [
       "<div>\n",
       "<style scoped>\n",
       "    .dataframe tbody tr th:only-of-type {\n",
       "        vertical-align: middle;\n",
       "    }\n",
       "\n",
       "    .dataframe tbody tr th {\n",
       "        vertical-align: top;\n",
       "    }\n",
       "\n",
       "    .dataframe thead th {\n",
       "        text-align: right;\n",
       "    }\n",
       "</style>\n",
       "<table border=\"1\" class=\"dataframe\">\n",
       "  <thead>\n",
       "    <tr style=\"text-align: right;\">\n",
       "      <th></th>\n",
       "      <th>Review</th>\n",
       "      <th>Rating</th>\n",
       "      <th>Review_clean</th>\n",
       "      <th>sentiment</th>\n",
       "    </tr>\n",
       "  </thead>\n",
       "  <tbody>\n",
       "    <tr>\n",
       "      <th>0</th>\n",
       "      <td>Some major design flaws</td>\n",
       "      <td>3</td>\n",
       "      <td>major design flaw</td>\n",
       "      <td>0.0000</td>\n",
       "    </tr>\n",
       "    <tr>\n",
       "      <th>1</th>\n",
       "      <td>My favorite buy!</td>\n",
       "      <td>5</td>\n",
       "      <td>favorite buy</td>\n",
       "      <td>0.4588</td>\n",
       "    </tr>\n",
       "    <tr>\n",
       "      <th>2</th>\n",
       "      <td>Flattering shirt</td>\n",
       "      <td>5</td>\n",
       "      <td>flattering shirt</td>\n",
       "      <td>0.3182</td>\n",
       "    </tr>\n",
       "    <tr>\n",
       "      <th>3</th>\n",
       "      <td>Not for the very petite</td>\n",
       "      <td>2</td>\n",
       "      <td>petite</td>\n",
       "      <td>0.0000</td>\n",
       "    </tr>\n",
       "    <tr>\n",
       "      <th>4</th>\n",
       "      <td>Cagrcoal shimmer fun</td>\n",
       "      <td>5</td>\n",
       "      <td>cagrcoal shimmer fun</td>\n",
       "      <td>0.5106</td>\n",
       "    </tr>\n",
       "    <tr>\n",
       "      <th>...</th>\n",
       "      <td>...</td>\n",
       "      <td>...</td>\n",
       "      <td>...</td>\n",
       "      <td>...</td>\n",
       "    </tr>\n",
       "    <tr>\n",
       "      <th>29605</th>\n",
       "      <td>Perfect wedding dress! Just get it!</td>\n",
       "      <td>5</td>\n",
       "      <td>perfect wedding dress</td>\n",
       "      <td>0.5719</td>\n",
       "    </tr>\n",
       "    <tr>\n",
       "      <th>29606</th>\n",
       "      <td>Elegant 💞💞💞</td>\n",
       "      <td>5</td>\n",
       "      <td>elegant</td>\n",
       "      <td>0.4767</td>\n",
       "    </tr>\n",
       "    <tr>\n",
       "      <th>29607</th>\n",
       "      <td>Dress felt and fit great.  I got lots of compl...</td>\n",
       "      <td>5</td>\n",
       "      <td>dress feel fit great   get lot compliment</td>\n",
       "      <td>0.8658</td>\n",
       "    </tr>\n",
       "    <tr>\n",
       "      <th>29608</th>\n",
       "      <td>Loved the dress but poor quality</td>\n",
       "      <td>2</td>\n",
       "      <td>love dress poor quality</td>\n",
       "      <td>0.2732</td>\n",
       "    </tr>\n",
       "    <tr>\n",
       "      <th>29609</th>\n",
       "      <td>Cute dress, didn't fit</td>\n",
       "      <td>1</td>\n",
       "      <td>cute dress not fit</td>\n",
       "      <td>0.2240</td>\n",
       "    </tr>\n",
       "  </tbody>\n",
       "</table>\n",
       "<p>29424 rows × 4 columns</p>\n",
       "</div>"
      ],
      "text/plain": [
       "                                                  Review  Rating  \\\n",
       "0                                Some major design flaws       3   \n",
       "1                                       My favorite buy!       5   \n",
       "2                                       Flattering shirt       5   \n",
       "3                                Not for the very petite       2   \n",
       "4                                   Cagrcoal shimmer fun       5   \n",
       "...                                                  ...     ...   \n",
       "29605                Perfect wedding dress! Just get it!       5   \n",
       "29606                                        Elegant 💞💞💞       5   \n",
       "29607  Dress felt and fit great.  I got lots of compl...       5   \n",
       "29608                   Loved the dress but poor quality       2   \n",
       "29609                             Cute dress, didn't fit       1   \n",
       "\n",
       "                                    Review_clean  sentiment  \n",
       "0                              major design flaw     0.0000  \n",
       "1                                   favorite buy     0.4588  \n",
       "2                               flattering shirt     0.3182  \n",
       "3                                         petite     0.0000  \n",
       "4                           cagrcoal shimmer fun     0.5106  \n",
       "...                                          ...        ...  \n",
       "29605                      perfect wedding dress     0.5719  \n",
       "29606                                    elegant     0.4767  \n",
       "29607  dress feel fit great   get lot compliment     0.8658  \n",
       "29608                    love dress poor quality     0.2732  \n",
       "29609                         cute dress not fit     0.2240  \n",
       "\n",
       "[29424 rows x 4 columns]"
      ]
     },
     "execution_count": 10,
     "metadata": {},
     "output_type": "execute_result"
    }
   ],
   "source": [
    "df=pd.read_pickle('cleaned_imbalanced.pkl')\n",
    "df"
   ]
  },
  {
   "cell_type": "markdown",
   "id": "91a2742c",
   "metadata": {},
   "source": [
    " # creating balanced and imbalanced data\n"
   ]
  },
  {
   "cell_type": "code",
   "execution_count": 11,
   "id": "fe9a4075",
   "metadata": {},
   "outputs": [
    {
     "name": "stderr",
     "output_type": "stream",
     "text": [
      "C:\\Users\\LENOVO\\AppData\\Local\\Temp\\ipykernel_11768\\1360112914.py:2: FutureWarning: DataFrameGroupBy.apply operated on the grouping columns. This behavior is deprecated, and in a future version of pandas the grouping columns will be excluded from the operation. Either pass `include_groups=False` to exclude the groupings or explicitly select the grouping columns after groupby to silence this warning.\n",
      "  balanced_df = df.groupby('Rating').apply(lambda x: x.sample(n=2000, random_state=42)).reset_index(drop=True)\n"
     ]
    }
   ],
   "source": [
    "\n",
    "#creating balanced data\n",
    "balanced_df = df.groupby('Rating').apply(lambda x: x.sample(n=2000, random_state=42)).reset_index(drop=True)\n",
    "\n",
    "#adding a column key\n",
    "df['key'] = df.astype(str).agg('-'.join, axis=1)\n",
    "balanced_df['key'] = balanced_df.astype(str).agg('-'.join, axis=1)\n",
    "\n",
    "# Remove balanced rows to get remaining using key column\n",
    "remaining_df = df[~df['key'].isin(balanced_df['key'])].drop(columns='key')\n",
    "balanced_df = balanced_df.drop(columns='key')\n",
    "\n",
    "\n",
    "base_1_star = len(remaining_df[remaining_df['Rating'] == 1])\n",
    "\n",
    "\n",
    "\n",
    "target_counts = {\n",
    "    1: base_1_star,                # 1x\n",
    "    2: int(1.5 * base_1_star),     # 1.5x\n",
    "    3: int(2.5 * base_1_star),       # 2.5x\n",
    "    4: int(3 * base_1_star),       # 3x\n",
    "    5: int(2 * base_1_star),       # 2x\n",
    "}\n",
    "\n",
    "\n",
    "imbalanced_parts = []\n",
    "\n",
    "for rating, target in target_counts.items():\n",
    "    subset = remaining_df[remaining_df['Rating'] == rating]\n",
    "    replace = target > len(subset)  # only upsample if not enough data\n",
    "    sampled = subset.sample(n=target, replace=replace, random_state=42)\n",
    "    imbalanced_parts.append(sampled)\n",
    "\n",
    "# Step 6: Combine imbalanced data\n",
    "imbalanced_df = pd.concat(imbalanced_parts).reset_index(drop=True)\n",
    "\n",
    "\n",
    "\n"
   ]
  },
  {
   "cell_type": "code",
   "execution_count": 12,
   "id": "97b5ec19",
   "metadata": {},
   "outputs": [
    {
     "name": "stdout",
     "output_type": "stream",
     "text": [
      "\n",
      " Balanced Dataset Distribution:\n",
      "Rating\n",
      "1    2000\n",
      "2    2000\n",
      "3    2000\n",
      "4    2000\n",
      "5    2000\n",
      "Name: count, dtype: int64\n",
      "\n",
      " Imbalanced Dataset Distribution:\n",
      "Rating\n",
      "4    1917\n",
      "3    1597\n",
      "5    1278\n",
      "2     958\n",
      "1     639\n",
      "Name: count, dtype: int64\n"
     ]
    }
   ],
   "source": [
    "# Step 7: Final Checks\n",
    "print(\"\\n Balanced Dataset Distribution:\")\n",
    "print(balanced_df['Rating'].value_counts())\n",
    "\n",
    "print(\"\\n Imbalanced Dataset Distribution:\")\n",
    "print(imbalanced_df['Rating'].value_counts())"
   ]
  },
  {
   "cell_type": "code",
   "execution_count": 13,
   "id": "91c2381e",
   "metadata": {},
   "outputs": [
    {
     "name": "stdout",
     "output_type": "stream",
     "text": [
      "Number of duplicate rows between balanced and imbalanced: 0\n"
     ]
    }
   ],
   "source": [
    "# Check overlap between balanced and imbalanced datasets\n",
    "overlap = pd.merge(balanced_df, imbalanced_df, how='inner')\n",
    "print(\"Number of duplicate rows between balanced and imbalanced:\", len(overlap))\n"
   ]
  },
  {
   "cell_type": "markdown",
   "id": "cd443591",
   "metadata": {},
   "source": [
    "# data visualization for imbalanced data"
   ]
  },
  {
   "cell_type": "code",
   "execution_count": 19,
   "id": "157f3619",
   "metadata": {},
   "outputs": [
    {
     "name": "stderr",
     "output_type": "stream",
     "text": [
      "C:\\Users\\LENOVO\\AppData\\Local\\Temp\\ipykernel_11768\\2584613656.py:2: FutureWarning: \n",
      "\n",
      "Passing `palette` without assigning `hue` is deprecated and will be removed in v0.14.0. Assign the `x` variable to `hue` and set `legend=False` for the same effect.\n",
      "\n",
      "  sns.countplot(x='Rating', data=imbalanced_df, palette='viridis')\n"
     ]
    },
    {
     "data": {
      "image/png": "[encoded data removed]",
      "text/plain": [
       "<Figure size 800x500 with 1 Axes>"
      ]
     },
     "metadata": {},
     "output_type": "display_data"
    }
   ],
   "source": [
    "plt.figure(figsize=(8, 5))\n",
    "sns.countplot(x='Rating', data=imbalanced_df, palette='viridis')\n",
    "plt.title(\"Number of Reviews per Rating\")\n",
    "plt.xlabel(\"Rating\")\n",
    "plt.ylabel(\"Count\")\n",
    "plt.show()\n"
   ]
  },
  {
   "cell_type": "code",
   "execution_count": 21,
   "id": "80c6a04e",
   "metadata": {},
   "outputs": [
    {
     "data": {
      "image/png": "[encoded data removed]",
      "text/plain": [
       "<Figure size 600x600 with 1 Axes>"
      ]
     },
     "metadata": {},
     "output_type": "display_data"
    }
   ],
   "source": [
    "rating_counts = imbalanced_df['Rating'].value_counts().sort_index()\n",
    "plt.figure(figsize=(6, 6))\n",
    "plt.pie(rating_counts, labels=rating_counts.index, autopct='%1.1f%%', startangle=140)\n",
    "plt.title(\"Rating Distribution\")\n",
    "plt.show()\n"
   ]
  },
  {
   "cell_type": "code",
   "execution_count": null,
   "id": "f90d9079",
   "metadata": {},
   "outputs": [],
   "source": [
    "balanced_df.to_csv(\"balanced_dataset.csv\", index=False, encoding=\"utf-8-sig\")\n",
    "imbalanced_df.to_csv(\"imbalanced_ratio_dataset.csv\", index=False, encoding=\"utf-8-sig\")"
   ]
  },
  {
   "cell_type": "code",
   "execution_count": null,
   "id": "a466b24e",
   "metadata": {},
   "outputs": [],
   "source": []
  },
  {
   "cell_type": "code",
   "execution_count": null,
   "id": "d28da98f",
   "metadata": {},
   "outputs": [],
   "source": []
  },
  {
   "cell_type": "code",
   "execution_count": null,
   "id": "1d84baa3",
   "metadata": {},
   "outputs": [],
   "source": []
  },
  {
   "cell_type": "code",
   "execution_count": null,
   "id": "6903fe05",
   "metadata": {},
   "outputs": [],
   "source": []
  }
 ],
 "metadata": {
  "kernelspec": {
   "display_name": "Python 3",
   "language": "python",
   "name": "python3"
  },
  "language_info": {
   "codemirror_mode": {
    "name": "ipython",
    "version": 3
   },
   "file_extension": ".py",
   "mimetype": "text/x-python",
   "name": "python",
   "nbconvert_exporter": "python",
   "pygments_lexer": "ipython3",
   "version": "3.13.5"
  }
 },
 "nbformat": 4,
 "nbformat_minor": 5
}
