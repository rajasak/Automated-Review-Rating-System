{
 "cells": [
  {
   "cell_type": "code",
   "execution_count": 3,
   "id": "3fd4d314",
   "metadata": {},
   "outputs": [],
   "source": [
    "import pandas as pd\n",
    "import matplotlib.pyplot as plt\n",
    "import seaborn as sns"
   ]
  },
  {
   "cell_type": "code",
   "execution_count": 4,
   "id": "e9b6fd67",
   "metadata": {},
   "outputs": [
    {
     "data": {
      "text/html": [
       "<div>\n",
       "<style scoped>\n",
       "    .dataframe tbody tr th:only-of-type {\n",
       "        vertical-align: middle;\n",
       "    }\n",
       "\n",
       "    .dataframe tbody tr th {\n",
       "        vertical-align: top;\n",
       "    }\n",
       "\n",
       "    .dataframe thead th {\n",
       "        text-align: right;\n",
       "    }\n",
       "</style>\n",
       "<table border=\"1\" class=\"dataframe\">\n",
       "  <thead>\n",
       "    <tr style=\"text-align: right;\">\n",
       "      <th></th>\n",
       "      <th>Review</th>\n",
       "      <th>Rating</th>\n",
       "    </tr>\n",
       "  </thead>\n",
       "  <tbody>\n",
       "    <tr>\n",
       "      <th>0</th>\n",
       "      <td>I do love this shirt. It's very flattering and...</td>\n",
       "      <td>4.0</td>\n",
       "    </tr>\n",
       "    <tr>\n",
       "      <th>1</th>\n",
       "      <td>I just received this today. I found the fit to...</td>\n",
       "      <td>5.0</td>\n",
       "    </tr>\n",
       "    <tr>\n",
       "      <th>2</th>\n",
       "      <td>These are NOT Wrangler Willow jeans. These are...</td>\n",
       "      <td>2.0</td>\n",
       "    </tr>\n",
       "    <tr>\n",
       "      <th>3</th>\n",
       "      <td>Great fabric, soft, and 100% giftable!</td>\n",
       "      <td>4.0</td>\n",
       "    </tr>\n",
       "    <tr>\n",
       "      <th>4</th>\n",
       "      <td>I have been looking for a long jacket with per...</td>\n",
       "      <td>5.0</td>\n",
       "    </tr>\n",
       "    <tr>\n",
       "      <th>...</th>\n",
       "      <td>...</td>\n",
       "      <td>...</td>\n",
       "    </tr>\n",
       "    <tr>\n",
       "      <th>17115</th>\n",
       "      <td>I really like these. they're not too distresse...</td>\n",
       "      <td>4.0</td>\n",
       "    </tr>\n",
       "    <tr>\n",
       "      <th>17116</th>\n",
       "      <td>This rich color is so flattering!  i also love...</td>\n",
       "      <td>4.0</td>\n",
       "    </tr>\n",
       "    <tr>\n",
       "      <th>17117</th>\n",
       "      <td>Definitely pj quality. i have a fairly thin fr...</td>\n",
       "      <td>3.0</td>\n",
       "    </tr>\n",
       "    <tr>\n",
       "      <th>17118</th>\n",
       "      <td>After only 5 months, these jeans have started ...</td>\n",
       "      <td>1.0</td>\n",
       "    </tr>\n",
       "    <tr>\n",
       "      <th>17119</th>\n",
       "      <td>I think they are one of the best shorts ever t...</td>\n",
       "      <td>5.0</td>\n",
       "    </tr>\n",
       "  </tbody>\n",
       "</table>\n",
       "<p>17120 rows × 2 columns</p>\n",
       "</div>"
      ],
      "text/plain": [
       "                                                  Review  Rating\n",
       "0      I do love this shirt. It's very flattering and...     4.0\n",
       "1      I just received this today. I found the fit to...     5.0\n",
       "2      These are NOT Wrangler Willow jeans. These are...     2.0\n",
       "3                 Great fabric, soft, and 100% giftable!     4.0\n",
       "4      I have been looking for a long jacket with per...     5.0\n",
       "...                                                  ...     ...\n",
       "17115  I really like these. they're not too distresse...     4.0\n",
       "17116  This rich color is so flattering!  i also love...     4.0\n",
       "17117  Definitely pj quality. i have a fairly thin fr...     3.0\n",
       "17118  After only 5 months, these jeans have started ...     1.0\n",
       "17119  I think they are one of the best shorts ever t...     5.0\n",
       "\n",
       "[17120 rows x 2 columns]"
      ]
     },
     "execution_count": 4,
     "metadata": {},
     "output_type": "execute_result"
    }
   ],
   "source": [
    "df=pd.read_csv('imbalanced_ratio_dataset3.csv')\n",
    "df"
   ]
  },
  {
   "cell_type": "code",
   "execution_count": 5,
   "id": "79c58b88",
   "metadata": {},
   "outputs": [
    {
     "data": {
      "text/plain": [
       "Review    False\n",
       "Rating    False\n",
       "dtype: bool"
      ]
     },
     "execution_count": 5,
     "metadata": {},
     "output_type": "execute_result"
    }
   ],
   "source": [
    "df.isnull().any()"
   ]
  },
  {
   "cell_type": "code",
   "execution_count": 6,
   "id": "e4b62e0e",
   "metadata": {},
   "outputs": [
    {
     "name": "stdout",
     "output_type": "stream",
     "text": [
      "Number of duplicate rows: 3481\n"
     ]
    }
   ],
   "source": [
    "num_duplicates = df.duplicated().sum()\n",
    "print(f\"Number of duplicate rows: {num_duplicates}\")"
   ]
  },
  {
   "cell_type": "code",
   "execution_count": 7,
   "id": "3f3cc220",
   "metadata": {},
   "outputs": [],
   "source": [
    "# Shuffle the balanced DataFrame\n",
    "df = df.sample(frac=1, random_state=42).reset_index(drop=True)"
   ]
  },
  {
   "cell_type": "code",
   "execution_count": 8,
   "id": "e128cec6",
   "metadata": {},
   "outputs": [
    {
     "data": {
      "text/html": [
       "<div>\n",
       "<style scoped>\n",
       "    .dataframe tbody tr th:only-of-type {\n",
       "        vertical-align: middle;\n",
       "    }\n",
       "\n",
       "    .dataframe tbody tr th {\n",
       "        vertical-align: top;\n",
       "    }\n",
       "\n",
       "    .dataframe thead th {\n",
       "        text-align: right;\n",
       "    }\n",
       "</style>\n",
       "<table border=\"1\" class=\"dataframe\">\n",
       "  <thead>\n",
       "    <tr style=\"text-align: right;\">\n",
       "      <th></th>\n",
       "      <th>Review</th>\n",
       "      <th>Rating</th>\n",
       "    </tr>\n",
       "  </thead>\n",
       "  <tbody>\n",
       "    <tr>\n",
       "      <th>0</th>\n",
       "      <td>I really feel in love with the details of thes...</td>\n",
       "      <td>4.0</td>\n",
       "    </tr>\n",
       "    <tr>\n",
       "      <th>1</th>\n",
       "      <td>Despite other reviewers comments on size - i r...</td>\n",
       "      <td>3.0</td>\n",
       "    </tr>\n",
       "    <tr>\n",
       "      <th>2</th>\n",
       "      <td>Just felt cheaply made. Bought a large and had...</td>\n",
       "      <td>3.0</td>\n",
       "    </tr>\n",
       "    <tr>\n",
       "      <th>3</th>\n",
       "      <td>I love this tank! its something you can dress ...</td>\n",
       "      <td>5.0</td>\n",
       "    </tr>\n",
       "    <tr>\n",
       "      <th>4</th>\n",
       "      <td>I loved these pants.they are so comfortable. h...</td>\n",
       "      <td>3.0</td>\n",
       "    </tr>\n",
       "    <tr>\n",
       "      <th>...</th>\n",
       "      <td>...</td>\n",
       "      <td>...</td>\n",
       "    </tr>\n",
       "    <tr>\n",
       "      <th>17115</th>\n",
       "      <td>This is a cute dress. the quality is very good...</td>\n",
       "      <td>5.0</td>\n",
       "    </tr>\n",
       "    <tr>\n",
       "      <th>17116</th>\n",
       "      <td>This is a beautiful sweater that i wanted to l...</td>\n",
       "      <td>3.0</td>\n",
       "    </tr>\n",
       "    <tr>\n",
       "      <th>17117</th>\n",
       "      <td>This shirt was strange. the bow tie was too th...</td>\n",
       "      <td>3.0</td>\n",
       "    </tr>\n",
       "    <tr>\n",
       "      <th>17118</th>\n",
       "      <td>Color on picture didn’t look like color sent. ...</td>\n",
       "      <td>1.0</td>\n",
       "    </tr>\n",
       "    <tr>\n",
       "      <th>17119</th>\n",
       "      <td>Product fits great and it is soft.  My issue i...</td>\n",
       "      <td>3.0</td>\n",
       "    </tr>\n",
       "  </tbody>\n",
       "</table>\n",
       "<p>17120 rows × 2 columns</p>\n",
       "</div>"
      ],
      "text/plain": [
       "                                                  Review  Rating\n",
       "0      I really feel in love with the details of thes...     4.0\n",
       "1      Despite other reviewers comments on size - i r...     3.0\n",
       "2      Just felt cheaply made. Bought a large and had...     3.0\n",
       "3      I love this tank! its something you can dress ...     5.0\n",
       "4      I loved these pants.they are so comfortable. h...     3.0\n",
       "...                                                  ...     ...\n",
       "17115  This is a cute dress. the quality is very good...     5.0\n",
       "17116  This is a beautiful sweater that i wanted to l...     3.0\n",
       "17117  This shirt was strange. the bow tie was too th...     3.0\n",
       "17118  Color on picture didn’t look like color sent. ...     1.0\n",
       "17119  Product fits great and it is soft.  My issue i...     3.0\n",
       "\n",
       "[17120 rows x 2 columns]"
      ]
     },
     "execution_count": 8,
     "metadata": {},
     "output_type": "execute_result"
    }
   ],
   "source": [
    "df"
   ]
  },
  {
   "cell_type": "code",
   "execution_count": 9,
   "id": "376979c9",
   "metadata": {},
   "outputs": [],
   "source": [
    "from sklearn.model_selection import train_test_split"
   ]
  },
  {
   "cell_type": "code",
   "execution_count": 10,
   "id": "267e0008",
   "metadata": {},
   "outputs": [],
   "source": [
    "x=df['Review']\n",
    "y=df['Rating']"
   ]
  },
  {
   "cell_type": "code",
   "execution_count": 11,
   "id": "6fa330d4",
   "metadata": {},
   "outputs": [],
   "source": [
    "X_train, X_test, y_train, y_test = train_test_split(\n",
    "    x, y, test_size=0.2, random_state=42, stratify=y\n",
    ")"
   ]
  },
  {
   "cell_type": "code",
   "execution_count": null,
   "id": "10b10384",
   "metadata": {},
   "outputs": [],
   "source": []
  },
  {
   "cell_type": "code",
   "execution_count": 12,
   "id": "b167264b",
   "metadata": {},
   "outputs": [],
   "source": [
    "#removing punctuations and making lower case\n",
    "X_train = X_train.str.lower()\n",
    "X_train = X_train.str.replace(r'\\[.*?\\]', '', regex=True)\n"
   ]
  },
  {
   "cell_type": "code",
   "execution_count": 13,
   "id": "7f761513",
   "metadata": {},
   "outputs": [],
   "source": [
    "import re\n",
    "\n",
    "def clean_text(text):\n",
    "    text = str(text)\n",
    "    text = re.sub(r\"http\\S+|www\\S+|https\\S+\", '', text, flags=re.MULTILINE)  # remove URLs\n",
    "    text = re.sub(r'<.*?>', '', text)  # remove HTML tags\n",
    "    text = re.sub(r'[\\U00010000-\\U0010ffff]', '', text)  # remove emojis\n",
    "    text = re.sub(r'[^\\w\\s]', '', text)  # remove punctuation\n",
    "    text = re.sub(r'[^a-zA-Z0-9\\s]', '', text)  # remove special characters\n",
    "    text = re.sub(r'\\s+', ' ', text).strip()  # remove extra whitespace\n",
    "    return text\n"
   ]
  },
  {
   "cell_type": "code",
   "execution_count": 14,
   "id": "e3b0885b",
   "metadata": {},
   "outputs": [],
   "source": [
    "X_train=X_train.apply(clean_text)"
   ]
  },
  {
   "cell_type": "code",
   "execution_count": 15,
   "id": "757e3f9c",
   "metadata": {},
   "outputs": [
    {
     "data": {
      "text/plain": [
       "1687     the dress is very pretty i ordered for a weddi...\n",
       "3584     i ordered size large in the denim color and to...\n",
       "10608    i really was looking forward to this piece but...\n",
       "3845     the color and quality are fantastic the shirt ...\n",
       "5482     i hated this purchase because the dress was hu...\n",
       "                               ...                        \n",
       "16555              zipper is for womans garment wrong side\n",
       "13875                                 returned immediately\n",
       "6509     i love these pajamas they are soft i love the ...\n",
       "6755     it doesnt work with me only because i have ver...\n",
       "15347    i followed the fit size and it worked out grea...\n",
       "Name: Review, Length: 13696, dtype: object"
      ]
     },
     "execution_count": 15,
     "metadata": {},
     "output_type": "execute_result"
    }
   ],
   "source": [
    "X_train"
   ]
  },
  {
   "cell_type": "code",
   "execution_count": 16,
   "id": "4b6abccd",
   "metadata": {},
   "outputs": [],
   "source": [
    "import spacy\n",
    "nlp = spacy.load(\"en_core_web_sm\")"
   ]
  },
  {
   "cell_type": "code",
   "execution_count": 17,
   "id": "085574be",
   "metadata": {},
   "outputs": [],
   "source": [
    "#lemmatization and stop word removal\n",
    "def cleaning(text):\n",
    "    doc = nlp(text)\n",
    "    return ' '.join([token.lemma_ for token in doc if not token.is_stop])"
   ]
  },
  {
   "cell_type": "code",
   "execution_count": 18,
   "id": "59cbac02",
   "metadata": {},
   "outputs": [],
   "source": [
    "X_train=X_train.apply(cleaning)"
   ]
  },
  {
   "cell_type": "code",
   "execution_count": 19,
   "id": "c49e7722",
   "metadata": {},
   "outputs": [],
   "source": [
    "#removing punctuations and making lower case\n",
    "X_test = X_test.str.lower()\n",
    "X_test = X_test.str.replace(r'\\[.*?\\]', '', regex=True)\n"
   ]
  },
  {
   "cell_type": "code",
   "execution_count": 20,
   "id": "47616f99",
   "metadata": {},
   "outputs": [],
   "source": [
    "X_test=X_test.apply(clean_text)"
   ]
  },
  {
   "cell_type": "code",
   "execution_count": 21,
   "id": "93b10f6a",
   "metadata": {},
   "outputs": [],
   "source": [
    "X_test=X_test.apply(cleaning)"
   ]
  },
  {
   "cell_type": "code",
   "execution_count": 22,
   "id": "e3d13b78",
   "metadata": {},
   "outputs": [],
   "source": [
    "train_df = pd.DataFrame({'Review': X_train, 'Rating': y_train})\n",
    "test_df = pd.DataFrame({'Review': X_test, 'Rating': y_test})"
   ]
  },
  {
   "cell_type": "code",
   "execution_count": 23,
   "id": "20bb3777",
   "metadata": {},
   "outputs": [
    {
     "name": "stdout",
     "output_type": "stream",
     "text": [
      "<class 'pandas.core.frame.DataFrame'>\n",
      "Index: 3424 entries, 16039 to 10230\n",
      "Data columns (total 2 columns):\n",
      " #   Column  Non-Null Count  Dtype  \n",
      "---  ------  --------------  -----  \n",
      " 0   Review  3424 non-null   object \n",
      " 1   Rating  3424 non-null   float64\n",
      "dtypes: float64(1), object(1)\n",
      "memory usage: 80.2+ KB\n"
     ]
    }
   ],
   "source": [
    "test_df.info()"
   ]
  },
  {
   "cell_type": "code",
   "execution_count": 24,
   "id": "7c407151",
   "metadata": {},
   "outputs": [],
   "source": [
    "#Filter out reviews with: Fewer than 3 words and Excessively long text\n",
    "\n",
    "train_df['Word_Count'] = train_df['Review'].astype(str).apply(lambda x: len(x.split()))\n",
    "train_df = train_df[(train_df['Word_Count'] >= 3) & (train_df['Word_Count'] <= 100)]\n",
    "\n",
    "\n",
    "X_train = train_df['Review']\n",
    "y_train = train_df['Rating']"
   ]
  },
  {
   "cell_type": "code",
   "execution_count": 25,
   "id": "3fc0e5e9",
   "metadata": {},
   "outputs": [],
   "source": [
    "#Filter out reviews with: Fewer than 3 words and Excessively long text\n",
    "test_df['Word_Count'] = test_df['Review'].astype(str).apply(lambda x: len(x.split()))\n",
    "test_df = test_df[(test_df['Word_Count'] >= 3) & (test_df['Word_Count'] <= 100)]\n",
    "\n",
    "\n",
    "X_test = test_df['Review']\n",
    "y_test = test_df['Rating']"
   ]
  },
  {
   "cell_type": "code",
   "execution_count": 26,
   "id": "f16e647e",
   "metadata": {},
   "outputs": [],
   "source": [
    "from sklearn.feature_extraction.text import  TfidfVectorizer"
   ]
  },
  {
   "cell_type": "code",
   "execution_count": 27,
   "id": "ac3234f3",
   "metadata": {},
   "outputs": [],
   "source": [
    "# TF-IDF Vectorization\n",
    "tv = TfidfVectorizer()\n",
    "Xtrain_vec = tv.fit_transform(X_train)\n",
    "Xtest_vec = tv.transform(X_test)"
   ]
  },
  {
   "cell_type": "code",
   "execution_count": 28,
   "id": "24ff65fa",
   "metadata": {},
   "outputs": [],
   "source": [
    "from sklearn.linear_model import LogisticRegression\n",
    "from sklearn.metrics import accuracy_score, classification_report, confusion_matrix"
   ]
  },
  {
   "cell_type": "code",
   "execution_count": 29,
   "id": "1486f837",
   "metadata": {},
   "outputs": [
    {
     "name": "stdout",
     "output_type": "stream",
     "text": [
      " Logistic Regression:\n",
      "Accuracy: 0.550561797752809\n",
      "Classification Report:\n",
      "               precision    recall  f1-score   support\n",
      "\n",
      "         1.0       0.61      0.38      0.47       323\n",
      "         2.0       0.62      0.48      0.54       490\n",
      "         3.0       0.53      0.62      0.57       832\n",
      "         4.0       0.50      0.58      0.54       994\n",
      "         5.0       0.62      0.55      0.58       654\n",
      "\n",
      "    accuracy                           0.55      3293\n",
      "   macro avg       0.58      0.52      0.54      3293\n",
      "weighted avg       0.56      0.55      0.55      3293\n",
      "\n"
     ]
    },
    {
     "data": {
      "image/png": "[encoded data removed]",
      "text/plain": [
       "<Figure size 640x480 with 2 Axes>"
      ]
     },
     "metadata": {},
     "output_type": "display_data"
    }
   ],
   "source": [
    "# Train Logistic Regression\n",
    "lr = LogisticRegression(max_iter=1000)\n",
    "lr.fit(Xtrain_vec, y_train)\n",
    "\n",
    "# Predict\n",
    "y_pred_lr = lr.predict(Xtest_vec)\n",
    "\n",
    "# Evaluation\n",
    "print(\" Logistic Regression:\")\n",
    "print(\"Accuracy:\", accuracy_score(y_test, y_pred_lr))\n",
    "print(\"Classification Report:\\n\", classification_report(y_test, y_pred_lr))\n",
    "\n",
    "# Confusion Matrix\n",
    "sns.heatmap(confusion_matrix(y_test, y_pred_lr), annot=True, fmt=\"d\", cmap=\"Blues\")\n",
    "plt.title(\"Logistic Regression - Confusion Matrix\")\n",
    "plt.xlabel(\"Predicted\")\n",
    "plt.ylabel(\"Actual\")\n",
    "plt.show()"
   ]
  },
  {
   "cell_type": "code",
   "execution_count": 30,
   "id": "a59836e5",
   "metadata": {},
   "outputs": [
    {
     "name": "stdout",
     "output_type": "stream",
     "text": [
      "Predicted Rating: 5.0\n"
     ]
    }
   ],
   "source": [
    "new_review = [\"great dress\"]\n",
    "\n",
    "# Preprocess and vectorize the new review\n",
    "new_vec = tv.transform(new_review)\n",
    "\n",
    "# Predict\n",
    "predicted_rating = lr.predict(new_vec)\n",
    "print(\"Predicted Rating:\", predicted_rating[0])"
   ]
  },
  {
   "cell_type": "code",
   "execution_count": 33,
   "id": "eb3a76e1",
   "metadata": {},
   "outputs": [
    {
     "name": "stdout",
     "output_type": "stream",
     "text": [
      "Best Parameters: {'C': 10, 'penalty': 'l1', 'solver': 'saga'}\n",
      "✅ Accuracy after tuning: 0.6049195262678408\n",
      "\n",
      "📋 Classification Report:\n",
      "               precision    recall  f1-score   support\n",
      "\n",
      "         1.0       0.53      0.41      0.46       323\n",
      "         2.0       0.69      0.78      0.73       490\n",
      "         3.0       0.62      0.72      0.67       832\n",
      "         4.0       0.56      0.54      0.55       994\n",
      "         5.0       0.60      0.53      0.56       654\n",
      "\n",
      "    accuracy                           0.60      3293\n",
      "   macro avg       0.60      0.60      0.59      3293\n",
      "weighted avg       0.60      0.60      0.60      3293\n",
      "\n"
     ]
    },
    {
     "name": "stderr",
     "output_type": "stream",
     "text": [
      "C:\\Users\\LENOVO\\AppData\\Roaming\\Python\\Python313\\site-packages\\sklearn\\linear_model\\_sag.py:348: ConvergenceWarning: The max_iter was reached which means the coef_ did not converge\n",
      "  warnings.warn(\n"
     ]
    }
   ],
   "source": [
    "from sklearn.model_selection import GridSearchCV\n",
    "from sklearn.linear_model import LogisticRegression\n",
    "\n",
    "# Define parameter grid\n",
    "param_grid = {\n",
    "    'C': [0.01, 0.1, 1, 10],               # Regularization strength\n",
    "    'penalty': ['l1', 'l2'],               # L1 = Lasso, L2 = Ridge\n",
    "    'solver': ['liblinear', 'saga']        # Compatible solvers\n",
    "}\n",
    "\n",
    "# Create base model\n",
    "lr = LogisticRegression(max_iter=1000)\n",
    "\n",
    "# Grid search\n",
    "grid_search = GridSearchCV(lr, param_grid, cv=5, scoring='accuracy', n_jobs=-1)\n",
    "grid_search.fit(Xtrain_vec, y_train)\n",
    "\n",
    "# Best parameters\n",
    "print(\"Best Parameters:\", grid_search.best_params_)\n",
    "\n",
    "# Best model\n",
    "best_lr = grid_search.best_estimator_\n",
    "\n",
    "# Predict using best model\n",
    "y_pred = best_lr.predict(Xtest_vec)\n",
    "\n",
    "# Evaluate\n",
    "from sklearn.metrics import accuracy_score, classification_report\n",
    "print(\"✅ Accuracy after tuning:\", accuracy_score(y_test, y_pred))\n",
    "print(\"\\n📋 Classification Report:\\n\", classification_report(y_test, y_pred))\n"
   ]
  },
  {
   "cell_type": "code",
   "execution_count": null,
   "id": "75885b1e",
   "metadata": {},
   "outputs": [],
   "source": []
  }
 ],
 "metadata": {
  "kernelspec": {
   "display_name": "Python 3",
   "language": "python",
   "name": "python3"
  },
  "language_info": {
   "codemirror_mode": {
    "name": "ipython",
    "version": 3
   },
   "file_extension": ".py",
   "mimetype": "text/x-python",
   "name": "python",
   "nbconvert_exporter": "python",
   "pygments_lexer": "ipython3",
   "version": "3.13.5"
  }
 },
 "nbformat": 4,
 "nbformat_minor": 5
}
