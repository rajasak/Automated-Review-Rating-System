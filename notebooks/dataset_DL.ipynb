{
 "cells": [
  {
   "cell_type": "code",
   "execution_count": 1,
   "id": "285c2a18",
   "metadata": {},
   "outputs": [],
   "source": [
    "import pandas as pd\n",
    "import numpy as np\n",
    "import matplotlib.pyplot as plt\n",
    "import seaborn as sns"
   ]
  },
  {
   "cell_type": "markdown",
   "id": "19cfae9e",
   "metadata": {},
   "source": [
    "## Load first dataset"
   ]
  },
  {
   "cell_type": "code",
   "execution_count": null,
   "id": "bed87558",
   "metadata": {},
   "outputs": [],
   "source": [
    "df1=pd.read_csv('phone.csv')\n"
   ]
  },
  {
   "cell_type": "code",
   "execution_count": 37,
   "id": "ae122e37",
   "metadata": {},
   "outputs": [
    {
     "data": {
      "text/html": [
       "<div>\n",
       "<style scoped>\n",
       "    .dataframe tbody tr th:only-of-type {\n",
       "        vertical-align: middle;\n",
       "    }\n",
       "\n",
       "    .dataframe tbody tr th {\n",
       "        vertical-align: top;\n",
       "    }\n",
       "\n",
       "    .dataframe thead th {\n",
       "        text-align: right;\n",
       "    }\n",
       "</style>\n",
       "<table border=\"1\" class=\"dataframe\">\n",
       "  <thead>\n",
       "    <tr style=\"text-align: right;\">\n",
       "      <th></th>\n",
       "      <th>Rating</th>\n",
       "      <th>Review</th>\n",
       "    </tr>\n",
       "  </thead>\n",
       "  <tbody>\n",
       "    <tr>\n",
       "      <th>0</th>\n",
       "      <td>5</td>\n",
       "      <td>I feel so LUCKY to have found this used (phone...</td>\n",
       "    </tr>\n",
       "    <tr>\n",
       "      <th>1</th>\n",
       "      <td>4</td>\n",
       "      <td>nice phone, nice up grade from my pantach revu...</td>\n",
       "    </tr>\n",
       "    <tr>\n",
       "      <th>2</th>\n",
       "      <td>4</td>\n",
       "      <td>It works good but it goes slow sometimes but i...</td>\n",
       "    </tr>\n",
       "    <tr>\n",
       "      <th>3</th>\n",
       "      <td>4</td>\n",
       "      <td>Great phone to replace my lost phone. The only...</td>\n",
       "    </tr>\n",
       "    <tr>\n",
       "      <th>4</th>\n",
       "      <td>1</td>\n",
       "      <td>I already had a phone with problems... I know ...</td>\n",
       "    </tr>\n",
       "    <tr>\n",
       "      <th>...</th>\n",
       "      <td>...</td>\n",
       "      <td>...</td>\n",
       "    </tr>\n",
       "    <tr>\n",
       "      <th>161294</th>\n",
       "      <td>4</td>\n",
       "      <td>works great and picks up signal in place my ot...</td>\n",
       "    </tr>\n",
       "    <tr>\n",
       "      <th>161295</th>\n",
       "      <td>5</td>\n",
       "      <td>Great phone. Large keys, best flip phone I hav...</td>\n",
       "    </tr>\n",
       "    <tr>\n",
       "      <th>161296</th>\n",
       "      <td>5</td>\n",
       "      <td>Pros...Works great, very durable, easy to navi...</td>\n",
       "    </tr>\n",
       "    <tr>\n",
       "      <th>161297</th>\n",
       "      <td>5</td>\n",
       "      <td>just as described perfect for the price</td>\n",
       "    </tr>\n",
       "    <tr>\n",
       "      <th>161298</th>\n",
       "      <td>3</td>\n",
       "      <td>Speaker phone doesn't work, but phone works good</td>\n",
       "    </tr>\n",
       "  </tbody>\n",
       "</table>\n",
       "<p>161299 rows × 2 columns</p>\n",
       "</div>"
      ],
      "text/plain": [
       "        Rating                                             Review\n",
       "0            5  I feel so LUCKY to have found this used (phone...\n",
       "1            4  nice phone, nice up grade from my pantach revu...\n",
       "2            4  It works good but it goes slow sometimes but i...\n",
       "3            4  Great phone to replace my lost phone. The only...\n",
       "4            1  I already had a phone with problems... I know ...\n",
       "...        ...                                                ...\n",
       "161294       4  works great and picks up signal in place my ot...\n",
       "161295       5  Great phone. Large keys, best flip phone I hav...\n",
       "161296       5  Pros...Works great, very durable, easy to navi...\n",
       "161297       5            just as described perfect for the price\n",
       "161298       3   Speaker phone doesn't work, but phone works good\n",
       "\n",
       "[161299 rows x 2 columns]"
      ]
     },
     "execution_count": 37,
     "metadata": {},
     "output_type": "execute_result"
    }
   ],
   "source": [
    "df1"
   ]
  },
  {
   "cell_type": "markdown",
   "id": "3bcbaa6a",
   "metadata": {},
   "source": [
    "## Load second dataset"
   ]
  },
  {
   "cell_type": "code",
   "execution_count": 3,
   "id": "7b2c398e",
   "metadata": {},
   "outputs": [],
   "source": [
    "df2=pd.read_csv('merged.csv')"
   ]
  },
  {
   "cell_type": "code",
   "execution_count": 44,
   "id": "c7a6270c",
   "metadata": {},
   "outputs": [
    {
     "data": {
      "text/html": [
       "<div>\n",
       "<style scoped>\n",
       "    .dataframe tbody tr th:only-of-type {\n",
       "        vertical-align: middle;\n",
       "    }\n",
       "\n",
       "    .dataframe tbody tr th {\n",
       "        vertical-align: top;\n",
       "    }\n",
       "\n",
       "    .dataframe thead th {\n",
       "        text-align: right;\n",
       "    }\n",
       "</style>\n",
       "<table border=\"1\" class=\"dataframe\">\n",
       "  <thead>\n",
       "    <tr style=\"text-align: right;\">\n",
       "      <th></th>\n",
       "      <th>Review</th>\n",
       "      <th>Rating</th>\n",
       "    </tr>\n",
       "  </thead>\n",
       "  <tbody>\n",
       "    <tr>\n",
       "      <th>0</th>\n",
       "      <td>Love the material and style - a very versitile...</td>\n",
       "      <td>4.0</td>\n",
       "    </tr>\n",
       "    <tr>\n",
       "      <th>1</th>\n",
       "      <td>I ordered this after reading through the revie...</td>\n",
       "      <td>2.0</td>\n",
       "    </tr>\n",
       "    <tr>\n",
       "      <th>2</th>\n",
       "      <td>Really liked how it fit.  I will definitely bu...</td>\n",
       "      <td>5.0</td>\n",
       "    </tr>\n",
       "    <tr>\n",
       "      <th>3</th>\n",
       "      <td>I love the print and design, the photo does no...</td>\n",
       "      <td>4.0</td>\n",
       "    </tr>\n",
       "    <tr>\n",
       "      <th>4</th>\n",
       "      <td>This is a perfect sweater to dress up or dress...</td>\n",
       "      <td>5.0</td>\n",
       "    </tr>\n",
       "    <tr>\n",
       "      <th>...</th>\n",
       "      <td>...</td>\n",
       "      <td>...</td>\n",
       "    </tr>\n",
       "    <tr>\n",
       "      <th>51112</th>\n",
       "      <td>Not a slim fit</td>\n",
       "      <td>1.0</td>\n",
       "    </tr>\n",
       "    <tr>\n",
       "      <th>51113</th>\n",
       "      <td>Prompt delivery, great value for money.</td>\n",
       "      <td>5.0</td>\n",
       "    </tr>\n",
       "    <tr>\n",
       "      <th>51114</th>\n",
       "      <td>I love it! the fit is very flattering. i read ...</td>\n",
       "      <td>5.0</td>\n",
       "    </tr>\n",
       "    <tr>\n",
       "      <th>51115</th>\n",
       "      <td>There is no structure. It fits more like a swe...</td>\n",
       "      <td>2.0</td>\n",
       "    </tr>\n",
       "    <tr>\n",
       "      <th>51116</th>\n",
       "      <td>This dress is so cute! It can be dressed up or...</td>\n",
       "      <td>5.0</td>\n",
       "    </tr>\n",
       "  </tbody>\n",
       "</table>\n",
       "<p>51117 rows × 2 columns</p>\n",
       "</div>"
      ],
      "text/plain": [
       "                                                  Review  Rating\n",
       "0      Love the material and style - a very versitile...     4.0\n",
       "1      I ordered this after reading through the revie...     2.0\n",
       "2      Really liked how it fit.  I will definitely bu...     5.0\n",
       "3      I love the print and design, the photo does no...     4.0\n",
       "4      This is a perfect sweater to dress up or dress...     5.0\n",
       "...                                                  ...     ...\n",
       "51112                                     Not a slim fit     1.0\n",
       "51113            Prompt delivery, great value for money.     5.0\n",
       "51114  I love it! the fit is very flattering. i read ...     5.0\n",
       "51115  There is no structure. It fits more like a swe...     2.0\n",
       "51116  This dress is so cute! It can be dressed up or...     5.0\n",
       "\n",
       "[51117 rows x 2 columns]"
      ]
     },
     "execution_count": 44,
     "metadata": {},
     "output_type": "execute_result"
    }
   ],
   "source": [
    "df2"
   ]
  },
  {
   "cell_type": "markdown",
   "id": "2cb970d9",
   "metadata": {},
   "source": [
    "## Merge both dataset"
   ]
  },
  {
   "cell_type": "code",
   "execution_count": 4,
   "metadata": {},
   "outputs": [],
   "source": [
    "df = pd.concat([df1, df2], ignore_index=True)"
   ]
  },
  {
   "cell_type": "code",
   "execution_count": 7,
   "id": "4b07dd78",
   "metadata": {},
   "outputs": [
    {
     "data": {
      "text/html": [
       "<div>\n",
       "<style scoped>\n",
       "    .dataframe tbody tr th:only-of-type {\n",
       "        vertical-align: middle;\n",
       "    }\n",
       "\n",
       "    .dataframe tbody tr th {\n",
       "        vertical-align: top;\n",
       "    }\n",
       "\n",
       "    .dataframe thead th {\n",
       "        text-align: right;\n",
       "    }\n",
       "</style>\n",
       "<table border=\"1\" class=\"dataframe\">\n",
       "  <thead>\n",
       "    <tr style=\"text-align: right;\">\n",
       "      <th></th>\n",
       "      <th>Rating</th>\n",
       "      <th>Review</th>\n",
       "    </tr>\n",
       "  </thead>\n",
       "  <tbody>\n",
       "    <tr>\n",
       "      <th>0</th>\n",
       "      <td>2.0</td>\n",
       "      <td>I received the phone in record time however it...</td>\n",
       "    </tr>\n",
       "    <tr>\n",
       "      <th>1</th>\n",
       "      <td>5.0</td>\n",
       "      <td>I found very good is 100% recommended hope to ...</td>\n",
       "    </tr>\n",
       "    <tr>\n",
       "      <th>2</th>\n",
       "      <td>1.0</td>\n",
       "      <td>Bought phone April 30, screen went completely ...</td>\n",
       "    </tr>\n",
       "    <tr>\n",
       "      <th>3</th>\n",
       "      <td>5.0</td>\n",
       "      <td>I ordered this phone for a friend and she is t...</td>\n",
       "    </tr>\n",
       "    <tr>\n",
       "      <th>4</th>\n",
       "      <td>4.0</td>\n",
       "      <td>Muy buenos equipos y nokia perfectos no tengo ...</td>\n",
       "    </tr>\n",
       "    <tr>\n",
       "      <th>...</th>\n",
       "      <td>...</td>\n",
       "      <td>...</td>\n",
       "    </tr>\n",
       "    <tr>\n",
       "      <th>212411</th>\n",
       "      <td>5.0</td>\n",
       "      <td>Works great; fast shipping!</td>\n",
       "    </tr>\n",
       "    <tr>\n",
       "      <th>212412</th>\n",
       "      <td>4.0</td>\n",
       "      <td>I love it! It is cool looking and durable.</td>\n",
       "    </tr>\n",
       "    <tr>\n",
       "      <th>212413</th>\n",
       "      <td>5.0</td>\n",
       "      <td>I received the phone with operation manual boo...</td>\n",
       "    </tr>\n",
       "    <tr>\n",
       "      <th>212414</th>\n",
       "      <td>1.0</td>\n",
       "      <td>Defective! !!!!!! On arrival. This device came...</td>\n",
       "    </tr>\n",
       "    <tr>\n",
       "      <th>212415</th>\n",
       "      <td>3.0</td>\n",
       "      <td>Phone seems to be in good shape- looked brand ...</td>\n",
       "    </tr>\n",
       "  </tbody>\n",
       "</table>\n",
       "<p>212416 rows × 2 columns</p>\n",
       "</div>"
      ],
      "text/plain": [
       "        Rating                                             Review\n",
       "0          2.0  I received the phone in record time however it...\n",
       "1          5.0  I found very good is 100% recommended hope to ...\n",
       "2          1.0  Bought phone April 30, screen went completely ...\n",
       "3          5.0  I ordered this phone for a friend and she is t...\n",
       "4          4.0  Muy buenos equipos y nokia perfectos no tengo ...\n",
       "...        ...                                                ...\n",
       "212411     5.0                        Works great; fast shipping!\n",
       "212412     4.0         I love it! It is cool looking and durable.\n",
       "212413     5.0  I received the phone with operation manual boo...\n",
       "212414     1.0  Defective! !!!!!! On arrival. This device came...\n",
       "212415     3.0  Phone seems to be in good shape- looked brand ...\n",
       "\n",
       "[212416 rows x 2 columns]"
      ]
     },
     "execution_count": 7,
     "metadata": {},
     "output_type": "execute_result"
    }
   ],
   "source": [
    "df"
   ]
  },
  {
   "cell_type": "code",
   "execution_count": 9,
   "id": "a7bc0118",
   "metadata": {},
   "outputs": [
    {
     "name": "stdout",
     "output_type": "stream",
     "text": [
      "<class 'pandas.core.frame.DataFrame'>\n",
      "RangeIndex: 212416 entries, 0 to 212415\n",
      "Data columns (total 2 columns):\n",
      " #   Column  Non-Null Count   Dtype  \n",
      "---  ------  --------------   -----  \n",
      " 0   Rating  212202 non-null  float64\n",
      " 1   Review  211585 non-null  object \n",
      "dtypes: float64(1), object(1)\n",
      "memory usage: 3.2+ MB\n"
     ]
    }
   ],
   "source": [
    "df.info()"
   ]
  },
  {
   "cell_type": "markdown",
   "id": "a34f3cf0",
   "metadata": {},
   "source": [
    "## removing null , duplicate , non english rows"
   ]
  },
  {
   "cell_type": "code",
   "execution_count": 10,
   "id": "84606237",
   "metadata": {},
   "outputs": [],
   "source": [
    "df = df.dropna(subset=['Review'])\n",
    "df = df.dropna(subset=['Rating'])"
   ]
  },
  {
   "cell_type": "code",
   "execution_count": 11,
   "id": "b2ceefaf",
   "metadata": {},
   "outputs": [],
   "source": [
    "df.drop_duplicates(inplace=True)"
   ]
  },
  {
   "cell_type": "code",
   "execution_count": 12,
   "id": "7dcba69a",
   "metadata": {},
   "outputs": [],
   "source": [
    "conflicting_reviews = df.groupby('Review')['Rating'].nunique()\n",
    "conflicting_reviews = conflicting_reviews[conflicting_reviews > 1].index\n",
    "df = df[df['Review'].isin(conflicting_reviews) == False]"
   ]
  },
  {
   "cell_type": "code",
   "execution_count": 13,
   "id": "82ccdf63",
   "metadata": {},
   "outputs": [
    {
     "name": "stdout",
     "output_type": "stream",
     "text": [
      "Number of duplicate rows: 0\n"
     ]
    }
   ],
   "source": [
    "num_duplicates = df.duplicated().sum()\n",
    "print(f\"Number of duplicate rows: {num_duplicates}\")"
   ]
  },
  {
   "cell_type": "code",
   "execution_count": 14,
   "id": "46601f4e",
   "metadata": {},
   "outputs": [],
   "source": [
    "df.reset_index(drop=True, inplace=True)"
   ]
  },
  {
   "cell_type": "code",
   "execution_count": 16,
   "id": "8f1b8da7",
   "metadata": {},
   "outputs": [
    {
     "data": {
      "text/html": [
       "<div>\n",
       "<style scoped>\n",
       "    .dataframe tbody tr th:only-of-type {\n",
       "        vertical-align: middle;\n",
       "    }\n",
       "\n",
       "    .dataframe tbody tr th {\n",
       "        vertical-align: top;\n",
       "    }\n",
       "\n",
       "    .dataframe thead th {\n",
       "        text-align: right;\n",
       "    }\n",
       "</style>\n",
       "<table border=\"1\" class=\"dataframe\">\n",
       "  <thead>\n",
       "    <tr style=\"text-align: right;\">\n",
       "      <th></th>\n",
       "      <th>Rating</th>\n",
       "      <th>Review</th>\n",
       "    </tr>\n",
       "  </thead>\n",
       "  <tbody>\n",
       "    <tr>\n",
       "      <th>0</th>\n",
       "      <td>2.0</td>\n",
       "      <td>I received the phone in record time however it...</td>\n",
       "    </tr>\n",
       "    <tr>\n",
       "      <th>1</th>\n",
       "      <td>5.0</td>\n",
       "      <td>I found very good is 100% recommended hope to ...</td>\n",
       "    </tr>\n",
       "    <tr>\n",
       "      <th>2</th>\n",
       "      <td>1.0</td>\n",
       "      <td>Bought phone April 30, screen went completely ...</td>\n",
       "    </tr>\n",
       "    <tr>\n",
       "      <th>3</th>\n",
       "      <td>5.0</td>\n",
       "      <td>I ordered this phone for a friend and she is t...</td>\n",
       "    </tr>\n",
       "    <tr>\n",
       "      <th>4</th>\n",
       "      <td>4.0</td>\n",
       "      <td>Muy buenos equipos y nokia perfectos no tengo ...</td>\n",
       "    </tr>\n",
       "    <tr>\n",
       "      <th>...</th>\n",
       "      <td>...</td>\n",
       "      <td>...</td>\n",
       "    </tr>\n",
       "    <tr>\n",
       "      <th>208409</th>\n",
       "      <td>5.0</td>\n",
       "      <td>Works great; fast shipping!</td>\n",
       "    </tr>\n",
       "    <tr>\n",
       "      <th>208410</th>\n",
       "      <td>4.0</td>\n",
       "      <td>I love it! It is cool looking and durable.</td>\n",
       "    </tr>\n",
       "    <tr>\n",
       "      <th>208411</th>\n",
       "      <td>5.0</td>\n",
       "      <td>I received the phone with operation manual boo...</td>\n",
       "    </tr>\n",
       "    <tr>\n",
       "      <th>208412</th>\n",
       "      <td>1.0</td>\n",
       "      <td>Defective! !!!!!! On arrival. This device came...</td>\n",
       "    </tr>\n",
       "    <tr>\n",
       "      <th>208413</th>\n",
       "      <td>3.0</td>\n",
       "      <td>Phone seems to be in good shape- looked brand ...</td>\n",
       "    </tr>\n",
       "  </tbody>\n",
       "</table>\n",
       "<p>208414 rows × 2 columns</p>\n",
       "</div>"
      ],
      "text/plain": [
       "        Rating                                             Review\n",
       "0          2.0  I received the phone in record time however it...\n",
       "1          5.0  I found very good is 100% recommended hope to ...\n",
       "2          1.0  Bought phone April 30, screen went completely ...\n",
       "3          5.0  I ordered this phone for a friend and she is t...\n",
       "4          4.0  Muy buenos equipos y nokia perfectos no tengo ...\n",
       "...        ...                                                ...\n",
       "208409     5.0                        Works great; fast shipping!\n",
       "208410     4.0         I love it! It is cool looking and durable.\n",
       "208411     5.0  I received the phone with operation manual boo...\n",
       "208412     1.0  Defective! !!!!!! On arrival. This device came...\n",
       "208413     3.0  Phone seems to be in good shape- looked brand ...\n",
       "\n",
       "[208414 rows x 2 columns]"
      ]
     },
     "execution_count": 16,
     "metadata": {},
     "output_type": "execute_result"
    }
   ],
   "source": [
    "df"
   ]
  },
  {
   "cell_type": "code",
   "execution_count": null,
   "id": "6167120b",
   "metadata": {},
   "outputs": [],
   "source": [
    "import pandas as pd\n",
    "from langdetect import detect\n",
    "from langdetect.lang_detect_exception import LangDetectException\n",
    "\n",
    "\n",
    "def detect_language(text):\n",
    "    try:\n",
    "        return detect(str(text))\n",
    "    except LangDetectException:\n",
    "        return 'unknown'\n",
    "\n",
    "# Apply language detection\n",
    "df['language'] = df['Review'].apply(detect_language)\n"
   ]
  },
  {
   "cell_type": "code",
   "execution_count": null,
   "id": "960a0c72",
   "metadata": {},
   "outputs": [
    {
     "name": "stdout",
     "output_type": "stream",
     "text": [
      "Non-English reviews: 10816\n",
      "\n",
      "Language distribution:\n",
      " language\n",
      "en         197598\n",
      "es           2940\n",
      "af           1133\n",
      "fr            971\n",
      "ca            719\n",
      "ro            610\n",
      "de            535\n",
      "pt            450\n",
      "it            379\n",
      "so            377\n",
      "no            320\n",
      "nl            283\n",
      "da            237\n",
      "cy            218\n",
      "tl            201\n",
      "sl            196\n",
      "et            168\n",
      "vi            138\n",
      "sv            122\n",
      "unknown        98\n",
      "sq             95\n",
      "id             89\n",
      "hr             88\n",
      "pl             73\n",
      "sk             72\n",
      "hu             66\n",
      "fi             58\n",
      "sw             49\n",
      "tr             49\n",
      "cs             44\n",
      "lt             17\n",
      "lv             16\n",
      "uk              3\n",
      "ru              2\n",
      "Name: count, dtype: int64\n"
     ]
    }
   ],
   "source": [
    "# Count non-English reviews\n",
    "non_english_count = df[df['language'] != 'en'].shape[0]\n",
    "\n",
    "\n",
    "language_counts = df['language'].value_counts()\n",
    "\n",
    "print(\"Non-English reviews:\", non_english_count)\n",
    "print(\"\\nLanguage distribution:\\n\", language_counts)\n"
   ]
  },
  {
   "cell_type": "code",
   "execution_count": null,
   "id": "b8f7c35b",
   "metadata": {},
   "outputs": [],
   "source": [
    "df = df[df['language'] == 'en'].drop(columns=['language'])"
   ]
  },
  {
   "cell_type": "code",
   "execution_count": 22,
   "id": "61d69ebb",
   "metadata": {},
   "outputs": [],
   "source": [
    "df.reset_index(drop=True, inplace=True)"
   ]
  },
  {
   "cell_type": "code",
   "execution_count": 23,
   "id": "29d32689",
   "metadata": {},
   "outputs": [
    {
     "data": {
      "text/html": [
       "<div>\n",
       "<style scoped>\n",
       "    .dataframe tbody tr th:only-of-type {\n",
       "        vertical-align: middle;\n",
       "    }\n",
       "\n",
       "    .dataframe tbody tr th {\n",
       "        vertical-align: top;\n",
       "    }\n",
       "\n",
       "    .dataframe thead th {\n",
       "        text-align: right;\n",
       "    }\n",
       "</style>\n",
       "<table border=\"1\" class=\"dataframe\">\n",
       "  <thead>\n",
       "    <tr style=\"text-align: right;\">\n",
       "      <th></th>\n",
       "      <th>Rating</th>\n",
       "      <th>Review</th>\n",
       "    </tr>\n",
       "  </thead>\n",
       "  <tbody>\n",
       "    <tr>\n",
       "      <th>0</th>\n",
       "      <td>2.0</td>\n",
       "      <td>I received the phone in record time however it...</td>\n",
       "    </tr>\n",
       "    <tr>\n",
       "      <th>1</th>\n",
       "      <td>5.0</td>\n",
       "      <td>I found very good is 100% recommended hope to ...</td>\n",
       "    </tr>\n",
       "    <tr>\n",
       "      <th>2</th>\n",
       "      <td>1.0</td>\n",
       "      <td>Bought phone April 30, screen went completely ...</td>\n",
       "    </tr>\n",
       "    <tr>\n",
       "      <th>3</th>\n",
       "      <td>5.0</td>\n",
       "      <td>I ordered this phone for a friend and she is t...</td>\n",
       "    </tr>\n",
       "    <tr>\n",
       "      <th>4</th>\n",
       "      <td>3.0</td>\n",
       "      <td>The charger that came with the phone causes th...</td>\n",
       "    </tr>\n",
       "    <tr>\n",
       "      <th>...</th>\n",
       "      <td>...</td>\n",
       "      <td>...</td>\n",
       "    </tr>\n",
       "    <tr>\n",
       "      <th>197593</th>\n",
       "      <td>5.0</td>\n",
       "      <td>Works great; fast shipping!</td>\n",
       "    </tr>\n",
       "    <tr>\n",
       "      <th>197594</th>\n",
       "      <td>4.0</td>\n",
       "      <td>I love it! It is cool looking and durable.</td>\n",
       "    </tr>\n",
       "    <tr>\n",
       "      <th>197595</th>\n",
       "      <td>5.0</td>\n",
       "      <td>I received the phone with operation manual boo...</td>\n",
       "    </tr>\n",
       "    <tr>\n",
       "      <th>197596</th>\n",
       "      <td>1.0</td>\n",
       "      <td>Defective! !!!!!! On arrival. This device came...</td>\n",
       "    </tr>\n",
       "    <tr>\n",
       "      <th>197597</th>\n",
       "      <td>3.0</td>\n",
       "      <td>Phone seems to be in good shape- looked brand ...</td>\n",
       "    </tr>\n",
       "  </tbody>\n",
       "</table>\n",
       "<p>197598 rows × 2 columns</p>\n",
       "</div>"
      ],
      "text/plain": [
       "        Rating                                             Review\n",
       "0          2.0  I received the phone in record time however it...\n",
       "1          5.0  I found very good is 100% recommended hope to ...\n",
       "2          1.0  Bought phone April 30, screen went completely ...\n",
       "3          5.0  I ordered this phone for a friend and she is t...\n",
       "4          3.0  The charger that came with the phone causes th...\n",
       "...        ...                                                ...\n",
       "197593     5.0                        Works great; fast shipping!\n",
       "197594     4.0         I love it! It is cool looking and durable.\n",
       "197595     5.0  I received the phone with operation manual boo...\n",
       "197596     1.0  Defective! !!!!!! On arrival. This device came...\n",
       "197597     3.0  Phone seems to be in good shape- looked brand ...\n",
       "\n",
       "[197598 rows x 2 columns]"
      ]
     },
     "execution_count": 23,
     "metadata": {},
     "output_type": "execute_result"
    }
   ],
   "source": [
    "df"
   ]
  },
  {
   "cell_type": "code",
   "execution_count": 24,
   "id": "bd0d44e1",
   "metadata": {},
   "outputs": [
    {
     "data": {
      "text/plain": [
       "Rating\n",
       "5.0    97191\n",
       "1.0    35072\n",
       "4.0    32113\n",
       "3.0    18944\n",
       "2.0    14278\n",
       "Name: count, dtype: int64"
      ]
     },
     "execution_count": 24,
     "metadata": {},
     "output_type": "execute_result"
    }
   ],
   "source": [
    "df['Rating'].value_counts()"
   ]
  },
  {
   "cell_type": "markdown",
   "id": "48ae2743",
   "metadata": {},
   "source": [
    "## Create Balanced and Imbalanced dataset"
   ]
  },
  {
   "cell_type": "code",
   "execution_count": 26,
   "id": "49ba3b5f",
   "metadata": {},
   "outputs": [
    {
     "name": "stderr",
     "output_type": "stream",
     "text": [
      "C:\\Users\\LENOVO\\AppData\\Local\\Temp\\ipykernel_25720\\3146858866.py:2: FutureWarning: DataFrameGroupBy.apply operated on the grouping columns. This behavior is deprecated, and in a future version of pandas the grouping columns will be excluded from the operation. Either pass `include_groups=False` to exclude the groupings or explicitly select the grouping columns after groupby to silence this warning.\n",
      "  balanced_df = df.groupby('Rating').apply(lambda x: x.sample(n=10000, random_state=42)).reset_index(drop=True)\n"
     ]
    }
   ],
   "source": [
    "#creating balanced data\n",
    "balanced_df = df.groupby('Rating').apply(lambda x: x.sample(n=10000, random_state=42)).reset_index(drop=True)\n",
    "\n",
    "#adding a column key\n",
    "df['key'] = df.astype(str).agg('-'.join, axis=1)\n",
    "balanced_df['key'] = balanced_df.astype(str).agg('-'.join, axis=1)\n",
    "\n",
    "# Remove balanced rows to get remaining using key column\n",
    "remaining_df = df[~df['key'].isin(balanced_df['key'])].drop(columns='key')\n",
    "balanced_df = balanced_df.drop(columns='key')\n",
    "\n",
    "\n",
    "base_2_star = 4278\n",
    "\n",
    "\n",
    "\n",
    "target_counts = {\n",
    "    2: base_2_star,                # 1x\n",
    "    1: int(1.5 * base_2_star),     # 1.5x\n",
    "    3: int(2.5 * base_2_star),       # 2.5x\n",
    "    4: int(3 * base_2_star),       # 3x\n",
    "    5: int(2 * base_2_star),       # 2x\n",
    "}\n",
    "\n",
    "\n",
    "imbalanced_parts = []\n",
    "\n",
    "for rating, target in target_counts.items():\n",
    "    subset = remaining_df[remaining_df['Rating'] == rating]\n",
    "    replace = target > len(subset)  # only upsample if not enough data\n",
    "    sampled = subset.sample(n=target, replace=replace, random_state=42)\n",
    "    imbalanced_parts.append(sampled)\n",
    "\n",
    "\n",
    "imbalanced_df = pd.concat(imbalanced_parts).reset_index(drop=True)"
   ]
  },
  {
   "cell_type": "code",
   "execution_count": 36,
   "id": "25bd45e5",
   "metadata": {},
   "outputs": [
    {
     "name": "stdout",
     "output_type": "stream",
     "text": [
      "Number of duplicate rows between balanced and imbalanced: 0\n"
     ]
    }
   ],
   "source": [
    "# Check overlap between balanced and imbalanced datasets\n",
    "overlap = pd.merge(balanced_df, imbalanced_df, how='inner')\n",
    "print(\"Number of duplicate rows between balanced and imbalanced:\", len(overlap))"
   ]
  },
  {
   "cell_type": "code",
   "execution_count": 27,
   "id": "59db3407",
   "metadata": {},
   "outputs": [
    {
     "data": {
      "text/html": [
       "<div>\n",
       "<style scoped>\n",
       "    .dataframe tbody tr th:only-of-type {\n",
       "        vertical-align: middle;\n",
       "    }\n",
       "\n",
       "    .dataframe tbody tr th {\n",
       "        vertical-align: top;\n",
       "    }\n",
       "\n",
       "    .dataframe thead th {\n",
       "        text-align: right;\n",
       "    }\n",
       "</style>\n",
       "<table border=\"1\" class=\"dataframe\">\n",
       "  <thead>\n",
       "    <tr style=\"text-align: right;\">\n",
       "      <th></th>\n",
       "      <th>Rating</th>\n",
       "      <th>Review</th>\n",
       "    </tr>\n",
       "  </thead>\n",
       "  <tbody>\n",
       "    <tr>\n",
       "      <th>0</th>\n",
       "      <td>1.0</td>\n",
       "      <td>This product is pretty good overall but I can'...</td>\n",
       "    </tr>\n",
       "    <tr>\n",
       "      <th>1</th>\n",
       "      <td>1.0</td>\n",
       "      <td>the cellphone is very slow specially the inter...</td>\n",
       "    </tr>\n",
       "    <tr>\n",
       "      <th>2</th>\n",
       "      <td>1.0</td>\n",
       "      <td>Phone wouldn't make calls not really sure if i...</td>\n",
       "    </tr>\n",
       "    <tr>\n",
       "      <th>3</th>\n",
       "      <td>1.0</td>\n",
       "      <td>The cell phone turned on and now it goes out a...</td>\n",
       "    </tr>\n",
       "    <tr>\n",
       "      <th>4</th>\n",
       "      <td>1.0</td>\n",
       "      <td>It's a tmobile version of xperia not a sony fa...</td>\n",
       "    </tr>\n",
       "    <tr>\n",
       "      <th>...</th>\n",
       "      <td>...</td>\n",
       "      <td>...</td>\n",
       "    </tr>\n",
       "    <tr>\n",
       "      <th>49995</th>\n",
       "      <td>5.0</td>\n",
       "      <td>Great phone. Big improvement over my previous ...</td>\n",
       "    </tr>\n",
       "    <tr>\n",
       "      <th>49996</th>\n",
       "      <td>5.0</td>\n",
       "      <td>I bought the red and it is gorgeous. i love ho...</td>\n",
       "    </tr>\n",
       "    <tr>\n",
       "      <th>49997</th>\n",
       "      <td>5.0</td>\n",
       "      <td>My father love the phone.</td>\n",
       "    </tr>\n",
       "    <tr>\n",
       "      <th>49998</th>\n",
       "      <td>5.0</td>\n",
       "      <td>I bought the navy polka dot top and i love the...</td>\n",
       "    </tr>\n",
       "    <tr>\n",
       "      <th>49999</th>\n",
       "      <td>5.0</td>\n",
       "      <td>I just got my phone today. I'm loving it so far</td>\n",
       "    </tr>\n",
       "  </tbody>\n",
       "</table>\n",
       "<p>50000 rows × 2 columns</p>\n",
       "</div>"
      ],
      "text/plain": [
       "       Rating                                             Review\n",
       "0         1.0  This product is pretty good overall but I can'...\n",
       "1         1.0  the cellphone is very slow specially the inter...\n",
       "2         1.0  Phone wouldn't make calls not really sure if i...\n",
       "3         1.0  The cell phone turned on and now it goes out a...\n",
       "4         1.0  It's a tmobile version of xperia not a sony fa...\n",
       "...       ...                                                ...\n",
       "49995     5.0  Great phone. Big improvement over my previous ...\n",
       "49996     5.0  I bought the red and it is gorgeous. i love ho...\n",
       "49997     5.0                          My father love the phone.\n",
       "49998     5.0  I bought the navy polka dot top and i love the...\n",
       "49999     5.0    I just got my phone today. I'm loving it so far\n",
       "\n",
       "[50000 rows x 2 columns]"
      ]
     },
     "execution_count": 27,
     "metadata": {},
     "output_type": "execute_result"
    }
   ],
   "source": [
    "balanced_df"
   ]
  },
  {
   "cell_type": "code",
   "execution_count": 28,
   "id": "52372592",
   "metadata": {},
   "outputs": [
    {
     "data": {
      "text/html": [
       "<div>\n",
       "<style scoped>\n",
       "    .dataframe tbody tr th:only-of-type {\n",
       "        vertical-align: middle;\n",
       "    }\n",
       "\n",
       "    .dataframe tbody tr th {\n",
       "        vertical-align: top;\n",
       "    }\n",
       "\n",
       "    .dataframe thead th {\n",
       "        text-align: right;\n",
       "    }\n",
       "</style>\n",
       "<table border=\"1\" class=\"dataframe\">\n",
       "  <thead>\n",
       "    <tr style=\"text-align: right;\">\n",
       "      <th></th>\n",
       "      <th>Rating</th>\n",
       "      <th>Review</th>\n",
       "    </tr>\n",
       "  </thead>\n",
       "  <tbody>\n",
       "    <tr>\n",
       "      <th>0</th>\n",
       "      <td>2.0</td>\n",
       "      <td>Personal, for me. I didn’t know the material w...</td>\n",
       "    </tr>\n",
       "    <tr>\n",
       "      <th>1</th>\n",
       "      <td>2.0</td>\n",
       "      <td>Phone would not allow any kind of download. ch...</td>\n",
       "    </tr>\n",
       "    <tr>\n",
       "      <th>2</th>\n",
       "      <td>2.0</td>\n",
       "      <td>Worked OK except the small outside screen woul...</td>\n",
       "    </tr>\n",
       "    <tr>\n",
       "      <th>3</th>\n",
       "      <td>2.0</td>\n",
       "      <td>Anytime you see a top reviewer giving a produc...</td>\n",
       "    </tr>\n",
       "    <tr>\n",
       "      <th>4</th>\n",
       "      <td>2.0</td>\n",
       "      <td>Looked nice out of the package but not worth t...</td>\n",
       "    </tr>\n",
       "    <tr>\n",
       "      <th>...</th>\n",
       "      <td>...</td>\n",
       "      <td>...</td>\n",
       "    </tr>\n",
       "    <tr>\n",
       "      <th>42775</th>\n",
       "      <td>5.0</td>\n",
       "      <td>A good product .... Thanks for it.</td>\n",
       "    </tr>\n",
       "    <tr>\n",
       "      <th>42776</th>\n",
       "      <td>5.0</td>\n",
       "      <td>Love this too! Fits great, washes well and doe...</td>\n",
       "    </tr>\n",
       "    <tr>\n",
       "      <th>42777</th>\n",
       "      <td>5.0</td>\n",
       "      <td>Work good with Map quest not with Google map. ...</td>\n",
       "    </tr>\n",
       "    <tr>\n",
       "      <th>42778</th>\n",
       "      <td>5.0</td>\n",
       "      <td>This Nokia Lumia 820 unlocked GSM phone is wor...</td>\n",
       "    </tr>\n",
       "    <tr>\n",
       "      <th>42779</th>\n",
       "      <td>5.0</td>\n",
       "      <td>I was leery of purchasing a refurbished phone,...</td>\n",
       "    </tr>\n",
       "  </tbody>\n",
       "</table>\n",
       "<p>42780 rows × 2 columns</p>\n",
       "</div>"
      ],
      "text/plain": [
       "       Rating                                             Review\n",
       "0         2.0  Personal, for me. I didn’t know the material w...\n",
       "1         2.0  Phone would not allow any kind of download. ch...\n",
       "2         2.0  Worked OK except the small outside screen woul...\n",
       "3         2.0  Anytime you see a top reviewer giving a produc...\n",
       "4         2.0  Looked nice out of the package but not worth t...\n",
       "...       ...                                                ...\n",
       "42775     5.0                 A good product .... Thanks for it.\n",
       "42776     5.0  Love this too! Fits great, washes well and doe...\n",
       "42777     5.0  Work good with Map quest not with Google map. ...\n",
       "42778     5.0  This Nokia Lumia 820 unlocked GSM phone is wor...\n",
       "42779     5.0  I was leery of purchasing a refurbished phone,...\n",
       "\n",
       "[42780 rows x 2 columns]"
      ]
     },
     "execution_count": 28,
     "metadata": {},
     "output_type": "execute_result"
    }
   ],
   "source": [
    "imbalanced_df"
   ]
  },
  {
   "cell_type": "markdown",
   "id": "b69ee7d9",
   "metadata": {},
   "source": [
    "## Visualization of balanced dataset"
   ]
  },
  {
   "cell_type": "code",
   "execution_count": 30,
   "id": "be797e30",
   "metadata": {},
   "outputs": [
    {
     "name": "stderr",
     "output_type": "stream",
     "text": [
      "C:\\Users\\LENOVO\\AppData\\Local\\Temp\\ipykernel_25720\\2428083184.py:2: FutureWarning: \n",
      "\n",
      "Passing `palette` without assigning `hue` is deprecated and will be removed in v0.14.0. Assign the `x` variable to `hue` and set `legend=False` for the same effect.\n",
      "\n",
      "  sns.countplot(x='Rating', data=balanced_df, palette='viridis')\n"
     ]
    },
    {
     "data": {
      "image/png": "[encoded data removed]",
      "text/plain": [
       "<Figure size 800x500 with 1 Axes>"
      ]
     },
     "metadata": {},
     "output_type": "display_data"
    }
   ],
   "source": [
    "plt.figure(figsize=(8, 5))\n",
    "sns.countplot(x='Rating', data=balanced_df, palette='viridis')\n",
    "plt.title(\"Number of Reviews per Rating\")\n",
    "plt.xlabel(\"Rating\")\n",
    "plt.ylabel(\"Count\")\n",
    "plt.show()"
   ]
  },
  {
   "cell_type": "code",
   "execution_count": 31,
   "id": "de8057e1",
   "metadata": {},
   "outputs": [
    {
     "data": {
      "image/png": "[encoded data removed]",
      "text/plain": [
       "<Figure size 600x600 with 1 Axes>"
      ]
     },
     "metadata": {},
     "output_type": "display_data"
    }
   ],
   "source": [
    "rating_counts = balanced_df['Rating'].value_counts().sort_index()\n",
    "plt.figure(figsize=(6, 6))\n",
    "plt.pie(rating_counts, labels=rating_counts.index, autopct='%1.1f%%', startangle=140)\n",
    "plt.title(\"Rating Distribution\")\n",
    "plt.show()"
   ]
  },
  {
   "cell_type": "markdown",
   "id": "dfc12d58",
   "metadata": {},
   "source": [
    "## Visualization of imbalanced dataset"
   ]
  },
  {
   "cell_type": "code",
   "execution_count": 32,
   "id": "93de67a6",
   "metadata": {},
   "outputs": [
    {
     "name": "stderr",
     "output_type": "stream",
     "text": [
      "C:\\Users\\LENOVO\\AppData\\Local\\Temp\\ipykernel_25720\\2685128881.py:2: FutureWarning: \n",
      "\n",
      "Passing `palette` without assigning `hue` is deprecated and will be removed in v0.14.0. Assign the `x` variable to `hue` and set `legend=False` for the same effect.\n",
      "\n",
      "  sns.countplot(x='Rating', data=imbalanced_df, palette='viridis')\n"
     ]
    },
    {
     "data": {
      "image/png": "[encoded data removed]",
      "text/plain": [
       "<Figure size 800x500 with 1 Axes>"
      ]
     },
     "metadata": {},
     "output_type": "display_data"
    }
   ],
   "source": [
    "plt.figure(figsize=(8, 5))\n",
    "sns.countplot(x='Rating', data=imbalanced_df, palette='viridis')\n",
    "plt.title(\"Number of Reviews per Rating\")\n",
    "plt.xlabel(\"Rating\")\n",
    "plt.ylabel(\"Count\")\n",
    "plt.show()"
   ]
  },
  {
   "cell_type": "code",
   "execution_count": 33,
   "id": "e3b4236c",
   "metadata": {},
   "outputs": [
    {
     "data": {
      "image/png": "[encoded data removed]",
      "text/plain": [
       "<Figure size 600x600 with 1 Axes>"
      ]
     },
     "metadata": {},
     "output_type": "display_data"
    }
   ],
   "source": [
    "rating_counts = imbalanced_df['Rating'].value_counts().sort_index()\n",
    "plt.figure(figsize=(6, 6))\n",
    "plt.pie(rating_counts, labels=rating_counts.index, autopct='%1.1f%%', startangle=140)\n",
    "plt.title(\"Rating Distribution\")\n",
    "plt.show()"
   ]
  },
  {
   "cell_type": "markdown",
   "id": "35d28c5c",
   "metadata": {},
   "source": [
    "## save both dataset"
   ]
  },
  {
   "cell_type": "code",
   "execution_count": 34,
   "id": "3be2721e",
   "metadata": {},
   "outputs": [],
   "source": [
    "balanced_df.to_csv(\"balanced_data_for_DL.csv\", encoding=\"utf-8-sig\")"
   ]
  },
  {
   "cell_type": "code",
   "execution_count": 35,
   "id": "80cc1c25",
   "metadata": {},
   "outputs": [],
   "source": [
    "imbalanced_df.to_csv(\"imbalanced_data_for_DL.csv\", encoding=\"utf-8-sig\")"
   ]
  },
  {
   "cell_type": "code",
   "execution_count": null,
   "id": "312e2d4c",
   "metadata": {},
   "outputs": [],
   "source": []
  },
  {
   "cell_type": "code",
   "execution_count": null,
   "id": "5da40320",
   "metadata": {},
   "outputs": [],
   "source": []
  }
 ],
 "metadata": {
  "kernelspec": {
   "display_name": "Python 3",
   "language": "python",
   "name": "python3"
  },
  "language_info": {
   "codemirror_mode": {
    "name": "ipython",
    "version": 3
   },
   "file_extension": ".py",
   "mimetype": "text/x-python",
   "name": "python",
   "nbconvert_exporter": "python",
   "pygments_lexer": "ipython3",
   "version": "3.13.5"
  }
 },
 "nbformat": 4,
 "nbformat_minor": 5
}
