{
 "cells": [
  {
   "cell_type": "code",
   "execution_count": 6,
   "id": "23e289ab",
   "metadata": {},
   "outputs": [],
   "source": [
    "import pandas as pd\n",
    "import matplotlib.pyplot as plt\n",
    "import seaborn as sns"
   ]
  },
  {
   "cell_type": "markdown",
   "id": "2b63856c",
   "metadata": {},
   "source": [
    "## load balanced dataset"
   ]
  },
  {
   "cell_type": "code",
   "execution_count": 7,
   "id": "737f03db",
   "metadata": {},
   "outputs": [
    {
     "data": {
      "text/html": [
       "<div>\n",
       "<style scoped>\n",
       "    .dataframe tbody tr th:only-of-type {\n",
       "        vertical-align: middle;\n",
       "    }\n",
       "\n",
       "    .dataframe tbody tr th {\n",
       "        vertical-align: top;\n",
       "    }\n",
       "\n",
       "    .dataframe thead th {\n",
       "        text-align: right;\n",
       "    }\n",
       "</style>\n",
       "<table border=\"1\" class=\"dataframe\">\n",
       "  <thead>\n",
       "    <tr style=\"text-align: right;\">\n",
       "      <th></th>\n",
       "      <th>Unnamed: 0</th>\n",
       "      <th>Review</th>\n",
       "      <th>Rating</th>\n",
       "    </tr>\n",
       "  </thead>\n",
       "  <tbody>\n",
       "    <tr>\n",
       "      <th>0</th>\n",
       "      <td>0</td>\n",
       "      <td>I'm worried about the quality of the shirt. it...</td>\n",
       "      <td>2.0</td>\n",
       "    </tr>\n",
       "    <tr>\n",
       "      <th>1</th>\n",
       "      <td>1</td>\n",
       "      <td>One wash wonder...i'm a s to m and went with a...</td>\n",
       "      <td>3.0</td>\n",
       "    </tr>\n",
       "    <tr>\n",
       "      <th>2</th>\n",
       "      <td>2</td>\n",
       "      <td>nice but kinda too long n shrinks easily</td>\n",
       "      <td>4.0</td>\n",
       "    </tr>\n",
       "    <tr>\n",
       "      <th>3</th>\n",
       "      <td>3</td>\n",
       "      <td>It took a long time to get, but it was worth i...</td>\n",
       "      <td>3.0</td>\n",
       "    </tr>\n",
       "    <tr>\n",
       "      <th>4</th>\n",
       "      <td>4</td>\n",
       "      <td>Wife’s review:Material is very soft, love the ...</td>\n",
       "      <td>3.0</td>\n",
       "    </tr>\n",
       "    <tr>\n",
       "      <th>...</th>\n",
       "      <td>...</td>\n",
       "      <td>...</td>\n",
       "      <td>...</td>\n",
       "    </tr>\n",
       "    <tr>\n",
       "      <th>9995</th>\n",
       "      <td>9995</td>\n",
       "      <td>Runs small.  Otherwise nice shorts</td>\n",
       "      <td>3.0</td>\n",
       "    </tr>\n",
       "    <tr>\n",
       "      <th>9996</th>\n",
       "      <td>9996</td>\n",
       "      <td>I ordered a 3 pack of large, black, brown &amp; gr...</td>\n",
       "      <td>3.0</td>\n",
       "    </tr>\n",
       "    <tr>\n",
       "      <th>9997</th>\n",
       "      <td>9997</td>\n",
       "      <td>I am normally a m-l (170 lbs, 5'4\", 34dd). i o...</td>\n",
       "      <td>3.0</td>\n",
       "    </tr>\n",
       "    <tr>\n",
       "      <th>9998</th>\n",
       "      <td>9998</td>\n",
       "      <td>A little to thin</td>\n",
       "      <td>4.0</td>\n",
       "    </tr>\n",
       "    <tr>\n",
       "      <th>9999</th>\n",
       "      <td>9999</td>\n",
       "      <td>This was so unflattering. the bust was too hig...</td>\n",
       "      <td>2.0</td>\n",
       "    </tr>\n",
       "  </tbody>\n",
       "</table>\n",
       "<p>10000 rows × 3 columns</p>\n",
       "</div>"
      ],
      "text/plain": [
       "      Unnamed: 0                                             Review  Rating\n",
       "0              0  I'm worried about the quality of the shirt. it...     2.0\n",
       "1              1  One wash wonder...i'm a s to m and went with a...     3.0\n",
       "2              2           nice but kinda too long n shrinks easily     4.0\n",
       "3              3  It took a long time to get, but it was worth i...     3.0\n",
       "4              4  Wife’s review:Material is very soft, love the ...     3.0\n",
       "...          ...                                                ...     ...\n",
       "9995        9995                 Runs small.  Otherwise nice shorts     3.0\n",
       "9996        9996  I ordered a 3 pack of large, black, brown & gr...     3.0\n",
       "9997        9997  I am normally a m-l (170 lbs, 5'4\", 34dd). i o...     3.0\n",
       "9998        9998                                   A little to thin     4.0\n",
       "9999        9999  This was so unflattering. the bust was too hig...     2.0\n",
       "\n",
       "[10000 rows x 3 columns]"
      ]
     },
     "execution_count": 7,
     "metadata": {},
     "output_type": "execute_result"
    }
   ],
   "source": [
    "df=pd.read_csv('cleaned_balanced.csv')\n",
    "df"
   ]
  },
  {
   "cell_type": "code",
   "execution_count": 8,
   "id": "fe48bbc9",
   "metadata": {},
   "outputs": [],
   "source": [
    "df=df.drop(columns='Unnamed: 0')"
   ]
  },
  {
   "cell_type": "code",
   "execution_count": 9,
   "id": "ec50d5c0",
   "metadata": {},
   "outputs": [
    {
     "data": {
      "text/html": [
       "<div>\n",
       "<style scoped>\n",
       "    .dataframe tbody tr th:only-of-type {\n",
       "        vertical-align: middle;\n",
       "    }\n",
       "\n",
       "    .dataframe tbody tr th {\n",
       "        vertical-align: top;\n",
       "    }\n",
       "\n",
       "    .dataframe thead th {\n",
       "        text-align: right;\n",
       "    }\n",
       "</style>\n",
       "<table border=\"1\" class=\"dataframe\">\n",
       "  <thead>\n",
       "    <tr style=\"text-align: right;\">\n",
       "      <th></th>\n",
       "      <th>Review</th>\n",
       "      <th>Rating</th>\n",
       "    </tr>\n",
       "  </thead>\n",
       "  <tbody>\n",
       "    <tr>\n",
       "      <th>0</th>\n",
       "      <td>I'm worried about the quality of the shirt. it...</td>\n",
       "      <td>2.0</td>\n",
       "    </tr>\n",
       "    <tr>\n",
       "      <th>1</th>\n",
       "      <td>One wash wonder...i'm a s to m and went with a...</td>\n",
       "      <td>3.0</td>\n",
       "    </tr>\n",
       "    <tr>\n",
       "      <th>2</th>\n",
       "      <td>nice but kinda too long n shrinks easily</td>\n",
       "      <td>4.0</td>\n",
       "    </tr>\n",
       "    <tr>\n",
       "      <th>3</th>\n",
       "      <td>It took a long time to get, but it was worth i...</td>\n",
       "      <td>3.0</td>\n",
       "    </tr>\n",
       "    <tr>\n",
       "      <th>4</th>\n",
       "      <td>Wife’s review:Material is very soft, love the ...</td>\n",
       "      <td>3.0</td>\n",
       "    </tr>\n",
       "    <tr>\n",
       "      <th>...</th>\n",
       "      <td>...</td>\n",
       "      <td>...</td>\n",
       "    </tr>\n",
       "    <tr>\n",
       "      <th>9995</th>\n",
       "      <td>Runs small.  Otherwise nice shorts</td>\n",
       "      <td>3.0</td>\n",
       "    </tr>\n",
       "    <tr>\n",
       "      <th>9996</th>\n",
       "      <td>I ordered a 3 pack of large, black, brown &amp; gr...</td>\n",
       "      <td>3.0</td>\n",
       "    </tr>\n",
       "    <tr>\n",
       "      <th>9997</th>\n",
       "      <td>I am normally a m-l (170 lbs, 5'4\", 34dd). i o...</td>\n",
       "      <td>3.0</td>\n",
       "    </tr>\n",
       "    <tr>\n",
       "      <th>9998</th>\n",
       "      <td>A little to thin</td>\n",
       "      <td>4.0</td>\n",
       "    </tr>\n",
       "    <tr>\n",
       "      <th>9999</th>\n",
       "      <td>This was so unflattering. the bust was too hig...</td>\n",
       "      <td>2.0</td>\n",
       "    </tr>\n",
       "  </tbody>\n",
       "</table>\n",
       "<p>10000 rows × 2 columns</p>\n",
       "</div>"
      ],
      "text/plain": [
       "                                                 Review  Rating\n",
       "0     I'm worried about the quality of the shirt. it...     2.0\n",
       "1     One wash wonder...i'm a s to m and went with a...     3.0\n",
       "2              nice but kinda too long n shrinks easily     4.0\n",
       "3     It took a long time to get, but it was worth i...     3.0\n",
       "4     Wife’s review:Material is very soft, love the ...     3.0\n",
       "...                                                 ...     ...\n",
       "9995                 Runs small.  Otherwise nice shorts     3.0\n",
       "9996  I ordered a 3 pack of large, black, brown & gr...     3.0\n",
       "9997  I am normally a m-l (170 lbs, 5'4\", 34dd). i o...     3.0\n",
       "9998                                   A little to thin     4.0\n",
       "9999  This was so unflattering. the bust was too hig...     2.0\n",
       "\n",
       "[10000 rows x 2 columns]"
      ]
     },
     "execution_count": 9,
     "metadata": {},
     "output_type": "execute_result"
    }
   ],
   "source": [
    "df"
   ]
  },
  {
   "cell_type": "code",
   "execution_count": 10,
   "id": "d17367a9",
   "metadata": {},
   "outputs": [
    {
     "data": {
      "text/plain": [
       "Rating\n",
       "2.0    2000\n",
       "3.0    2000\n",
       "4.0    2000\n",
       "5.0    2000\n",
       "1.0    2000\n",
       "Name: count, dtype: int64"
      ]
     },
     "execution_count": 10,
     "metadata": {},
     "output_type": "execute_result"
    }
   ],
   "source": [
    "df['Rating'].value_counts()"
   ]
  },
  {
   "cell_type": "markdown",
   "id": "4081e4aa",
   "metadata": {},
   "source": [
    "## visualization of balanced dataset"
   ]
  },
  {
   "cell_type": "code",
   "execution_count": 11,
   "id": "66d5f278",
   "metadata": {},
   "outputs": [
    {
     "data": {
      "image/png": "[encoded data removed]",
      "text/plain": [
       "<Figure size 600x600 with 1 Axes>"
      ]
     },
     "metadata": {},
     "output_type": "display_data"
    }
   ],
   "source": [
    "rating_counts = df['Rating'].value_counts().sort_index()\n",
    "plt.figure(figsize=(6, 6))\n",
    "plt.pie(rating_counts, labels=rating_counts.index, autopct='%1.1f%%', startangle=140)\n",
    "plt.title(\"Rating Distribution\")\n",
    "plt.show()"
   ]
  },
  {
   "cell_type": "code",
   "execution_count": 12,
   "id": "cd52ab66",
   "metadata": {},
   "outputs": [
    {
     "name": "stderr",
     "output_type": "stream",
     "text": [
      "C:\\Users\\LENOVO\\AppData\\Local\\Temp\\ipykernel_12484\\3926856831.py:2: FutureWarning: \n",
      "\n",
      "Passing `palette` without assigning `hue` is deprecated and will be removed in v0.14.0. Assign the `x` variable to `hue` and set `legend=False` for the same effect.\n",
      "\n",
      "  sns.countplot(x='Rating', data=df, palette='viridis')\n"
     ]
    },
    {
     "data": {
      "image/png": "[encoded data removed]",
      "text/plain": [
       "<Figure size 800x500 with 1 Axes>"
      ]
     },
     "metadata": {},
     "output_type": "display_data"
    }
   ],
   "source": [
    "plt.figure(figsize=(8, 5))\n",
    "sns.countplot(x='Rating', data=df, palette='viridis')\n",
    "plt.title(\"Number of Reviews per Rating\")\n",
    "plt.xlabel(\"Rating\")\n",
    "plt.ylabel(\"Count\")\n",
    "plt.show()"
   ]
  },
  {
   "cell_type": "code",
   "execution_count": 13,
   "id": "d9cca5b5",
   "metadata": {},
   "outputs": [
    {
     "name": "stderr",
     "output_type": "stream",
     "text": [
      "C:\\Users\\LENOVO\\AppData\\Local\\Temp\\ipykernel_12484\\2378602375.py:6: FutureWarning: \n",
      "\n",
      "Passing `palette` without assigning `hue` is deprecated and will be removed in v0.14.0. Assign the `x` variable to `hue` and set `legend=False` for the same effect.\n",
      "\n",
      "  sns.boxplot(x='Rating', y='Word_Count', data=df, palette='Set2')\n"
     ]
    },
    {
     "data": {
      "image/png": "[encoded data removed]",
      "text/plain": [
       "<Figure size 1000x600 with 1 Axes>"
      ]
     },
     "metadata": {},
     "output_type": "display_data"
    },
    {
     "name": "stderr",
     "output_type": "stream",
     "text": [
      "C:\\Users\\LENOVO\\AppData\\Local\\Temp\\ipykernel_12484\\2378602375.py:18: UserWarning: No artists with labels found to put in legend.  Note that artists whose label start with an underscore are ignored when legend() is called with no argument.\n",
      "  plt.legend(title='Rating')\n"
     ]
    },
    {
     "data": {
      "image/png": "[encoded data removed]",
      "text/plain": [
       "<Figure size 1200x600 with 1 Axes>"
      ]
     },
     "metadata": {},
     "output_type": "display_data"
    }
   ],
   "source": [
    "# STEP 1: Add a word count column\n",
    "df['Word_Count'] = df['Review'].astype(str).apply(lambda x: len(x.split()))\n",
    "\n",
    "# STEP 2: Box Plot — Word Count Distribution by Rating\n",
    "plt.figure(figsize=(10, 6))\n",
    "sns.boxplot(x='Rating', y='Word_Count', data=df, palette='Set2')\n",
    "plt.title(\" Box Plot: Word Count Distribution by Rating\")\n",
    "plt.xlabel(\"Rating\")\n",
    "plt.ylabel(\"Word Count\")\n",
    "plt.show()\n",
    "\n",
    "# STEP 3: Histogram — Word Count by Rating\n",
    "plt.figure(figsize=(12, 6))\n",
    "sns.histplot(data=df, x='Word_Count', hue='Rating', multiple='stack', palette='Set2', bins=30)\n",
    "plt.title(\" Histogram: Word Count Distribution by Rating\")\n",
    "plt.xlabel(\"Word Count\")\n",
    "plt.ylabel(\"Number of Reviews\")\n",
    "plt.legend(title='Rating')\n",
    "plt.show()"
   ]
  },
  {
   "cell_type": "code",
   "execution_count": 14,
   "id": "3d1dcd35",
   "metadata": {},
   "outputs": [
    {
     "name": "stdout",
     "output_type": "stream",
     "text": [
      " Total Word Count per Rating:\n",
      "\n",
      "Rating\n",
      "1.0     69203\n",
      "2.0     94098\n",
      "3.0    101840\n",
      "4.0    103179\n",
      "5.0     81101\n",
      "Name: Word_Count, dtype: int64\n"
     ]
    }
   ],
   "source": [
    "word_count_by_rating = df.groupby('Rating')['Word_Count'].sum()\n",
    "\n",
    "# Step 3: Display the result\n",
    "print(\" Total Word Count per Rating:\\n\")\n",
    "print(word_count_by_rating)"
   ]
  },
  {
   "cell_type": "code",
   "execution_count": 15,
   "id": "5d49e10a",
   "metadata": {},
   "outputs": [
    {
     "name": "stderr",
     "output_type": "stream",
     "text": [
      "C:\\Users\\LENOVO\\AppData\\Local\\Temp\\ipykernel_12484\\1579722604.py:3: FutureWarning: \n",
      "\n",
      "Passing `palette` without assigning `hue` is deprecated and will be removed in v0.14.0. Assign the `x` variable to `hue` and set `legend=False` for the same effect.\n",
      "\n",
      "  sns.barplot(data=word_count_by_rating, x='Rating', y='Word_Count', palette='viridis')\n"
     ]
    },
    {
     "data": {
      "image/png": "[encoded data removed]",
      "text/plain": [
       "<Figure size 800x500 with 1 Axes>"
      ]
     },
     "metadata": {},
     "output_type": "display_data"
    }
   ],
   "source": [
    "word_count_by_rating = df.groupby('Rating')['Word_Count'].sum().reset_index()\n",
    "plt.figure(figsize=(8, 5))\n",
    "sns.barplot(data=word_count_by_rating, x='Rating', y='Word_Count', palette='viridis')\n",
    "plt.title(\" Total Word Count per Rating\")\n",
    "plt.xlabel(\"Rating\")\n",
    "plt.ylabel(\"Total Word Count\")\n",
    "plt.grid(True)\n",
    "plt.show()"
   ]
  },
  {
   "cell_type": "code",
   "execution_count": 16,
   "metadata": {},
   "outputs": [],
   "source": [
    "df = df.drop(columns=['Word_Count'])"
   ]
  },
  {
   "cell_type": "markdown",
   "id": "23ae5518",
   "metadata": {},
   "source": [
    "## samples of each rating in balanced dataset"
   ]
  },
  {
   "cell_type": "code",
   "execution_count": null,
   "id": "637c56f9",
   "metadata": {},
   "outputs": [
    {
     "name": "stdout",
     "output_type": "stream",
     "text": [
      "\n",
      " Showing 5 sample reviews for Rating 1:\n",
      "\n",
      "1. Ordered this for my son. Im aware it was a lightweight raincoat but it has got to be the thinnest \"coat\" ever. Its so thin they could've sent it in an envelope. I like the way it looks but I wouldn't expect this to last long at all! I've never seen something so ridiculous. The zipper is the thickest part of the coat and im sure if anything snags it it will be destroyed immediately. Not worth the money, Very disappointed. I would have just spent more on a nicer coat had I known. Hopefully this review helps someone else!\n",
      "\n",
      "2. I bought this very cute t-shirt in sky. wore it once, then washed it according to the washing instuctions (machine washable/dryable). this t-shirt turned into a crop top!!!!! i can't wear it. it's going to goodwill. i would suggest that you air dry this shirt, if you want to take the chance that it won't shrink up several inches.\n",
      "\n",
      "3. Everything. I want my money back. Should not be sold on Amazon.  PLEASE HELP\n",
      "\n",
      "4. Very tight, thick, heavy material\n",
      "\n",
      "5. I love anything orange- when i saw this coat online, i ordered it as i loved all the features. the features of the coat are fun- however the coat came all bunched up in the package. i let it hang for a couple of days but the wrinkles were awful and even steaming and an iron would not take the creases away. i tried the coat on - the buckles were poorly made. i ended up returning this jacket.\n",
      "\n"
     ]
    }
   ],
   "source": [
    "# Choose how many reviews to display\n",
    "n = 5\n",
    "\n",
    "# Choose the rating you want to see (1 to 5)\n",
    "rating = 1\n",
    "\n",
    "# Filter reviews of the selected rating\n",
    "filtered_reviews = df[df['Rating'] == rating]['Review'].dropna()\n",
    "\n",
    "# Sample 'n' reviews \n",
    "sample_reviews = filtered_reviews.sample(n=min(n, len(filtered_reviews)), random_state=42)\n",
    "\n",
    "# Print the reviews\n",
    "print(f\"\\n Showing {min(n, len(filtered_reviews))} sample reviews for Rating {rating}:\\n\")\n",
    "for i, review in enumerate(sample_reviews, 1):\n",
    "    print(f\"{i}. {review}\\n\")\n"
   ]
  },
  {
   "cell_type": "code",
   "execution_count": null,
   "id": "51c17f2c",
   "metadata": {},
   "outputs": [
    {
     "name": "stdout",
     "output_type": "stream",
     "text": [
      "\n",
      " Showing 5 sample reviews for Rating 2:\n",
      "\n",
      "1. Very nice fabric and quality but runs very large. i had to return my pair of a size 0. stinks to pay for shipping on a product that looks so different in the picture.\n",
      "\n",
      "2. Okay he comfort, stretch, lightweight are all amazing. I ordered two pairs of “Pure White”.They were not white. In fact they were a light blue/grey. I would give it 5 stars for everything except correctness of order.\n",
      "\n",
      "3. I loved this shirt so much i bought it in 4 colors. however, two of them shrunk. i was very disappointed.\n",
      "\n",
      "4. So disappointed in the abundance of polyester fabrics that retailer carries these days. especially at this price point. the pattern and style of this dress is beautiful, but i will never spend two hundred dollars (or even half that) on a poly dress. please add more linen, cotton, and silk!\n",
      "\n",
      "5. The sweater is very comfy and looked good the first time i tried it on, however the material is thin and slightly see through.\n",
      "also, after one wear it completely stretched out and made the long sleeves awkward to wear without washing in between each wear. after the third time i wore it, i discovered a large hole in the armpit, most likely due to the excessive washing. i would not recommend this sweater.\n",
      "\n"
     ]
    }
   ],
   "source": [
    "# Choose how many reviews to display\n",
    "n = 5\n",
    "\n",
    "# Choose the rating you want to see (1 to 5)\n",
    "rating = 2\n",
    "\n",
    "# Filter reviews of the selected rating\n",
    "filtered_reviews = df[df['Rating'] == rating]['Review'].dropna()\n",
    "\n",
    "# Sample 'n' reviews \n",
    "sample_reviews = filtered_reviews.sample(n=min(n, len(filtered_reviews)), random_state=42)\n",
    "\n",
    "# Print the reviews\n",
    "print(f\"\\n Showing {min(n, len(filtered_reviews))} sample reviews for Rating {rating}:\\n\")\n",
    "for i, review in enumerate(sample_reviews, 1):\n",
    "    print(f\"{i}. {review}\\n\")\n"
   ]
  },
  {
   "cell_type": "code",
   "execution_count": null,
   "id": "3dadcc1e",
   "metadata": {},
   "outputs": [
    {
     "name": "stdout",
     "output_type": "stream",
     "text": [
      "\n",
      " Showing 5 sample reviews for Rating 3:\n",
      "\n",
      "1. These didn't fit as expected too small not like my older izods\n",
      "\n",
      "2. Like the previous reviewer, the biggest problem with this shirt is how short it is. i'm 5'4 and ordered a 12, which is usually what i wear at retailer. even only being 5'4, this shirt is much shorter than i anticipated. it fits everywhere else, though. i'm obsessed with the back so i'm going to keep it and wear it. i'd say it's worth it at the sale price.\n",
      "\n",
      "3. I wanted this jacket so bad and waited so long for it to arrive, but it never arrived, I'm so disappointed. I ordered an XL based on the several other blazers by Allegra K I have and I'm sure this one wouldn't disappoint and the colors look fantastic!  Oh well.\n",
      "\n",
      "4. Even their smallest size will drown you!\n",
      "\n",
      "5. I have a love hate relationship with this product. it is comfortable and cozy, yet unshapely. after the initial wear, the product begins to stretch out, and if you sit for a while your knees are demarcated in the fabric once you stand. the sherpa front is soft, but the waffle material in the back is in no way flattering. i purchased for sleeping so it does that job nicely, but i would never leave the house with this on. i am hoping that after the first wash it shrinks a bit too. i am typically a\n",
      "\n"
     ]
    }
   ],
   "source": [
    "# Choose how many reviews to display\n",
    "n = 5\n",
    "\n",
    "# Choose the rating you want to see (1 to 5)\n",
    "rating = 3\n",
    "\n",
    "# Filter reviews of the selected rating\n",
    "filtered_reviews = df[df['Rating'] == rating]['Review'].dropna()\n",
    "\n",
    "# Sample 'n' reviews \n",
    "sample_reviews = filtered_reviews.sample(n=min(n, len(filtered_reviews)), random_state=42)\n",
    "\n",
    "# Print the reviews\n",
    "print(f\"\\n Showing {min(n, len(filtered_reviews))} sample reviews for Rating {rating}:\\n\")\n",
    "for i, review in enumerate(sample_reviews, 1):\n",
    "    print(f\"{i}. {review}\\n\")\n"
   ]
  },
  {
   "cell_type": "code",
   "execution_count": null,
   "metadata": {},
   "outputs": [
    {
     "name": "stdout",
     "output_type": "stream",
     "text": [
      "\n",
      " Showing 5 sample reviews for Rating 4:\n",
      "\n",
      "1. I had the priviledge of trying this on during the 20% off tops sale, too bad but the store only had regualr sizes, and xs was the smallest. i am not super tiny (read have muscles), but this looked huge on me. love the colros and textures though, the line in the back is pretty and adds charm when you turn around, and the combo of all the colros is awesome, but i would need a xxs or perhaps a petite (though it is short, so not sure about petite)... soft, but try a smaller size...\n",
      "\n",
      "2. The shirt has a very nice Hawaian print to it, as a matter of fact it looks very nice once you put it on. The shirt material is lightweight but the material itself to me is not of high quality but rather some shirt of polyester blend. The size rins a little bit bigger than expected. Other than that it is a good summer shirt to bring on on your trips and wear in casual outings.\n",
      "\n",
      "3. This sweater is amazing. color is vibrant. quality is high. but i have a super long torso and it fell short on me. if you are shorter this will be amazing. sad to send it back.\n",
      "\n",
      "4. Loved the design and legnth but the material was not a light and soft as i expected.  i would get this in another fabric.\n",
      "\n",
      "5. sleeping\n",
      "\n"
     ]
    }
   ],
   "source": [
    "# Choose how many reviews to display\n",
    "n = 5\n",
    "\n",
    "# Choose the rating you want to see (1 to 5)\n",
    "rating = 4\n",
    "\n",
    "# Filter reviews of the selected rating\n",
    "filtered_reviews = df[df['Rating'] == rating]['Review'].dropna()\n",
    "\n",
    "# Sample 'n' reviews \n",
    "sample_reviews = filtered_reviews.sample(n=min(n, len(filtered_reviews)), random_state=42)\n",
    "\n",
    "# Print the reviews\n",
    "print(f\"\\n Showing {min(n, len(filtered_reviews))} sample reviews for Rating {rating}:\\n\")\n",
    "for i, review in enumerate(sample_reviews, 1):\n",
    "    print(f\"{i}. {review}\\n\")\n"
   ]
  },
  {
   "cell_type": "code",
   "execution_count": null,
   "id": "79da644c",
   "metadata": {},
   "outputs": [
    {
     "name": "stdout",
     "output_type": "stream",
     "text": [
      "\n",
      " Showing 5 sample reviews for Rating 5:\n",
      "\n",
      "1. Love polkadots, love sparkle. these little socks are perfect for booties.\n",
      "\n",
      "2. Fits perfectly for my husband who is 6-6. He says they are comfortable and perfect in length.\n",
      "\n",
      "3. Por el precio son muy buenos y comodos\n",
      "\n",
      "4. Hi, i love this top. it not only is femine but it is wee bit sexy. it could be worn in the office then out for happy hour\n",
      "\n",
      "5. I love this blouse! it's very flattering- gives the illusion of an hourglass shape. the fabric feels soft and flowy, and the pattern is pretty; it does need a camisole underneath because it's kinda sheer. it does run small! i usually wear a size 0 in retailer clothes, but i bought a size 2 in this shirt and the sleeves are still very snug around my forearms which is unusual for me.\n",
      "\n"
     ]
    }
   ],
   "source": [
    "# Choose how many reviews to display\n",
    "n = 5\n",
    "\n",
    "# Choose the rating you want to see (1 to 5)\n",
    "rating = 5\n",
    "\n",
    "# Filter reviews of the selected rating\n",
    "filtered_reviews = df[df['Rating'] == rating]['Review'].dropna()\n",
    "\n",
    "# Sample 'n' reviews \n",
    "sample_reviews = filtered_reviews.sample(n=min(n, len(filtered_reviews)), random_state=42)\n",
    "\n",
    "# Print the reviews\n",
    "print(f\"\\n Showing {min(n, len(filtered_reviews))} sample reviews for Rating {rating}:\\n\")\n",
    "for i, review in enumerate(sample_reviews, 1):\n",
    "    print(f\"{i}. {review}\\n\")\n"
   ]
  },
  {
   "cell_type": "markdown",
   "id": "d40c5f53",
   "metadata": {},
   "source": [
    "## train and test split"
   ]
  },
  {
   "cell_type": "code",
   "execution_count": 22,
   "id": "26d34d07",
   "metadata": {},
   "outputs": [],
   "source": [
    "# Shuffle the balanced DataFrame\n",
    "df = df.sample(frac=1, random_state=42).reset_index(drop=True)"
   ]
  },
  {
   "cell_type": "code",
   "execution_count": 23,
   "id": "255e8f85",
   "metadata": {},
   "outputs": [],
   "source": [
    "from sklearn.model_selection import train_test_split"
   ]
  },
  {
   "cell_type": "code",
   "execution_count": 24,
   "id": "69ceae6a",
   "metadata": {},
   "outputs": [],
   "source": [
    "x=df['Review']\n",
    "y=df['Rating']"
   ]
  },
  {
   "cell_type": "code",
   "execution_count": 25,
   "id": "6b709f01",
   "metadata": {},
   "outputs": [],
   "source": [
    "X_train, X_test, y_train, y_test = train_test_split(\n",
    "    x, y, test_size=0.2, random_state=42, stratify=y\n",
    ")"
   ]
  },
  {
   "cell_type": "markdown",
   "id": "5de9fc47",
   "metadata": {},
   "source": [
    "## visualization of y_train and y_test"
   ]
  },
  {
   "cell_type": "code",
   "execution_count": 26,
   "id": "7d7d79bf",
   "metadata": {},
   "outputs": [
    {
     "data": {
      "text/plain": [
       "Rating\n",
       "1.0    1600\n",
       "4.0    1600\n",
       "3.0    1600\n",
       "2.0    1600\n",
       "5.0    1600\n",
       "Name: count, dtype: int64"
      ]
     },
     "execution_count": 26,
     "metadata": {},
     "output_type": "execute_result"
    }
   ],
   "source": [
    "y_train.value_counts()"
   ]
  },
  {
   "cell_type": "code",
   "execution_count": 28,
   "id": "d580d6a5",
   "metadata": {},
   "outputs": [],
   "source": [
    "train_df = pd.DataFrame({'Review': X_train, 'Rating': y_train})"
   ]
  },
  {
   "cell_type": "code",
   "execution_count": 29,
   "id": "c87b1a78",
   "metadata": {},
   "outputs": [
    {
     "name": "stderr",
     "output_type": "stream",
     "text": [
      "C:\\Users\\LENOVO\\AppData\\Local\\Temp\\ipykernel_12484\\2621185537.py:2: FutureWarning: \n",
      "\n",
      "Passing `palette` without assigning `hue` is deprecated and will be removed in v0.14.0. Assign the `x` variable to `hue` and set `legend=False` for the same effect.\n",
      "\n",
      "  sns.countplot(x='Rating', data=train_df, palette='viridis')\n"
     ]
    },
    {
     "data": {
      "image/png": "[encoded data removed]",
      "text/plain": [
       "<Figure size 800x500 with 1 Axes>"
      ]
     },
     "metadata": {},
     "output_type": "display_data"
    }
   ],
   "source": [
    "plt.figure(figsize=(8, 5))\n",
    "sns.countplot(x='Rating', data=train_df, palette='viridis')\n",
    "plt.title(\"Number of Reviews per Rating\")\n",
    "plt.xlabel(\"Rating\")\n",
    "plt.ylabel(\"Count\")\n",
    "plt.show()"
   ]
  },
  {
   "cell_type": "code",
   "execution_count": 34,
   "id": "3cbe33f2",
   "metadata": {},
   "outputs": [],
   "source": [
    "train_df['Word_Count'] = train_df['Review'].astype(str).apply(lambda x: len(x.split()))"
   ]
  },
  {
   "cell_type": "code",
   "execution_count": 35,
   "id": "ae93c197",
   "metadata": {},
   "outputs": [
    {
     "name": "stderr",
     "output_type": "stream",
     "text": [
      "C:\\Users\\LENOVO\\AppData\\Local\\Temp\\ipykernel_12484\\3536735248.py:3: FutureWarning: \n",
      "\n",
      "Passing `palette` without assigning `hue` is deprecated and will be removed in v0.14.0. Assign the `x` variable to `hue` and set `legend=False` for the same effect.\n",
      "\n",
      "  sns.barplot(data=word_count_by_rating, x='Rating', y='Word_Count', palette='viridis')\n"
     ]
    },
    {
     "data": {
      "image/png": "[encoded data removed]",
      "text/plain": [
       "<Figure size 800x500 with 1 Axes>"
      ]
     },
     "metadata": {},
     "output_type": "display_data"
    }
   ],
   "source": [
    "word_count_by_rating = train_df.groupby('Rating')['Word_Count'].sum().reset_index()\n",
    "plt.figure(figsize=(8, 5))\n",
    "sns.barplot(data=word_count_by_rating, x='Rating', y='Word_Count', palette='viridis')\n",
    "plt.title(\" Total Word Count per Rating\")\n",
    "plt.xlabel(\"Rating\")\n",
    "plt.ylabel(\"Total Word Count\")\n",
    "plt.grid(True)\n",
    "plt.show()"
   ]
  },
  {
   "cell_type": "code",
   "execution_count": 37,
   "id": "6224fce9",
   "metadata": {},
   "outputs": [
    {
     "data": {
      "text/plain": [
       "Rating\n",
       "1.0    400\n",
       "2.0    400\n",
       "3.0    400\n",
       "5.0    400\n",
       "4.0    400\n",
       "Name: count, dtype: int64"
      ]
     },
     "execution_count": 37,
     "metadata": {},
     "output_type": "execute_result"
    }
   ],
   "source": [
    "y_test.value_counts()"
   ]
  },
  {
   "cell_type": "code",
   "execution_count": 38,
   "id": "bb8a90ab",
   "metadata": {},
   "outputs": [],
   "source": [
    "test_df = pd.DataFrame({'Review': X_test, 'Rating': y_test})"
   ]
  },
  {
   "cell_type": "code",
   "execution_count": 39,
   "id": "b07ccd16",
   "metadata": {},
   "outputs": [
    {
     "name": "stderr",
     "output_type": "stream",
     "text": [
      "C:\\Users\\LENOVO\\AppData\\Local\\Temp\\ipykernel_12484\\574291667.py:2: FutureWarning: \n",
      "\n",
      "Passing `palette` without assigning `hue` is deprecated and will be removed in v0.14.0. Assign the `x` variable to `hue` and set `legend=False` for the same effect.\n",
      "\n",
      "  sns.countplot(x='Rating', data=test_df, palette='viridis')\n"
     ]
    },
    {
     "data": {
      "image/png": "[encoded data removed]",
      "text/plain": [
       "<Figure size 800x500 with 1 Axes>"
      ]
     },
     "metadata": {},
     "output_type": "display_data"
    }
   ],
   "source": [
    "plt.figure(figsize=(8, 5))\n",
    "sns.countplot(x='Rating', data=test_df, palette='viridis')\n",
    "plt.title(\"Number of Reviews per Rating\")\n",
    "plt.xlabel(\"Rating\")\n",
    "plt.ylabel(\"Count\")\n",
    "plt.show()"
   ]
  },
  {
   "cell_type": "code",
   "execution_count": 40,
   "id": "51c0c44f",
   "metadata": {},
   "outputs": [],
   "source": [
    "test_df['Word_Count'] = test_df['Review'].astype(str).apply(lambda x: len(x.split()))"
   ]
  },
  {
   "cell_type": "code",
   "execution_count": 41,
   "id": "be7deb67",
   "metadata": {},
   "outputs": [
    {
     "name": "stderr",
     "output_type": "stream",
     "text": [
      "C:\\Users\\LENOVO\\AppData\\Local\\Temp\\ipykernel_12484\\4258918706.py:3: FutureWarning: \n",
      "\n",
      "Passing `palette` without assigning `hue` is deprecated and will be removed in v0.14.0. Assign the `x` variable to `hue` and set `legend=False` for the same effect.\n",
      "\n",
      "  sns.barplot(data=word_count_by_rating, x='Rating', y='Word_Count', palette='viridis')\n"
     ]
    },
    {
     "data": {
      "image/png": "[encoded data removed]",
      "text/plain": [
       "<Figure size 800x500 with 1 Axes>"
      ]
     },
     "metadata": {},
     "output_type": "display_data"
    }
   ],
   "source": [
    "word_count_by_rating = test_df.groupby('Rating')['Word_Count'].sum().reset_index()\n",
    "plt.figure(figsize=(8, 5))\n",
    "sns.barplot(data=word_count_by_rating, x='Rating', y='Word_Count', palette='viridis')\n",
    "plt.title(\" Total Word Count per Rating\")\n",
    "plt.xlabel(\"Rating\")\n",
    "plt.ylabel(\"Total Word Count\")\n",
    "plt.grid(True)\n",
    "plt.show()"
   ]
  },
  {
   "cell_type": "markdown",
   "id": "86466105",
   "metadata": {},
   "source": [
    "## samples of each rating in test dataset"
   ]
  },
  {
   "cell_type": "code",
   "execution_count": null,
   "id": "2cc77d61",
   "metadata": {},
   "outputs": [
    {
     "name": "stdout",
     "output_type": "stream",
     "text": [
      "\n",
      " Showing 5 sample reviews for Rating 1:\n",
      "\n",
      "1. Shrinks in dryer\n",
      "\n",
      "2. This top is perfect for the first day at clown college if you want to see some clowns cry. the sleeves are probably the worst part of this overpriced monstrosity. the elastic at the cuffs makes the already comically large sleeves billow and puff out even more. \n",
      "\n",
      "buy this if you enjoy walking to the post office to return things.\n",
      "\n",
      "3. Disappointed, I just received these and there is stains on them. I will be trying to get stains out of these pants all season once baseball starts.  I didn't need them to come pre-stained.\n",
      "\n",
      "4. This dress had so much potential. looked cute when i received it. put it on & couldn't wait to take it off. it's shapeless, top heavy & just overall unflattering. the material could be cute....on a totally different dress. don't waste your money.\n",
      "\n",
      "5. I am returning these, because they’re super thin and scratchy material. Not good.\n",
      "\n"
     ]
    }
   ],
   "source": [
    "# Choose how many reviews to display\n",
    "n = 5\n",
    "\n",
    "# Choose the rating you want to see (1 to 5)\n",
    "rating = 1\n",
    "\n",
    "# Filter reviews of the selected rating\n",
    "filtered_reviews = test_df[test_df['Rating'] == rating]['Review'].dropna()\n",
    "\n",
    "# Sample 'n' reviews \n",
    "sample_reviews = filtered_reviews.sample(n=min(n, len(filtered_reviews)), random_state=42)\n",
    "\n",
    "# Print the reviews\n",
    "print(f\"\\n Showing {min(n, len(filtered_reviews))} sample reviews for Rating {rating}:\\n\")\n",
    "for i, review in enumerate(sample_reviews, 1):\n",
    "    print(f\"{i}. {review}\\n\")\n"
   ]
  },
  {
   "cell_type": "code",
   "execution_count": null,
   "id": "92958d7e",
   "metadata": {},
   "outputs": [
    {
     "name": "stdout",
     "output_type": "stream",
     "text": [
      "\n",
      " Showing 5 sample reviews for Rating 2:\n",
      "\n",
      "1. Pockets are far too shallow.\n",
      "\n",
      "2. The pattern and fabric are lovely, but the sleeves are short (unlike the photo) so it drapes very strangely. i personally could not figure out how to wear it so that it looked anything remotely like the photo. had to return this one.\n",
      "\n",
      "3. It's not a bad concept but i wished for more. i wish this tunic was a: different material as it was wrinkley and drop-waist design instead of at the waist. too bad. i wanted to love it but it will go back.\n",
      "\n",
      "4. I was a little shocked to see a Columbia jacket so flimsy. No lining and it's made out of a lightweight nylon. The child will definitely need a sweater under it. So disappointed.\n",
      "\n",
      "5. I was excited to see this top, ordered it and was disappointed. it was too tight across the chest and had too much fabric around the bottom. i tried this on 3 times hoping for i had been wrong in previous assessments- no luck.\n",
      "\n"
     ]
    }
   ],
   "source": [
    "# Choose how many reviews to display\n",
    "n = 5\n",
    "\n",
    "# Choose the rating you want to see (1 to 5)\n",
    "rating = 2\n",
    "\n",
    "# Filter reviews of the selected rating\n",
    "filtered_reviews = test_df[test_df['Rating'] == rating]['Review'].dropna()\n",
    "\n",
    "# Sample 'n' reviews \n",
    "sample_reviews = filtered_reviews.sample(n=min(n, len(filtered_reviews)), random_state=42)\n",
    "\n",
    "# Print the reviews\n",
    "print(f\"\\n Showing {min(n, len(filtered_reviews))} sample reviews for Rating {rating}:\\n\")\n",
    "for i, review in enumerate(sample_reviews, 1):\n",
    "    print(f\"{i}. {review}\\n\")\n"
   ]
  },
  {
   "cell_type": "code",
   "execution_count": null,
   "id": "047f6c49",
   "metadata": {},
   "outputs": [
    {
     "name": "stdout",
     "output_type": "stream",
     "text": [
      "\n",
      " Showing 5 sample reviews for Rating 3:\n",
      "\n",
      "1. Wish the zipper was more durable. It broke after only a handful of washes.\n",
      "\n",
      "2. I wanted to love this, as it seemed like a fun and carefree take on a little black dress.\n",
      "\n",
      "but how did i not see that this has tassels? but they're there, a whole row of them - look hear the bottom of the skirt part, between the colorful stripes and the lacy area. that's a deal breaker for me - i really can't stand the way these look, and they're not the sort of thing you can easily remove.\n",
      "\n",
      "the fabric, though nice quality, has no stretch at all. i wasn't expecting stretch, but i'd just say\n",
      "\n",
      "3. I loved the fit, color and style, but the fabric seemed very thin and cheap. i was worried that it would tear easily. this is getting returned.\n",
      "\n",
      "4. I bought this (because it looks beautiful, is well made, and a high quality piece). when i got it home and tried it on, it did not achieve the look i was going for (boho). instead, it was very drapery and full and big and i felt like i was wearing a ghost costume on halloween. i do love retailer's kimonos and thought i'd love this one. but it's going back. i don't need any more clothes in my closet that i do not absolutely love and want to wear again and again. that is my new criteria for purchasi\n",
      "\n",
      "5. The fit is much smaller than blue jeans. I ordered 34W36L if I knew then what I know now I would have bought 36W38L\n",
      "\n"
     ]
    }
   ],
   "source": [
    "# Choose how many reviews to display\n",
    "n = 5\n",
    "\n",
    "# Choose the rating you want to see (1 to 5)\n",
    "rating = 3\n",
    "\n",
    "# Filter reviews of the selected rating\n",
    "filtered_reviews = test_df[test_df['Rating'] == rating]['Review'].dropna()\n",
    "\n",
    "# Sample 'n' reviews \n",
    "sample_reviews = filtered_reviews.sample(n=min(n, len(filtered_reviews)), random_state=42)\n",
    "\n",
    "# Print the reviews\n",
    "print(f\"\\n Showing {min(n, len(filtered_reviews))} sample reviews for Rating {rating}:\\n\")\n",
    "for i, review in enumerate(sample_reviews, 1):\n",
    "    print(f\"{i}. {review}\\n\")\n"
   ]
  },
  {
   "cell_type": "code",
   "execution_count": null,
   "id": "4c77019e",
   "metadata": {},
   "outputs": [
    {
     "name": "stdout",
     "output_type": "stream",
     "text": [
      "\n",
      " Showing 5 sample reviews for Rating 4:\n",
      "\n",
      "1. The dress is  very feminine and very flirty. i love orange/melon-colored dresses. this one does not disappoint. it does run extremely small around the rib cage. i had to size up to a 6 when i typically wear a 2 or 4. my bra size is 32 b. nice quality fabric, lined, with built-in bustier.\n",
      "\n",
      "2. I wanted to roder hte petite version, as it runs long, but they are out of the ivory. i put hte green-ish color in my basket, and may order it, but for now, i am hlding off as i have other nice seaters... so many choices.\n",
      "\n",
      "long, warm, fun closure, falttering, and nice tie back detail.\n",
      "\n",
      "3. These jeans are great. the rise is perfect.\n",
      "\n",
      "4. This is silly, but the moss is not brown as pictured but olive green. with that \"said,\" i am going more casual, and i love the \"flex\" of this coat. the shape is beautiful and the lining is fun. i waited two months to get this in close to my size 00. for my style it is a keeper, but this back order situation is not acceptable. don't know whose fault that is?\n",
      "\n",
      "5. Material seems lighter than the typical Dockers\n",
      "\n"
     ]
    }
   ],
   "source": [
    "# Choose how many reviews to display\n",
    "n = 5\n",
    "\n",
    "# Choose the rating you want to see (1 to 5)\n",
    "rating = 4\n",
    "\n",
    "# Filter reviews of the selected rating\n",
    "filtered_reviews = test_df[test_df['Rating'] == rating]['Review'].dropna()\n",
    "\n",
    "# Sample 'n' reviews \n",
    "sample_reviews = filtered_reviews.sample(n=min(n, len(filtered_reviews)), random_state=42)\n",
    "\n",
    "# Print the reviews\n",
    "print(f\"\\n Showing {min(n, len(filtered_reviews))} sample reviews for Rating {rating}:\\n\")\n",
    "for i, review in enumerate(sample_reviews, 1):\n",
    "    print(f\"{i}. {review}\\n\")\n"
   ]
  },
  {
   "cell_type": "code",
   "execution_count": null,
   "id": "96bcfa98",
   "metadata": {},
   "outputs": [
    {
     "name": "stdout",
     "output_type": "stream",
     "text": [
      "\n",
      " Showing 5 sample reviews for Rating 5:\n",
      "\n",
      "1. Cute and comfy. seems to fit true to size. flattering and roomy on top for my 34ddd shape, but doesn't make me look pregnant or fat overall, which sometimes happens without a waist to define shape. super cute!\n",
      "\n",
      "2. The size fits perfectly and it’s a nice blend of two shade color in the t shirt. It is a perfect outfit to wear for casual occasions and also the material is very soft and comfortable.\n",
      "\n",
      "3. I love this top.  the fit is great for me. i ordered a small. the color is a bit more peach than the pink in the picture,  but still very cute.\n",
      "\n",
      "4. Runs large. Nice fabric and love the color.\n",
      "\n",
      "5. I saw this dress in a store the other day. it is so cute in real life. i don't think the pictures online even begin to show how cute it is on. the dress is well-made and it fit perfectly. in fact, it is quite flattering. i am so happy i saw it in the store. even though i am big online shopper i would have passed on this dress if i only saw it online, but don't because it is worth every penny.\n",
      "\n"
     ]
    }
   ],
   "source": [
    "# Choose how many reviews to display\n",
    "n = 5\n",
    "\n",
    "# Choose the rating you want to see (1 to 5)\n",
    "rating = 5\n",
    "\n",
    "# Filter reviews of the selected rating\n",
    "filtered_reviews = test_df[test_df['Rating'] == rating]['Review'].dropna()\n",
    "\n",
    "# Sample 'n' reviews \n",
    "sample_reviews = filtered_reviews.sample(n=min(n, len(filtered_reviews)), random_state=42)\n",
    "\n",
    "# Print the reviews\n",
    "print(f\"\\n Showing {min(n, len(filtered_reviews))} sample reviews for Rating {rating}:\\n\")\n",
    "for i, review in enumerate(sample_reviews, 1):\n",
    "    print(f\"{i}. {review}\\n\")\n"
   ]
  },
  {
   "cell_type": "markdown",
   "id": "1949395a",
   "metadata": {},
   "source": [
    "## preprocessing"
   ]
  },
  {
   "cell_type": "code",
   "execution_count": 47,
   "id": "2ca21fee",
   "metadata": {},
   "outputs": [],
   "source": [
    "#removing punctuations and making lower case\n",
    "X_train = X_train.str.lower()\n",
    "X_train = X_train.str.replace(r'\\[.*?\\]', '', regex=True)\n"
   ]
  },
  {
   "cell_type": "code",
   "execution_count": 48,
   "id": "c07f66ab",
   "metadata": {},
   "outputs": [],
   "source": [
    "import re\n",
    "\n",
    "def clean_text(text):\n",
    "    text = str(text)\n",
    "    text = re.sub(r\"http\\S+|www\\S+|https\\S+\", '', text, flags=re.MULTILINE)  # remove URLs\n",
    "    text = re.sub(r'<.*?>', '', text)  # remove HTML tags\n",
    "    text = re.sub(r'[\\U00010000-\\U0010ffff]', '', text)  # remove emojis\n",
    "    text = re.sub(r'[^\\w\\s]', '', text)  # remove punctuation\n",
    "    text = re.sub(r'[^a-zA-Z0-9\\s]', '', text)  # remove special characters\n",
    "    text = re.sub(r'\\s+', ' ', text).strip()  # remove extra whitespace\n",
    "    return text\n"
   ]
  },
  {
   "cell_type": "code",
   "execution_count": 49,
   "id": "3edfa858",
   "metadata": {},
   "outputs": [],
   "source": [
    "X_train=X_train.apply(clean_text)"
   ]
  },
  {
   "cell_type": "markdown",
   "id": "33a2c166",
   "metadata": {},
   "source": [
    "## stopword removal and lematization"
   ]
  },
  {
   "cell_type": "code",
   "execution_count": 50,
   "id": "903d08a1",
   "metadata": {},
   "outputs": [],
   "source": [
    "import spacy\n",
    "nlp = spacy.load(\"en_core_web_sm\")"
   ]
  },
  {
   "cell_type": "code",
   "execution_count": 51,
   "id": "a648b1d6",
   "metadata": {},
   "outputs": [
    {
     "name": "stdout",
     "output_type": "stream",
     "text": [
      " Total stop words: 326\n",
      " Stop words list:\n",
      "[\"'d\", \"'ll\", \"'m\", \"'re\", \"'s\", \"'ve\", 'a', 'about', 'above', 'across', 'after', 'afterwards', 'again', 'against', 'all', 'almost', 'alone', 'along', 'already', 'also', 'although', 'always', 'am', 'among', 'amongst', 'amount', 'an', 'and', 'another', 'any', 'anyhow', 'anyone', 'anything', 'anyway', 'anywhere', 'are', 'around', 'as', 'at', 'back', 'be', 'became', 'because', 'become', 'becomes', 'becoming', 'been', 'before', 'beforehand', 'behind', 'being', 'below', 'beside', 'besides', 'between', 'beyond', 'both', 'bottom', 'but', 'by', 'ca', 'call', 'can', 'cannot', 'could', 'did', 'do', 'does', 'doing', 'done', 'down', 'due', 'during', 'each', 'eight', 'either', 'eleven', 'else', 'elsewhere', 'empty', 'enough', 'even', 'ever', 'every', 'everyone', 'everything', 'everywhere', 'except', 'few', 'fifteen', 'fifty', 'first', 'five', 'for', 'former', 'formerly', 'forty', 'four', 'from', 'front', 'full', 'further', 'get', 'give', 'go', 'had', 'has', 'have', 'he', 'hence', 'her', 'here', 'hereafter', 'hereby', 'herein', 'hereupon', 'hers', 'herself', 'him', 'himself', 'his', 'how', 'however', 'hundred', 'i', 'if', 'in', 'indeed', 'into', 'is', 'it', 'its', 'itself', 'just', 'keep', 'last', 'latter', 'latterly', 'least', 'less', 'made', 'make', 'many', 'may', 'me', 'meanwhile', 'might', 'mine', 'more', 'moreover', 'most', 'mostly', 'move', 'much', 'must', 'my', 'myself', \"n't\", 'name', 'namely', 'neither', 'never', 'nevertheless', 'next', 'nine', 'no', 'nobody', 'none', 'noone', 'nor', 'not', 'nothing', 'now', 'nowhere', 'n‘t', 'n’t', 'of', 'off', 'often', 'on', 'once', 'one', 'only', 'onto', 'or', 'other', 'others', 'otherwise', 'our', 'ours', 'ourselves', 'out', 'over', 'own', 'part', 'per', 'perhaps', 'please', 'put', 'quite', 'rather', 're', 'really', 'regarding', 'same', 'say', 'see', 'seem', 'seemed', 'seeming', 'seems', 'serious', 'several', 'she', 'should', 'show', 'side', 'since', 'six', 'sixty', 'so', 'some', 'somehow', 'someone', 'something', 'sometime', 'sometimes', 'somewhere', 'still', 'such', 'take', 'ten', 'than', 'that', 'the', 'their', 'them', 'themselves', 'then', 'thence', 'there', 'thereafter', 'thereby', 'therefore', 'therein', 'thereupon', 'these', 'they', 'third', 'this', 'those', 'though', 'three', 'through', 'throughout', 'thru', 'thus', 'to', 'together', 'too', 'top', 'toward', 'towards', 'twelve', 'twenty', 'two', 'under', 'unless', 'until', 'up', 'upon', 'us', 'used', 'using', 'various', 'very', 'via', 'was', 'we', 'well', 'were', 'what', 'whatever', 'when', 'whence', 'whenever', 'where', 'whereafter', 'whereas', 'whereby', 'wherein', 'whereupon', 'wherever', 'whether', 'which', 'while', 'whither', 'who', 'whoever', 'whole', 'whom', 'whose', 'why', 'will', 'with', 'within', 'without', 'would', 'yet', 'you', 'your', 'yours', 'yourself', 'yourselves', '‘d', '‘ll', '‘m', '‘re', '‘s', '‘ve', '’d', '’ll', '’m', '’re', '’s', '’ve']\n"
     ]
    }
   ],
   "source": [
    "# Print all stop words\n",
    "print(\" Total stop words:\", len(nlp.Defaults.stop_words))\n",
    "print(\" Stop words list:\")\n",
    "print(sorted(nlp.Defaults.stop_words))"
   ]
  },
  {
   "cell_type": "code",
   "execution_count": 52,
   "id": "be02c7b5",
   "metadata": {},
   "outputs": [],
   "source": [
    "#lemmatization and stop word removal\n",
    "def cleaning(text):\n",
    "    doc = nlp(text)\n",
    "    return ' '.join([token.lemma_ for token in doc if not token.is_stop])"
   ]
  },
  {
   "cell_type": "code",
   "execution_count": 54,
   "id": "fa597ee2",
   "metadata": {},
   "outputs": [],
   "source": [
    "X_train=X_train.apply(cleaning)"
   ]
  },
  {
   "cell_type": "code",
   "execution_count": 56,
   "id": "ab7677c0",
   "metadata": {},
   "outputs": [],
   "source": [
    "#removing punctuations and making lower case\n",
    "X_test = X_train.str.lower()\n",
    "X_test = X_train.str.replace(r'\\[.*?\\]', '', regex=True)\n"
   ]
  },
  {
   "cell_type": "code",
   "execution_count": 57,
   "id": "72aebc7a",
   "metadata": {},
   "outputs": [],
   "source": [
    "X_test=X_test.apply(clean_text)"
   ]
  },
  {
   "cell_type": "code",
   "execution_count": 58,
   "id": "8aad5cf2",
   "metadata": {},
   "outputs": [],
   "source": [
    "X_test=X_test.apply(cleaning)"
   ]
  },
  {
   "cell_type": "code",
   "execution_count": 59,
   "id": "cf039129",
   "metadata": {},
   "outputs": [],
   "source": [
    "#Filter out reviews with: Fewer than 3 words and Excessively long text\n",
    "\n",
    "train_df = train_df[(train_df['Word_Count'] >= 3) & (train_df['Word_Count'] <= 100)]\n",
    "\n",
    "\n",
    "X_train = train_df['Review']\n",
    "y_train = train_df['Rating']"
   ]
  },
  {
   "cell_type": "code",
   "execution_count": 60,
   "id": "fb1835d9",
   "metadata": {},
   "outputs": [],
   "source": [
    "#Filter out reviews with: Fewer than 3 words and Excessively long text\n",
    "\n",
    "test_df = test_df[(test_df['Word_Count'] >= 3) & (test_df['Word_Count'] <= 100)]\n",
    "\n",
    "\n",
    "X_test = test_df['Review']\n",
    "y_test = test_df['Rating']"
   ]
  },
  {
   "cell_type": "markdown",
   "id": "0d6b1968",
   "metadata": {},
   "source": [
    "## TF-IDF"
   ]
  },
  {
   "cell_type": "code",
   "execution_count": 66,
   "id": "fa751af9",
   "metadata": {},
   "outputs": [],
   "source": [
    "from sklearn.feature_extraction.text import  TfidfVectorizer"
   ]
  },
  {
   "cell_type": "code",
   "execution_count": 69,
   "id": "563d6c3f",
   "metadata": {},
   "outputs": [],
   "source": [
    "# create a tfidf vectorizer matrix\n",
    "tv = TfidfVectorizer()\n",
    "Xtrain = tv.fit_transform(X_train)"
   ]
  },
  {
   "cell_type": "code",
   "execution_count": 70,
   "id": "f525fb8c",
   "metadata": {},
   "outputs": [
    {
     "data": {
      "text/html": [
       "<div>\n",
       "<style scoped>\n",
       "    .dataframe tbody tr th:only-of-type {\n",
       "        vertical-align: middle;\n",
       "    }\n",
       "\n",
       "    .dataframe tbody tr th {\n",
       "        vertical-align: top;\n",
       "    }\n",
       "\n",
       "    .dataframe thead th {\n",
       "        text-align: right;\n",
       "    }\n",
       "</style>\n",
       "<table border=\"1\" class=\"dataframe\">\n",
       "  <thead>\n",
       "    <tr style=\"text-align: right;\">\n",
       "      <th></th>\n",
       "      <th>00</th>\n",
       "      <th>000</th>\n",
       "      <th>00p</th>\n",
       "      <th>04</th>\n",
       "      <th>06</th>\n",
       "      <th>0p</th>\n",
       "      <th>0r</th>\n",
       "      <th>10</th>\n",
       "      <th>100</th>\n",
       "      <th>100lbs</th>\n",
       "      <th>...</th>\n",
       "      <th>zipper</th>\n",
       "      <th>zippered</th>\n",
       "      <th>zippers</th>\n",
       "      <th>zipping</th>\n",
       "      <th>zips</th>\n",
       "      <th>zity</th>\n",
       "      <th>zone</th>\n",
       "      <th>zoolander</th>\n",
       "      <th>zooming</th>\n",
       "      <th>áspera</th>\n",
       "    </tr>\n",
       "  </thead>\n",
       "  <tbody>\n",
       "    <tr>\n",
       "      <th>0</th>\n",
       "      <td>0.0</td>\n",
       "      <td>0.0</td>\n",
       "      <td>0.0</td>\n",
       "      <td>0.0</td>\n",
       "      <td>0.0</td>\n",
       "      <td>0.0</td>\n",
       "      <td>0.0</td>\n",
       "      <td>0.000000</td>\n",
       "      <td>0.0</td>\n",
       "      <td>0.0</td>\n",
       "      <td>...</td>\n",
       "      <td>0.0</td>\n",
       "      <td>0.0</td>\n",
       "      <td>0.0</td>\n",
       "      <td>0.0</td>\n",
       "      <td>0.0</td>\n",
       "      <td>0.0</td>\n",
       "      <td>0.0</td>\n",
       "      <td>0.217494</td>\n",
       "      <td>0.0</td>\n",
       "      <td>0.0</td>\n",
       "    </tr>\n",
       "    <tr>\n",
       "      <th>1</th>\n",
       "      <td>0.0</td>\n",
       "      <td>0.0</td>\n",
       "      <td>0.0</td>\n",
       "      <td>0.0</td>\n",
       "      <td>0.0</td>\n",
       "      <td>0.0</td>\n",
       "      <td>0.0</td>\n",
       "      <td>0.000000</td>\n",
       "      <td>0.0</td>\n",
       "      <td>0.0</td>\n",
       "      <td>...</td>\n",
       "      <td>0.0</td>\n",
       "      <td>0.0</td>\n",
       "      <td>0.0</td>\n",
       "      <td>0.0</td>\n",
       "      <td>0.0</td>\n",
       "      <td>0.0</td>\n",
       "      <td>0.0</td>\n",
       "      <td>0.000000</td>\n",
       "      <td>0.0</td>\n",
       "      <td>0.0</td>\n",
       "    </tr>\n",
       "    <tr>\n",
       "      <th>2</th>\n",
       "      <td>0.0</td>\n",
       "      <td>0.0</td>\n",
       "      <td>0.0</td>\n",
       "      <td>0.0</td>\n",
       "      <td>0.0</td>\n",
       "      <td>0.0</td>\n",
       "      <td>0.0</td>\n",
       "      <td>0.000000</td>\n",
       "      <td>0.0</td>\n",
       "      <td>0.0</td>\n",
       "      <td>...</td>\n",
       "      <td>0.0</td>\n",
       "      <td>0.0</td>\n",
       "      <td>0.0</td>\n",
       "      <td>0.0</td>\n",
       "      <td>0.0</td>\n",
       "      <td>0.0</td>\n",
       "      <td>0.0</td>\n",
       "      <td>0.000000</td>\n",
       "      <td>0.0</td>\n",
       "      <td>0.0</td>\n",
       "    </tr>\n",
       "    <tr>\n",
       "      <th>3</th>\n",
       "      <td>0.0</td>\n",
       "      <td>0.0</td>\n",
       "      <td>0.0</td>\n",
       "      <td>0.0</td>\n",
       "      <td>0.0</td>\n",
       "      <td>0.0</td>\n",
       "      <td>0.0</td>\n",
       "      <td>0.136514</td>\n",
       "      <td>0.0</td>\n",
       "      <td>0.0</td>\n",
       "      <td>...</td>\n",
       "      <td>0.0</td>\n",
       "      <td>0.0</td>\n",
       "      <td>0.0</td>\n",
       "      <td>0.0</td>\n",
       "      <td>0.0</td>\n",
       "      <td>0.0</td>\n",
       "      <td>0.0</td>\n",
       "      <td>0.000000</td>\n",
       "      <td>0.0</td>\n",
       "      <td>0.0</td>\n",
       "    </tr>\n",
       "    <tr>\n",
       "      <th>4</th>\n",
       "      <td>0.0</td>\n",
       "      <td>0.0</td>\n",
       "      <td>0.0</td>\n",
       "      <td>0.0</td>\n",
       "      <td>0.0</td>\n",
       "      <td>0.0</td>\n",
       "      <td>0.0</td>\n",
       "      <td>0.000000</td>\n",
       "      <td>0.0</td>\n",
       "      <td>0.0</td>\n",
       "      <td>...</td>\n",
       "      <td>0.0</td>\n",
       "      <td>0.0</td>\n",
       "      <td>0.0</td>\n",
       "      <td>0.0</td>\n",
       "      <td>0.0</td>\n",
       "      <td>0.0</td>\n",
       "      <td>0.0</td>\n",
       "      <td>0.000000</td>\n",
       "      <td>0.0</td>\n",
       "      <td>0.0</td>\n",
       "    </tr>\n",
       "    <tr>\n",
       "      <th>...</th>\n",
       "      <td>...</td>\n",
       "      <td>...</td>\n",
       "      <td>...</td>\n",
       "      <td>...</td>\n",
       "      <td>...</td>\n",
       "      <td>...</td>\n",
       "      <td>...</td>\n",
       "      <td>...</td>\n",
       "      <td>...</td>\n",
       "      <td>...</td>\n",
       "      <td>...</td>\n",
       "      <td>...</td>\n",
       "      <td>...</td>\n",
       "      <td>...</td>\n",
       "      <td>...</td>\n",
       "      <td>...</td>\n",
       "      <td>...</td>\n",
       "      <td>...</td>\n",
       "      <td>...</td>\n",
       "      <td>...</td>\n",
       "      <td>...</td>\n",
       "    </tr>\n",
       "    <tr>\n",
       "      <th>7491</th>\n",
       "      <td>0.0</td>\n",
       "      <td>0.0</td>\n",
       "      <td>0.0</td>\n",
       "      <td>0.0</td>\n",
       "      <td>0.0</td>\n",
       "      <td>0.0</td>\n",
       "      <td>0.0</td>\n",
       "      <td>0.000000</td>\n",
       "      <td>0.0</td>\n",
       "      <td>0.0</td>\n",
       "      <td>...</td>\n",
       "      <td>0.0</td>\n",
       "      <td>0.0</td>\n",
       "      <td>0.0</td>\n",
       "      <td>0.0</td>\n",
       "      <td>0.0</td>\n",
       "      <td>0.0</td>\n",
       "      <td>0.0</td>\n",
       "      <td>0.000000</td>\n",
       "      <td>0.0</td>\n",
       "      <td>0.0</td>\n",
       "    </tr>\n",
       "    <tr>\n",
       "      <th>7492</th>\n",
       "      <td>0.0</td>\n",
       "      <td>0.0</td>\n",
       "      <td>0.0</td>\n",
       "      <td>0.0</td>\n",
       "      <td>0.0</td>\n",
       "      <td>0.0</td>\n",
       "      <td>0.0</td>\n",
       "      <td>0.000000</td>\n",
       "      <td>0.0</td>\n",
       "      <td>0.0</td>\n",
       "      <td>...</td>\n",
       "      <td>0.0</td>\n",
       "      <td>0.0</td>\n",
       "      <td>0.0</td>\n",
       "      <td>0.0</td>\n",
       "      <td>0.0</td>\n",
       "      <td>0.0</td>\n",
       "      <td>0.0</td>\n",
       "      <td>0.000000</td>\n",
       "      <td>0.0</td>\n",
       "      <td>0.0</td>\n",
       "    </tr>\n",
       "    <tr>\n",
       "      <th>7493</th>\n",
       "      <td>0.0</td>\n",
       "      <td>0.0</td>\n",
       "      <td>0.0</td>\n",
       "      <td>0.0</td>\n",
       "      <td>0.0</td>\n",
       "      <td>0.0</td>\n",
       "      <td>0.0</td>\n",
       "      <td>0.000000</td>\n",
       "      <td>0.0</td>\n",
       "      <td>0.0</td>\n",
       "      <td>...</td>\n",
       "      <td>0.0</td>\n",
       "      <td>0.0</td>\n",
       "      <td>0.0</td>\n",
       "      <td>0.0</td>\n",
       "      <td>0.0</td>\n",
       "      <td>0.0</td>\n",
       "      <td>0.0</td>\n",
       "      <td>0.000000</td>\n",
       "      <td>0.0</td>\n",
       "      <td>0.0</td>\n",
       "    </tr>\n",
       "    <tr>\n",
       "      <th>7494</th>\n",
       "      <td>0.0</td>\n",
       "      <td>0.0</td>\n",
       "      <td>0.0</td>\n",
       "      <td>0.0</td>\n",
       "      <td>0.0</td>\n",
       "      <td>0.0</td>\n",
       "      <td>0.0</td>\n",
       "      <td>0.000000</td>\n",
       "      <td>0.0</td>\n",
       "      <td>0.0</td>\n",
       "      <td>...</td>\n",
       "      <td>0.0</td>\n",
       "      <td>0.0</td>\n",
       "      <td>0.0</td>\n",
       "      <td>0.0</td>\n",
       "      <td>0.0</td>\n",
       "      <td>0.0</td>\n",
       "      <td>0.0</td>\n",
       "      <td>0.000000</td>\n",
       "      <td>0.0</td>\n",
       "      <td>0.0</td>\n",
       "    </tr>\n",
       "    <tr>\n",
       "      <th>7495</th>\n",
       "      <td>0.0</td>\n",
       "      <td>0.0</td>\n",
       "      <td>0.0</td>\n",
       "      <td>0.0</td>\n",
       "      <td>0.0</td>\n",
       "      <td>0.0</td>\n",
       "      <td>0.0</td>\n",
       "      <td>0.000000</td>\n",
       "      <td>0.0</td>\n",
       "      <td>0.0</td>\n",
       "      <td>...</td>\n",
       "      <td>0.0</td>\n",
       "      <td>0.0</td>\n",
       "      <td>0.0</td>\n",
       "      <td>0.0</td>\n",
       "      <td>0.0</td>\n",
       "      <td>0.0</td>\n",
       "      <td>0.0</td>\n",
       "      <td>0.000000</td>\n",
       "      <td>0.0</td>\n",
       "      <td>0.0</td>\n",
       "    </tr>\n",
       "  </tbody>\n",
       "</table>\n",
       "<p>7496 rows × 8816 columns</p>\n",
       "</div>"
      ],
      "text/plain": [
       "       00  000  00p   04   06   0p   0r        10  100  100lbs  ...  zipper  \\\n",
       "0     0.0  0.0  0.0  0.0  0.0  0.0  0.0  0.000000  0.0     0.0  ...     0.0   \n",
       "1     0.0  0.0  0.0  0.0  0.0  0.0  0.0  0.000000  0.0     0.0  ...     0.0   \n",
       "2     0.0  0.0  0.0  0.0  0.0  0.0  0.0  0.000000  0.0     0.0  ...     0.0   \n",
       "3     0.0  0.0  0.0  0.0  0.0  0.0  0.0  0.136514  0.0     0.0  ...     0.0   \n",
       "4     0.0  0.0  0.0  0.0  0.0  0.0  0.0  0.000000  0.0     0.0  ...     0.0   \n",
       "...   ...  ...  ...  ...  ...  ...  ...       ...  ...     ...  ...     ...   \n",
       "7491  0.0  0.0  0.0  0.0  0.0  0.0  0.0  0.000000  0.0     0.0  ...     0.0   \n",
       "7492  0.0  0.0  0.0  0.0  0.0  0.0  0.0  0.000000  0.0     0.0  ...     0.0   \n",
       "7493  0.0  0.0  0.0  0.0  0.0  0.0  0.0  0.000000  0.0     0.0  ...     0.0   \n",
       "7494  0.0  0.0  0.0  0.0  0.0  0.0  0.0  0.000000  0.0     0.0  ...     0.0   \n",
       "7495  0.0  0.0  0.0  0.0  0.0  0.0  0.0  0.000000  0.0     0.0  ...     0.0   \n",
       "\n",
       "      zippered  zippers  zipping  zips  zity  zone  zoolander  zooming  áspera  \n",
       "0          0.0      0.0      0.0   0.0   0.0   0.0   0.217494      0.0     0.0  \n",
       "1          0.0      0.0      0.0   0.0   0.0   0.0   0.000000      0.0     0.0  \n",
       "2          0.0      0.0      0.0   0.0   0.0   0.0   0.000000      0.0     0.0  \n",
       "3          0.0      0.0      0.0   0.0   0.0   0.0   0.000000      0.0     0.0  \n",
       "4          0.0      0.0      0.0   0.0   0.0   0.0   0.000000      0.0     0.0  \n",
       "...        ...      ...      ...   ...   ...   ...        ...      ...     ...  \n",
       "7491       0.0      0.0      0.0   0.0   0.0   0.0   0.000000      0.0     0.0  \n",
       "7492       0.0      0.0      0.0   0.0   0.0   0.0   0.000000      0.0     0.0  \n",
       "7493       0.0      0.0      0.0   0.0   0.0   0.0   0.000000      0.0     0.0  \n",
       "7494       0.0      0.0      0.0   0.0   0.0   0.0   0.000000      0.0     0.0  \n",
       "7495       0.0      0.0      0.0   0.0   0.0   0.0   0.000000      0.0     0.0  \n",
       "\n",
       "[7496 rows x 8816 columns]"
      ]
     },
     "execution_count": 70,
     "metadata": {},
     "output_type": "execute_result"
    }
   ],
   "source": [
    "X = pd.DataFrame(Xtrain.toarray(), columns=tv.get_feature_names_out())\n",
    "X"
   ]
  },
  {
   "cell_type": "code",
   "execution_count": 71,
   "id": "a980be1f",
   "metadata": {},
   "outputs": [],
   "source": [
    "\n",
    "Xtest = tv.fit_transform(X_test)"
   ]
  },
  {
   "cell_type": "code",
   "execution_count": 72,
   "id": "201cdda3",
   "metadata": {},
   "outputs": [
    {
     "data": {
      "text/html": [
       "<div>\n",
       "<style scoped>\n",
       "    .dataframe tbody tr th:only-of-type {\n",
       "        vertical-align: middle;\n",
       "    }\n",
       "\n",
       "    .dataframe tbody tr th {\n",
       "        vertical-align: top;\n",
       "    }\n",
       "\n",
       "    .dataframe thead th {\n",
       "        text-align: right;\n",
       "    }\n",
       "</style>\n",
       "<table border=\"1\" class=\"dataframe\">\n",
       "  <thead>\n",
       "    <tr style=\"text-align: right;\">\n",
       "      <th></th>\n",
       "      <th>00</th>\n",
       "      <th>00p</th>\n",
       "      <th>0p</th>\n",
       "      <th>10</th>\n",
       "      <th>100</th>\n",
       "      <th>102</th>\n",
       "      <th>103lbs</th>\n",
       "      <th>105</th>\n",
       "      <th>105lb</th>\n",
       "      <th>108</th>\n",
       "      <th>...</th>\n",
       "      <th>yummy</th>\n",
       "      <th>zero</th>\n",
       "      <th>zip</th>\n",
       "      <th>zipped</th>\n",
       "      <th>zipper</th>\n",
       "      <th>zippers</th>\n",
       "      <th>zipping</th>\n",
       "      <th>zips</th>\n",
       "      <th>zone</th>\n",
       "      <th>zoom</th>\n",
       "    </tr>\n",
       "  </thead>\n",
       "  <tbody>\n",
       "    <tr>\n",
       "      <th>0</th>\n",
       "      <td>0.0</td>\n",
       "      <td>0.0</td>\n",
       "      <td>0.0</td>\n",
       "      <td>0.0</td>\n",
       "      <td>0.0</td>\n",
       "      <td>0.0</td>\n",
       "      <td>0.0</td>\n",
       "      <td>0.0</td>\n",
       "      <td>0.0</td>\n",
       "      <td>0.0</td>\n",
       "      <td>...</td>\n",
       "      <td>0.0</td>\n",
       "      <td>0.0</td>\n",
       "      <td>0.0</td>\n",
       "      <td>0.0</td>\n",
       "      <td>0.0</td>\n",
       "      <td>0.0</td>\n",
       "      <td>0.0</td>\n",
       "      <td>0.0</td>\n",
       "      <td>0.0</td>\n",
       "      <td>0.0</td>\n",
       "    </tr>\n",
       "    <tr>\n",
       "      <th>1</th>\n",
       "      <td>0.0</td>\n",
       "      <td>0.0</td>\n",
       "      <td>0.0</td>\n",
       "      <td>0.0</td>\n",
       "      <td>0.0</td>\n",
       "      <td>0.0</td>\n",
       "      <td>0.0</td>\n",
       "      <td>0.0</td>\n",
       "      <td>0.0</td>\n",
       "      <td>0.0</td>\n",
       "      <td>...</td>\n",
       "      <td>0.0</td>\n",
       "      <td>0.0</td>\n",
       "      <td>0.0</td>\n",
       "      <td>0.0</td>\n",
       "      <td>0.0</td>\n",
       "      <td>0.0</td>\n",
       "      <td>0.0</td>\n",
       "      <td>0.0</td>\n",
       "      <td>0.0</td>\n",
       "      <td>0.0</td>\n",
       "    </tr>\n",
       "    <tr>\n",
       "      <th>2</th>\n",
       "      <td>0.0</td>\n",
       "      <td>0.0</td>\n",
       "      <td>0.0</td>\n",
       "      <td>0.0</td>\n",
       "      <td>0.0</td>\n",
       "      <td>0.0</td>\n",
       "      <td>0.0</td>\n",
       "      <td>0.0</td>\n",
       "      <td>0.0</td>\n",
       "      <td>0.0</td>\n",
       "      <td>...</td>\n",
       "      <td>0.0</td>\n",
       "      <td>0.0</td>\n",
       "      <td>0.0</td>\n",
       "      <td>0.0</td>\n",
       "      <td>0.0</td>\n",
       "      <td>0.0</td>\n",
       "      <td>0.0</td>\n",
       "      <td>0.0</td>\n",
       "      <td>0.0</td>\n",
       "      <td>0.0</td>\n",
       "    </tr>\n",
       "    <tr>\n",
       "      <th>3</th>\n",
       "      <td>0.0</td>\n",
       "      <td>0.0</td>\n",
       "      <td>0.0</td>\n",
       "      <td>0.0</td>\n",
       "      <td>0.0</td>\n",
       "      <td>0.0</td>\n",
       "      <td>0.0</td>\n",
       "      <td>0.0</td>\n",
       "      <td>0.0</td>\n",
       "      <td>0.0</td>\n",
       "      <td>...</td>\n",
       "      <td>0.0</td>\n",
       "      <td>0.0</td>\n",
       "      <td>0.0</td>\n",
       "      <td>0.0</td>\n",
       "      <td>0.0</td>\n",
       "      <td>0.0</td>\n",
       "      <td>0.0</td>\n",
       "      <td>0.0</td>\n",
       "      <td>0.0</td>\n",
       "      <td>0.0</td>\n",
       "    </tr>\n",
       "    <tr>\n",
       "      <th>4</th>\n",
       "      <td>0.0</td>\n",
       "      <td>0.0</td>\n",
       "      <td>0.0</td>\n",
       "      <td>0.0</td>\n",
       "      <td>0.0</td>\n",
       "      <td>0.0</td>\n",
       "      <td>0.0</td>\n",
       "      <td>0.0</td>\n",
       "      <td>0.0</td>\n",
       "      <td>0.0</td>\n",
       "      <td>...</td>\n",
       "      <td>0.0</td>\n",
       "      <td>0.0</td>\n",
       "      <td>0.0</td>\n",
       "      <td>0.0</td>\n",
       "      <td>0.0</td>\n",
       "      <td>0.0</td>\n",
       "      <td>0.0</td>\n",
       "      <td>0.0</td>\n",
       "      <td>0.0</td>\n",
       "      <td>0.0</td>\n",
       "    </tr>\n",
       "    <tr>\n",
       "      <th>...</th>\n",
       "      <td>...</td>\n",
       "      <td>...</td>\n",
       "      <td>...</td>\n",
       "      <td>...</td>\n",
       "      <td>...</td>\n",
       "      <td>...</td>\n",
       "      <td>...</td>\n",
       "      <td>...</td>\n",
       "      <td>...</td>\n",
       "      <td>...</td>\n",
       "      <td>...</td>\n",
       "      <td>...</td>\n",
       "      <td>...</td>\n",
       "      <td>...</td>\n",
       "      <td>...</td>\n",
       "      <td>...</td>\n",
       "      <td>...</td>\n",
       "      <td>...</td>\n",
       "      <td>...</td>\n",
       "      <td>...</td>\n",
       "      <td>...</td>\n",
       "    </tr>\n",
       "    <tr>\n",
       "      <th>1890</th>\n",
       "      <td>0.0</td>\n",
       "      <td>0.0</td>\n",
       "      <td>0.0</td>\n",
       "      <td>0.0</td>\n",
       "      <td>0.0</td>\n",
       "      <td>0.0</td>\n",
       "      <td>0.0</td>\n",
       "      <td>0.0</td>\n",
       "      <td>0.0</td>\n",
       "      <td>0.0</td>\n",
       "      <td>...</td>\n",
       "      <td>0.0</td>\n",
       "      <td>0.0</td>\n",
       "      <td>0.0</td>\n",
       "      <td>0.0</td>\n",
       "      <td>0.0</td>\n",
       "      <td>0.0</td>\n",
       "      <td>0.0</td>\n",
       "      <td>0.0</td>\n",
       "      <td>0.0</td>\n",
       "      <td>0.0</td>\n",
       "    </tr>\n",
       "    <tr>\n",
       "      <th>1891</th>\n",
       "      <td>0.0</td>\n",
       "      <td>0.0</td>\n",
       "      <td>0.0</td>\n",
       "      <td>0.0</td>\n",
       "      <td>0.0</td>\n",
       "      <td>0.0</td>\n",
       "      <td>0.0</td>\n",
       "      <td>0.0</td>\n",
       "      <td>0.0</td>\n",
       "      <td>0.0</td>\n",
       "      <td>...</td>\n",
       "      <td>0.0</td>\n",
       "      <td>0.0</td>\n",
       "      <td>0.0</td>\n",
       "      <td>0.0</td>\n",
       "      <td>0.0</td>\n",
       "      <td>0.0</td>\n",
       "      <td>0.0</td>\n",
       "      <td>0.0</td>\n",
       "      <td>0.0</td>\n",
       "      <td>0.0</td>\n",
       "    </tr>\n",
       "    <tr>\n",
       "      <th>1892</th>\n",
       "      <td>0.0</td>\n",
       "      <td>0.0</td>\n",
       "      <td>0.0</td>\n",
       "      <td>0.0</td>\n",
       "      <td>0.0</td>\n",
       "      <td>0.0</td>\n",
       "      <td>0.0</td>\n",
       "      <td>0.0</td>\n",
       "      <td>0.0</td>\n",
       "      <td>0.0</td>\n",
       "      <td>...</td>\n",
       "      <td>0.0</td>\n",
       "      <td>0.0</td>\n",
       "      <td>0.0</td>\n",
       "      <td>0.0</td>\n",
       "      <td>0.0</td>\n",
       "      <td>0.0</td>\n",
       "      <td>0.0</td>\n",
       "      <td>0.0</td>\n",
       "      <td>0.0</td>\n",
       "      <td>0.0</td>\n",
       "    </tr>\n",
       "    <tr>\n",
       "      <th>1893</th>\n",
       "      <td>0.0</td>\n",
       "      <td>0.0</td>\n",
       "      <td>0.0</td>\n",
       "      <td>0.0</td>\n",
       "      <td>0.0</td>\n",
       "      <td>0.0</td>\n",
       "      <td>0.0</td>\n",
       "      <td>0.0</td>\n",
       "      <td>0.0</td>\n",
       "      <td>0.0</td>\n",
       "      <td>...</td>\n",
       "      <td>0.0</td>\n",
       "      <td>0.0</td>\n",
       "      <td>0.0</td>\n",
       "      <td>0.0</td>\n",
       "      <td>0.0</td>\n",
       "      <td>0.0</td>\n",
       "      <td>0.0</td>\n",
       "      <td>0.0</td>\n",
       "      <td>0.0</td>\n",
       "      <td>0.0</td>\n",
       "    </tr>\n",
       "    <tr>\n",
       "      <th>1894</th>\n",
       "      <td>0.0</td>\n",
       "      <td>0.0</td>\n",
       "      <td>0.0</td>\n",
       "      <td>0.0</td>\n",
       "      <td>0.0</td>\n",
       "      <td>0.0</td>\n",
       "      <td>0.0</td>\n",
       "      <td>0.0</td>\n",
       "      <td>0.0</td>\n",
       "      <td>0.0</td>\n",
       "      <td>...</td>\n",
       "      <td>0.0</td>\n",
       "      <td>0.0</td>\n",
       "      <td>0.0</td>\n",
       "      <td>0.0</td>\n",
       "      <td>0.0</td>\n",
       "      <td>0.0</td>\n",
       "      <td>0.0</td>\n",
       "      <td>0.0</td>\n",
       "      <td>0.0</td>\n",
       "      <td>0.0</td>\n",
       "    </tr>\n",
       "  </tbody>\n",
       "</table>\n",
       "<p>1895 rows × 4477 columns</p>\n",
       "</div>"
      ],
      "text/plain": [
       "       00  00p   0p   10  100  102  103lbs  105  105lb  108  ...  yummy  zero  \\\n",
       "0     0.0  0.0  0.0  0.0  0.0  0.0     0.0  0.0    0.0  0.0  ...    0.0   0.0   \n",
       "1     0.0  0.0  0.0  0.0  0.0  0.0     0.0  0.0    0.0  0.0  ...    0.0   0.0   \n",
       "2     0.0  0.0  0.0  0.0  0.0  0.0     0.0  0.0    0.0  0.0  ...    0.0   0.0   \n",
       "3     0.0  0.0  0.0  0.0  0.0  0.0     0.0  0.0    0.0  0.0  ...    0.0   0.0   \n",
       "4     0.0  0.0  0.0  0.0  0.0  0.0     0.0  0.0    0.0  0.0  ...    0.0   0.0   \n",
       "...   ...  ...  ...  ...  ...  ...     ...  ...    ...  ...  ...    ...   ...   \n",
       "1890  0.0  0.0  0.0  0.0  0.0  0.0     0.0  0.0    0.0  0.0  ...    0.0   0.0   \n",
       "1891  0.0  0.0  0.0  0.0  0.0  0.0     0.0  0.0    0.0  0.0  ...    0.0   0.0   \n",
       "1892  0.0  0.0  0.0  0.0  0.0  0.0     0.0  0.0    0.0  0.0  ...    0.0   0.0   \n",
       "1893  0.0  0.0  0.0  0.0  0.0  0.0     0.0  0.0    0.0  0.0  ...    0.0   0.0   \n",
       "1894  0.0  0.0  0.0  0.0  0.0  0.0     0.0  0.0    0.0  0.0  ...    0.0   0.0   \n",
       "\n",
       "      zip  zipped  zipper  zippers  zipping  zips  zone  zoom  \n",
       "0     0.0     0.0     0.0      0.0      0.0   0.0   0.0   0.0  \n",
       "1     0.0     0.0     0.0      0.0      0.0   0.0   0.0   0.0  \n",
       "2     0.0     0.0     0.0      0.0      0.0   0.0   0.0   0.0  \n",
       "3     0.0     0.0     0.0      0.0      0.0   0.0   0.0   0.0  \n",
       "4     0.0     0.0     0.0      0.0      0.0   0.0   0.0   0.0  \n",
       "...   ...     ...     ...      ...      ...   ...   ...   ...  \n",
       "1890  0.0     0.0     0.0      0.0      0.0   0.0   0.0   0.0  \n",
       "1891  0.0     0.0     0.0      0.0      0.0   0.0   0.0   0.0  \n",
       "1892  0.0     0.0     0.0      0.0      0.0   0.0   0.0   0.0  \n",
       "1893  0.0     0.0     0.0      0.0      0.0   0.0   0.0   0.0  \n",
       "1894  0.0     0.0     0.0      0.0      0.0   0.0   0.0   0.0  \n",
       "\n",
       "[1895 rows x 4477 columns]"
      ]
     },
     "execution_count": 72,
     "metadata": {},
     "output_type": "execute_result"
    }
   ],
   "source": [
    "Y = pd.DataFrame(Xtest.toarray(), columns=tv.get_feature_names_out())\n",
    "Y"
   ]
  }
 ],
 "metadata": {
  "kernelspec": {
   "display_name": "Python 3",
   "language": "python",
   "name": "python3"
  },
  "language_info": {
   "codemirror_mode": {
    "name": "ipython",
    "version": 3
   },
   "file_extension": ".py",
   "mimetype": "text/x-python",
   "name": "python",
   "nbconvert_exporter": "python",
   "pygments_lexer": "ipython3",
   "version": "3.13.5"
  }
 },
 "nbformat": 4,
 "nbformat_minor": 5
}
