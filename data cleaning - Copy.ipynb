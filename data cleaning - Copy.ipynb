{
 "cells": [
  {
   "cell_type": "code",
   "execution_count": 1,
   "id": "1cce15f9",
   "metadata": {},
   "outputs": [],
   "source": [
    "import pandas as pd\n",
    "import numpy as np\n",
    "import matplotlib.pyplot as plt\n",
    "import seaborn as sns"
   ]
  },
  {
   "cell_type": "markdown",
   "id": "d19cf2bf",
   "metadata": {},
   "source": [
    "## Load dataset"
   ]
  },
  {
   "cell_type": "code",
   "execution_count": 2,
   "id": "7740fb33",
   "metadata": {},
   "outputs": [
    {
     "data": {
      "text/html": [
       "<div>\n",
       "<style scoped>\n",
       "    .dataframe tbody tr th:only-of-type {\n",
       "        vertical-align: middle;\n",
       "    }\n",
       "\n",
       "    .dataframe tbody tr th {\n",
       "        vertical-align: top;\n",
       "    }\n",
       "\n",
       "    .dataframe thead th {\n",
       "        text-align: right;\n",
       "    }\n",
       "</style>\n",
       "<table border=\"1\" class=\"dataframe\">\n",
       "  <thead>\n",
       "    <tr style=\"text-align: right;\">\n",
       "      <th></th>\n",
       "      <th>Id</th>\n",
       "      <th>ProductId</th>\n",
       "      <th>UserId</th>\n",
       "      <th>ProfileName</th>\n",
       "      <th>HelpfulnessNumerator</th>\n",
       "      <th>HelpfulnessDenominator</th>\n",
       "      <th>Rating</th>\n",
       "      <th>Time</th>\n",
       "      <th>Summary</th>\n",
       "      <th>Review</th>\n",
       "    </tr>\n",
       "  </thead>\n",
       "  <tbody>\n",
       "    <tr>\n",
       "      <th>0</th>\n",
       "      <td>1</td>\n",
       "      <td>B001E4KFG0</td>\n",
       "      <td>A3SGXH7AUHU8GW</td>\n",
       "      <td>delmartian</td>\n",
       "      <td>1</td>\n",
       "      <td>1</td>\n",
       "      <td>5</td>\n",
       "      <td>1303862400</td>\n",
       "      <td>Good Quality Dog Food</td>\n",
       "      <td>I have bought several of the Vitality canned d...</td>\n",
       "    </tr>\n",
       "    <tr>\n",
       "      <th>1</th>\n",
       "      <td>2</td>\n",
       "      <td>B00813GRG4</td>\n",
       "      <td>A1D87F6ZCVE5NK</td>\n",
       "      <td>dll pa</td>\n",
       "      <td>0</td>\n",
       "      <td>0</td>\n",
       "      <td>1</td>\n",
       "      <td>1346976000</td>\n",
       "      <td>Not as Advertised</td>\n",
       "      <td>Product arrived labeled as Jumbo Salted Peanut...</td>\n",
       "    </tr>\n",
       "    <tr>\n",
       "      <th>2</th>\n",
       "      <td>3</td>\n",
       "      <td>B000LQOCH0</td>\n",
       "      <td>ABXLMWJIXXAIN</td>\n",
       "      <td>Natalia Corres \"Natalia Corres\"</td>\n",
       "      <td>1</td>\n",
       "      <td>1</td>\n",
       "      <td>4</td>\n",
       "      <td>1219017600</td>\n",
       "      <td>\"Delight\" says it all</td>\n",
       "      <td>This is a confection that has been around a fe...</td>\n",
       "    </tr>\n",
       "    <tr>\n",
       "      <th>3</th>\n",
       "      <td>4</td>\n",
       "      <td>B000UA0QIQ</td>\n",
       "      <td>A395BORC6FGVXV</td>\n",
       "      <td>Karl</td>\n",
       "      <td>3</td>\n",
       "      <td>3</td>\n",
       "      <td>2</td>\n",
       "      <td>1307923200</td>\n",
       "      <td>Cough Medicine</td>\n",
       "      <td>If you are looking for the secret ingredient i...</td>\n",
       "    </tr>\n",
       "    <tr>\n",
       "      <th>4</th>\n",
       "      <td>5</td>\n",
       "      <td>B006K2ZZ7K</td>\n",
       "      <td>A1UQRSCLF8GW1T</td>\n",
       "      <td>Michael D. Bigham \"M. Wassir\"</td>\n",
       "      <td>0</td>\n",
       "      <td>0</td>\n",
       "      <td>5</td>\n",
       "      <td>1350777600</td>\n",
       "      <td>Great taffy</td>\n",
       "      <td>Great taffy at a great price.  There was a wid...</td>\n",
       "    </tr>\n",
       "    <tr>\n",
       "      <th>...</th>\n",
       "      <td>...</td>\n",
       "      <td>...</td>\n",
       "      <td>...</td>\n",
       "      <td>...</td>\n",
       "      <td>...</td>\n",
       "      <td>...</td>\n",
       "      <td>...</td>\n",
       "      <td>...</td>\n",
       "      <td>...</td>\n",
       "      <td>...</td>\n",
       "    </tr>\n",
       "    <tr>\n",
       "      <th>568449</th>\n",
       "      <td>568450</td>\n",
       "      <td>B001EO7N10</td>\n",
       "      <td>A28KG5XORO54AY</td>\n",
       "      <td>Lettie D. Carter</td>\n",
       "      <td>0</td>\n",
       "      <td>0</td>\n",
       "      <td>5</td>\n",
       "      <td>1299628800</td>\n",
       "      <td>Will not do without</td>\n",
       "      <td>Great for sesame chicken..this is a good if no...</td>\n",
       "    </tr>\n",
       "    <tr>\n",
       "      <th>568450</th>\n",
       "      <td>568451</td>\n",
       "      <td>B003S1WTCU</td>\n",
       "      <td>A3I8AFVPEE8KI5</td>\n",
       "      <td>R. Sawyer</td>\n",
       "      <td>0</td>\n",
       "      <td>0</td>\n",
       "      <td>2</td>\n",
       "      <td>1331251200</td>\n",
       "      <td>disappointed</td>\n",
       "      <td>I'm disappointed with the flavor. The chocolat...</td>\n",
       "    </tr>\n",
       "    <tr>\n",
       "      <th>568451</th>\n",
       "      <td>568452</td>\n",
       "      <td>B004I613EE</td>\n",
       "      <td>A121AA1GQV751Z</td>\n",
       "      <td>pksd \"pk_007\"</td>\n",
       "      <td>2</td>\n",
       "      <td>2</td>\n",
       "      <td>5</td>\n",
       "      <td>1329782400</td>\n",
       "      <td>Perfect for our maltipoo</td>\n",
       "      <td>These stars are small, so you can give 10-15 o...</td>\n",
       "    </tr>\n",
       "    <tr>\n",
       "      <th>568452</th>\n",
       "      <td>568453</td>\n",
       "      <td>B004I613EE</td>\n",
       "      <td>A3IBEVCTXKNOH</td>\n",
       "      <td>Kathy A. Welch \"katwel\"</td>\n",
       "      <td>1</td>\n",
       "      <td>1</td>\n",
       "      <td>5</td>\n",
       "      <td>1331596800</td>\n",
       "      <td>Favorite Training and reward treat</td>\n",
       "      <td>These are the BEST treats for training and rew...</td>\n",
       "    </tr>\n",
       "    <tr>\n",
       "      <th>568453</th>\n",
       "      <td>568454</td>\n",
       "      <td>B001LR2CU2</td>\n",
       "      <td>A3LGQPJCZVL9UC</td>\n",
       "      <td>srfell17</td>\n",
       "      <td>0</td>\n",
       "      <td>0</td>\n",
       "      <td>5</td>\n",
       "      <td>1338422400</td>\n",
       "      <td>Great Honey</td>\n",
       "      <td>I am very satisfied ,product is as advertised,...</td>\n",
       "    </tr>\n",
       "  </tbody>\n",
       "</table>\n",
       "<p>568454 rows × 10 columns</p>\n",
       "</div>"
      ],
      "text/plain": [
       "            Id   ProductId          UserId                      ProfileName  \\\n",
       "0            1  B001E4KFG0  A3SGXH7AUHU8GW                       delmartian   \n",
       "1            2  B00813GRG4  A1D87F6ZCVE5NK                           dll pa   \n",
       "2            3  B000LQOCH0   ABXLMWJIXXAIN  Natalia Corres \"Natalia Corres\"   \n",
       "3            4  B000UA0QIQ  A395BORC6FGVXV                             Karl   \n",
       "4            5  B006K2ZZ7K  A1UQRSCLF8GW1T    Michael D. Bigham \"M. Wassir\"   \n",
       "...        ...         ...             ...                              ...   \n",
       "568449  568450  B001EO7N10  A28KG5XORO54AY                 Lettie D. Carter   \n",
       "568450  568451  B003S1WTCU  A3I8AFVPEE8KI5                        R. Sawyer   \n",
       "568451  568452  B004I613EE  A121AA1GQV751Z                    pksd \"pk_007\"   \n",
       "568452  568453  B004I613EE   A3IBEVCTXKNOH          Kathy A. Welch \"katwel\"   \n",
       "568453  568454  B001LR2CU2  A3LGQPJCZVL9UC                         srfell17   \n",
       "\n",
       "        HelpfulnessNumerator  HelpfulnessDenominator  Rating        Time  \\\n",
       "0                          1                       1       5  1303862400   \n",
       "1                          0                       0       1  1346976000   \n",
       "2                          1                       1       4  1219017600   \n",
       "3                          3                       3       2  1307923200   \n",
       "4                          0                       0       5  1350777600   \n",
       "...                      ...                     ...     ...         ...   \n",
       "568449                     0                       0       5  1299628800   \n",
       "568450                     0                       0       2  1331251200   \n",
       "568451                     2                       2       5  1329782400   \n",
       "568452                     1                       1       5  1331596800   \n",
       "568453                     0                       0       5  1338422400   \n",
       "\n",
       "                                   Summary  \\\n",
       "0                    Good Quality Dog Food   \n",
       "1                        Not as Advertised   \n",
       "2                    \"Delight\" says it all   \n",
       "3                           Cough Medicine   \n",
       "4                              Great taffy   \n",
       "...                                    ...   \n",
       "568449                 Will not do without   \n",
       "568450                        disappointed   \n",
       "568451            Perfect for our maltipoo   \n",
       "568452  Favorite Training and reward treat   \n",
       "568453                         Great Honey   \n",
       "\n",
       "                                                   Review  \n",
       "0       I have bought several of the Vitality canned d...  \n",
       "1       Product arrived labeled as Jumbo Salted Peanut...  \n",
       "2       This is a confection that has been around a fe...  \n",
       "3       If you are looking for the secret ingredient i...  \n",
       "4       Great taffy at a great price.  There was a wid...  \n",
       "...                                                   ...  \n",
       "568449  Great for sesame chicken..this is a good if no...  \n",
       "568450  I'm disappointed with the flavor. The chocolat...  \n",
       "568451  These stars are small, so you can give 10-15 o...  \n",
       "568452  These are the BEST treats for training and rew...  \n",
       "568453  I am very satisfied ,product is as advertised,...  \n",
       "\n",
       "[568454 rows x 10 columns]"
      ]
     },
     "execution_count": 2,
     "metadata": {},
     "output_type": "execute_result"
    }
   ],
   "source": [
    "df=pd.read_csv('Reviews.csv')\n",
    "df"
   ]
  },
  {
   "cell_type": "code",
   "execution_count": 3,
   "id": "5b72bcea",
   "metadata": {},
   "outputs": [
    {
     "name": "stdout",
     "output_type": "stream",
     "text": [
      "<class 'pandas.core.frame.DataFrame'>\n",
      "RangeIndex: 568454 entries, 0 to 568453\n",
      "Data columns (total 10 columns):\n",
      " #   Column                  Non-Null Count   Dtype \n",
      "---  ------                  --------------   ----- \n",
      " 0   Id                      568454 non-null  int64 \n",
      " 1   ProductId               568454 non-null  object\n",
      " 2   UserId                  568454 non-null  object\n",
      " 3   ProfileName             568428 non-null  object\n",
      " 4   HelpfulnessNumerator    568454 non-null  int64 \n",
      " 5   HelpfulnessDenominator  568454 non-null  int64 \n",
      " 6   Rating                  568454 non-null  int64 \n",
      " 7   Time                    568454 non-null  int64 \n",
      " 8   Summary                 568427 non-null  object\n",
      " 9   Review                  568454 non-null  object\n",
      "dtypes: int64(5), object(5)\n",
      "memory usage: 43.4+ MB\n"
     ]
    }
   ],
   "source": [
    "df.info()"
   ]
  },
  {
   "cell_type": "code",
   "execution_count": 4,
   "id": "f3bccb66",
   "metadata": {},
   "outputs": [],
   "source": [
    "df=df.drop(columns=['Id','ProductId','UserId','ProfileName','HelpfulnessNumerator','HelpfulnessDenominator','Time','Summary'])"
   ]
  },
  {
   "cell_type": "code",
   "execution_count": 5,
   "id": "8857a56d",
   "metadata": {},
   "outputs": [
    {
     "data": {
      "text/html": [
       "<div>\n",
       "<style scoped>\n",
       "    .dataframe tbody tr th:only-of-type {\n",
       "        vertical-align: middle;\n",
       "    }\n",
       "\n",
       "    .dataframe tbody tr th {\n",
       "        vertical-align: top;\n",
       "    }\n",
       "\n",
       "    .dataframe thead th {\n",
       "        text-align: right;\n",
       "    }\n",
       "</style>\n",
       "<table border=\"1\" class=\"dataframe\">\n",
       "  <thead>\n",
       "    <tr style=\"text-align: right;\">\n",
       "      <th></th>\n",
       "      <th>Rating</th>\n",
       "      <th>Review</th>\n",
       "    </tr>\n",
       "  </thead>\n",
       "  <tbody>\n",
       "    <tr>\n",
       "      <th>0</th>\n",
       "      <td>5</td>\n",
       "      <td>I have bought several of the Vitality canned d...</td>\n",
       "    </tr>\n",
       "    <tr>\n",
       "      <th>1</th>\n",
       "      <td>1</td>\n",
       "      <td>Product arrived labeled as Jumbo Salted Peanut...</td>\n",
       "    </tr>\n",
       "    <tr>\n",
       "      <th>2</th>\n",
       "      <td>4</td>\n",
       "      <td>This is a confection that has been around a fe...</td>\n",
       "    </tr>\n",
       "    <tr>\n",
       "      <th>3</th>\n",
       "      <td>2</td>\n",
       "      <td>If you are looking for the secret ingredient i...</td>\n",
       "    </tr>\n",
       "    <tr>\n",
       "      <th>4</th>\n",
       "      <td>5</td>\n",
       "      <td>Great taffy at a great price.  There was a wid...</td>\n",
       "    </tr>\n",
       "    <tr>\n",
       "      <th>...</th>\n",
       "      <td>...</td>\n",
       "      <td>...</td>\n",
       "    </tr>\n",
       "    <tr>\n",
       "      <th>568449</th>\n",
       "      <td>5</td>\n",
       "      <td>Great for sesame chicken..this is a good if no...</td>\n",
       "    </tr>\n",
       "    <tr>\n",
       "      <th>568450</th>\n",
       "      <td>2</td>\n",
       "      <td>I'm disappointed with the flavor. The chocolat...</td>\n",
       "    </tr>\n",
       "    <tr>\n",
       "      <th>568451</th>\n",
       "      <td>5</td>\n",
       "      <td>These stars are small, so you can give 10-15 o...</td>\n",
       "    </tr>\n",
       "    <tr>\n",
       "      <th>568452</th>\n",
       "      <td>5</td>\n",
       "      <td>These are the BEST treats for training and rew...</td>\n",
       "    </tr>\n",
       "    <tr>\n",
       "      <th>568453</th>\n",
       "      <td>5</td>\n",
       "      <td>I am very satisfied ,product is as advertised,...</td>\n",
       "    </tr>\n",
       "  </tbody>\n",
       "</table>\n",
       "<p>568454 rows × 2 columns</p>\n",
       "</div>"
      ],
      "text/plain": [
       "        Rating                                             Review\n",
       "0            5  I have bought several of the Vitality canned d...\n",
       "1            1  Product arrived labeled as Jumbo Salted Peanut...\n",
       "2            4  This is a confection that has been around a fe...\n",
       "3            2  If you are looking for the secret ingredient i...\n",
       "4            5  Great taffy at a great price.  There was a wid...\n",
       "...        ...                                                ...\n",
       "568449       5  Great for sesame chicken..this is a good if no...\n",
       "568450       2  I'm disappointed with the flavor. The chocolat...\n",
       "568451       5  These stars are small, so you can give 10-15 o...\n",
       "568452       5  These are the BEST treats for training and rew...\n",
       "568453       5  I am very satisfied ,product is as advertised,...\n",
       "\n",
       "[568454 rows x 2 columns]"
      ]
     },
     "execution_count": 5,
     "metadata": {},
     "output_type": "execute_result"
    }
   ],
   "source": [
    "df"
   ]
  },
  {
   "cell_type": "markdown",
   "id": "e306304c",
   "metadata": {},
   "source": [
    "## Remove null and duplicate rows"
   ]
  },
  {
   "cell_type": "code",
   "execution_count": 6,
   "id": "98b79958",
   "metadata": {},
   "outputs": [],
   "source": [
    "df = df.dropna(subset=['Review'])\n",
    "df = df.dropna(subset=['Rating'])"
   ]
  },
  {
   "cell_type": "code",
   "execution_count": 7,
   "id": "b255900c",
   "metadata": {},
   "outputs": [],
   "source": [
    "df.drop_duplicates(inplace=True)"
   ]
  },
  {
   "cell_type": "code",
   "execution_count": 8,
   "id": "b7efaeb0",
   "metadata": {},
   "outputs": [],
   "source": [
    "conflicting_reviews = df.groupby('Review')['Rating'].nunique()\n",
    "conflicting_reviews = conflicting_reviews[conflicting_reviews > 1].index\n",
    "df = df[df['Review'].isin(conflicting_reviews) == False]"
   ]
  },
  {
   "cell_type": "code",
   "execution_count": 9,
   "id": "1bf23868",
   "metadata": {},
   "outputs": [
    {
     "data": {
      "text/plain": [
       "np.False_"
      ]
     },
     "execution_count": 9,
     "metadata": {},
     "output_type": "execute_result"
    }
   ],
   "source": [
    "df.duplicated().any()"
   ]
  },
  {
   "cell_type": "code",
   "execution_count": 10,
   "id": "d552d780",
   "metadata": {},
   "outputs": [
    {
     "data": {
      "text/plain": [
       "Rating\n",
       "5    250682\n",
       "4     56009\n",
       "1     36266\n",
       "3     29743\n",
       "2     20784\n",
       "Name: count, dtype: int64"
      ]
     },
     "execution_count": 10,
     "metadata": {},
     "output_type": "execute_result"
    }
   ],
   "source": [
    "df['Rating'].value_counts()"
   ]
  },
  {
   "cell_type": "code",
   "execution_count": 11,
   "id": "d1299eaa",
   "metadata": {},
   "outputs": [
    {
     "name": "stdout",
     "output_type": "stream",
     "text": [
      "Rating\n",
      "5    50000\n",
      "4    47242\n",
      "1    36265\n",
      "3    29742\n",
      "2    20783\n",
      "Name: count, dtype: int64\n"
     ]
    }
   ],
   "source": [
    "import pandas as pd\n",
    "\n",
    "# Example: desired counts for each score\n",
    "desired_counts = {\n",
    "    5: 50000,\n",
    "    4: 47242,\n",
    "    3: 29742,\n",
    "    2: 20783,\n",
    "    1: 36265\n",
    "}\n",
    "\n",
    "df_final = pd.DataFrame()\n",
    "\n",
    "for score, count in desired_counts.items():\n",
    "    df_subset = df[df['Rating'] == score]\n",
    "    \n",
    "    \n",
    "\n",
    "    # If we need more than unique rows available, allow replacement\n",
    "    if count <= len(df_subset):\n",
    "        sampled = df_subset.sample(n=count, random_state=42, replace=False)\n",
    "    \n",
    "    \n",
    "    df_final = pd.concat([df_final, sampled])\n",
    "# Shuffle the final dataset\n",
    "df_final = df_final.sample(frac=1, random_state=42).reset_index(drop=True)\n",
    "\n",
    "\n",
    "print(df_final['Rating'].value_counts())\n",
    "\n"
   ]
  },
  {
   "cell_type": "code",
   "execution_count": 12,
   "id": "e797bf9b",
   "metadata": {},
   "outputs": [
    {
     "name": "stdout",
     "output_type": "stream",
     "text": [
      "<class 'pandas.core.frame.DataFrame'>\n",
      "RangeIndex: 184032 entries, 0 to 184031\n",
      "Data columns (total 2 columns):\n",
      " #   Column  Non-Null Count   Dtype \n",
      "---  ------  --------------   ----- \n",
      " 0   Rating  184032 non-null  int64 \n",
      " 1   Review  184032 non-null  object\n",
      "dtypes: int64(1), object(1)\n",
      "memory usage: 2.8+ MB\n"
     ]
    }
   ],
   "source": [
    "df_final.info()"
   ]
  },
  {
   "cell_type": "markdown",
   "id": "92adbb79",
   "metadata": {},
   "source": [
    "## Remove non english reviews"
   ]
  },
  {
   "cell_type": "code",
   "execution_count": 13,
   "id": "529b8383",
   "metadata": {},
   "outputs": [],
   "source": [
    "import pandas as pd\n",
    "from langdetect import detect\n",
    "from langdetect.lang_detect_exception import LangDetectException\n",
    "\n",
    "\n",
    "def detect_language(text):\n",
    "    try:\n",
    "        return detect(str(text))\n",
    "    except LangDetectException:\n",
    "        return 'unknown'\n",
    "\n",
    "# Apply language detection\n",
    "df_final['language'] = df_final['Review'].apply(detect_language)"
   ]
  },
  {
   "cell_type": "code",
   "execution_count": 14,
   "id": "d0fa7abd",
   "metadata": {},
   "outputs": [
    {
     "name": "stdout",
     "output_type": "stream",
     "text": [
      "Non-English reviews: 84\n",
      "\n",
      "Language distribution:\n",
      " language\n",
      "en    183948\n",
      "es        33\n",
      "de        25\n",
      "af        12\n",
      "pt         3\n",
      "fr         2\n",
      "no         2\n",
      "it         1\n",
      "nl         1\n",
      "pl         1\n",
      "sv         1\n",
      "so         1\n",
      "hu         1\n",
      "sl         1\n",
      "Name: count, dtype: int64\n"
     ]
    }
   ],
   "source": [
    "# Count non-English reviews\n",
    "non_english_count = df_final[df_final['language'] != 'en'].shape[0]\n",
    "\n",
    "\n",
    "language_counts = df_final['language'].value_counts()\n",
    "\n",
    "print(\"Non-English reviews:\", non_english_count)\n",
    "print(\"\\nLanguage distribution:\\n\", language_counts)"
   ]
  },
  {
   "cell_type": "code",
   "execution_count": 15,
   "id": "fc241fcd",
   "metadata": {},
   "outputs": [],
   "source": [
    "df_final = df_final[df_final['language'] == 'en'].drop(columns=['language'])"
   ]
  },
  {
   "cell_type": "code",
   "execution_count": 19,
   "id": "7b07e530",
   "metadata": {},
   "outputs": [
    {
     "name": "stdout",
     "output_type": "stream",
     "text": [
      "<class 'pandas.core.frame.DataFrame'>\n",
      "Index: 183948 entries, 0 to 184031\n",
      "Data columns (total 2 columns):\n",
      " #   Column  Non-Null Count   Dtype \n",
      "---  ------  --------------   ----- \n",
      " 0   Rating  183948 non-null  int64 \n",
      " 1   Review  183948 non-null  object\n",
      "dtypes: int64(1), object(1)\n",
      "memory usage: 4.2+ MB\n"
     ]
    }
   ],
   "source": [
    "df_final.info()"
   ]
  },
  {
   "cell_type": "markdown",
   "id": "c844e686",
   "metadata": {},
   "source": [
    "## viewing the dataset reviews"
   ]
  },
  {
   "cell_type": "code",
   "execution_count": 21,
   "id": "36e11e71",
   "metadata": {},
   "outputs": [],
   "source": [
    "df_final['word_count'] = df_final['Review'].astype(str).apply(lambda x: len(x.split()))"
   ]
  },
  {
   "cell_type": "code",
   "execution_count": 23,
   "id": "1b37f22e",
   "metadata": {},
   "outputs": [
    {
     "name": "stdout",
     "output_type": "stream",
     "text": [
      " Minimum word count per Rating:\n",
      "Rating\n",
      "1    3\n",
      "2    6\n",
      "3    7\n",
      "4    6\n",
      "5    5\n",
      "Name: word_count, dtype: int64\n"
     ]
    }
   ],
   "source": [
    "# Group by Rating and find the minimum word count\n",
    "min_word_count_per_rating = df_final.groupby('Rating')['word_count'].min()\n",
    "\n",
    "# Display the result\n",
    "print(\" Minimum word count per Rating:\")\n",
    "print(min_word_count_per_rating)"
   ]
  },
  {
   "cell_type": "code",
   "execution_count": 32,
   "id": "34f559f6",
   "metadata": {},
   "outputs": [
    {
     "name": "stdout",
     "output_type": "stream",
     "text": [
      " Minimum word count for Rating 5: 5\n",
      " Reviews with minimum word count:\n",
      "                            Review  word_count\n",
      "98584  It is an excellent product.           5\n"
     ]
    }
   ],
   "source": [
    "# Specify the rating you're interested in\n",
    "target_rating = 5\n",
    "\n",
    "\n",
    "# Filter for the target rating\n",
    "rating_df = df_final[df_final['Rating'] == target_rating]\n",
    "\n",
    "# Get the minimum word count for that rating\n",
    "min_word_count = rating_df['word_count'].min()\n",
    "\n",
    "# Get the reviews with that minimum word count\n",
    "min_reviews = rating_df[rating_df['word_count'] == min_word_count]\n",
    "\n",
    "# Display\n",
    "print(f\" Minimum word count for Rating {target_rating}: {min_word_count}\")\n",
    "print(\" Reviews with minimum word count:\")\n",
    "print(min_reviews[['Review', 'word_count']])\n"
   ]
  },
  {
   "cell_type": "code",
   "execution_count": 33,
   "id": "489692de",
   "metadata": {},
   "outputs": [
    {
     "name": "stdout",
     "output_type": "stream",
     "text": [
      " Minimum word count for Rating 4: 6\n",
      " Reviews with minimum word count:\n",
      "                                             Review  word_count\n",
      "68928   Great gift. Fast delivery. Quality product.           6\n",
      "144222          Tea lover friend raves about it....           6\n"
     ]
    }
   ],
   "source": [
    "# Specify the rating you're interested in\n",
    "target_rating = 4\n",
    "\n",
    "\n",
    "# Filter for the target rating\n",
    "rating_df = df_final[df_final['Rating'] == target_rating]\n",
    "\n",
    "# Get the minimum word count for that rating\n",
    "min_word_count = rating_df['word_count'].min()\n",
    "\n",
    "# Get the reviews with that minimum word count\n",
    "min_reviews = rating_df[rating_df['word_count'] == min_word_count]\n",
    "\n",
    "# Display\n",
    "print(f\" Minimum word count for Rating {target_rating}: {min_word_count}\")\n",
    "print(\" Reviews with minimum word count:\")\n",
    "print(min_reviews[['Review', 'word_count']])\n"
   ]
  },
  {
   "cell_type": "code",
   "execution_count": 34,
   "id": "216e08c2",
   "metadata": {},
   "outputs": [
    {
     "name": "stdout",
     "output_type": "stream",
     "text": [
      " Minimum word count for Rating 3: 7\n",
      " Reviews with minimum word count:\n",
      "                                                   Review  word_count\n",
      "28176                    these are good, but a little dry           7\n",
      "157315  <span class=\"tiny\"> Length:: 1:24 Mins<br /><b...           7\n"
     ]
    }
   ],
   "source": [
    "# Specify the rating you're interested in\n",
    "target_rating = 3\n",
    "\n",
    "\n",
    "# Filter for the target rating\n",
    "rating_df = df_final[df_final['Rating'] == target_rating]\n",
    "\n",
    "# Get the minimum word count for that rating\n",
    "min_word_count = rating_df['word_count'].min()\n",
    "\n",
    "# Get the reviews with that minimum word count\n",
    "min_reviews = rating_df[rating_df['word_count'] == min_word_count]\n",
    "\n",
    "# Display\n",
    "print(f\" Minimum word count for Rating {target_rating}: {min_word_count}\")\n",
    "print(\" Reviews with minimum word count:\")\n",
    "print(min_reviews[['Review', 'word_count']])\n",
    "\n"
   ]
  },
  {
   "cell_type": "code",
   "execution_count": 35,
   "id": "a69d9f87",
   "metadata": {},
   "outputs": [
    {
     "name": "stdout",
     "output_type": "stream",
     "text": [
      " Minimum word count for Rating 2: 6\n",
      " Reviews with minimum word count:\n",
      "                                     Review  word_count\n",
      "169484  Poor product don't waste your money           6\n"
     ]
    }
   ],
   "source": [
    "# Specify the rating you're interested in\n",
    "target_rating = 2\n",
    "\n",
    "\n",
    "# Filter for the target rating\n",
    "rating_df = df_final[df_final['Rating'] == target_rating]\n",
    "\n",
    "# Get the minimum word count for that rating\n",
    "min_word_count = rating_df['word_count'].min()\n",
    "\n",
    "# Get the reviews with that minimum word count\n",
    "min_reviews = rating_df[rating_df['word_count'] == min_word_count]\n",
    "\n",
    "# Display\n",
    "print(f\" Minimum word count for Rating {target_rating}: {min_word_count}\")\n",
    "print(\" Reviews with minimum word count:\")\n",
    "print(min_reviews[['Review', 'word_count']])\n"
   ]
  },
  {
   "cell_type": "code",
   "execution_count": 36,
   "id": "075461e4",
   "metadata": {},
   "outputs": [
    {
     "name": "stdout",
     "output_type": "stream",
     "text": [
      " Minimum word count for Rating 1: 3\n",
      " Reviews with minimum word count:\n",
      "             Review  word_count\n",
      "21836  Not worth it           3\n"
     ]
    }
   ],
   "source": [
    "# Specify the rating you're interested in\n",
    "target_rating = 1\n",
    "\n",
    "\n",
    "# Filter for the target rating\n",
    "rating_df = df_final[df_final['Rating'] == target_rating]\n",
    "\n",
    "# Get the minimum word count for that rating\n",
    "min_word_count = rating_df['word_count'].min()\n",
    "\n",
    "# Get the reviews with that minimum word count\n",
    "min_reviews = rating_df[rating_df['word_count'] == min_word_count]\n",
    "\n",
    "# Display\n",
    "print(f\" Minimum word count for Rating {target_rating}: {min_word_count}\")\n",
    "print(\" Reviews with minimum word count:\")\n",
    "print(min_reviews[['Review', 'word_count']])\n"
   ]
  },
  {
   "cell_type": "code",
   "execution_count": 38,
   "id": "5f845371",
   "metadata": {},
   "outputs": [
    {
     "name": "stdout",
     "output_type": "stream",
     "text": [
      " Max word count per Rating:\n",
      "Rating\n",
      "1    2149\n",
      "2    1612\n",
      "3    3432\n",
      "4    2061\n",
      "5    1448\n",
      "Name: word_count, dtype: int64\n"
     ]
    }
   ],
   "source": [
    "max_word_count_per_rating = df_final.groupby('Rating')['word_count'].max()\n",
    "\n",
    "# Display the result\n",
    "print(\" Max word count per Rating:\")\n",
    "print(max_word_count_per_rating)"
   ]
  },
  {
   "cell_type": "code",
   "execution_count": 39,
   "id": "8981011b",
   "metadata": {},
   "outputs": [
    {
     "name": "stdout",
     "output_type": "stream",
     "text": [
      "\n",
      " Showing 5 sample reviews for Rating 1:\n",
      "\n",
      "1. Agree with other reviewers...I ate about half a can, not wanting to waste my money, but it was pretty inedible.  1) rubbery, 2) relatively tasteless though there is a hint of grapefruit, 3) orange.  Ugh.  Please, do not waste your money.\n",
      "\n",
      "2. My brewer lasted for three uses. After three uses it no longer pumps any water. I called customer service, because I spent extra money on a commercial brewer, I can only get it fixed through a technician who has a prohibitive call queue.  I have called back a total a five times, and each time I am told that a technician will call me back. This has yet to happen over the last month that I have been trying to fix this. Had I bought a cheaper one from Walmart, this issue would have been resolved already. Do not buy this brewer. If it breaks, expect zero customer service from Keurig and to be out whatever money you have paid for it.\n",
      "\n",
      "3. First of all it was mostly a bag of broken pieces and crumbs.  They were the thickness of a cracker and bland (stale) tasting.  I wouldn't waste the money.\n",
      "\n",
      "4. The Easter Bunny I received looked nothing like the picture. It was white and chalky. I looks like it was last years bunny they decided to recycle this year.\n",
      "\n",
      "5. I was disappointed to find out this \"Mexican\" vanilla is from New Orleans.  It is not like the vanilla I've had from Mexico.\n",
      "\n"
     ]
    }
   ],
   "source": [
    "# Choose how many reviews to display\n",
    "n = 5\n",
    "\n",
    "# Choose the rating you want to see (1 to 5)\n",
    "rating = 1\n",
    "\n",
    "# Filter reviews of the selected rating\n",
    "filtered_reviews = df_final[df_final['Rating'] == rating]['Review'].dropna()\n",
    "\n",
    "# Sample 'n' reviews \n",
    "sample_reviews = filtered_reviews.sample(n=min(n, len(filtered_reviews)), random_state=42)\n",
    "\n",
    "# Print the reviews\n",
    "print(f\"\\n Showing {min(n, len(filtered_reviews))} sample reviews for Rating {rating}:\\n\")\n",
    "for i, review in enumerate(sample_reviews, 1):\n",
    "    print(f\"{i}. {review}\\n\")"
   ]
  },
  {
   "cell_type": "code",
   "execution_count": 40,
   "id": "a07c6af0",
   "metadata": {},
   "outputs": [
    {
     "name": "stdout",
     "output_type": "stream",
     "text": [
      "\n",
      " Showing 5 sample reviews for Rating 2:\n",
      "\n",
      "1. Food is very much a personal preference but I really don't like any of these crackers made by this company. They taste like flavored paper. Someone said better than nothing but I'd rather have something else.\n",
      "\n",
      "2. ..but this was not the flavor I was expecting. More earthy and bitter. I like a mellow breakfast tea. I needed three lumps of sugar to make this close to my style, and I probably wont take another cup.<br />Ah, well - I will give it to a friend.\n",
      "\n",
      "3. I understand this has many, many health benefits. However, I really dislike the true dandelion taste it has. I would like to continue it for the health benefits, but I need to find something to add to cut that bitter dandelion taste. I drink a lot of different herbal and flavoured teas, but this is not something I could drink on a regular basis. I find it very unpleasant tasting. We all taste things differently, and this taste is not for me.\n",
      "\n",
      "4. A mediocre experience. The drink is too sweet, not spicy enough. But the real downside is the milk base which tastes like something made with dry milk powder dropshipped in a disaster area. Has little to do with the Tazo stuff one gets at Starbucks. Will keep looking.\n",
      "\n",
      "5. I just bought 24 packs of ONE Coconut water (11.2 oz)because of a great buy @ $1.10/ea.  However, I must say they ALL had a sour after taste. I was really surprised. I've tasted most, if not all, of the major brands and this was the worst. They were probably sitting in a hot sweaty warehouse and management needed to move the product, thus the great sale price!<br /><br />I'm giving it 2 stars for the great buy and the fact I didn't get sick.  After reading the freshness dates of the 2 cases, I noticed it was set to expire in 2 months from the day I recieved it. I'm gonna chaulk this up as an old batch. I will taste this brand again with at least 6 months left on the expire date and see if it makes a difference. I will update my review then.\n",
      "\n"
     ]
    }
   ],
   "source": [
    "# Choose how many reviews to display\n",
    "n = 5\n",
    "\n",
    "# Choose the rating you want to see (1 to 5)\n",
    "rating = 2\n",
    "\n",
    "# Filter reviews of the selected rating\n",
    "filtered_reviews = df_final[df_final['Rating'] == rating]['Review'].dropna()\n",
    "\n",
    "# Sample 'n' reviews \n",
    "sample_reviews = filtered_reviews.sample(n=min(n, len(filtered_reviews)), random_state=42)\n",
    "\n",
    "# Print the reviews\n",
    "print(f\"\\n Showing {min(n, len(filtered_reviews))} sample reviews for Rating {rating}:\\n\")\n",
    "for i, review in enumerate(sample_reviews, 1):\n",
    "    print(f\"{i}. {review}\\n\")"
   ]
  },
  {
   "cell_type": "code",
   "execution_count": 41,
   "id": "6fe2fad1",
   "metadata": {},
   "outputs": [
    {
     "name": "stdout",
     "output_type": "stream",
     "text": [
      "\n",
      " Showing 5 sample reviews for Rating 3:\n",
      "\n",
      "1. I got this food for my cat because he was throwing up, and at the time we thought it was the food he was eating. He stopped doing that for quite a while before this arrived, so apparently it wasn't the food. We decided to see how he felt about this food, as we had already bought it and sure didn't want to waste the money on it.<br />A lot of people here say their cat loves this food (this flavor at least, I can't speak for others. I really wish they had a variety pack..). At first my cat seemed to hate it. He wouldn't go near it, and after giving him no alternative, he would begin to paw at it. I was dismayed, because as I said, we paid for this already (and it's not expensive, but it's certainly not the cheapest..) and didn't want it to go to waste. So, we started experimenting. When some was put on his nose, he licked it, and seemed to like it, but when going for more, he was again repulsed. He seemed very confused by this. It turns out he can't stand the smell of the stuff, but likes the flavor. We started mixing it with one of his old foods, and he was quite happy with this. Eventually after a week or so, I decided to give it to him without the mix, and he ate it with no complaints. I guess he just got used to it! So, I mainly wrote this review because I saw (in some other reviews for this brand of food) that people say their cats hate it. Don't throw it out yet, it could just be the smell!<br />I don't like giving this amount of stars, because it really seems like a quality product. But I can't very well give it a glowing review if it didn't meet the needs for which it was purchased!\n",
      "\n",
      "2. I purchased liquid stevia in an effort to use more natural sugars in my baking. I tried simply replacing white sugar with liquid stevia in my favorite recipes. I went to Sweet Leaf's website and used their conversion chart. I found that 1 tsp of liquid stevia for every 1 cup of sugar was too much. The intial taste was ok but had a strong aftertaste that stayed in your mouth for awhile. I later tried recipes specifically calling for liquid stevia. These recipes tasted quite good and typically used less liquid stevia.\n",
      "\n",
      "3. This item contains sucralose.<br /><br />When I ordered the item, I read the description page twice and did not find any hint of fake sugar stuff, so I ordered the Mango Pineapple pack.  Shortly thereafter, I read the comments and tried to cancel (I hate Splenda for many reasons), but they were already being shipped.  I could have refused the package, but decided to give it a try.  After all, if I did not like it, my sister (addicted to Splenda) might.<br /><br />As soon as it arrived, I opened a stick and added a small amount to a cup of water.  Much to my surprise, it was not bad!.  The experience may have been different if I had used it as indicated, but I normally use this sort of dry mix sparingly.  In this case, it produced a fruity and sweet cup of water.  Not overly sweet - but again, I only used a small amount.  I decided to keep these and use with water or home made lemonade (instead of sugar or honey).  I will still share with my sister, but not all of them.<br /><br />Why 3 stars?<br />Average between misleading description (1 star) + good flavor (5)<br /><br />Amazon, please revise the description page!\n",
      "\n",
      "4. I've only used this for pine litter not clay. It works ok. The best thing about it is that underneath the screen I line the bottom pan with 1/2 a kitchen garbage bag and some newspaper (the newspaper of the free weeklys fits perfectly) The cats can't tear the plastic or paper because it's protected by the sifting part. Clean-up is much easier.  Also the second pan is super convenient and can even be used as a litter box independently of the hood in a pinch. Hood is nice for keeping litter inside when the cats are pawing at the litter to cover up. (It's obvious this thing is not meant to be picked up by the hood - as long as you always pick it up using the pan portion it will not fall apart or dump litter on the floor.)<br /><br />Where it doesn't work great is that only some of the saw dust falls through. (Urine without sawdust will also fall through... but lining the bottom pan makes this less problematic) A lot of it gets stuck in the holes along with the pellets sometimes requiring a lot of tapping. It was taking me a lot longer to clean the litter than my other litter box where I use clay. I was going to give up on pine all together (my cats don't like it as much as the soft clay), but I altered my methods and after scooping the poop, scoop up the areas of \"sawdust mountains\" and basically sift it so the saw dust falls into the trash and the pellets stay in the scoop. Then I can get by without doing the whole tapping thing/change everything every day. (It's hot and pine does not have great odor control.)<br /><br />Overall I think I can live with this system, despite it's imperfections. Less silica dust which is key for me. Litter box overall is cleaner. Pine pellet tracking is overall easier to deal with than clay tracking. Will get another sifting box for my second cat.  My other cat is BIG and I've seen him use this litter box - it's a little on the small side for him. Still deciding whether to reorder this or experiment with a different sifting box to see if it works better.<br /><br />DEC 2011 EDIT:<br /><br />Since I wrote the review I've tried the x-large Van Ness sifting pan (highly recommend avoiding - doesn't work for feline pine at all) and the boxes specially designed for Feline pine (as well as the Litter Robot).  It's definitely worth buying the litter boxes from feline Pine over this one even though they are more expensive. They do work so much much better than this that I ended up getting a second Feline pine pan despite still having this one. They do lack the convenience of that second solid pan that this one has - so I actually use my no longer used Van Ness pans to put the sifting part of the feline pine pan on while I'm cleaning out the bottom part. So I've downgraded this from four to three stars since while it is marginally acceptable for Feline Pine, it is considerably more bother than just using Feline Pine's.  I have to admit though with a 100% Feline Pine household I had some issues of one of my two cat peeing outside the litter box.  I ended up getting a Litter Robot (which gave me much pause because of the price) which has worked great (However, one must have clumping litter with the litter Robot so it is  not compatible with feline pine pellets). The best thing is that the cats exclusively poop in the litter robot but do use my two feline pine boxes to pee sometimes. Since feline pine works great with pee but not so much with poop this is the best of all worlds and I believe both my cats are happier.  I am definitely happier and spend a lot less time dealing with the litter boxes.  Bottom line: it's worth paying more for the Feline Pine Pan over this one if you use the pellet form of Feline Pine.\n",
      "\n",
      "5. The price + being organic is what drew me in to try the Stash brand... but the taste is nowhere near the Jasmine tea that I can get at my local teashop.<br /><br />I have tried several different ways of brewing, and the sweet jasmine aroma & taste is barely discernible.<br /><br />It is drinkable though, and like I said, the price was very good.  I hope to try the Numi brand next -- I have heard rave reviews about their Jasmine Pearl teas!\n",
      "\n"
     ]
    }
   ],
   "source": [
    "# Choose how many reviews to display\n",
    "n = 5\n",
    "\n",
    "# Choose the rating you want to see (1 to 5)\n",
    "rating = 3\n",
    "\n",
    "# Filter reviews of the selected rating\n",
    "filtered_reviews = df_final[df_final['Rating'] == rating]['Review'].dropna()\n",
    "\n",
    "# Sample 'n' reviews \n",
    "sample_reviews = filtered_reviews.sample(n=min(n, len(filtered_reviews)), random_state=42)\n",
    "\n",
    "# Print the reviews\n",
    "print(f\"\\n Showing {min(n, len(filtered_reviews))} sample reviews for Rating {rating}:\\n\")\n",
    "for i, review in enumerate(sample_reviews, 1):\n",
    "    print(f\"{i}. {review}\\n\")"
   ]
  },
  {
   "cell_type": "code",
   "execution_count": 42,
   "id": "90b97818",
   "metadata": {},
   "outputs": [
    {
     "name": "stdout",
     "output_type": "stream",
     "text": [
      "\n",
      " Showing 5 sample reviews for Rating 4:\n",
      "\n",
      "1. These dried mangoes really are quite delicious and are quite \"juicy\" considering the fact that they are dried. Although there is some added sugar to these dried mangoes, I inquired about it through an email to a sales rep and they gave me the reply that there is 8 grams of sugar added per serving (one serving is 42g and has 32g of sugar). Interpret that as you will.\n",
      "\n",
      "2. I love this sauce  but unfortunately i did not get too much use out if it because I only used it for myself so it went bad before i could finish it.\n",
      "\n",
      "3. I made brightly-colored cupcakes with these, using only a couple of drops - you don't need to use a lot to achieve a bright color. My only complaint is that they don't come with a guide laying out how many drops of what color combination are needed to achieve a specific new color. Other than that, they are definitely worth it and much better than the cheap ones you find at the grocery store.\n",
      "\n",
      "4. This brand is properly cut across the grain, so it's fairly easy to eat, and the flavor is distributed through the cuts, rather than sprayed on. It made a pretty good stew meat after long cooking as well, though it had to be broken into small pieces to rehydrate.\n",
      "\n",
      "5. Are readymade gallons of tea from the supermarket better? Usually. But heavy to schlep home.<br /><br />Is homebrewed tea better? Yup! But too much work most of the time.<br /><br />But when you want it easy in the house, this isn't bad. Better than most Diet Tea mixes (other than those 'real tea' expensive kinds).<br /><br />I'm keeping this in stock, and also mixing it with the other flavors from Lipton. By the by, I really like their Diet Raspberry.\n",
      "\n"
     ]
    }
   ],
   "source": [
    "# Choose how many reviews to display\n",
    "n = 5\n",
    "\n",
    "# Choose the rating you want to see (1 to 5)\n",
    "rating = 4\n",
    "\n",
    "# Filter reviews of the selected rating\n",
    "filtered_reviews = df_final[df_final['Rating'] == rating]['Review'].dropna()\n",
    "\n",
    "# Sample 'n' reviews \n",
    "sample_reviews = filtered_reviews.sample(n=min(n, len(filtered_reviews)), random_state=42)\n",
    "\n",
    "# Print the reviews\n",
    "print(f\"\\n Showing {min(n, len(filtered_reviews))} sample reviews for Rating {rating}:\\n\")\n",
    "for i, review in enumerate(sample_reviews, 1):\n",
    "    print(f\"{i}. {review}\\n\")"
   ]
  },
  {
   "cell_type": "code",
   "execution_count": 43,
   "id": "93172201",
   "metadata": {},
   "outputs": [
    {
     "name": "stdout",
     "output_type": "stream",
     "text": [
      "\n",
      " Showing 5 sample reviews for Rating 5:\n",
      "\n",
      "1. The drink has a very light carbonation or fizz, a sweet taste, but not syrupy, and a distinctive ginger flavor. This tastes NOTHING like the \"ginger ale\" corn syrup soda pop in the grocery store. I bought one to taste-test it, and it was wonderful.\n",
      "\n",
      "2. This tea has a wonderful robust flavor and is smooth and creamy when you add milk.  I got hooked on it in England thirty years ago and am thrilled I can now order it on the Internet!\n",
      "\n",
      "3. This stuff is wonderful.  I like carbonated drinks, but not the sweetness or all the strange ingredients.  I use this with a very small amount of syrup or lemon juice and it's great!\n",
      "\n",
      "4. I'm a mac'n'cheese fiend.  I love all kinds of mac'n'cheese from the powdered cheese-product variety to the real deal made with cream and endless cups of cheddar.  So, trust me when I say that you won't be able to TASTE the difference between this Vegi version of the Kraft mac and cheese and the standard original boxed Kraft mac and cheese.<br /><br />The only thing I noticed was that when I was cooking the pasta, my kitchen smelled as if I were cooking broccoli - so if you're trying to hide the fact that you're sneaking in vegetable servings from your picky kids (or in my case, husband) be sure that you keep them out of the kitchen as the pasta is cooking. The final product was totally tasty and there was no noticeable difference in texture or taste from the original.\n",
      "\n",
      "5. I am trying to cut soda out of my diet, and I do not like artificial sweeteners. I had seen Hint on Facebook and decided that I would try it. I love it. It has a great smell with a very subtle flavor (like squeezing a lemon in your water).  I like all of the flavors that I have tried, but the Rasberry Lime is one of favorites! Great water!\n",
      "\n"
     ]
    }
   ],
   "source": [
    "# Choose how many reviews to display\n",
    "n = 5\n",
    "\n",
    "# Choose the rating you want to see (1 to 5)\n",
    "rating = 5\n",
    "\n",
    "# Filter reviews of the selected rating\n",
    "filtered_reviews = df_final[df_final['Rating'] == rating]['Review'].dropna()\n",
    "\n",
    "# Sample 'n' reviews \n",
    "sample_reviews = filtered_reviews.sample(n=min(n, len(filtered_reviews)), random_state=42)\n",
    "\n",
    "# Print the reviews\n",
    "print(f\"\\n Showing {min(n, len(filtered_reviews))} sample reviews for Rating {rating}:\\n\")\n",
    "for i, review in enumerate(sample_reviews, 1):\n",
    "    print(f\"{i}. {review}\\n\")"
   ]
  },
  {
   "cell_type": "code",
   "execution_count": 49,
   "id": "abf842dc",
   "metadata": {},
   "outputs": [],
   "source": [
    "df_final=df_final.drop(columns='word_count')"
   ]
  },
  {
   "cell_type": "markdown",
   "id": "7b4ccfb4",
   "metadata": {},
   "source": [
    "## visualization"
   ]
  },
  {
   "cell_type": "code",
   "execution_count": 50,
   "id": "815ff7c1",
   "metadata": {},
   "outputs": [
    {
     "data": {
      "text/plain": [
       "Rating\n",
       "5    49967\n",
       "4    47222\n",
       "1    36249\n",
       "3    29731\n",
       "2    20779\n",
       "Name: count, dtype: int64"
      ]
     },
     "execution_count": 50,
     "metadata": {},
     "output_type": "execute_result"
    }
   ],
   "source": [
    "df_final['Rating'].value_counts()"
   ]
  },
  {
   "cell_type": "code",
   "execution_count": 51,
   "id": "e35ae775",
   "metadata": {},
   "outputs": [
    {
     "name": "stdout",
     "output_type": "stream",
     "text": [
      "<class 'pandas.core.frame.DataFrame'>\n",
      "Index: 183948 entries, 0 to 184031\n",
      "Data columns (total 2 columns):\n",
      " #   Column  Non-Null Count   Dtype \n",
      "---  ------  --------------   ----- \n",
      " 0   Rating  183948 non-null  int64 \n",
      " 1   Review  183948 non-null  object\n",
      "dtypes: int64(1), object(1)\n",
      "memory usage: 4.2+ MB\n"
     ]
    }
   ],
   "source": [
    "df_final.info()"
   ]
  },
  {
   "cell_type": "code",
   "execution_count": 52,
   "id": "c34c0cda",
   "metadata": {},
   "outputs": [
    {
     "name": "stderr",
     "output_type": "stream",
     "text": [
      "C:\\Users\\LENOVO\\AppData\\Local\\Temp\\ipykernel_19376\\3539536237.py:2: FutureWarning: \n",
      "\n",
      "Passing `palette` without assigning `hue` is deprecated and will be removed in v0.14.0. Assign the `x` variable to `hue` and set `legend=False` for the same effect.\n",
      "\n",
      "  sns.countplot(x='Rating', data=df_final, palette='viridis')\n"
     ]
    },
    {
     "data": {
      "image/png": "[encoded data removed]",
      "text/plain": [
       "<Figure size 800x500 with 1 Axes>"
      ]
     },
     "metadata": {},
     "output_type": "display_data"
    }
   ],
   "source": [
    "plt.figure(figsize=(8, 5))\n",
    "sns.countplot(x='Rating', data=df_final, palette='viridis')\n",
    "plt.title(\"Number of Reviews per Rating\")\n",
    "plt.xlabel(\"Rating\")\n",
    "plt.ylabel(\"Count\")\n",
    "plt.show()"
   ]
  },
  {
   "cell_type": "code",
   "execution_count": 53,
   "id": "cc7daab6",
   "metadata": {},
   "outputs": [
    {
     "data": {
      "image/png": "[encoded data removed]",
      "text/plain": [
       "<Figure size 600x600 with 1 Axes>"
      ]
     },
     "metadata": {},
     "output_type": "display_data"
    }
   ],
   "source": [
    "rating_counts = df_final['Rating'].value_counts().sort_index()\n",
    "plt.figure(figsize=(6, 6))\n",
    "plt.pie(rating_counts, labels=rating_counts.index, autopct='%1.1f%%', startangle=140)\n",
    "plt.title(\"Rating Distribution\")\n",
    "plt.show()"
   ]
  },
  {
   "cell_type": "code",
   "execution_count": 54,
   "id": "415b5b6e",
   "metadata": {},
   "outputs": [],
   "source": [
    "df_final.to_csv(\"final_dataset.csv\", encoding=\"utf-8-sig\")"
   ]
  },
  {
   "cell_type": "markdown",
   "id": "1bd36d6b",
   "metadata": {},
   "source": [
    "## Removing punctuations, URL,Emojies,special characters"
   ]
  },
  {
   "cell_type": "code",
   "execution_count": 55,
   "id": "af726868",
   "metadata": {},
   "outputs": [],
   "source": [
    "df_final['Review'] = df_final['Review'].str.lower()\n",
    "df_final['Review'] = df_final['Review'].str.replace(r'\\[.*?\\]', '', regex=True)"
   ]
  },
  {
   "cell_type": "code",
   "execution_count": 56,
   "id": "3afac07a",
   "metadata": {},
   "outputs": [],
   "source": [
    "import re\n",
    "\n",
    "def clean_text(text):\n",
    "    text = str(text)\n",
    "    text = re.sub(r\"http\\S+|www\\S+|https\\S+\", '', text, flags=re.MULTILINE)  # remove URLs\n",
    "    text = re.sub(r'<.*?>', '', text)  # remove HTML tags\n",
    "    text = re.sub(r'[\\U00010000-\\U0010ffff]', '', text)  # remove emojis\n",
    "    text = re.sub(r'[^\\w\\s]', '', text)  # remove punctuation\n",
    "    text = re.sub(r'[^a-zA-Z0-9\\s]', '', text)  # remove special characters\n",
    "    text = re.sub(r'\\s+', ' ', text).strip()  # remove extra whitespace\n",
    "    return text\n"
   ]
  },
  {
   "cell_type": "code",
   "execution_count": 57,
   "id": "f083fe3b",
   "metadata": {},
   "outputs": [],
   "source": [
    "df_final['Review']=df_final['Review'].apply(clean_text)"
   ]
  },
  {
   "cell_type": "code",
   "execution_count": 59,
   "id": "fbcd2d09",
   "metadata": {},
   "outputs": [],
   "source": [
    "df_final.reset_index(drop=True, inplace=True)"
   ]
  },
  {
   "cell_type": "code",
   "execution_count": 60,
   "id": "bc5cb7b2",
   "metadata": {},
   "outputs": [
    {
     "data": {
      "text/html": [
       "<div>\n",
       "<style scoped>\n",
       "    .dataframe tbody tr th:only-of-type {\n",
       "        vertical-align: middle;\n",
       "    }\n",
       "\n",
       "    .dataframe tbody tr th {\n",
       "        vertical-align: top;\n",
       "    }\n",
       "\n",
       "    .dataframe thead th {\n",
       "        text-align: right;\n",
       "    }\n",
       "</style>\n",
       "<table border=\"1\" class=\"dataframe\">\n",
       "  <thead>\n",
       "    <tr style=\"text-align: right;\">\n",
       "      <th></th>\n",
       "      <th>Rating</th>\n",
       "      <th>Review</th>\n",
       "    </tr>\n",
       "  </thead>\n",
       "  <tbody>\n",
       "    <tr>\n",
       "      <th>0</th>\n",
       "      <td>5</td>\n",
       "      <td>i bought this to come with my capresso 114 mac...</td>\n",
       "    </tr>\n",
       "    <tr>\n",
       "      <th>1</th>\n",
       "      <td>4</td>\n",
       "      <td>sometimes you just dont have time to brew a go...</td>\n",
       "    </tr>\n",
       "    <tr>\n",
       "      <th>2</th>\n",
       "      <td>4</td>\n",
       "      <td>not as good as the chickpeas but i really like...</td>\n",
       "    </tr>\n",
       "    <tr>\n",
       "      <th>3</th>\n",
       "      <td>3</td>\n",
       "      <td>when i bought this 2 pack of colavita 101 oz t...</td>\n",
       "    </tr>\n",
       "    <tr>\n",
       "      <th>4</th>\n",
       "      <td>2</td>\n",
       "      <td>the extreme difficulty of adequately mixing th...</td>\n",
       "    </tr>\n",
       "    <tr>\n",
       "      <th>...</th>\n",
       "      <td>...</td>\n",
       "      <td>...</td>\n",
       "    </tr>\n",
       "    <tr>\n",
       "      <th>183943</th>\n",
       "      <td>3</td>\n",
       "      <td>i liked corn crunchems better before they refo...</td>\n",
       "    </tr>\n",
       "    <tr>\n",
       "      <th>183944</th>\n",
       "      <td>3</td>\n",
       "      <td>i was hoping for the ingredient that would mak...</td>\n",
       "    </tr>\n",
       "    <tr>\n",
       "      <th>183945</th>\n",
       "      <td>2</td>\n",
       "      <td>i am disappointed in this product after readin...</td>\n",
       "    </tr>\n",
       "    <tr>\n",
       "      <th>183946</th>\n",
       "      <td>2</td>\n",
       "      <td>these are to potato chips as pringles are to c...</td>\n",
       "    </tr>\n",
       "    <tr>\n",
       "      <th>183947</th>\n",
       "      <td>3</td>\n",
       "      <td>add this product to 8 oz water and you get a f...</td>\n",
       "    </tr>\n",
       "  </tbody>\n",
       "</table>\n",
       "<p>183948 rows × 2 columns</p>\n",
       "</div>"
      ],
      "text/plain": [
       "        Rating                                             Review\n",
       "0            5  i bought this to come with my capresso 114 mac...\n",
       "1            4  sometimes you just dont have time to brew a go...\n",
       "2            4  not as good as the chickpeas but i really like...\n",
       "3            3  when i bought this 2 pack of colavita 101 oz t...\n",
       "4            2  the extreme difficulty of adequately mixing th...\n",
       "...        ...                                                ...\n",
       "183943       3  i liked corn crunchems better before they refo...\n",
       "183944       3  i was hoping for the ingredient that would mak...\n",
       "183945       2  i am disappointed in this product after readin...\n",
       "183946       2  these are to potato chips as pringles are to c...\n",
       "183947       3  add this product to 8 oz water and you get a f...\n",
       "\n",
       "[183948 rows x 2 columns]"
      ]
     },
     "execution_count": 60,
     "metadata": {},
     "output_type": "execute_result"
    }
   ],
   "source": [
    "df_final"
   ]
  },
  {
   "cell_type": "code",
   "execution_count": null,
   "id": "d2740149",
   "metadata": {},
   "outputs": [],
   "source": []
  },
  {
   "cell_type": "code",
   "execution_count": null,
   "id": "268ad07c",
   "metadata": {},
   "outputs": [],
   "source": []
  },
  {
   "cell_type": "code",
   "execution_count": null,
   "id": "d864ae1d",
   "metadata": {},
   "outputs": [],
   "source": []
  },
  {
   "cell_type": "code",
   "execution_count": null,
   "id": "829b9f86",
   "metadata": {},
   "outputs": [],
   "source": []
  },
  {
   "cell_type": "code",
   "execution_count": null,
   "id": "d27bde64",
   "metadata": {},
   "outputs": [],
   "source": []
  }
 ],
 "metadata": {
  "kernelspec": {
   "display_name": "Python 3",
   "language": "python",
   "name": "python3"
  },
  "language_info": {
   "codemirror_mode": {
    "name": "ipython",
    "version": 3
   },
   "file_extension": ".py",
   "mimetype": "text/x-python",
   "name": "python",
   "nbconvert_exporter": "python",
   "pygments_lexer": "ipython3",
   "version": "3.13.5"
  }
 },
 "nbformat": 4,
 "nbformat_minor": 5
}
